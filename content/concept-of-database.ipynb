{
 "cells": [
  {
   "cell_type": "markdown",
   "id": "6f39f3a5-da9c-4c1a-b8c3-0a9c35a429e2",
   "metadata": {},
   "source": [
    "# データベースの概念"
   ]
  },
  {
   "cell_type": "markdown",
   "id": "fb542e85-8cad-4d66-a7fd-dc540e2d6e78",
   "metadata": {},
   "source": [
    "## データベースとは"
   ]
  },
  {
   "cell_type": "markdown",
   "id": "ae79ea93",
   "metadata": {},
   "source": [
    "## 表計算ソフトとデータベースシステムの違い"
   ]
  },
  {
   "cell_type": "markdown",
   "id": "82d464a7",
   "metadata": {},
   "source": [
    "## クイズ"
   ]
  },
  {
   "cell_type": "code",
   "execution_count": null,
   "id": "afb2b2f2",
   "metadata": {
    "vscode": {
     "languageId": "plaintext"
    }
   },
   "outputs": [],
   "source": []
  },
  {
   "cell_type": "markdown",
   "id": "91bd40ac",
   "metadata": {},
   "source": []
  }
 ],
 "metadata": {
  "kernelspec": {
   "display_name": "Python 3 (ipykernel)",
   "language": "python",
   "name": "python3"
  },
  "language_info": {
   "codemirror_mode": {
    "name": "ipython",
    "version": 3
   },
   "file_extension": ".py",
   "mimetype": "text/x-python",
   "name": "python",
   "nbconvert_exporter": "python",
   "pygments_lexer": "ipython3",
   "version": "3.10.13"
  }
 },
 "nbformat": 4,
 "nbformat_minor": 5
}
