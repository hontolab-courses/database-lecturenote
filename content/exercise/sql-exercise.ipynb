{
 "cells": [
  {
   "cell_type": "markdown",
   "id": "d7a7d7f5-09f7-4259-b536-87e63a84ba68",
   "metadata": {
    "editable": true,
    "slideshow": {
     "slide_type": ""
    },
    "tags": []
   },
   "source": [
    "# SQL演習"
   ]
  },
  {
   "cell_type": "markdown",
   "id": "40d7e744-f55c-4995-883d-80fc02b78789",
   "metadata": {
    "editable": true,
    "slideshow": {
     "slide_type": ""
    },
    "tags": []
   },
   "source": [
    "SQLの基本を体に染みこませるために，本演習では細かな課題「ノック」を大量に解く．\n",
    "\n",
    "本演習では，架空のショッピングサイト`VirtualStore`における商品管理，購買履歴管理のために運用されている関係データベースにアクセスできるとの想定の下，様々なデータ要求に応えるためのSQL文を書く練習（ノック）を行う．\n",
    "\n",
    "本演習では，関係データベースの管理システム（DBMS）の中でも環境構築がカンタンで軽量なDBMSである[SQLite](https://www.sqlite.org)を用いる．\n",
    "演習で用いる関係データベース（`virtual_store`）には，下記テーブルが格納されている：\n",
    "- `receipt`: レシート明細に関するテーブル\n",
    "- `store`: 店舗情報に関するテーブル\n",
    "- `product`: 商品情報に関するテーブル\n",
    "- `category`: 商品カテゴリに関するテーブル\n",
    "\n",
    "これらテーブルに対してSQL文を実行し，データベースに対する問い合わせの練習を行う．\n",
    "ノックの数は合計**25**である．\n",
    "どのノックも前章までに解説した内容に即したものになっている．\n",
    "適宜過去資料を振り返りながら，各ノックに取り組むこと．\n",
    "\n",
    "なお，演習を始める前に，必ずJupyter Notebookもしくは[Google Colaboratory](../misc/how-to-execute-sql.ipynb)上で以下のコードを実行すること．\n",
    "演習で用いるSQLiteデータ（`virtual_store.db`）のダウンロード，およびSQLiteの実行環境設定を自動で済ませることができる．"
   ]
  },
  {
   "cell_type": "code",
   "execution_count": 4,
   "id": "1dce9b03-60a8-466b-a770-57d738767f93",
   "metadata": {
    "editable": true,
    "slideshow": {
     "slide_type": ""
    },
    "tags": [
     "remove-output"
    ]
   },
   "outputs": [
    {
     "name": "stdout",
     "output_type": "stream",
     "text": [
      "The sql extension is already loaded. To reload it, use:\n",
      "  %reload_ext sql\n"
     ]
    }
   ],
   "source": [
    "import os\n",
    "\n",
    "# 演習で用いるデータのダウンロード\n",
    "if not os.path.isfile('data/virtual_store.db'):\n",
    "    os.makedirs('data', exist_ok=True)\n",
    "    !wget -P data https://github.com/hontolab-courses/database-lecturenote/raw/main/content/exercise/data/virtual_store.db\n",
    "\n",
    "!pip install jupysql\n",
    "\n",
    "%load_ext sql\n",
    "%config SqlMagic.feedback = 0\n",
    "%sql sqlite:///data/virtual_store.db"
   ]
  },
  {
   "cell_type": "markdown",
   "id": "43fc63ec-f783-4c67-ad85-004e14a1e9b9",
   "metadata": {
    "editable": true,
    "slideshow": {
     "slide_type": ""
    },
    "tags": []
   },
   "source": [
    "### 演習で用いるデータおよび課題の出典について\n",
    "本演習課題で用いるデータは，[データサイエンティスト協会](https://www.datascientist.or.jp)スキル定義委員の「[データサイエンス100本ノック（構造化データ加工編）](https://github.com/The-Japan-DataScientist-Society/100knocks-preprocess/tree/master)」で配布されているデータを，わたし山本がSQLite形式に変換したものである．\n",
    "また，演習内容（ノック）は[データサイエンス100本ノック（構造化データ加工編）](https://github.com/The-Japan-DataScientist-Society/100knocks-preprocess/tree/master)に収録されている演習課題を，本講義向けにアレンジしたものである．\n",
    "\n",
    "下記のとおり，元データの著作権やライセンスは，MITライセンスに従う．\n",
    "\n",
    "> Copyright (c) 2020 The Japan DataScientist Society<br />\n",
    "> Released under the MIT license<br />\n",
    "> [https://raw.githubusercontent.com/The-Japan-DataScientist-Society/100knocks-preprocess/master/LICENSE](https://raw.githubusercontent.com/The-Japan-DataScientist-Society/100knocks-preprocess/master/LICENSE)"
   ]
  },
  {
   "cell_type": "markdown",
   "id": "bf4b05d5-2f91-48f6-b0c2-22dc3cce9cb7",
   "metadata": {},
   "source": [
    "## SQL Knock 25連発"
   ]
  },
  {
   "cell_type": "markdown",
   "id": "fe9e3408-0eff-4fe8-90a2-2e9ab213f6dc",
   "metadata": {
    "editable": true,
    "slideshow": {
     "slide_type": ""
    },
    "tags": []
   },
   "source": [
    "### Knock 1: 選択\n",
    "\n",
    "レシート明細のテーブル（`receipt`）から全項目の先頭10件を表示し，どのようなレコードが保存されているか確認せよ．"
   ]
  },
  {
   "cell_type": "code",
   "execution_count": 6,
   "id": "bfb0b741-f6ed-419d-bdb1-0910e79cbcc9",
   "metadata": {
    "editable": true,
    "slideshow": {
     "slide_type": ""
    },
    "tags": []
   },
   "outputs": [],
   "source": [
    "%%sql\n",
    "\n"
   ]
  },
  {
   "cell_type": "markdown",
   "id": "74ae9ea7-e681-4019-bf45-cc426bc40a6d",
   "metadata": {
    "editable": true,
    "slideshow": {
     "slide_type": ""
    },
    "tags": []
   },
   "source": [
    "### Knock 2: 射影1\n",
    "\n",
    "レシート明細のテーブル（`receipt`）から売上日（`sales_ymd`），顧客ID（`customer_id`），商品コード（`product_cd`），売上金額（`amount`）の順に列を指定し，10件レコードを表示せよ．"
   ]
  },
  {
   "cell_type": "code",
   "execution_count": 5,
   "id": "ada68962-0590-4de2-9536-8ad069fe8363",
   "metadata": {
    "editable": true,
    "slideshow": {
     "slide_type": ""
    },
    "tags": []
   },
   "outputs": [],
   "source": [
    "%%sql\n",
    "\n"
   ]
  },
  {
   "cell_type": "markdown",
   "id": "4c31cd36-5fb1-40e1-9fca-4040a3a8c054",
   "metadata": {
    "editable": true,
    "slideshow": {
     "slide_type": ""
    },
    "tags": []
   },
   "source": [
    "### Knock 3: 射影2\n",
    "\n",
    "レシート明細のテーブル（`receipt`）から売上日（`sales_ymd`），顧客ID（`customer_id`），商品コード（`product_cd`），売上金額（`amount`）の順に列を指定し，10件レコードを表示せよ．ただし，列`sales_ymd`は列名を`sales_date`に変更して表示すること．"
   ]
  },
  {
   "cell_type": "code",
   "execution_count": 7,
   "id": "4656ee25-8ef4-4051-b360-b6607621aeeb",
   "metadata": {
    "editable": true,
    "slideshow": {
     "slide_type": ""
    },
    "tags": []
   },
   "outputs": [],
   "source": [
    "%%sql\n",
    "\n"
   ]
  },
  {
   "cell_type": "markdown",
   "id": "6bf2885b-30d9-42a4-b41a-02718875bb8e",
   "metadata": {
    "editable": true,
    "slideshow": {
     "slide_type": ""
    },
    "tags": []
   },
   "source": [
    "### Knock 4: 選択2\n",
    "レシート明細のテーブル（`receipt`）から売上日（`sales_ymd`），顧客ID（`customer_id`），商品コード（`product_cd`），売上金額（`amount`）の順に列を指定し，以下の条件を満たすレコードをすべて抽出せよ．\n",
    "\n",
    "* 顧客IDが\"CS018205000001\""
   ]
  },
  {
   "cell_type": "code",
   "execution_count": 5,
   "id": "f33db503-0c82-4513-98e5-25e0cd8270df",
   "metadata": {
    "editable": true,
    "slideshow": {
     "slide_type": ""
    },
    "tags": []
   },
   "outputs": [],
   "source": [
    "%%sql\n",
    "\n"
   ]
  },
  {
   "cell_type": "markdown",
   "id": "f4ca408d-8312-4cb4-befa-fd7d07b10df8",
   "metadata": {
    "editable": true,
    "slideshow": {
     "slide_type": ""
    },
    "tags": []
   },
   "source": [
    "### Knock 5: 選択3\n",
    "レシート明細のテーブル（`receipt`）から売上日（`sales_ymd`），顧客ID（`customer_id`），商品コード（`product_cd`），売上金額（`amount`）の順に列を指定し，以下の条件を満たすレコードをすべて抽出せよ．\n",
    "\n",
    "* 顧客IDが\"CS018205000001\"\n",
    "* 売上金額が1000以上"
   ]
  },
  {
   "cell_type": "code",
   "execution_count": 5,
   "id": "fe5f3c73-c3e8-4b59-960e-6405eb8ba8bc",
   "metadata": {
    "editable": true,
    "slideshow": {
     "slide_type": ""
    },
    "tags": []
   },
   "outputs": [],
   "source": [
    "%%sql\n",
    "\n"
   ]
  },
  {
   "cell_type": "markdown",
   "id": "9e902afb-1aa2-4a23-b62b-a81eb41d2106",
   "metadata": {
    "editable": true,
    "slideshow": {
     "slide_type": ""
    },
    "tags": []
   },
   "source": [
    "### Knock 6: 選択4\n",
    "レシート明細のテーブル（`receipt`）から売上日（`sales_ymd`），顧客ID（`customer_id`），商品コード（`product_cd`），売上数量（`quantity`），売上金額（`amount`）の順に列を指定し，以下の条件を満たすレコードをすべて抽出せよ．\n",
    "\n",
    "* 顧客IDが\"CS018205000001\"\n",
    "* 売上金額が1000以上または売上数量が5以上"
   ]
  },
  {
   "cell_type": "code",
   "execution_count": 5,
   "id": "76984fb6-62aa-4aa6-a1f7-1d9b52c2305b",
   "metadata": {
    "editable": true,
    "slideshow": {
     "slide_type": ""
    },
    "tags": []
   },
   "outputs": [],
   "source": [
    "%%sql\n",
    "\n"
   ]
  },
  {
   "cell_type": "markdown",
   "id": "214446e8-c6c5-4bc2-962e-1fac8ea32f74",
   "metadata": {
    "editable": true,
    "slideshow": {
     "slide_type": ""
    },
    "tags": []
   },
   "source": [
    "### Knock 7: 選択5\n",
    "レシート明細のテーブル（`receipt`）から売上日（`sales_ymd`），顧客ID（`customer_id`），商品コード（`product_cd`），売上金額（`amount`）の順に列を指定し，以下の条件を満たすレコードをすべて抽出せよ．\n",
    "\n",
    "* 顧客IDが\"CS018205000001\"\n",
    "* 売上金額が1000以上2000以下"
   ]
  },
  {
   "cell_type": "code",
   "execution_count": 5,
   "id": "49dcd29b-d4f8-46cb-843d-62a1cd8df4ff",
   "metadata": {
    "editable": true,
    "slideshow": {
     "slide_type": ""
    },
    "tags": []
   },
   "outputs": [],
   "source": [
    "%%sql\n",
    "\n"
   ]
  },
  {
   "cell_type": "markdown",
   "id": "6beca23b-563c-4cc6-903b-45d958da88c7",
   "metadata": {
    "editable": true,
    "slideshow": {
     "slide_type": ""
    },
    "tags": []
   },
   "source": [
    "### Knock 8: 選択6\n",
    "レシート明細のテーブル（`receipt`）から売上日（`sales_ymd`），顧客ID（`customer_id`），商品コード（`product_cd`），売上金額（`amount`）の順に列を指定し，以下の条件を満たすレコードをすべて抽出せよ．\n",
    "\n",
    "* 顧客IDが\"CS018205000001\"\n",
    "* 商品コードが\"P071401019\"以外"
   ]
  },
  {
   "cell_type": "code",
   "execution_count": 5,
   "id": "4b4d6328-0489-49f7-8b70-2e8e09ecdc8e",
   "metadata": {
    "editable": true,
    "slideshow": {
     "slide_type": ""
    },
    "tags": []
   },
   "outputs": [],
   "source": [
    "%%sql\n",
    "\n"
   ]
  },
  {
   "cell_type": "markdown",
   "id": "c78fe125-de74-4bbb-83e0-4161592601fe",
   "metadata": {
    "editable": true,
    "slideshow": {
     "slide_type": ""
    },
    "tags": []
   },
   "source": [
    "### Knock 9: 選択7\n",
    "下記SQL文について，問い合わせ結果が変わらないよう`OR`を`AND`に書き換えよ．\n",
    "\n",
    "```sql\n",
    "SELECT \n",
    "    *\n",
    "FROM\n",
    "    store\n",
    "WHERE\n",
    "    NOT (prefecture_cd == 13 OR floor_area > 900);\n",
    "```"
   ]
  },
  {
   "cell_type": "code",
   "execution_count": 5,
   "id": "b4b06566-96f0-48e7-8014-bc60f64afd11",
   "metadata": {
    "editable": true,
    "slideshow": {
     "slide_type": ""
    },
    "tags": []
   },
   "outputs": [],
   "source": [
    "%%sql\n",
    "\n"
   ]
  },
  {
   "cell_type": "markdown",
   "id": "a3b3e2a7-7ecf-4953-a058-3d300fb885c4",
   "metadata": {
    "editable": true,
    "slideshow": {
     "slide_type": ""
    },
    "tags": []
   },
   "source": [
    "### Knock 10: LIKE句1\n",
    "\n",
    "店舗テーブル（`store`）から，店舗コード（`store_cd`）が\"S14\"で始まるものだけを全項目抽出し，10件だけ表示せよ．"
   ]
  },
  {
   "cell_type": "code",
   "execution_count": 5,
   "id": "1b2feee5-8159-446a-a179-014d8be14576",
   "metadata": {
    "editable": true,
    "slideshow": {
     "slide_type": ""
    },
    "tags": []
   },
   "outputs": [],
   "source": [
    "%%sql\n",
    "\n"
   ]
  },
  {
   "cell_type": "markdown",
   "id": "0f701737-c0ee-4bb6-a35d-aa434b7b4fd0",
   "metadata": {
    "editable": true,
    "slideshow": {
     "slide_type": ""
    },
    "tags": []
   },
   "source": [
    "### Knock 11: LIKE句2\n",
    "店舗テーブル（`store`）から横浜市の店舗だけを全項目表示せよ．"
   ]
  },
  {
   "cell_type": "code",
   "execution_count": null,
   "id": "075b9e5c-8c62-4cb7-b11e-19300eb393d3",
   "metadata": {
    "editable": true,
    "slideshow": {
     "slide_type": ""
    },
    "tags": []
   },
   "outputs": [],
   "source": [
    "%%sql\n",
    "\n"
   ]
  },
  {
   "cell_type": "markdown",
   "id": "63768e7a-7238-4f8a-ae59-dfc57dc50961",
   "metadata": {
    "editable": true,
    "slideshow": {
     "slide_type": ""
    },
    "tags": []
   },
   "source": [
    "### Knock 12: ソート1\n",
    "顧客テーブル（`customer`）のレコードを高年齢順にソートし，先頭10レコードを前項目表示せよ．"
   ]
  },
  {
   "cell_type": "code",
   "execution_count": 10,
   "id": "0dd29d6e-9c42-430d-879e-b765cf65e77f",
   "metadata": {
    "editable": true,
    "slideshow": {
     "slide_type": ""
    },
    "tags": []
   },
   "outputs": [],
   "source": [
    "%%sql\n",
    "\n"
   ]
  },
  {
   "cell_type": "markdown",
   "id": "1a922f42-360a-4fe9-8df7-5cfb1b5ea113",
   "metadata": {
    "editable": true,
    "slideshow": {
     "slide_type": ""
    },
    "tags": []
   },
   "source": [
    "### Knock 13: ソート2\n",
    "顧客テーブル（`customer`）のレコードを若い順（同じ年齢の場合は誕生日が遅い順）にソートし，先頭10レコードを前項目表示せよ．\n",
    "\n",
    "※ヒント: `ORDER BY`にはソートのための属性を複数指定できる"
   ]
  },
  {
   "cell_type": "code",
   "execution_count": 10,
   "id": "27736ed5-c395-45bd-b212-16ae2e9e7d52",
   "metadata": {
    "editable": true,
    "slideshow": {
     "slide_type": ""
    },
    "tags": []
   },
   "outputs": [],
   "source": [
    "%%sql\n",
    "\n"
   ]
  },
  {
   "cell_type": "markdown",
   "id": "c50a819c-9e06-4004-8b58-20951351b6b3",
   "metadata": {
    "editable": true,
    "slideshow": {
     "slide_type": ""
    },
    "tags": []
   },
   "source": [
    "### Knock 14: 集計1\n",
    "レシート明細テーブル（`receipt`）のレコード数を求めよ．"
   ]
  },
  {
   "cell_type": "code",
   "execution_count": 10,
   "id": "a77910cc-35aa-410b-871d-689e344d0755",
   "metadata": {
    "editable": true,
    "slideshow": {
     "slide_type": ""
    },
    "tags": []
   },
   "outputs": [],
   "source": [
    "%%sql\n",
    "\n"
   ]
  },
  {
   "cell_type": "markdown",
   "id": "abf2cc13-0dd8-4fa8-ac6f-037945327c34",
   "metadata": {
    "editable": true,
    "slideshow": {
     "slide_type": ""
    },
    "tags": []
   },
   "source": [
    "### Knock 15: 集計2\n",
    "レシート明細テーブル（`receipt`）中の顧客ID（`customer_id`）の総数（重複を除く）を求めよ．"
   ]
  },
  {
   "cell_type": "code",
   "execution_count": 10,
   "id": "5be7b2ae-0d5c-4094-a138-a15f97a2511c",
   "metadata": {
    "editable": true,
    "slideshow": {
     "slide_type": ""
    },
    "tags": []
   },
   "outputs": [],
   "source": [
    "%%sql\n",
    "\n"
   ]
  },
  {
   "cell_type": "markdown",
   "id": "2803e0c0-de8d-4132-aace-de7db0e644dd",
   "metadata": {
    "editable": true,
    "slideshow": {
     "slide_type": ""
    },
    "tags": []
   },
   "source": [
    "### Knock 16: 集約演算1\n",
    "レシート明細テーブル（`receipt`）に対し，店舗コード（`store_cd`）ごとに売上金額の合計（`total_amount`）と売上数量の合計（`total_quantity`）を計算し表示せよ．なお，表示件数は先頭の10件でよい．\n",
    "\n"
   ]
  },
  {
   "cell_type": "code",
   "execution_count": 12,
   "id": "62eb1166-ac13-45ca-85c7-3f2709f28a09",
   "metadata": {
    "editable": true,
    "slideshow": {
     "slide_type": ""
    },
    "tags": []
   },
   "outputs": [],
   "source": [
    "%%sql\n",
    "\n"
   ]
  },
  {
   "cell_type": "markdown",
   "id": "af897f9c-d4c0-4484-9c49-b0f7d57e9d36",
   "metadata": {
    "editable": true,
    "slideshow": {
     "slide_type": ""
    },
    "tags": []
   },
   "source": [
    "### Knock 17: 集約演算2\n",
    "レシート明細テーブル（`receipt`）に対し，顧客ID（`customer_id`）ごとに最も新しい売上日と最も古い売り上げ日を求め，それらが異なる顧客IDを10件表示せよ．なお，表示項目は顧客IDと最も新しい売り上げ日（`latest_sales_ymd`），最も古い売り上げ日（`oldest_sales_ymd`）とする．"
   ]
  },
  {
   "cell_type": "code",
   "execution_count": null,
   "id": "24691da6-b1bc-4160-84d6-06ac2fd3290f",
   "metadata": {
    "editable": true,
    "slideshow": {
     "slide_type": ""
    },
    "tags": []
   },
   "outputs": [],
   "source": [
    "%%sql\n",
    "\n"
   ]
  },
  {
   "cell_type": "markdown",
   "id": "8f1105d3-b316-40a0-bc2e-f029d39bec79",
   "metadata": {
    "editable": true,
    "slideshow": {
     "slide_type": ""
    },
    "tags": []
   },
   "source": [
    "### Knock 18: 集約演算3\n",
    "レシート明細テーブル（`receipt`）に対し，店舗コード（`store_cd`）ごとに売上金額（`amount`）の平均を計算し，平均売り上げ金額の上位5件の店舗を表示せよ．"
   ]
  },
  {
   "cell_type": "code",
   "execution_count": null,
   "id": "10ff4c8d-f832-4d81-94e6-89efc93aad55",
   "metadata": {
    "editable": true,
    "slideshow": {
     "slide_type": ""
    },
    "tags": []
   },
   "outputs": [],
   "source": [
    "%%sql\n",
    "\n"
   ]
  },
  {
   "cell_type": "markdown",
   "id": "1fad7120-4199-4adb-9dec-43ec2cd4e36e",
   "metadata": {
    "editable": true,
    "slideshow": {
     "slide_type": ""
    },
    "tags": []
   },
   "source": [
    "### Knock 19: 集約演算4\n",
    "レシート明細テーブル（`receipt`）に対し，店舗コード（`store_cd`）ごとに売上金額（`amount`）の総額を計算し，売り上げ総額が800,000以上の店舗を表示せよ．"
   ]
  },
  {
   "cell_type": "code",
   "execution_count": null,
   "id": "17fbe151-9818-438a-aa4c-b41291a376b5",
   "metadata": {
    "editable": true,
    "slideshow": {
     "slide_type": ""
    },
    "tags": []
   },
   "outputs": [],
   "source": [
    "%%sql\n",
    "\n"
   ]
  },
  {
   "cell_type": "markdown",
   "id": "feaa95c0-cac4-4174-84ed-ebcfc7565270",
   "metadata": {
    "editable": true,
    "slideshow": {
     "slide_type": ""
    },
    "tags": []
   },
   "source": [
    "### Knock 20: 副問い合わせ1\n",
    "レシート明細テーブル（`receipt`）を利用して顧客ID（`customer_id`）ごとの売上総額を計算し，その平均（`avg_total_amount`）を求めよ．ただし，顧客IDが\"Z\"から始まるのものは非会員を表すため，除外して計算すること．"
   ]
  },
  {
   "cell_type": "code",
   "execution_count": null,
   "id": "eecc8b55-9614-44a7-8049-55b47d6f44cf",
   "metadata": {
    "editable": true,
    "slideshow": {
     "slide_type": ""
    },
    "tags": []
   },
   "outputs": [],
   "source": [
    "%%sql\n",
    "\n"
   ]
  },
  {
   "cell_type": "markdown",
   "id": "399b48d0-edea-48d4-8a16-0e975b5bc477",
   "metadata": {
    "editable": true,
    "slideshow": {
     "slide_type": ""
    },
    "tags": []
   },
   "source": [
    "### Knock 21: 副問い合わせ2\n",
    "レシート明細テーブル（`receipt`）を利用して全商品の中で売上総額が上位3位の商品コード（`product_cd`）を求め，各店舗（`store_cd`）における3つの商品の売上総額を求めよ．なお，結果は`store_cd`列でソートして表示すること．なお，このノックでは`WITH句`を用いよ．表示件数は30件でよい．"
   ]
  },
  {
   "cell_type": "code",
   "execution_count": null,
   "id": "9ab57a1e-3347-4cee-8766-7d1d6688eebc",
   "metadata": {
    "editable": true,
    "slideshow": {
     "slide_type": ""
    },
    "tags": []
   },
   "outputs": [],
   "source": [
    "%%sql\n",
    "\n"
   ]
  },
  {
   "cell_type": "markdown",
   "id": "b0b92beb-6445-4f6c-acc1-7f9b52ba554e",
   "metadata": {
    "editable": true,
    "slideshow": {
     "slide_type": ""
    },
    "tags": []
   },
   "source": [
    "### Knock 22: 結合1\n",
    "レシート明細テーブル（`receipt`）と店舗テーブル（`store`）を内部結合し，レシート明細テーブルの全項目と店舗テーブルの店舗名（`store_name`）を10件表示させよ．"
   ]
  },
  {
   "cell_type": "code",
   "execution_count": null,
   "id": "5138ad1d-d110-457b-a42c-62ede48c2ce3",
   "metadata": {
    "editable": true,
    "slideshow": {
     "slide_type": ""
    },
    "tags": []
   },
   "outputs": [],
   "source": [
    "%%sql\n",
    "\n"
   ]
  },
  {
   "cell_type": "markdown",
   "id": "d223b98b-6b68-4e77-94d5-4c0c4022f128",
   "metadata": {
    "editable": true,
    "slideshow": {
     "slide_type": ""
    },
    "tags": []
   },
   "source": [
    "### Knock 23: 結合2\n",
    "商品テーブル（`product`）とカテゴリテーブル（`category`）を内部結合し，商品テーブルの全項目とカテゴリテーブルの小区分名（`category_small_name`）を10件表示させよ．"
   ]
  },
  {
   "cell_type": "code",
   "execution_count": null,
   "id": "d42bad58-2e51-486c-a53c-367b151a9c13",
   "metadata": {
    "editable": true,
    "slideshow": {
     "slide_type": ""
    },
    "tags": []
   },
   "outputs": [],
   "source": [
    "%%sql\n",
    "\n"
   ]
  },
  {
   "cell_type": "markdown",
   "id": "23a22510-b74b-4a78-9b8c-21ac24169973",
   "metadata": {
    "editable": true,
    "slideshow": {
     "slide_type": ""
    },
    "tags": []
   },
   "source": [
    "### Knock 24: 結合3\n",
    "顧客テーブル（`customer`）とレシート明細テーブル（`receipt`）から，各顧客ごとの売上金額合計を求めよ．ただし，売上実績がない顧客については売上金額を0として表示させること．また，顧客は性別コード（`gender_cd`）が女性（1）であるものを対象とし，非会員（顧客IDが\"Z\"から始まるもの）は除外すること．なお，表示項目は顧客ID（`customer_id`），顧客名（`customer_name`），売上金額合計とせよ．結果は10件だけ表示させればよい．\n",
    "\n",
    "※ヒント: `IFNULL（変数1, 0）`関数は，変数1が空値（None）のとき0に置き換える"
   ]
  },
  {
   "cell_type": "code",
   "execution_count": null,
   "id": "4064e48b-334e-4000-9c9b-06d055419ad8",
   "metadata": {
    "editable": true,
    "slideshow": {
     "slide_type": ""
    },
    "tags": []
   },
   "outputs": [],
   "source": [
    "%%sql\n",
    "\n"
   ]
  },
  {
   "cell_type": "markdown",
   "id": "a257c778-f614-4e20-a9bb-cd4b2572e117",
   "metadata": {
    "editable": true,
    "slideshow": {
     "slide_type": ""
    },
    "tags": []
   },
   "source": [
    "### Knock 25: 四則演算と集約演算\n",
    "\n",
    "レシート明細テーブル（`receipt`）と顧客テーブル（`customer`）を結合し，性別（`gender`）と年代（`age`から計算）ごとの売上金額（`amount`）の合計値を表示せよ．ただし，表示項目の構成は性別，年代，売上総額の3項目とすること．また，年代は10歳ごとの階級とすること．"
   ]
  },
  {
   "cell_type": "code",
   "execution_count": null,
   "id": "55b05781-8a28-4410-ae0b-ce321810e59e",
   "metadata": {
    "editable": true,
    "slideshow": {
     "slide_type": ""
    },
    "tags": []
   },
   "outputs": [],
   "source": [
    "%%sql\n",
    "\n"
   ]
  }
 ],
 "metadata": {
  "kernelspec": {
   "display_name": "Python 3 (ipykernel)",
   "language": "python",
   "name": "python3"
  },
  "language_info": {
   "codemirror_mode": {
    "name": "ipython",
    "version": 3
   },
   "file_extension": ".py",
   "mimetype": "text/x-python",
   "name": "python",
   "nbconvert_exporter": "python",
   "pygments_lexer": "ipython3",
   "version": "3.10.9"
  }
 },
 "nbformat": 4,
 "nbformat_minor": 5
}
