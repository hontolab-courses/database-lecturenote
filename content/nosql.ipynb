{
 "cells": [
  {
   "cell_type": "markdown",
   "id": "3d97b30e-611e-4963-9d14-f6ac36c82562",
   "metadata": {},
   "source": [
    "# NoSQL"
   ]
  },
  {
   "cell_type": "markdown",
   "id": "06ee4902-1a2c-46a2-adc2-5e411d462369",
   "metadata": {},
   "source": [
    "## ビッグデータを扱うためにデータベースに求められること"
   ]
  },
  {
   "cell_type": "markdown",
   "id": "d73950b0-f366-41eb-ac80-9b16ab766ff6",
   "metadata": {},
   "source": [
    "## 列指向型データベース"
   ]
  },
  {
   "cell_type": "markdown",
   "id": "c05ed922-a7f5-40a5-a5c9-90ad1b596e90",
   "metadata": {},
   "source": [
    "関係データベースは行指向データベース（row-oriented database）"
   ]
  },
  {
   "cell_type": "markdown",
   "id": "27f507b9-0bf0-4c2a-8f79-3e55aef89b05",
   "metadata": {},
   "source": [
    "## ドキュメント指向型データベース"
   ]
  },
  {
   "cell_type": "markdown",
   "id": "d343efb6-8f3b-4054-b0c1-2e5fdf87b3c4",
   "metadata": {},
   "source": [
    "## グラフデータベース"
   ]
  },
  {
   "cell_type": "markdown",
   "id": "841d9856-1293-419e-962b-9a734b5871cc",
   "metadata": {},
   "source": [
    "## ベクトルデータベース"
   ]
  },
  {
   "cell_type": "markdown",
   "id": "1be2da2c-b16a-45d6-b88d-4d930454f7d3",
   "metadata": {},
   "source": [
    "---\n",
    "## 確認問題"
   ]
  },
  {
   "cell_type": "code",
   "execution_count": null,
   "id": "1ceff211-107b-4028-81d3-de974023c575",
   "metadata": {},
   "outputs": [],
   "source": []
  }
 ],
 "metadata": {
  "kernelspec": {
   "display_name": "Python 3 (ipykernel)",
   "language": "python",
   "name": "python3"
  },
  "language_info": {
   "codemirror_mode": {
    "name": "ipython",
    "version": 3
   },
   "file_extension": ".py",
   "mimetype": "text/x-python",
   "name": "python",
   "nbconvert_exporter": "python",
   "pygments_lexer": "ipython3",
   "version": "3.10.13"
  }
 },
 "nbformat": 4,
 "nbformat_minor": 5
}
