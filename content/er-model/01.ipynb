{
 "cells": [
  {
   "cell_type": "markdown",
   "id": "91cbfa09-501b-4a5a-9e40-7ee9669bc177",
   "metadata": {},
   "source": [
    "# 実体関連モデルとは"
   ]
  },
  {
   "cell_type": "markdown",
   "id": "bf7d8090-8ab2-4881-8049-dffa261dc749",
   "metadata": {},
   "source": [
    "後日公開予定"
   ]
  },
  {
   "cell_type": "code",
   "execution_count": null,
   "id": "0783a7cf-aba4-4751-ba8f-61bb0be039de",
   "metadata": {},
   "outputs": [],
   "source": []
  }
 ],
 "metadata": {
  "kernelspec": {
   "display_name": "Python 3 (ipykernel)",
   "language": "python",
   "name": "python3"
  },
  "language_info": {
   "codemirror_mode": {
    "name": "ipython",
    "version": 3
   },
   "file_extension": ".py",
   "mimetype": "text/x-python",
   "name": "python",
   "nbconvert_exporter": "python",
   "pygments_lexer": "ipython3",
   "version": "3.10.13"
  }
 },
 "nbformat": 4,
 "nbformat_minor": 5
}
