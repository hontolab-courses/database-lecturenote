{
 "cells": [
  {
   "cell_type": "markdown",
   "id": "91cbfa09-501b-4a5a-9e40-7ee9669bc177",
   "metadata": {},
   "source": [
    "# 実体関連モデルとは"
   ]
  },
  {
   "cell_type": "markdown",
   "id": "5430da62-6cb5-4478-8632-acb3be622671",
   "metadata": {},
   "source": [
    "## データモデリングの流れ"
   ]
  },
  {
   "cell_type": "markdown",
   "id": "9bacf23e-e818-4039-876c-c73b5bbc72df",
   "metadata": {},
   "source": [
    "概念モデルと論理モデル"
   ]
  },
  {
   "cell_type": "markdown",
   "id": "21af4084-9020-4e0b-a962-5e91ca472422",
   "metadata": {},
   "source": [
    "## 実体関連モデルとER図"
   ]
  },
  {
   "cell_type": "markdown",
   "id": "10cc8c35-3c50-45e2-8c5d-2f184190d85f",
   "metadata": {},
   "source": [
    "実体関連図を使うのである\n",
    "Peter Chen記法"
   ]
  },
  {
   "cell_type": "markdown",
   "id": "69348d35-fed3-443d-89fa-ebc0ad86495f",
   "metadata": {},
   "source": [
    "### 実体"
   ]
  },
  {
   "cell_type": "markdown",
   "id": "bd38365b-e267-4550-b9b6-95b7c2b06f5c",
   "metadata": {},
   "source": [
    "* 実体の集合は実体集合（entity set）\n",
    "* 実体集合がもつ属性や制約を定めたものを実体型（entity type）と呼ぶ"
   ]
  },
  {
   "cell_type": "markdown",
   "id": "4353572b-0728-48e1-8416-9ad593ff012f",
   "metadata": {},
   "source": [
    "### 関連"
   ]
  },
  {
   "cell_type": "markdown",
   "id": "a4ba1ad8-ade8-4a88-bb2c-2277bd63ba7a",
   "metadata": {},
   "source": [
    "* 関連の集合を関連集合（relationship set）と呼ぶ\n",
    "* 実体型と同様に，関連集合がもつ属性や制約を定めたものを関連型（relationship type）と呼ぶ"
   ]
  },
  {
   "cell_type": "markdown",
   "id": "0c6ed68e-7e26-446f-bc1c-a04ab12456e7",
   "metadata": {},
   "source": [
    "#### 役割の明示\n",
    "関連集合に同一の実体集合が別の意味で複数回関与する場合への対応"
   ]
  },
  {
   "cell_type": "markdown",
   "id": "6e44ba06-5483-4143-a66f-ac9761bd9afa",
   "metadata": {},
   "source": [
    "### 属性"
   ]
  },
  {
   "cell_type": "markdown",
   "id": "f2bfbb65-68d1-4085-baf2-a96a9ec1acb4",
   "metadata": {},
   "source": [
    "---\n",
    "## 確認問題"
   ]
  },
  {
   "cell_type": "code",
   "execution_count": null,
   "id": "cc1af3be-4f79-4b4d-a145-d223d0925404",
   "metadata": {},
   "outputs": [],
   "source": []
  }
 ],
 "metadata": {
  "kernelspec": {
   "display_name": "Python 3 (ipykernel)",
   "language": "python",
   "name": "python3"
  },
  "language_info": {
   "codemirror_mode": {
    "name": "ipython",
    "version": 3
   },
   "file_extension": ".py",
   "mimetype": "text/x-python",
   "name": "python",
   "nbconvert_exporter": "python",
   "pygments_lexer": "ipython3",
   "version": "3.10.13"
  }
 },
 "nbformat": 4,
 "nbformat_minor": 5
}
