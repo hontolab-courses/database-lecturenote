{
 "cells": [
  {
   "cell_type": "markdown",
   "id": "91cbfa09-501b-4a5a-9e40-7ee9669bc177",
   "metadata": {
    "editable": true,
    "slideshow": {
     "slide_type": ""
    },
    "tags": []
   },
   "source": [
    "# 実体関連モデルの拡張 + α"
   ]
  },
  {
   "cell_type": "markdown",
   "id": "c4f7ee0f-2ae2-4bad-b508-9be18dad750a",
   "metadata": {},
   "source": [
    "## 弱実体集合と強実体集合"
   ]
  },
  {
   "cell_type": "markdown",
   "id": "44b236de-0b38-4f61-ab24-3ccdb56d4459",
   "metadata": {},
   "source": [
    "## 汎化・継承（ISA関連）"
   ]
  },
  {
   "cell_type": "markdown",
   "id": "30d260d7-5457-4ee5-ad1f-163981d8db6f",
   "metadata": {},
   "source": [
    "## 3項関連"
   ]
  },
  {
   "cell_type": "markdown",
   "id": "140fb542-0e8b-4204-a43f-4d7071828954",
   "metadata": {},
   "source": [
    "---\n",
    "## 確認問題"
   ]
  },
  {
   "cell_type": "code",
   "execution_count": null,
   "id": "7fd4c631-5026-41b0-b796-b9a4191c8549",
   "metadata": {},
   "outputs": [],
   "source": []
  }
 ],
 "metadata": {
  "kernelspec": {
   "display_name": "Python 3 (ipykernel)",
   "language": "python",
   "name": "python3"
  },
  "language_info": {
   "codemirror_mode": {
    "name": "ipython",
    "version": 3
   },
   "file_extension": ".py",
   "mimetype": "text/x-python",
   "name": "python",
   "nbconvert_exporter": "python",
   "pygments_lexer": "ipython3",
   "version": "3.10.13"
  }
 },
 "nbformat": 4,
 "nbformat_minor": 5
}
