{
 "cells": [
  {
   "cell_type": "markdown",
   "id": "91cbfa09-501b-4a5a-9e40-7ee9669bc177",
   "metadata": {
    "editable": true,
    "slideshow": {
     "slide_type": ""
    },
    "tags": []
   },
   "source": [
    "# 実体関連モデル上の一貫性制約"
   ]
  },
  {
   "cell_type": "markdown",
   "id": "58da2538-9af1-40df-96cc-f7553c504e77",
   "metadata": {},
   "source": [
    "後日公開予定"
   ]
  },
  {
   "cell_type": "code",
   "execution_count": null,
   "id": "90bd7b05-5bcb-4ed8-b540-5b6411c01102",
   "metadata": {},
   "outputs": [],
   "source": []
  }
 ],
 "metadata": {
  "kernelspec": {
   "display_name": "Python 3 (ipykernel)",
   "language": "python",
   "name": "python3"
  },
  "language_info": {
   "codemirror_mode": {
    "name": "ipython",
    "version": 3
   },
   "file_extension": ".py",
   "mimetype": "text/x-python",
   "name": "python",
   "nbconvert_exporter": "python",
   "pygments_lexer": "ipython3",
   "version": "3.10.13"
  }
 },
 "nbformat": 4,
 "nbformat_minor": 5
}
