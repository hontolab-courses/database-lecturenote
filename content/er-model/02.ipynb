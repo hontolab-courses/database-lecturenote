{
 "cells": [
  {
   "cell_type": "markdown",
   "id": "91cbfa09-501b-4a5a-9e40-7ee9669bc177",
   "metadata": {
    "editable": true,
    "slideshow": {
     "slide_type": ""
    },
    "tags": []
   },
   "source": [
    "# 整合性制約"
   ]
  },
  {
   "cell_type": "markdown",
   "id": "c4f7ee0f-2ae2-4bad-b508-9be18dad750a",
   "metadata": {},
   "source": [
    "## 濃度"
   ]
  },
  {
   "cell_type": "markdown",
   "id": "f0d0f7f6-275a-4318-9835-72e30cb93af3",
   "metadata": {},
   "source": [
    "多重度と呼ばれることもあるが，語源からすると「濃度」が正しい訳語とする説がある．"
   ]
  },
  {
   "cell_type": "markdown",
   "id": "cedb17b4-0864-4afb-a9b9-b8f63a4b4570",
   "metadata": {},
   "source": [
    "## 参加制約"
   ]
  },
  {
   "cell_type": "markdown",
   "id": "d78396b0-e4bf-456a-a338-f7b8c332adb6",
   "metadata": {},
   "source": [
    "## キー制約"
   ]
  },
  {
   "cell_type": "markdown",
   "id": "f7498053-1256-471e-9df0-342e97de88e6",
   "metadata": {},
   "source": [
    "---\n",
    "## 確認問題"
   ]
  },
  {
   "cell_type": "code",
   "execution_count": null,
   "id": "4e2de768-f78b-4c7c-8873-0ffd78604ace",
   "metadata": {},
   "outputs": [],
   "source": []
  }
 ],
 "metadata": {
  "kernelspec": {
   "display_name": "Python 3 (ipykernel)",
   "language": "python",
   "name": "python3"
  },
  "language_info": {
   "codemirror_mode": {
    "name": "ipython",
    "version": 3
   },
   "file_extension": ".py",
   "mimetype": "text/x-python",
   "name": "python",
   "nbconvert_exporter": "python",
   "pygments_lexer": "ipython3",
   "version": "3.10.13"
  }
 },
 "nbformat": 4,
 "nbformat_minor": 5
}
