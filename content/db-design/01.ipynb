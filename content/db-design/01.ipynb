{
 "cells": [
  {
   "cell_type": "markdown",
   "id": "2a5a3a8f-d3a7-4d1e-af18-bcfe15c80035",
   "metadata": {},
   "source": [
    "# 正規形"
   ]
  },
  {
   "cell_type": "markdown",
   "id": "ba850c72-dd30-4e24-b937-f0c642e1a9bb",
   "metadata": {},
   "source": [
    "## 実体関連モデルから関係スキーマの導出"
   ]
  },
  {
   "cell_type": "markdown",
   "id": "286c11e0-2254-47d6-aa61-d7a94c9732b5",
   "metadata": {},
   "source": [
    "## 第1正規形"
   ]
  },
  {
   "cell_type": "markdown",
   "id": "f86a91ee-cd3f-46f6-bebf-7b874e32cad8",
   "metadata": {},
   "source": [
    "## 異状：好ましくない関係スキーマ"
   ]
  },
  {
   "cell_type": "markdown",
   "id": "501fffa2-6807-47b4-82e5-ea567179c4a3",
   "metadata": {},
   "source": [
    "## 第3正規形"
   ]
  },
  {
   "cell_type": "markdown",
   "id": "62f27eeb-c89c-48e1-9988-694fc9c11812",
   "metadata": {},
   "source": [
    "## ボイス・コッド正規形？"
   ]
  },
  {
   "cell_type": "markdown",
   "id": "1a6ce46a-8e67-43bf-8657-c70b82114248",
   "metadata": {},
   "source": [
    "---\n",
    "## 確認問題"
   ]
  },
  {
   "cell_type": "code",
   "execution_count": null,
   "id": "36fd7997-292d-4560-b703-e89974880585",
   "metadata": {},
   "outputs": [],
   "source": []
  }
 ],
 "metadata": {
  "kernelspec": {
   "display_name": "Python 3 (ipykernel)",
   "language": "python",
   "name": "python3"
  },
  "language_info": {
   "codemirror_mode": {
    "name": "ipython",
    "version": 3
   },
   "file_extension": ".py",
   "mimetype": "text/x-python",
   "name": "python",
   "nbconvert_exporter": "python",
   "pygments_lexer": "ipython3",
   "version": "3.10.13"
  }
 },
 "nbformat": 4,
 "nbformat_minor": 5
}
