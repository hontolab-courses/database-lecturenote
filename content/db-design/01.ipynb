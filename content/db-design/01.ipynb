{
 "cells": [
  {
   "cell_type": "markdown",
   "id": "2a5a3a8f-d3a7-4d1e-af18-bcfe15c80035",
   "metadata": {},
   "source": [
    "# 正規形"
   ]
  },
  {
   "cell_type": "markdown",
   "id": "690f6781-1e24-43db-ac55-cf99b4b7f286",
   "metadata": {},
   "source": [
    "後日公開予定"
   ]
  }
 ],
 "metadata": {
  "kernelspec": {
   "display_name": "Python 3 (ipykernel)",
   "language": "python",
   "name": "python3"
  },
  "language_info": {
   "codemirror_mode": {
    "name": "ipython",
    "version": 3
   },
   "file_extension": ".py",
   "mimetype": "text/x-python",
   "name": "python",
   "nbconvert_exporter": "python",
   "pygments_lexer": "ipython3",
   "version": "3.10.13"
  }
 },
 "nbformat": 4,
 "nbformat_minor": 5
}
