{
 "cells": [
  {
   "cell_type": "markdown",
   "id": "2a5a3a8f-d3a7-4d1e-af18-bcfe15c80035",
   "metadata": {},
   "source": [
    "# 分解"
   ]
  },
  {
   "cell_type": "markdown",
   "id": "091a597b-497a-462b-8e05-1b074eeca8de",
   "metadata": {},
   "source": [
    "## 無損失欠損分解"
   ]
  },
  {
   "cell_type": "markdown",
   "id": "da49ad07-08a1-4cdb-8e98-4f3047baa8bc",
   "metadata": {},
   "source": [
    "## FD図"
   ]
  },
  {
   "cell_type": "markdown",
   "id": "379511ad-cb37-4c03-8a13-76c947ce0adb",
   "metadata": {},
   "source": [
    "## 第3正規形への分解"
   ]
  },
  {
   "cell_type": "markdown",
   "id": "fc3adfdf-1d9e-4616-b28b-54ad59fc4b43",
   "metadata": {},
   "source": [
    "## どこまで正規化を行うのか？"
   ]
  },
  {
   "cell_type": "markdown",
   "id": "4f357fc5-6aef-492a-87cb-2d18d1322655",
   "metadata": {},
   "source": [
    "---\n",
    "## 確認問題"
   ]
  },
  {
   "cell_type": "code",
   "execution_count": null,
   "id": "25d03fc8-68c5-4d98-84ed-c614aa609fe0",
   "metadata": {},
   "outputs": [],
   "source": []
  }
 ],
 "metadata": {
  "kernelspec": {
   "display_name": "Python 3 (ipykernel)",
   "language": "python",
   "name": "python3"
  },
  "language_info": {
   "codemirror_mode": {
    "name": "ipython",
    "version": 3
   },
   "file_extension": ".py",
   "mimetype": "text/x-python",
   "name": "python",
   "nbconvert_exporter": "python",
   "pygments_lexer": "ipython3",
   "version": "3.10.13"
  }
 },
 "nbformat": 4,
 "nbformat_minor": 5
}
