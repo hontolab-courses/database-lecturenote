{
 "cells": [
  {
   "cell_type": "markdown",
   "id": "f4836068-add4-43e3-b45f-c8e72de1c6e5",
   "metadata": {},
   "source": [
    "# 関係データモデル"
   ]
  },
  {
   "cell_type": "markdown",
   "id": "82e44d22-8ad3-4130-8c66-807be32215fc",
   "metadata": {},
   "source": [
    "## モデリングとは？"
   ]
  },
  {
   "cell_type": "markdown",
   "id": "2d58ff73-85b4-4cac-b243-60544ae0831a",
   "metadata": {},
   "source": [
    "## データ構造"
   ]
  },
  {
   "cell_type": "markdown",
   "id": "5399ebdf-72ae-4be3-9c75-1d83e793026f",
   "metadata": {},
   "source": [
    "## NULL値"
   ]
  },
  {
   "cell_type": "markdown",
   "id": "63753794-b959-4297-b0ac-933eadddacf8",
   "metadata": {},
   "source": [
    "## 整合性制約"
   ]
  },
  {
   "cell_type": "markdown",
   "id": "5812804d-8eed-4f0f-b217-014a55bda3df",
   "metadata": {},
   "source": [
    "### ドメイン制約"
   ]
  },
  {
   "cell_type": "markdown",
   "id": "c71727ae-f041-440b-94ff-a34633666b22",
   "metadata": {},
   "source": [
    "### キー制約"
   ]
  },
  {
   "cell_type": "markdown",
   "id": "ca25553c-cecd-4e71-b825-48fd8eec2c1f",
   "metadata": {},
   "source": [
    "### 参照整合性制約"
   ]
  },
  {
   "cell_type": "markdown",
   "id": "cadd45ce-56ab-48f4-a3f1-5df1a5eb38ec",
   "metadata": {},
   "source": [
    "### 関数従属性"
   ]
  },
  {
   "cell_type": "markdown",
   "id": "fcc0167f-05f4-4f87-96e5-8a4ecae247cf",
   "metadata": {},
   "source": [
    "## 関係データベース vs. CSV/TSV"
   ]
  },
  {
   "cell_type": "code",
   "execution_count": null,
   "id": "a4f5c48f-2eb6-4311-951b-260a5af1ed7f",
   "metadata": {},
   "outputs": [],
   "source": []
  }
 ],
 "metadata": {
  "kernelspec": {
   "display_name": "Python 3 (ipykernel)",
   "language": "python",
   "name": "python3"
  },
  "language_info": {
   "codemirror_mode": {
    "name": "ipython",
    "version": 3
   },
   "file_extension": ".py",
   "mimetype": "text/x-python",
   "name": "python",
   "nbconvert_exporter": "python",
   "pygments_lexer": "ipython3",
   "version": "3.10.13"
  }
 },
 "nbformat": 4,
 "nbformat_minor": 5
}
