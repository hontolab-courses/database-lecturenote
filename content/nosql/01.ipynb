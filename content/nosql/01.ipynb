{
 "cells": [
  {
   "cell_type": "markdown",
   "id": "3d97b30e-611e-4963-9d14-f6ac36c82562",
   "metadata": {},
   "source": [
    "# NoSQL"
   ]
  },
  {
   "cell_type": "markdown",
   "id": "22616070-c4fb-4a9c-9f97-0c6989d70743",
   "metadata": {},
   "source": [
    "後日公開予定"
   ]
  },
  {
   "cell_type": "code",
   "execution_count": null,
   "id": "8dbb2fd3-1d9b-494c-bb41-03d98f614d8a",
   "metadata": {},
   "outputs": [],
   "source": []
  }
 ],
 "metadata": {
  "kernelspec": {
   "display_name": "Python 3 (ipykernel)",
   "language": "python",
   "name": "python3"
  },
  "language_info": {
   "codemirror_mode": {
    "name": "ipython",
    "version": 3
   },
   "file_extension": ".py",
   "mimetype": "text/x-python",
   "name": "python",
   "nbconvert_exporter": "python",
   "pygments_lexer": "ipython3",
   "version": "3.10.13"
  }
 },
 "nbformat": 4,
 "nbformat_minor": 5
}
