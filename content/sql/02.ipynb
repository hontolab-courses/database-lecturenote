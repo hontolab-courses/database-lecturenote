{
 "cells": [
  {
   "cell_type": "markdown",
   "id": "01442150-7dbb-414c-97bd-0737ca851a2e",
   "metadata": {
    "editable": true,
    "slideshow": {
     "slide_type": ""
    },
    "tags": []
   },
   "source": [
    "# 結合質問（集合演算を含む）"
   ]
  },
  {
   "cell_type": "code",
   "execution_count": 1,
   "id": "dae1adae-41ac-4ddc-96c2-a590072f2591",
   "metadata": {
    "editable": true,
    "slideshow": {
     "slide_type": ""
    },
    "tags": [
     "remove-output",
     "hide-input"
    ]
   },
   "outputs": [],
   "source": [
    "import os\n",
    "\n",
    "if not os.path.isfile('data/SSDSE.db'):\n",
    "    os.makedirs('data', exist_ok=True)\n",
    "\n",
    "    if not os.path.isfile('download_SSDSE.py'):\n",
    "        !wget https://raw.githubusercontent.com/hontolab-courses/database-lecturenote/main/content/sql/download_SSDSE.py\n",
    "        import download_SSDSE"
   ]
  },
  {
   "cell_type": "code",
   "execution_count": 2,
   "id": "763cddc4-fa18-41b1-a9e3-297722249223",
   "metadata": {
    "editable": true,
    "slideshow": {
     "slide_type": ""
    },
    "tags": [
     "remove-output",
     "remove-input"
    ]
   },
   "outputs": [
    {
     "name": "stdout",
     "output_type": "stream",
     "text": [
      "Requirement already satisfied: jupysql in /Users/yamamoto/.anyenv/envs/pyenv/versions/3.10.9/lib/python3.10/site-packages (0.10.10)\n",
      "Requirement already satisfied: prettytable in /Users/yamamoto/.anyenv/envs/pyenv/versions/3.10.9/lib/python3.10/site-packages (from jupysql) (3.10.0)\n",
      "Requirement already satisfied: sqlalchemy in /Users/yamamoto/.anyenv/envs/pyenv/versions/3.10.9/lib/python3.10/site-packages (from jupysql) (2.0.27)\n",
      "Requirement already satisfied: sqlparse in /Users/yamamoto/.anyenv/envs/pyenv/versions/3.10.9/lib/python3.10/site-packages (from jupysql) (0.4.4)\n",
      "Requirement already satisfied: ipython-genutils>=0.1.0 in /Users/yamamoto/.anyenv/envs/pyenv/versions/3.10.9/lib/python3.10/site-packages (from jupysql) (0.2.0)\n",
      "Requirement already satisfied: jinja2 in /Users/yamamoto/.anyenv/envs/pyenv/versions/3.10.9/lib/python3.10/site-packages (from jupysql) (3.1.3)\n",
      "Requirement already satisfied: sqlglot>=11.3.7 in /Users/yamamoto/.anyenv/envs/pyenv/versions/3.10.9/lib/python3.10/site-packages (from jupysql) (21.2.1)\n",
      "Requirement already satisfied: jupysql-plugin>=0.4.2 in /Users/yamamoto/.anyenv/envs/pyenv/versions/3.10.9/lib/python3.10/site-packages (from jupysql) (0.4.2)\n",
      "Requirement already satisfied: ploomber-core>=0.2.7 in /Users/yamamoto/.anyenv/envs/pyenv/versions/3.10.9/lib/python3.10/site-packages (from jupysql) (0.2.25)\n",
      "Requirement already satisfied: ploomber-extension in /Users/yamamoto/.anyenv/envs/pyenv/versions/3.10.9/lib/python3.10/site-packages (from jupysql) (0.1.0)\n",
      "Requirement already satisfied: pyyaml in /Users/yamamoto/.anyenv/envs/pyenv/versions/3.10.9/lib/python3.10/site-packages (from ploomber-core>=0.2.7->jupysql) (6.0.1)\n",
      "Requirement already satisfied: posthog in /Users/yamamoto/.anyenv/envs/pyenv/versions/3.10.9/lib/python3.10/site-packages (from ploomber-core>=0.2.7->jupysql) (3.4.2)\n",
      "Requirement already satisfied: MarkupSafe>=2.0 in /Users/yamamoto/.anyenv/envs/pyenv/versions/3.10.9/lib/python3.10/site-packages (from jinja2->jupysql) (2.1.5)\n",
      "Requirement already satisfied: wcwidth in /Users/yamamoto/.anyenv/envs/pyenv/versions/3.10.9/lib/python3.10/site-packages (from prettytable->jupysql) (0.2.13)\n",
      "Requirement already satisfied: typing-extensions>=4.6.0 in /Users/yamamoto/.anyenv/envs/pyenv/versions/3.10.9/lib/python3.10/site-packages (from sqlalchemy->jupysql) (4.9.0)\n",
      "Requirement already satisfied: requests<3.0,>=2.7 in /Users/yamamoto/.anyenv/envs/pyenv/versions/3.10.9/lib/python3.10/site-packages (from posthog->ploomber-core>=0.2.7->jupysql) (2.31.0)\n",
      "Requirement already satisfied: six>=1.5 in /Users/yamamoto/.anyenv/envs/pyenv/versions/3.10.9/lib/python3.10/site-packages (from posthog->ploomber-core>=0.2.7->jupysql) (1.16.0)\n",
      "Requirement already satisfied: monotonic>=1.5 in /Users/yamamoto/.anyenv/envs/pyenv/versions/3.10.9/lib/python3.10/site-packages (from posthog->ploomber-core>=0.2.7->jupysql) (1.6)\n",
      "Requirement already satisfied: backoff>=1.10.0 in /Users/yamamoto/.anyenv/envs/pyenv/versions/3.10.9/lib/python3.10/site-packages (from posthog->ploomber-core>=0.2.7->jupysql) (2.2.1)\n",
      "Requirement already satisfied: python-dateutil>2.1 in /Users/yamamoto/.anyenv/envs/pyenv/versions/3.10.9/lib/python3.10/site-packages (from posthog->ploomber-core>=0.2.7->jupysql) (2.8.2)\n",
      "Requirement already satisfied: charset-normalizer<4,>=2 in /Users/yamamoto/.anyenv/envs/pyenv/versions/3.10.9/lib/python3.10/site-packages (from requests<3.0,>=2.7->posthog->ploomber-core>=0.2.7->jupysql) (3.3.2)\n",
      "Requirement already satisfied: idna<4,>=2.5 in /Users/yamamoto/.anyenv/envs/pyenv/versions/3.10.9/lib/python3.10/site-packages (from requests<3.0,>=2.7->posthog->ploomber-core>=0.2.7->jupysql) (3.6)\n",
      "Requirement already satisfied: urllib3<3,>=1.21.1 in /Users/yamamoto/.anyenv/envs/pyenv/versions/3.10.9/lib/python3.10/site-packages (from requests<3.0,>=2.7->posthog->ploomber-core>=0.2.7->jupysql) (1.26.18)\n",
      "Requirement already satisfied: certifi>=2017.4.17 in /Users/yamamoto/.anyenv/envs/pyenv/versions/3.10.9/lib/python3.10/site-packages (from requests<3.0,>=2.7->posthog->ploomber-core>=0.2.7->jupysql) (2024.2.2)\n"
     ]
    }
   ],
   "source": [
    "!pip install jupysql"
   ]
  },
  {
   "cell_type": "code",
   "execution_count": 3,
   "id": "94da1403-f89c-4815-b740-d0aca5ded142",
   "metadata": {
    "editable": true,
    "slideshow": {
     "slide_type": ""
    },
    "tags": [
     "remove-output",
     "hide-input"
    ]
   },
   "outputs": [],
   "source": [
    "%load_ext sql\n",
    "%config SqlMagic.feedback = 0\n",
    "%config SqlMagic.displaylimit = 50\n",
    "%sql sqlite:///data/SSDSE.db"
   ]
  },
  {
   "cell_type": "markdown",
   "id": "4d838372-f27f-4798-859a-6dfaf04d9d5b",
   "metadata": {
    "editable": true,
    "slideshow": {
     "slide_type": ""
    },
    "tags": []
   },
   "source": [
    "[前章](./01.ipynb)で扱ったSQL文は1つのテーブルに対する問い合わせ（単純質問）を対象としていた．\n",
    "しかし，関係データベースを用いたデータ分析の現場では，問い合わせ時に参照するテーブルが1つしかないことは稀である．\n",
    "所望のデータを抽出するには，**複数のテーブルを組み合わせる**ことが大半である．\n",
    "本章では，関係データベース内にある2つ以上のテーブルを組み合わせてデータを抽出する**結合質問**を扱う．\n",
    "\n",
    "前章同様，SQLの説明を行うために，独立行政法人統計センターが公開している[教育用標準データセット（SSDSE）](https://www.nstac.go.jp/use/literacy/ssdse/)の[基本素材（SSDSE-E）](https://www.nstac.go.jp/use/literacy/ssdse/#SSDSE-E)および[市区町村（SSDSE-A）](https://www.nstac.go.jp/use/literacy/ssdse/#SSDSE-A)から抜粋・加工したデータを用いる．\n",
    "データは`elderly_population_top10`テーブル，`university_student_population_top10`テーブル，および`activity`テーブルの3種類ある．"
   ]
  },
  {
   "cell_type": "markdown",
   "id": "8d7bb015-1aaa-42f4-8330-0e616e52c053",
   "metadata": {
    "editable": true,
    "slideshow": {
     "slide_type": ""
    },
    "tags": []
   },
   "source": [
    "(sql2-db1)=\n",
    "各テーブル内のデータは2021年度調査によるものである．\n",
    "`elderly_population_top10`テーブルには，65歳以上人口数が上位10位内であった都道府県の「地域コード」「都道府県名」「総人口」が格納されている．"
   ]
  },
  {
   "cell_type": "markdown",
   "id": "58a609e8-6d50-4c24-baa2-594b2820d36f",
   "metadata": {
    "editable": true,
    "slideshow": {
     "slide_type": ""
    },
    "tags": []
   },
   "source": [
    "```sql\n",
    "SELECT * FROM elderly_population_top10; \n",
    "```"
   ]
  },
  {
   "cell_type": "code",
   "execution_count": 4,
   "id": "5a1f91e4-8579-453b-82ef-e00b2704f21f",
   "metadata": {
    "editable": true,
    "slideshow": {
     "slide_type": ""
    },
    "tags": [
     "remove-input"
    ]
   },
   "outputs": [
    {
     "data": {
      "text/html": [
       "<table>\n",
       "    <thead>\n",
       "        <tr>\n",
       "            <th>地域コード</th>\n",
       "            <th>都道府県</th>\n",
       "            <th>総人口</th>\n",
       "        </tr>\n",
       "    </thead>\n",
       "    <tbody>\n",
       "        <tr>\n",
       "            <td>R13000</td>\n",
       "            <td>東京都</td>\n",
       "            <td>14010000</td>\n",
       "        </tr>\n",
       "        <tr>\n",
       "            <td>R27000</td>\n",
       "            <td>大阪府</td>\n",
       "            <td>8806000</td>\n",
       "        </tr>\n",
       "        <tr>\n",
       "            <td>R14000</td>\n",
       "            <td>神奈川県</td>\n",
       "            <td>9236000</td>\n",
       "        </tr>\n",
       "        <tr>\n",
       "            <td>R11000</td>\n",
       "            <td>埼玉県</td>\n",
       "            <td>7340000</td>\n",
       "        </tr>\n",
       "        <tr>\n",
       "            <td>R23000</td>\n",
       "            <td>愛知県</td>\n",
       "            <td>7517000</td>\n",
       "        </tr>\n",
       "        <tr>\n",
       "            <td>R12000</td>\n",
       "            <td>千葉県</td>\n",
       "            <td>6275000</td>\n",
       "        </tr>\n",
       "        <tr>\n",
       "            <td>R01000</td>\n",
       "            <td>北海道</td>\n",
       "            <td>5183000</td>\n",
       "        </tr>\n",
       "        <tr>\n",
       "            <td>R28000</td>\n",
       "            <td>兵庫県</td>\n",
       "            <td>5432000</td>\n",
       "        </tr>\n",
       "        <tr>\n",
       "            <td>R40000</td>\n",
       "            <td>福岡県</td>\n",
       "            <td>5124000</td>\n",
       "        </tr>\n",
       "        <tr>\n",
       "            <td>R22000</td>\n",
       "            <td>静岡県</td>\n",
       "            <td>3608000</td>\n",
       "        </tr>\n",
       "    </tbody>\n",
       "</table>"
      ],
      "text/plain": [
       "+------------+----------+----------+\n",
       "| 地域コード | 都道府県 |  総人口  |\n",
       "+------------+----------+----------+\n",
       "|   R13000   |  東京都  | 14010000 |\n",
       "|   R27000   |  大阪府  | 8806000  |\n",
       "|   R14000   | 神奈川県 | 9236000  |\n",
       "|   R11000   |  埼玉県  | 7340000  |\n",
       "|   R23000   |  愛知県  | 7517000  |\n",
       "|   R12000   |  千葉県  | 6275000  |\n",
       "|   R01000   |  北海道  | 5183000  |\n",
       "|   R28000   |  兵庫県  | 5432000  |\n",
       "|   R40000   |  福岡県  | 5124000  |\n",
       "|   R22000   |  静岡県  | 3608000  |\n",
       "+------------+----------+----------+"
      ]
     },
     "execution_count": 4,
     "metadata": {},
     "output_type": "execute_result"
    }
   ],
   "source": [
    "%%sql\n",
    "SELECT * FROM elderly_population_top10;"
   ]
  },
  {
   "cell_type": "markdown",
   "id": "b1c81147-83ae-4840-8fec-ac48de8db75e",
   "metadata": {
    "editable": true,
    "slideshow": {
     "slide_type": ""
    },
    "tags": []
   },
   "source": [
    "(sql2-db2)=\n",
    "`university_student_population_top10`テーブルには，大学学生数が上位10位内であった都道府県の「地域コード」「都道府県名」「総人口」が格納されている．"
   ]
  },
  {
   "cell_type": "markdown",
   "id": "655b7713-4dd0-4337-9f21-fb272172cb46",
   "metadata": {
    "editable": true,
    "slideshow": {
     "slide_type": ""
    },
    "tags": []
   },
   "source": [
    "```sql\n",
    "SELECT * FROM university_student_population_top10; \n",
    "```"
   ]
  },
  {
   "cell_type": "code",
   "execution_count": 5,
   "id": "b6f32265-39f7-46da-94ec-95c99a3067ba",
   "metadata": {
    "editable": true,
    "slideshow": {
     "slide_type": ""
    },
    "tags": [
     "remove-input"
    ]
   },
   "outputs": [
    {
     "data": {
      "text/html": [
       "<table>\n",
       "    <thead>\n",
       "        <tr>\n",
       "            <th>地域コード</th>\n",
       "            <th>都道府県</th>\n",
       "            <th>総人口</th>\n",
       "        </tr>\n",
       "    </thead>\n",
       "    <tbody>\n",
       "        <tr>\n",
       "            <td>R13000</td>\n",
       "            <td>東京都</td>\n",
       "            <td>14010000</td>\n",
       "        </tr>\n",
       "        <tr>\n",
       "            <td>R27000</td>\n",
       "            <td>大阪府</td>\n",
       "            <td>8806000</td>\n",
       "        </tr>\n",
       "        <tr>\n",
       "            <td>R23000</td>\n",
       "            <td>愛知県</td>\n",
       "            <td>7517000</td>\n",
       "        </tr>\n",
       "        <tr>\n",
       "            <td>R14000</td>\n",
       "            <td>神奈川県</td>\n",
       "            <td>9236000</td>\n",
       "        </tr>\n",
       "        <tr>\n",
       "            <td>R26000</td>\n",
       "            <td>京都府</td>\n",
       "            <td>2561000</td>\n",
       "        </tr>\n",
       "        <tr>\n",
       "            <td>R28000</td>\n",
       "            <td>兵庫県</td>\n",
       "            <td>5432000</td>\n",
       "        </tr>\n",
       "        <tr>\n",
       "            <td>R40000</td>\n",
       "            <td>福岡県</td>\n",
       "            <td>5124000</td>\n",
       "        </tr>\n",
       "        <tr>\n",
       "            <td>R11000</td>\n",
       "            <td>埼玉県</td>\n",
       "            <td>7340000</td>\n",
       "        </tr>\n",
       "        <tr>\n",
       "            <td>R12000</td>\n",
       "            <td>千葉県</td>\n",
       "            <td>6275000</td>\n",
       "        </tr>\n",
       "        <tr>\n",
       "            <td>R01000</td>\n",
       "            <td>北海道</td>\n",
       "            <td>5183000</td>\n",
       "        </tr>\n",
       "    </tbody>\n",
       "</table>"
      ],
      "text/plain": [
       "+------------+----------+----------+\n",
       "| 地域コード | 都道府県 |  総人口  |\n",
       "+------------+----------+----------+\n",
       "|   R13000   |  東京都  | 14010000 |\n",
       "|   R27000   |  大阪府  | 8806000  |\n",
       "|   R23000   |  愛知県  | 7517000  |\n",
       "|   R14000   | 神奈川県 | 9236000  |\n",
       "|   R26000   |  京都府  | 2561000  |\n",
       "|   R28000   |  兵庫県  | 5432000  |\n",
       "|   R40000   |  福岡県  | 5124000  |\n",
       "|   R11000   |  埼玉県  | 7340000  |\n",
       "|   R12000   |  千葉県  | 6275000  |\n",
       "|   R01000   |  北海道  | 5183000  |\n",
       "+------------+----------+----------+"
      ]
     },
     "execution_count": 5,
     "metadata": {},
     "output_type": "execute_result"
    }
   ],
   "source": [
    "%%sql\n",
    "SELECT * FROM university_student_population_top10;"
   ]
  },
  {
   "cell_type": "markdown",
   "id": "5f12a2fa-1a5e-4f49-ab92-900b45ca2a4c",
   "metadata": {
    "editable": true,
    "slideshow": {
     "slide_type": ""
    },
    "tags": []
   },
   "source": [
    "(sql2-db3)=\n",
    "`activity`テーブルには，「学習・自己啓発・訓練」「スポーツ」「趣味・娯楽」「ボランティア」「旅行・行楽」について過去1年以内に活動したことのある人の割合（％）について，都道府県別にまとめたものが格納されている．"
   ]
  },
  {
   "cell_type": "markdown",
   "id": "b54ebdfa-bb6e-4f3f-9009-83c25581c4b7",
   "metadata": {
    "editable": true,
    "slideshow": {
     "slide_type": ""
    },
    "tags": []
   },
   "source": [
    "```sql\n",
    "SELECT * FROM activity; \n",
    "```"
   ]
  },
  {
   "cell_type": "code",
   "execution_count": 6,
   "id": "81878309-6c9e-4d44-ab29-d08135067ca2",
   "metadata": {
    "editable": true,
    "slideshow": {
     "slide_type": ""
    },
    "tags": [
     "scroll-output",
     "remove-input"
    ]
   },
   "outputs": [
    {
     "data": {
      "text/html": [
       "<table>\n",
       "    <thead>\n",
       "        <tr>\n",
       "            <th>地域コード</th>\n",
       "            <th>都道府県</th>\n",
       "            <th>学習・自己啓発・訓練</th>\n",
       "            <th>スポーツ</th>\n",
       "            <th>趣味娯楽</th>\n",
       "            <th>ボランティア</th>\n",
       "            <th>旅行・行楽</th>\n",
       "        </tr>\n",
       "    </thead>\n",
       "    <tbody>\n",
       "        <tr>\n",
       "            <td>R01000</td>\n",
       "            <td>北海道</td>\n",
       "            <td>35.0</td>\n",
       "            <td>62.2</td>\n",
       "            <td>85.4</td>\n",
       "            <td>16.3</td>\n",
       "            <td>51.0</td>\n",
       "        </tr>\n",
       "        <tr>\n",
       "            <td>R02000</td>\n",
       "            <td>青森県</td>\n",
       "            <td>25.4</td>\n",
       "            <td>52.1</td>\n",
       "            <td>78.6</td>\n",
       "            <td>14.0</td>\n",
       "            <td>36.6</td>\n",
       "        </tr>\n",
       "        <tr>\n",
       "            <td>R03000</td>\n",
       "            <td>岩手県</td>\n",
       "            <td>28.9</td>\n",
       "            <td>59.1</td>\n",
       "            <td>82.9</td>\n",
       "            <td>24.4</td>\n",
       "            <td>45.3</td>\n",
       "        </tr>\n",
       "        <tr>\n",
       "            <td>R04000</td>\n",
       "            <td>宮城県</td>\n",
       "            <td>37.5</td>\n",
       "            <td>64.4</td>\n",
       "            <td>87.0</td>\n",
       "            <td>20.7</td>\n",
       "            <td>52.2</td>\n",
       "        </tr>\n",
       "        <tr>\n",
       "            <td>R05000</td>\n",
       "            <td>秋田県</td>\n",
       "            <td>29.2</td>\n",
       "            <td>57.1</td>\n",
       "            <td>82.1</td>\n",
       "            <td>20.9</td>\n",
       "            <td>44.8</td>\n",
       "        </tr>\n",
       "        <tr>\n",
       "            <td>R06000</td>\n",
       "            <td>山形県</td>\n",
       "            <td>31.1</td>\n",
       "            <td>58.4</td>\n",
       "            <td>82.4</td>\n",
       "            <td>23.6</td>\n",
       "            <td>44.3</td>\n",
       "        </tr>\n",
       "        <tr>\n",
       "            <td>R07000</td>\n",
       "            <td>福島県</td>\n",
       "            <td>31.5</td>\n",
       "            <td>59.5</td>\n",
       "            <td>81.5</td>\n",
       "            <td>19.7</td>\n",
       "            <td>44.4</td>\n",
       "        </tr>\n",
       "        <tr>\n",
       "            <td>R08000</td>\n",
       "            <td>茨城県</td>\n",
       "            <td>36.5</td>\n",
       "            <td>65.8</td>\n",
       "            <td>85.3</td>\n",
       "            <td>17.1</td>\n",
       "            <td>45.0</td>\n",
       "        </tr>\n",
       "        <tr>\n",
       "            <td>R09000</td>\n",
       "            <td>栃木県</td>\n",
       "            <td>32.8</td>\n",
       "            <td>62.6</td>\n",
       "            <td>83.9</td>\n",
       "            <td>16.5</td>\n",
       "            <td>47.3</td>\n",
       "        </tr>\n",
       "        <tr>\n",
       "            <td>R10000</td>\n",
       "            <td>群馬県</td>\n",
       "            <td>35.2</td>\n",
       "            <td>67.0</td>\n",
       "            <td>85.2</td>\n",
       "            <td>19.2</td>\n",
       "            <td>50.8</td>\n",
       "        </tr>\n",
       "        <tr>\n",
       "            <td>R11000</td>\n",
       "            <td>埼玉県</td>\n",
       "            <td>40.0</td>\n",
       "            <td>69.3</td>\n",
       "            <td>88.4</td>\n",
       "            <td>15.6</td>\n",
       "            <td>51.5</td>\n",
       "        </tr>\n",
       "        <tr>\n",
       "            <td>R12000</td>\n",
       "            <td>千葉県</td>\n",
       "            <td>42.0</td>\n",
       "            <td>67.4</td>\n",
       "            <td>87.0</td>\n",
       "            <td>14.9</td>\n",
       "            <td>47.9</td>\n",
       "        </tr>\n",
       "        <tr>\n",
       "            <td>R13000</td>\n",
       "            <td>東京都</td>\n",
       "            <td>52.8</td>\n",
       "            <td>74.5</td>\n",
       "            <td>91.4</td>\n",
       "            <td>15.5</td>\n",
       "            <td>55.5</td>\n",
       "        </tr>\n",
       "        <tr>\n",
       "            <td>R14000</td>\n",
       "            <td>神奈川県</td>\n",
       "            <td>46.7</td>\n",
       "            <td>71.8</td>\n",
       "            <td>89.2</td>\n",
       "            <td>17.0</td>\n",
       "            <td>54.5</td>\n",
       "        </tr>\n",
       "        <tr>\n",
       "            <td>R15000</td>\n",
       "            <td>新潟県</td>\n",
       "            <td>34.5</td>\n",
       "            <td>59.0</td>\n",
       "            <td>84.0</td>\n",
       "            <td>19.3</td>\n",
       "            <td>47.6</td>\n",
       "        </tr>\n",
       "        <tr>\n",
       "            <td>R16000</td>\n",
       "            <td>富山県</td>\n",
       "            <td>33.4</td>\n",
       "            <td>59.7</td>\n",
       "            <td>82.6</td>\n",
       "            <td>19.5</td>\n",
       "            <td>41.1</td>\n",
       "        </tr>\n",
       "        <tr>\n",
       "            <td>R17000</td>\n",
       "            <td>石川県</td>\n",
       "            <td>35.6</td>\n",
       "            <td>63.4</td>\n",
       "            <td>86.2</td>\n",
       "            <td>20.7</td>\n",
       "            <td>44.7</td>\n",
       "        </tr>\n",
       "        <tr>\n",
       "            <td>R18000</td>\n",
       "            <td>福井県</td>\n",
       "            <td>35.8</td>\n",
       "            <td>61.5</td>\n",
       "            <td>85.2</td>\n",
       "            <td>21.7</td>\n",
       "            <td>44.3</td>\n",
       "        </tr>\n",
       "        <tr>\n",
       "            <td>R19000</td>\n",
       "            <td>山梨県</td>\n",
       "            <td>36.5</td>\n",
       "            <td>62.2</td>\n",
       "            <td>83.1</td>\n",
       "            <td>21.1</td>\n",
       "            <td>46.7</td>\n",
       "        </tr>\n",
       "        <tr>\n",
       "            <td>R20000</td>\n",
       "            <td>長野県</td>\n",
       "            <td>36.6</td>\n",
       "            <td>64.0</td>\n",
       "            <td>84.8</td>\n",
       "            <td>22.0</td>\n",
       "            <td>46.9</td>\n",
       "        </tr>\n",
       "        <tr>\n",
       "            <td>R21000</td>\n",
       "            <td>岐阜県</td>\n",
       "            <td>36.1</td>\n",
       "            <td>64.1</td>\n",
       "            <td>84.9</td>\n",
       "            <td>21.7</td>\n",
       "            <td>48.6</td>\n",
       "        </tr>\n",
       "        <tr>\n",
       "            <td>R22000</td>\n",
       "            <td>静岡県</td>\n",
       "            <td>36.5</td>\n",
       "            <td>66.3</td>\n",
       "            <td>85.1</td>\n",
       "            <td>18.9</td>\n",
       "            <td>41.3</td>\n",
       "        </tr>\n",
       "        <tr>\n",
       "            <td>R23000</td>\n",
       "            <td>愛知県</td>\n",
       "            <td>39.0</td>\n",
       "            <td>68.8</td>\n",
       "            <td>89.3</td>\n",
       "            <td>16.6</td>\n",
       "            <td>57.6</td>\n",
       "        </tr>\n",
       "        <tr>\n",
       "            <td>R24000</td>\n",
       "            <td>三重県</td>\n",
       "            <td>34.4</td>\n",
       "            <td>64.3</td>\n",
       "            <td>84.2</td>\n",
       "            <td>19.3</td>\n",
       "            <td>47.0</td>\n",
       "        </tr>\n",
       "        <tr>\n",
       "            <td>R25000</td>\n",
       "            <td>滋賀県</td>\n",
       "            <td>39.7</td>\n",
       "            <td>67.2</td>\n",
       "            <td>86.4</td>\n",
       "            <td>24.2</td>\n",
       "            <td>52.2</td>\n",
       "        </tr>\n",
       "        <tr>\n",
       "            <td>R27000</td>\n",
       "            <td>大阪府</td>\n",
       "            <td>41.3</td>\n",
       "            <td>66.1</td>\n",
       "            <td>86.7</td>\n",
       "            <td>14.5</td>\n",
       "            <td>51.9</td>\n",
       "        </tr>\n",
       "        <tr>\n",
       "            <td>R28000</td>\n",
       "            <td>兵庫県</td>\n",
       "            <td>39.5</td>\n",
       "            <td>66.4</td>\n",
       "            <td>85.4</td>\n",
       "            <td>17.7</td>\n",
       "            <td>51.6</td>\n",
       "        </tr>\n",
       "        <tr>\n",
       "            <td>R29000</td>\n",
       "            <td>奈良県</td>\n",
       "            <td>39.8</td>\n",
       "            <td>64.8</td>\n",
       "            <td>86.2</td>\n",
       "            <td>18.5</td>\n",
       "            <td>50.4</td>\n",
       "        </tr>\n",
       "        <tr>\n",
       "            <td>R30000</td>\n",
       "            <td>和歌山県</td>\n",
       "            <td>31.3</td>\n",
       "            <td>59.8</td>\n",
       "            <td>83.3</td>\n",
       "            <td>18.2</td>\n",
       "            <td>44.1</td>\n",
       "        </tr>\n",
       "        <tr>\n",
       "            <td>R31000</td>\n",
       "            <td>鳥取県</td>\n",
       "            <td>34.1</td>\n",
       "            <td>61.2</td>\n",
       "            <td>81.7</td>\n",
       "            <td>24.1</td>\n",
       "            <td>38.4</td>\n",
       "        </tr>\n",
       "        <tr>\n",
       "            <td>R32000</td>\n",
       "            <td>島根県</td>\n",
       "            <td>33.3</td>\n",
       "            <td>61.4</td>\n",
       "            <td>82.5</td>\n",
       "            <td>25.6</td>\n",
       "            <td>39.8</td>\n",
       "        </tr>\n",
       "        <tr>\n",
       "            <td>R33000</td>\n",
       "            <td>岡山県</td>\n",
       "            <td>37.1</td>\n",
       "            <td>64.8</td>\n",
       "            <td>85.0</td>\n",
       "            <td>23.2</td>\n",
       "            <td>43.0</td>\n",
       "        </tr>\n",
       "        <tr>\n",
       "            <td>R34000</td>\n",
       "            <td>広島県</td>\n",
       "            <td>38.4</td>\n",
       "            <td>65.3</td>\n",
       "            <td>85.1</td>\n",
       "            <td>18.6</td>\n",
       "            <td>47.1</td>\n",
       "        </tr>\n",
       "        <tr>\n",
       "            <td>R35000</td>\n",
       "            <td>山口県</td>\n",
       "            <td>34.8</td>\n",
       "            <td>63.2</td>\n",
       "            <td>83.9</td>\n",
       "            <td>20.1</td>\n",
       "            <td>43.5</td>\n",
       "        </tr>\n",
       "        <tr>\n",
       "            <td>R36000</td>\n",
       "            <td>徳島県</td>\n",
       "            <td>34.1</td>\n",
       "            <td>60.9</td>\n",
       "            <td>80.6</td>\n",
       "            <td>17.4</td>\n",
       "            <td>32.2</td>\n",
       "        </tr>\n",
       "        <tr>\n",
       "            <td>R37000</td>\n",
       "            <td>香川県</td>\n",
       "            <td>34.1</td>\n",
       "            <td>61.8</td>\n",
       "            <td>82.9</td>\n",
       "            <td>18.1</td>\n",
       "            <td>39.0</td>\n",
       "        </tr>\n",
       "        <tr>\n",
       "            <td>R38000</td>\n",
       "            <td>愛媛県</td>\n",
       "            <td>34.5</td>\n",
       "            <td>64.0</td>\n",
       "            <td>84.3</td>\n",
       "            <td>19.6</td>\n",
       "            <td>37.4</td>\n",
       "        </tr>\n",
       "        <tr>\n",
       "            <td>R39000</td>\n",
       "            <td>高知県</td>\n",
       "            <td>30.3</td>\n",
       "            <td>59.4</td>\n",
       "            <td>81.7</td>\n",
       "            <td>18.9</td>\n",
       "            <td>39.2</td>\n",
       "        </tr>\n",
       "        <tr>\n",
       "            <td>R40000</td>\n",
       "            <td>福岡県</td>\n",
       "            <td>37.7</td>\n",
       "            <td>67.0</td>\n",
       "            <td>85.8</td>\n",
       "            <td>19.1</td>\n",
       "            <td>52.3</td>\n",
       "        </tr>\n",
       "        <tr>\n",
       "            <td>R41000</td>\n",
       "            <td>佐賀県</td>\n",
       "            <td>37.2</td>\n",
       "            <td>62.8</td>\n",
       "            <td>82.1</td>\n",
       "            <td>24.8</td>\n",
       "            <td>47.5</td>\n",
       "        </tr>\n",
       "        <tr>\n",
       "            <td>R42000</td>\n",
       "            <td>長崎県</td>\n",
       "            <td>31.2</td>\n",
       "            <td>57.8</td>\n",
       "            <td>79.7</td>\n",
       "            <td>21.0</td>\n",
       "            <td>36.1</td>\n",
       "        </tr>\n",
       "        <tr>\n",
       "            <td>R43000</td>\n",
       "            <td>熊本県</td>\n",
       "            <td>35.7</td>\n",
       "            <td>66.6</td>\n",
       "            <td>84.1</td>\n",
       "            <td>22.1</td>\n",
       "            <td>50.5</td>\n",
       "        </tr>\n",
       "        <tr>\n",
       "            <td>R44000</td>\n",
       "            <td>大分県</td>\n",
       "            <td>33.2</td>\n",
       "            <td>63.1</td>\n",
       "            <td>82.3</td>\n",
       "            <td>20.3</td>\n",
       "            <td>45.0</td>\n",
       "        </tr>\n",
       "        <tr>\n",
       "            <td>R45000</td>\n",
       "            <td>宮崎県</td>\n",
       "            <td>31.3</td>\n",
       "            <td>65.8</td>\n",
       "            <td>81.6</td>\n",
       "            <td>20.1</td>\n",
       "            <td>42.8</td>\n",
       "        </tr>\n",
       "        <tr>\n",
       "            <td>R46000</td>\n",
       "            <td>鹿児島県</td>\n",
       "            <td>35.2</td>\n",
       "            <td>63.5</td>\n",
       "            <td>81.0</td>\n",
       "            <td>22.3</td>\n",
       "            <td>43.3</td>\n",
       "        </tr>\n",
       "        <tr>\n",
       "            <td>R47000</td>\n",
       "            <td>沖縄県</td>\n",
       "            <td>36.6</td>\n",
       "            <td>65.8</td>\n",
       "            <td>80.0</td>\n",
       "            <td>17.4</td>\n",
       "            <td>31.1</td>\n",
       "        </tr>\n",
       "    </tbody>\n",
       "</table>"
      ],
      "text/plain": [
       "+------------+----------+----------------------+----------+----------+--------------+------------+\n",
       "| 地域コード | 都道府県 | 学習・自己啓発・訓練 | スポーツ | 趣味娯楽 | ボランティア | 旅行・行楽 |\n",
       "+------------+----------+----------------------+----------+----------+--------------+------------+\n",
       "|   R01000   |  北海道  |         35.0         |   62.2   |   85.4   |     16.3     |    51.0    |\n",
       "|   R02000   |  青森県  |         25.4         |   52.1   |   78.6   |     14.0     |    36.6    |\n",
       "|   R03000   |  岩手県  |         28.9         |   59.1   |   82.9   |     24.4     |    45.3    |\n",
       "|   R04000   |  宮城県  |         37.5         |   64.4   |   87.0   |     20.7     |    52.2    |\n",
       "|   R05000   |  秋田県  |         29.2         |   57.1   |   82.1   |     20.9     |    44.8    |\n",
       "|   R06000   |  山形県  |         31.1         |   58.4   |   82.4   |     23.6     |    44.3    |\n",
       "|   R07000   |  福島県  |         31.5         |   59.5   |   81.5   |     19.7     |    44.4    |\n",
       "|   R08000   |  茨城県  |         36.5         |   65.8   |   85.3   |     17.1     |    45.0    |\n",
       "|   R09000   |  栃木県  |         32.8         |   62.6   |   83.9   |     16.5     |    47.3    |\n",
       "|   R10000   |  群馬県  |         35.2         |   67.0   |   85.2   |     19.2     |    50.8    |\n",
       "|   R11000   |  埼玉県  |         40.0         |   69.3   |   88.4   |     15.6     |    51.5    |\n",
       "|   R12000   |  千葉県  |         42.0         |   67.4   |   87.0   |     14.9     |    47.9    |\n",
       "|   R13000   |  東京都  |         52.8         |   74.5   |   91.4   |     15.5     |    55.5    |\n",
       "|   R14000   | 神奈川県 |         46.7         |   71.8   |   89.2   |     17.0     |    54.5    |\n",
       "|   R15000   |  新潟県  |         34.5         |   59.0   |   84.0   |     19.3     |    47.6    |\n",
       "|   R16000   |  富山県  |         33.4         |   59.7   |   82.6   |     19.5     |    41.1    |\n",
       "|   R17000   |  石川県  |         35.6         |   63.4   |   86.2   |     20.7     |    44.7    |\n",
       "|   R18000   |  福井県  |         35.8         |   61.5   |   85.2   |     21.7     |    44.3    |\n",
       "|   R19000   |  山梨県  |         36.5         |   62.2   |   83.1   |     21.1     |    46.7    |\n",
       "|   R20000   |  長野県  |         36.6         |   64.0   |   84.8   |     22.0     |    46.9    |\n",
       "|   R21000   |  岐阜県  |         36.1         |   64.1   |   84.9   |     21.7     |    48.6    |\n",
       "|   R22000   |  静岡県  |         36.5         |   66.3   |   85.1   |     18.9     |    41.3    |\n",
       "|   R23000   |  愛知県  |         39.0         |   68.8   |   89.3   |     16.6     |    57.6    |\n",
       "|   R24000   |  三重県  |         34.4         |   64.3   |   84.2   |     19.3     |    47.0    |\n",
       "|   R25000   |  滋賀県  |         39.7         |   67.2   |   86.4   |     24.2     |    52.2    |\n",
       "|   R27000   |  大阪府  |         41.3         |   66.1   |   86.7   |     14.5     |    51.9    |\n",
       "|   R28000   |  兵庫県  |         39.5         |   66.4   |   85.4   |     17.7     |    51.6    |\n",
       "|   R29000   |  奈良県  |         39.8         |   64.8   |   86.2   |     18.5     |    50.4    |\n",
       "|   R30000   | 和歌山県 |         31.3         |   59.8   |   83.3   |     18.2     |    44.1    |\n",
       "|   R31000   |  鳥取県  |         34.1         |   61.2   |   81.7   |     24.1     |    38.4    |\n",
       "|   R32000   |  島根県  |         33.3         |   61.4   |   82.5   |     25.6     |    39.8    |\n",
       "|   R33000   |  岡山県  |         37.1         |   64.8   |   85.0   |     23.2     |    43.0    |\n",
       "|   R34000   |  広島県  |         38.4         |   65.3   |   85.1   |     18.6     |    47.1    |\n",
       "|   R35000   |  山口県  |         34.8         |   63.2   |   83.9   |     20.1     |    43.5    |\n",
       "|   R36000   |  徳島県  |         34.1         |   60.9   |   80.6   |     17.4     |    32.2    |\n",
       "|   R37000   |  香川県  |         34.1         |   61.8   |   82.9   |     18.1     |    39.0    |\n",
       "|   R38000   |  愛媛県  |         34.5         |   64.0   |   84.3   |     19.6     |    37.4    |\n",
       "|   R39000   |  高知県  |         30.3         |   59.4   |   81.7   |     18.9     |    39.2    |\n",
       "|   R40000   |  福岡県  |         37.7         |   67.0   |   85.8   |     19.1     |    52.3    |\n",
       "|   R41000   |  佐賀県  |         37.2         |   62.8   |   82.1   |     24.8     |    47.5    |\n",
       "|   R42000   |  長崎県  |         31.2         |   57.8   |   79.7   |     21.0     |    36.1    |\n",
       "|   R43000   |  熊本県  |         35.7         |   66.6   |   84.1   |     22.1     |    50.5    |\n",
       "|   R44000   |  大分県  |         33.2         |   63.1   |   82.3   |     20.3     |    45.0    |\n",
       "|   R45000   |  宮崎県  |         31.3         |   65.8   |   81.6   |     20.1     |    42.8    |\n",
       "|   R46000   | 鹿児島県 |         35.2         |   63.5   |   81.0   |     22.3     |    43.3    |\n",
       "|   R47000   |  沖縄県  |         36.6         |   65.8   |   80.0   |     17.4     |    31.1    |\n",
       "+------------+----------+----------------------+----------+----------+--------------+------------+"
      ]
     },
     "execution_count": 6,
     "metadata": {},
     "output_type": "execute_result"
    }
   ],
   "source": [
    "%%sql\n",
    "SELECT * FROM activity;"
   ]
  },
  {
   "cell_type": "markdown",
   "id": "b773f700-dad3-4133-abdc-f611b1618bb8",
   "metadata": {
    "editable": true,
    "slideshow": {
     "slide_type": ""
    },
    "tags": []
   },
   "source": [
    "以下，これら3つのテーブルが格納された関係データベースが手元にあると想定して，結合質問について説明する．"
   ]
  },
  {
   "cell_type": "markdown",
   "id": "67fefb57",
   "metadata": {
    "editable": true,
    "slideshow": {
     "slide_type": ""
    },
    "tags": []
   },
   "source": [
    "## 集合演算"
   ]
  },
  {
   "cell_type": "markdown",
   "id": "51839aac-e5c0-47ce-ad1e-f7aed762d4dd",
   "metadata": {
    "editable": true,
    "slideshow": {
     "slide_type": ""
    },
    "tags": []
   },
   "source": [
    "高校数学で学習した「集合と論理」を覚えておられるだろうか（忘れた人は[コチラ](../misc/math.ipynb)を確認）．\n",
    "そのときに\n",
    "> $A=\\{1, 2, 3, 4, 9\\}$，$B=\\{3, 4, 7\\}$のとき，AとBの共通部分$A \\cap B$は$\\{3, 4\\}$となる\n",
    "\n",
    "みたいなことを勉強したと思う．\n",
    "集合演算とは，上記のように2つの集合から別の集合を作り出す演算である．\n",
    "高校数学で習った集合演算では主として数値の集合を対象としていたと思うが，\n",
    "関係データベースの集合演算において対象となるのは**レコード（行）の集合**である．\n",
    "関係データベースにおける集合演算は行を増やしたり減らしたりする，**テーブルを縦方向にいじる操作**ともいえる．\n",
    "関係データベースにおける集合演算の振る舞いは，直感的には高校数学の集合演算と変わらない．\n",
    "\n",
    "\n",
    "\n",
    "```{warning}\n",
    "#### 関係データベースにおける集合演算の注意点\n",
    "関係データベースで集合演算を行う際には，演算対象となる2つのレコード集合が**和両立**（unicon compatible, 合併可能と呼ぶこともある）という条件を満たしている必要がある．\n",
    "これは，演算対象となる2つのレコード集合が\n",
    "1. 同じ列（属性）で構成されている，かつ\n",
    "2. 同じ列については，その定義域も同じである\n",
    "\n",
    "という条件である．\n",
    "この条件を満たしていないレコード集合の集合演算を行おうとすると，SQL文を実行してもエラーが出力される．\n",
    "```"
   ]
  },
  {
   "cell_type": "markdown",
   "id": "60ef0195-1d28-4c1f-a3f2-19305e4c94e7",
   "metadata": {
    "editable": true,
    "slideshow": {
     "slide_type": ""
    },
    "tags": []
   },
   "source": [
    "### 和集合演算（UNION）"
   ]
  },
  {
   "cell_type": "markdown",
   "id": "d7627236-1a30-444d-b100-75f6e26feca7",
   "metadata": {
    "editable": true,
    "slideshow": {
     "slide_type": ""
    },
    "tags": []
   },
   "source": [
    "**和集合演算**は，2つのレコード集合のいずれかに含まれるレコードの集合（和集合または合併，union）を求めるものである．\n",
    "高校数学で例えると，\n",
    "> $A=\\{1, 2, 3, 4, 9\\}$，$B=\\{3, 4, 7\\}$のとき，AとBの和集合$A \\cup B$は$\\{1, 2, 3, 4, 7, 9\\}$\n",
    "\n",
    "となるような演算の関係データベース版である．\n",
    "\n",
    "SQLで和集合を求めるには`UINION`演算子を用いる．\n",
    "レコード集合Aとレコード集合Bの和集合を求めるには，`A UNION B`のようなSQL文を書く．\n",
    "$A$や$B$はレコード集合であるので，実際にSQL文で`UNION`を使う際には，AやBの箇所に**SELECT文が入る**．\n",
    "\n",
    "以下は，`elderly_population_top10`テーブルと`university_student_population_top10`テーブルの和集合を求めるSQL文である．"
   ]
  },
  {
   "cell_type": "markdown",
   "id": "2260405d-c8b8-41dc-8e96-09f6c62d5cf6",
   "metadata": {
    "editable": true,
    "slideshow": {
     "slide_type": ""
    },
    "tags": []
   },
   "source": [
    "```sql\n",
    "SELECT * FROM elderly_population_top10\n",
    "UNION\n",
    "SELECT * FROM university_student_population_top10; \n",
    "```"
   ]
  },
  {
   "cell_type": "code",
   "execution_count": 7,
   "id": "f7f31704-e1bd-4318-8899-18e1b9b682df",
   "metadata": {
    "editable": true,
    "slideshow": {
     "slide_type": ""
    },
    "tags": [
     "remove-input"
    ]
   },
   "outputs": [
    {
     "data": {
      "text/html": [
       "<table>\n",
       "    <thead>\n",
       "        <tr>\n",
       "            <th>地域コード</th>\n",
       "            <th>都道府県</th>\n",
       "            <th>総人口</th>\n",
       "        </tr>\n",
       "    </thead>\n",
       "    <tbody>\n",
       "        <tr>\n",
       "            <td>R01000</td>\n",
       "            <td>北海道</td>\n",
       "            <td>5183000</td>\n",
       "        </tr>\n",
       "        <tr>\n",
       "            <td>R11000</td>\n",
       "            <td>埼玉県</td>\n",
       "            <td>7340000</td>\n",
       "        </tr>\n",
       "        <tr>\n",
       "            <td>R12000</td>\n",
       "            <td>千葉県</td>\n",
       "            <td>6275000</td>\n",
       "        </tr>\n",
       "        <tr>\n",
       "            <td>R13000</td>\n",
       "            <td>東京都</td>\n",
       "            <td>14010000</td>\n",
       "        </tr>\n",
       "        <tr>\n",
       "            <td>R14000</td>\n",
       "            <td>神奈川県</td>\n",
       "            <td>9236000</td>\n",
       "        </tr>\n",
       "        <tr>\n",
       "            <td>R22000</td>\n",
       "            <td>静岡県</td>\n",
       "            <td>3608000</td>\n",
       "        </tr>\n",
       "        <tr>\n",
       "            <td>R23000</td>\n",
       "            <td>愛知県</td>\n",
       "            <td>7517000</td>\n",
       "        </tr>\n",
       "        <tr>\n",
       "            <td>R26000</td>\n",
       "            <td>京都府</td>\n",
       "            <td>2561000</td>\n",
       "        </tr>\n",
       "        <tr>\n",
       "            <td>R27000</td>\n",
       "            <td>大阪府</td>\n",
       "            <td>8806000</td>\n",
       "        </tr>\n",
       "        <tr>\n",
       "            <td>R28000</td>\n",
       "            <td>兵庫県</td>\n",
       "            <td>5432000</td>\n",
       "        </tr>\n",
       "        <tr>\n",
       "            <td>R40000</td>\n",
       "            <td>福岡県</td>\n",
       "            <td>5124000</td>\n",
       "        </tr>\n",
       "    </tbody>\n",
       "</table>"
      ],
      "text/plain": [
       "+------------+----------+----------+\n",
       "| 地域コード | 都道府県 |  総人口  |\n",
       "+------------+----------+----------+\n",
       "|   R01000   |  北海道  | 5183000  |\n",
       "|   R11000   |  埼玉県  | 7340000  |\n",
       "|   R12000   |  千葉県  | 6275000  |\n",
       "|   R13000   |  東京都  | 14010000 |\n",
       "|   R14000   | 神奈川県 | 9236000  |\n",
       "|   R22000   |  静岡県  | 3608000  |\n",
       "|   R23000   |  愛知県  | 7517000  |\n",
       "|   R26000   |  京都府  | 2561000  |\n",
       "|   R27000   |  大阪府  | 8806000  |\n",
       "|   R28000   |  兵庫県  | 5432000  |\n",
       "|   R40000   |  福岡県  | 5124000  |\n",
       "+------------+----------+----------+"
      ]
     },
     "execution_count": 7,
     "metadata": {},
     "output_type": "execute_result"
    }
   ],
   "source": [
    "%%sql\n",
    "\n",
    "SELECT * FROM elderly_population_top10\n",
    "UNION\n",
    "SELECT * FROM university_student_population_top10;"
   ]
  },
  {
   "cell_type": "markdown",
   "id": "dd34b68d-5341-4f04-ae90-6ce9e5a630e7",
   "metadata": {
    "editable": true,
    "slideshow": {
     "slide_type": ""
    },
    "tags": []
   },
   "source": [
    "なお，（後述する積集合，差集合も同様であるが）和集合演算子`UNION`の前後にはSELECT文であればよく，当然SELECT文の中には`WHERE`句などを含んでいてもよい．\n",
    "以下は，`elderly_population_top10`テーブルと`university_student_population_top10`テーブルのレコードのうち，総人口が700万以上のレコードに限定して和集合を求めるSQL文である．"
   ]
  },
  {
   "cell_type": "markdown",
   "id": "3047d578-3e6a-48af-a6cf-09f408acaef6",
   "metadata": {
    "editable": true,
    "slideshow": {
     "slide_type": ""
    },
    "tags": []
   },
   "source": [
    "```sql\n",
    "SELECT\n",
    "    *\n",
    "FROM\n",
    "    elderly_population_top10\n",
    "WHERE\n",
    "    総人口 >= 7000000\n",
    "UNION\n",
    "SELECT\n",
    "    *\n",
    "FROM\n",
    "    university_student_population_top10\n",
    "WHERE\n",
    "    総人口 >= 7000000; \n",
    "```"
   ]
  },
  {
   "cell_type": "code",
   "execution_count": 8,
   "id": "aa2858f9-f350-4dbb-8a3b-18afb05cc282",
   "metadata": {
    "editable": true,
    "slideshow": {
     "slide_type": ""
    },
    "tags": [
     "remove-input"
    ]
   },
   "outputs": [
    {
     "data": {
      "text/html": [
       "<table>\n",
       "    <thead>\n",
       "        <tr>\n",
       "            <th>地域コード</th>\n",
       "            <th>都道府県</th>\n",
       "            <th>総人口</th>\n",
       "        </tr>\n",
       "    </thead>\n",
       "    <tbody>\n",
       "        <tr>\n",
       "            <td>R11000</td>\n",
       "            <td>埼玉県</td>\n",
       "            <td>7340000</td>\n",
       "        </tr>\n",
       "        <tr>\n",
       "            <td>R13000</td>\n",
       "            <td>東京都</td>\n",
       "            <td>14010000</td>\n",
       "        </tr>\n",
       "        <tr>\n",
       "            <td>R14000</td>\n",
       "            <td>神奈川県</td>\n",
       "            <td>9236000</td>\n",
       "        </tr>\n",
       "        <tr>\n",
       "            <td>R23000</td>\n",
       "            <td>愛知県</td>\n",
       "            <td>7517000</td>\n",
       "        </tr>\n",
       "        <tr>\n",
       "            <td>R27000</td>\n",
       "            <td>大阪府</td>\n",
       "            <td>8806000</td>\n",
       "        </tr>\n",
       "    </tbody>\n",
       "</table>"
      ],
      "text/plain": [
       "+------------+----------+----------+\n",
       "| 地域コード | 都道府県 |  総人口  |\n",
       "+------------+----------+----------+\n",
       "|   R11000   |  埼玉県  | 7340000  |\n",
       "|   R13000   |  東京都  | 14010000 |\n",
       "|   R14000   | 神奈川県 | 9236000  |\n",
       "|   R23000   |  愛知県  | 7517000  |\n",
       "|   R27000   |  大阪府  | 8806000  |\n",
       "+------------+----------+----------+"
      ]
     },
     "execution_count": 8,
     "metadata": {},
     "output_type": "execute_result"
    }
   ],
   "source": [
    "%%sql\n",
    "\n",
    "SELECT\n",
    "    *\n",
    "FROM\n",
    "    elderly_population_top10\n",
    "WHERE\n",
    "    総人口 >= 7000000\n",
    "UNION\n",
    "SELECT\n",
    "    *\n",
    "FROM\n",
    "    university_student_population_top10\n",
    "WHERE\n",
    "    総人口 >= 7000000;"
   ]
  },
  {
   "cell_type": "markdown",
   "id": "289ceba3-aacb-48c4-8387-e7d9d76a69f6",
   "metadata": {
    "editable": true,
    "slideshow": {
     "slide_type": ""
    },
    "tags": []
   },
   "source": [
    "### 積集合演算（INTERSECT）"
   ]
  },
  {
   "cell_type": "markdown",
   "id": "72d22a1b-7636-43b0-b104-b3f81afebd38",
   "metadata": {
    "editable": true,
    "slideshow": {
     "slide_type": ""
    },
    "tags": []
   },
   "source": [
    "**積集合演算**は，2つのレコード集合に共通して含まれるレコードの集合（積集合または共通集合，intersection）を求めるものである．\n",
    "高校数学で例えると，\n",
    "> $A=\\{1, 2, 3, 4, 9\\}$，$B=\\{3, 4, 7\\}$のとき，AとBの積集合$A \\cap B$は$\\{3, 4\\}$\n",
    "\n",
    "となるような演算の関係データベース版である．\n",
    "\n",
    "SQLで積集合を求めるには`INTERSECT`演算子を用いる．\n",
    "以下は，`elderly_population_top10`テーブルと`university_student_population_top10`テーブルの積集合を求めるSQL文である（[★Quiz1★](#sql2-q1)，[★Quiz2★](#sql2-q2)）．"
   ]
  },
  {
   "cell_type": "markdown",
   "id": "4b28d018-1ff4-4c57-b416-473cc2b305fe",
   "metadata": {
    "editable": true,
    "slideshow": {
     "slide_type": ""
    },
    "tags": []
   },
   "source": [
    "```sql\n",
    "SELECT * FROM elderly_population_top10\n",
    "INTERSECTION\n",
    "SELECT * FROM university_student_population_top10; \n",
    "```"
   ]
  },
  {
   "cell_type": "code",
   "execution_count": 9,
   "id": "17d597e7-5c04-4a26-9204-3db0ac76d105",
   "metadata": {
    "editable": true,
    "slideshow": {
     "slide_type": ""
    },
    "tags": [
     "remove-input"
    ]
   },
   "outputs": [
    {
     "data": {
      "text/html": [
       "<table>\n",
       "    <thead>\n",
       "        <tr>\n",
       "            <th>地域コード</th>\n",
       "            <th>都道府県</th>\n",
       "            <th>総人口</th>\n",
       "        </tr>\n",
       "    </thead>\n",
       "    <tbody>\n",
       "        <tr>\n",
       "            <td>R01000</td>\n",
       "            <td>北海道</td>\n",
       "            <td>5183000</td>\n",
       "        </tr>\n",
       "        <tr>\n",
       "            <td>R11000</td>\n",
       "            <td>埼玉県</td>\n",
       "            <td>7340000</td>\n",
       "        </tr>\n",
       "        <tr>\n",
       "            <td>R12000</td>\n",
       "            <td>千葉県</td>\n",
       "            <td>6275000</td>\n",
       "        </tr>\n",
       "        <tr>\n",
       "            <td>R13000</td>\n",
       "            <td>東京都</td>\n",
       "            <td>14010000</td>\n",
       "        </tr>\n",
       "        <tr>\n",
       "            <td>R14000</td>\n",
       "            <td>神奈川県</td>\n",
       "            <td>9236000</td>\n",
       "        </tr>\n",
       "        <tr>\n",
       "            <td>R23000</td>\n",
       "            <td>愛知県</td>\n",
       "            <td>7517000</td>\n",
       "        </tr>\n",
       "        <tr>\n",
       "            <td>R27000</td>\n",
       "            <td>大阪府</td>\n",
       "            <td>8806000</td>\n",
       "        </tr>\n",
       "        <tr>\n",
       "            <td>R28000</td>\n",
       "            <td>兵庫県</td>\n",
       "            <td>5432000</td>\n",
       "        </tr>\n",
       "        <tr>\n",
       "            <td>R40000</td>\n",
       "            <td>福岡県</td>\n",
       "            <td>5124000</td>\n",
       "        </tr>\n",
       "    </tbody>\n",
       "</table>"
      ],
      "text/plain": [
       "+------------+----------+----------+\n",
       "| 地域コード | 都道府県 |  総人口  |\n",
       "+------------+----------+----------+\n",
       "|   R01000   |  北海道  | 5183000  |\n",
       "|   R11000   |  埼玉県  | 7340000  |\n",
       "|   R12000   |  千葉県  | 6275000  |\n",
       "|   R13000   |  東京都  | 14010000 |\n",
       "|   R14000   | 神奈川県 | 9236000  |\n",
       "|   R23000   |  愛知県  | 7517000  |\n",
       "|   R27000   |  大阪府  | 8806000  |\n",
       "|   R28000   |  兵庫県  | 5432000  |\n",
       "|   R40000   |  福岡県  | 5124000  |\n",
       "+------------+----------+----------+"
      ]
     },
     "execution_count": 9,
     "metadata": {},
     "output_type": "execute_result"
    }
   ],
   "source": [
    "%%sql\n",
    "\n",
    "SELECT * FROM elderly_population_top10\n",
    "INTERSECT\n",
    "SELECT * FROM university_student_population_top10;"
   ]
  },
  {
   "cell_type": "markdown",
   "id": "4d0b6012-e4b5-4151-b462-a9f09aeb38ed",
   "metadata": {
    "editable": true,
    "slideshow": {
     "slide_type": ""
    },
    "tags": []
   },
   "source": [
    "### 差集合演算（EXCEPT）"
   ]
  },
  {
   "cell_type": "markdown",
   "id": "adf071c4-3391-4457-b618-8ecd0ade7bd5",
   "metadata": {
    "editable": true,
    "slideshow": {
     "slide_type": ""
    },
    "tags": []
   },
   "source": [
    "**差集合演算**は，あるレコード集合から別のレコード集合に含まれるレコードを除いたレコードの集合（差集合あるいは補集合，set difference）を求めるものである．\n",
    "高校数学の範囲で例えると，\n",
    "> $A=\\{1, 2, 3, 4, 9\\}$，$B=\\{3, 4, 7\\}$のとき，AとBの積集合$A \\setminus B$は$\\{1, 2, 9\\}$\n",
    "\n",
    "となるような演算の関係データベース版である．\n",
    "差集合演算は，片側の集合にしか現れない要素の集合を求めたいときに用いる．\n",
    "\n",
    "SQLで積集合を求めるには`EXCEPT`演算子を用いる．\n",
    "以下は，`elderly_population_top10`テーブルから`university_student_population_top10`テーブルを引いた差集合を求めるSQL文である．"
   ]
  },
  {
   "cell_type": "markdown",
   "id": "7b9dce24-4e75-485f-a61c-d6a77883f737",
   "metadata": {
    "editable": true,
    "slideshow": {
     "slide_type": ""
    },
    "tags": []
   },
   "source": [
    "```sql\n",
    "SELECT * FROM elderly_population_top10\n",
    "EXCEPT\n",
    "SELECT * FROM university_student_population_top10; \n",
    "```"
   ]
  },
  {
   "cell_type": "code",
   "execution_count": 10,
   "id": "ff931624-d500-40f9-9e26-77d4495666e5",
   "metadata": {
    "editable": true,
    "slideshow": {
     "slide_type": ""
    },
    "tags": [
     "remove-input"
    ]
   },
   "outputs": [
    {
     "data": {
      "text/html": [
       "<table>\n",
       "    <thead>\n",
       "        <tr>\n",
       "            <th>地域コード</th>\n",
       "            <th>都道府県</th>\n",
       "            <th>総人口</th>\n",
       "        </tr>\n",
       "    </thead>\n",
       "    <tbody>\n",
       "        <tr>\n",
       "            <td>R22000</td>\n",
       "            <td>静岡県</td>\n",
       "            <td>3608000</td>\n",
       "        </tr>\n",
       "    </tbody>\n",
       "</table>"
      ],
      "text/plain": [
       "+------------+----------+---------+\n",
       "| 地域コード | 都道府県 |  総人口 |\n",
       "+------------+----------+---------+\n",
       "|   R22000   |  静岡県  | 3608000 |\n",
       "+------------+----------+---------+"
      ]
     },
     "execution_count": 10,
     "metadata": {},
     "output_type": "execute_result"
    }
   ],
   "source": [
    "%%sql\n",
    "\n",
    "SELECT * FROM elderly_population_top10\n",
    "EXCEPT\n",
    "SELECT * FROM university_student_population_top10;"
   ]
  },
  {
   "cell_type": "markdown",
   "id": "32e3e059-62dc-480c-b30c-aa5719a12b37",
   "metadata": {
    "editable": true,
    "slideshow": {
     "slide_type": ""
    },
    "tags": []
   },
   "source": [
    "和集合演算や積集合演算とは異なり，差集合演算は演算の項の順序を入れ替えても結果は変わらない「交換法則」は**成立しない**．\n",
    "つまり，$A \\setminus B$と$B \\setminus A$はイコールになるとは限らない．\n",
    "\n",
    "例えば，以下は上で求めた例とは演算の項を入れ替えた，`university_student_population_top10`テーブルから`elderly_population_top10`テーブルを引いた差集合を求めるSQL文である．\n",
    "このSQL文と先のSQL文とで結果が異なることが分かる．"
   ]
  },
  {
   "cell_type": "markdown",
   "id": "780da582-e91a-4332-8082-fea66e137bca",
   "metadata": {
    "editable": true,
    "slideshow": {
     "slide_type": ""
    },
    "tags": []
   },
   "source": [
    "```sql\n",
    "SELECT * FROM university_student_population_top10\n",
    "EXCEPT\n",
    "SELECT * FROM elderly_population_top10; \n",
    "```"
   ]
  },
  {
   "cell_type": "code",
   "execution_count": 11,
   "id": "5cf6dc1a-8339-4e03-a4f7-56cc25460057",
   "metadata": {
    "editable": true,
    "slideshow": {
     "slide_type": ""
    },
    "tags": [
     "remove-input"
    ]
   },
   "outputs": [
    {
     "data": {
      "text/html": [
       "<table>\n",
       "    <thead>\n",
       "        <tr>\n",
       "            <th>地域コード</th>\n",
       "            <th>都道府県</th>\n",
       "            <th>総人口</th>\n",
       "        </tr>\n",
       "    </thead>\n",
       "    <tbody>\n",
       "        <tr>\n",
       "            <td>R26000</td>\n",
       "            <td>京都府</td>\n",
       "            <td>2561000</td>\n",
       "        </tr>\n",
       "    </tbody>\n",
       "</table>"
      ],
      "text/plain": [
       "+------------+----------+---------+\n",
       "| 地域コード | 都道府県 |  総人口 |\n",
       "+------------+----------+---------+\n",
       "|   R26000   |  京都府  | 2561000 |\n",
       "+------------+----------+---------+"
      ]
     },
     "execution_count": 11,
     "metadata": {},
     "output_type": "execute_result"
    }
   ],
   "source": [
    "%%sql\n",
    "\n",
    "SELECT * FROM university_student_population_top10\n",
    "EXCEPT\n",
    "SELECT * FROM elderly_population_top10; "
   ]
  },
  {
   "cell_type": "markdown",
   "id": "8e5f12f2",
   "metadata": {
    "editable": true,
    "slideshow": {
     "slide_type": ""
    },
    "tags": []
   },
   "source": [
    "## 結合（JOIN）"
   ]
  },
  {
   "cell_type": "markdown",
   "id": "a314f70a-69e9-4225-923a-1018d4972619",
   "metadata": {
    "editable": true,
    "slideshow": {
     "slide_type": ""
    },
    "tags": []
   },
   "source": [
    "**結合（JOIN）** とは，2つのテーブルからデータを特定の条件でデータを組み合わせて新たなレコード集合を得る操作である．\n",
    "前節で扱った`UNION`，`INTERSECT`，`EXCEPT`といった集合演算がテーブルを縦方向（行方向）に操作するのに対して，結合操作はテーブルを**横方向（列方向）** に操作する．\n",
    "データをあえて複数のテーブルに分けて管理する思想をもつ関係データベースにおいては，**結合操作を使いこなすことが多様かつ膨大なデータの管理・検索・分析を行う上で鍵**となる．\n",
    "\n",
    "以下，直積，内部結合，外部結合の3つの結合について説明する．"
   ]
  },
  {
   "cell_type": "markdown",
   "id": "ecb21dc2-eab5-445e-a219-df2db761dbb0",
   "metadata": {
    "editable": true,
    "slideshow": {
     "slide_type": ""
    },
    "tags": []
   },
   "source": [
    "### 直積（CROSS JOIN）"
   ]
  },
  {
   "cell_type": "markdown",
   "id": "e6c6cee0-1e9b-4798-91c1-68dd1f84cd02",
   "metadata": {
    "editable": true,
    "slideshow": {
     "slide_type": ""
    },
    "tags": []
   },
   "source": [
    "集合論において，集合AとBの**直積（デカルト積とも呼ぶ）** とは，集合Aと集合Bのそれぞれの要素のすべての組み合わせ（の集合）を意味する．\n",
    "例えば，集合$A=\\{1, 2, 3\\}$，集合$B=\\{a, b\\}$のとき，集合Aと集合Bの直積である$A \\times B$は\n",
    "\n",
    "> $A \\times B = \\{(1, a), (1, b), (2, a), (2, b), (3, a), (3, b)\\}$\n",
    "\n",
    "となる．\n",
    "\n",
    "関係データベースにおいてもテーブル同士の直積が定義されている．\n",
    "関係データベースにおける**直積（交差結合; cross joinと呼ぶこともある）** は，2つのテーブル$R_1$と$R_2$が与えられたとき，テーブル$R_1$のレコードと$R_2$のレコードのすべての組み合わせを求める操作となる．\n",
    "\n",
    "2つのテーブルAとBの直積を求めるSQL文は，"
   ]
  },
  {
   "cell_type": "markdown",
   "id": "32aa4bff-073a-4fa2-8563-644ab078fd99",
   "metadata": {
    "editable": true,
    "slideshow": {
     "slide_type": ""
    },
    "tags": []
   },
   "source": [
    "```sql\n",
    "SELECT * FROM A CROSS JOIN B; \n",
    "```"
   ]
  },
  {
   "cell_type": "markdown",
   "id": "0eb0ebbb-1f2c-4ea7-9cf3-72786345b4aa",
   "metadata": {
    "editable": true,
    "slideshow": {
     "slide_type": ""
    },
    "tags": []
   },
   "source": [
    "と書く．\n",
    "以下のように，上記SQL文は`CROSS JOIN`をカンマ（,）を省略しても書くこともできる．"
   ]
  },
  {
   "cell_type": "markdown",
   "id": "46055831-376c-445d-891b-9231e3dc12c8",
   "metadata": {
    "editable": true,
    "slideshow": {
     "slide_type": ""
    },
    "tags": []
   },
   "source": [
    "```sql\n",
    "SELECT * FROM A, B;  -- CROSS JOINをカンマで代替\n",
    "```"
   ]
  },
  {
   "cell_type": "code",
   "execution_count": 12,
   "id": "4c9713c3-cc7b-470b-8d98-29169657acca",
   "metadata": {
    "editable": true,
    "slideshow": {
     "slide_type": ""
    },
    "tags": [
     "remove-input",
     "remove-output"
    ]
   },
   "outputs": [],
   "source": [
    "%sql sqlite:///data/toy_example.db"
   ]
  },
  {
   "cell_type": "markdown",
   "id": "fe4ce8c5-9011-4395-9476-5bad93a34836",
   "metadata": {
    "editable": true,
    "slideshow": {
     "slide_type": ""
    },
    "tags": []
   },
   "source": [
    "具体例を使って直積の結果を確認してみよう．\n",
    "例えば，以下のような「科目」テーブルと「教員」テーブルの2つがあるとする．"
   ]
  },
  {
   "cell_type": "code",
   "execution_count": 13,
   "id": "f75df82c-68ab-4cf5-b4b1-55d9dd164236",
   "metadata": {
    "editable": true,
    "slideshow": {
     "slide_type": ""
    },
    "tags": [
     "remove-input"
    ]
   },
   "outputs": [
    {
     "data": {
      "text/html": [
       "<table>\n",
       "    <thead>\n",
       "        <tr>\n",
       "            <th>科目名</th>\n",
       "            <th>開講時期</th>\n",
       "        </tr>\n",
       "    </thead>\n",
       "    <tbody>\n",
       "        <tr>\n",
       "            <td>データベース</td>\n",
       "            <td>2年前期</td>\n",
       "        </tr>\n",
       "        <tr>\n",
       "            <td>機械学習</td>\n",
       "            <td>3年前期</td>\n",
       "        </tr>\n",
       "        <tr>\n",
       "            <td>統計モデリング</td>\n",
       "            <td>2年後期</td>\n",
       "        </tr>\n",
       "    </tbody>\n",
       "</table>"
      ],
      "text/plain": [
       "+----------------+----------+\n",
       "|     科目名     | 開講時期 |\n",
       "+----------------+----------+\n",
       "|  データベース  | 2年前期  |\n",
       "|    機械学習    | 3年前期  |\n",
       "| 統計モデリング | 2年後期  |\n",
       "+----------------+----------+"
      ]
     },
     "execution_count": 13,
     "metadata": {},
     "output_type": "execute_result"
    }
   ],
   "source": [
    "%%sql\n",
    "SELECT * FROM 科目;"
   ]
  },
  {
   "cell_type": "code",
   "execution_count": 14,
   "id": "93848272-71b3-458e-826e-f9175b4ecaeb",
   "metadata": {
    "editable": true,
    "slideshow": {
     "slide_type": ""
    },
    "tags": [
     "remove-input"
    ]
   },
   "outputs": [
    {
     "data": {
      "text/html": [
       "<table>\n",
       "    <thead>\n",
       "        <tr>\n",
       "            <th>氏名</th>\n",
       "            <th>職階</th>\n",
       "        </tr>\n",
       "    </thead>\n",
       "    <tbody>\n",
       "        <tr>\n",
       "            <td>山畑</td>\n",
       "            <td>教授</td>\n",
       "        </tr>\n",
       "        <tr>\n",
       "            <td>桜山</td>\n",
       "            <td>教授</td>\n",
       "        </tr>\n",
       "        <tr>\n",
       "            <td>川澄</td>\n",
       "            <td>准教授</td>\n",
       "        </tr>\n",
       "        <tr>\n",
       "            <td>田辺</td>\n",
       "            <td>講師</td>\n",
       "        </tr>\n",
       "    </tbody>\n",
       "</table>"
      ],
      "text/plain": [
       "+------+--------+\n",
       "| 氏名 |  職階  |\n",
       "+------+--------+\n",
       "| 山畑 |  教授  |\n",
       "| 桜山 |  教授  |\n",
       "| 川澄 | 准教授 |\n",
       "| 田辺 |  講師  |\n",
       "+------+--------+"
      ]
     },
     "execution_count": 14,
     "metadata": {},
     "output_type": "execute_result"
    }
   ],
   "source": [
    "%%sql\n",
    "SELECT * FROM 教員;"
   ]
  },
  {
   "cell_type": "markdown",
   "id": "f1177c0e-068b-4be9-aaab-1b80332aed54",
   "metadata": {
    "editable": true,
    "slideshow": {
     "slide_type": ""
    },
    "tags": []
   },
   "source": [
    "「科目」テーブルには3レコード，「教員」テーブルには4レコード格納されている．\n",
    "上記2つのテーブルのデータを元に，科目を担当する教員について考えられうるすべての組み合わせを求めるには，\n",
    "以下のように2つのテーブルの直積を求めれるSQL文を書けばよい．"
   ]
  },
  {
   "cell_type": "markdown",
   "id": "c029d2eb-4a0c-4f84-add1-c5c4b7bdf473",
   "metadata": {
    "editable": true,
    "slideshow": {
     "slide_type": ""
    },
    "tags": []
   },
   "source": [
    "```sql\n",
    "SELECT\n",
    "    *\n",
    "FROM\n",
    "    科目, 教員;\n",
    "```"
   ]
  },
  {
   "cell_type": "code",
   "execution_count": 15,
   "id": "5c12d2f0-885e-4f4b-8d75-0554ed56afff",
   "metadata": {
    "editable": true,
    "slideshow": {
     "slide_type": ""
    },
    "tags": [
     "remove-input"
    ]
   },
   "outputs": [
    {
     "data": {
      "text/html": [
       "<table>\n",
       "    <thead>\n",
       "        <tr>\n",
       "            <th>科目名</th>\n",
       "            <th>開講時期</th>\n",
       "            <th>氏名</th>\n",
       "            <th>職階</th>\n",
       "        </tr>\n",
       "    </thead>\n",
       "    <tbody>\n",
       "        <tr>\n",
       "            <td>データベース</td>\n",
       "            <td>2年前期</td>\n",
       "            <td>山畑</td>\n",
       "            <td>教授</td>\n",
       "        </tr>\n",
       "        <tr>\n",
       "            <td>データベース</td>\n",
       "            <td>2年前期</td>\n",
       "            <td>桜山</td>\n",
       "            <td>教授</td>\n",
       "        </tr>\n",
       "        <tr>\n",
       "            <td>データベース</td>\n",
       "            <td>2年前期</td>\n",
       "            <td>川澄</td>\n",
       "            <td>准教授</td>\n",
       "        </tr>\n",
       "        <tr>\n",
       "            <td>データベース</td>\n",
       "            <td>2年前期</td>\n",
       "            <td>田辺</td>\n",
       "            <td>講師</td>\n",
       "        </tr>\n",
       "        <tr>\n",
       "            <td>機械学習</td>\n",
       "            <td>3年前期</td>\n",
       "            <td>山畑</td>\n",
       "            <td>教授</td>\n",
       "        </tr>\n",
       "        <tr>\n",
       "            <td>機械学習</td>\n",
       "            <td>3年前期</td>\n",
       "            <td>桜山</td>\n",
       "            <td>教授</td>\n",
       "        </tr>\n",
       "        <tr>\n",
       "            <td>機械学習</td>\n",
       "            <td>3年前期</td>\n",
       "            <td>川澄</td>\n",
       "            <td>准教授</td>\n",
       "        </tr>\n",
       "        <tr>\n",
       "            <td>機械学習</td>\n",
       "            <td>3年前期</td>\n",
       "            <td>田辺</td>\n",
       "            <td>講師</td>\n",
       "        </tr>\n",
       "        <tr>\n",
       "            <td>統計モデリング</td>\n",
       "            <td>2年後期</td>\n",
       "            <td>山畑</td>\n",
       "            <td>教授</td>\n",
       "        </tr>\n",
       "        <tr>\n",
       "            <td>統計モデリング</td>\n",
       "            <td>2年後期</td>\n",
       "            <td>桜山</td>\n",
       "            <td>教授</td>\n",
       "        </tr>\n",
       "        <tr>\n",
       "            <td>統計モデリング</td>\n",
       "            <td>2年後期</td>\n",
       "            <td>川澄</td>\n",
       "            <td>准教授</td>\n",
       "        </tr>\n",
       "        <tr>\n",
       "            <td>統計モデリング</td>\n",
       "            <td>2年後期</td>\n",
       "            <td>田辺</td>\n",
       "            <td>講師</td>\n",
       "        </tr>\n",
       "    </tbody>\n",
       "</table>"
      ],
      "text/plain": [
       "+----------------+----------+------+--------+\n",
       "|     科目名     | 開講時期 | 氏名 |  職階  |\n",
       "+----------------+----------+------+--------+\n",
       "|  データベース  | 2年前期  | 山畑 |  教授  |\n",
       "|  データベース  | 2年前期  | 桜山 |  教授  |\n",
       "|  データベース  | 2年前期  | 川澄 | 准教授 |\n",
       "|  データベース  | 2年前期  | 田辺 |  講師  |\n",
       "|    機械学習    | 3年前期  | 山畑 |  教授  |\n",
       "|    機械学習    | 3年前期  | 桜山 |  教授  |\n",
       "|    機械学習    | 3年前期  | 川澄 | 准教授 |\n",
       "|    機械学習    | 3年前期  | 田辺 |  講師  |\n",
       "| 統計モデリング | 2年後期  | 山畑 |  教授  |\n",
       "| 統計モデリング | 2年後期  | 桜山 |  教授  |\n",
       "| 統計モデリング | 2年後期  | 川澄 | 准教授 |\n",
       "| 統計モデリング | 2年後期  | 田辺 |  講師  |\n",
       "+----------------+----------+------+--------+"
      ]
     },
     "execution_count": 15,
     "metadata": {},
     "output_type": "execute_result"
    }
   ],
   "source": [
    "%%sql\n",
    "    \n",
    "SELECT\n",
    "    *\n",
    "FROM\n",
    "    科目, 教員;"
   ]
  },
  {
   "cell_type": "markdown",
   "id": "e3022b73-7135-4148-8563-79d97088763b",
   "metadata": {
    "editable": true,
    "slideshow": {
     "slide_type": ""
    },
    "tags": []
   },
   "source": [
    "2つのテーブルの直積を求めると，合計$3 \\times 4=12$レコードの組み合わせ（レコード集合）が得られる（[★Quiz3★](#sql2-q3)）．"
   ]
  },
  {
   "cell_type": "markdown",
   "id": "b4430e3a-1176-4cf9-becf-dc992881ceb3",
   "metadata": {
    "editable": true,
    "slideshow": {
     "slide_type": ""
    },
    "tags": []
   },
   "source": [
    "直積を求めるSQL文では，`WHERE`句を使って抽出結果を選択（絞り込む）ことができる．\n",
    "- 大学学生数が多い上位10の都道府県名が格納された`university_student_population_top10`テーブル，\n",
    "- 「学習・自己啓発・訓練」など，いくつかの活動について過去1年以内に活動したことのある人の割合（％）が都道府県別にまとめられている`activity`テーブル\n",
    "\n",
    "の直積を求めた後，都道府県名が一致しているものだけを残して表示してみよう．\n",
    "以下は所望の結果を得るためのSQL文である．"
   ]
  },
  {
   "cell_type": "code",
   "execution_count": 16,
   "id": "83c55a87-7719-48df-bbc7-ccdce917debe",
   "metadata": {
    "editable": true,
    "slideshow": {
     "slide_type": ""
    },
    "tags": [
     "hide-input",
     "remove-output"
    ]
   },
   "outputs": [],
   "source": [
    "%sql sqlite:///data/SSDSE.db"
   ]
  },
  {
   "cell_type": "markdown",
   "id": "82e54e0d-2405-41e6-9a70-8abe6a663d69",
   "metadata": {
    "editable": true,
    "slideshow": {
     "slide_type": ""
    },
    "tags": []
   },
   "source": [
    "```sql\n",
    "SELECT\n",
    "    *\n",
    "FROM\n",
    "    university_student_population_top10, activity\n",
    "WHERE\n",
    "    --- 「テーブル名.都道府県」とすることで，どのテーブルの「都道府県」を参照したいかを明示\n",
    "    university_student_population_top10.都道府県 = activity.都道府県; \n",
    "```"
   ]
  },
  {
   "cell_type": "code",
   "execution_count": 17,
   "id": "5beaf069-041f-4ba7-80f5-f5e60a605f0d",
   "metadata": {
    "editable": true,
    "slideshow": {
     "slide_type": ""
    },
    "tags": [
     "scroll-output",
     "remove-input"
    ]
   },
   "outputs": [
    {
     "data": {
      "text/html": [
       "<table>\n",
       "    <thead>\n",
       "        <tr>\n",
       "            <th>地域コード</th>\n",
       "            <th>都道府県</th>\n",
       "            <th>総人口</th>\n",
       "            <th>地域コード_1</th>\n",
       "            <th>都道府県_1</th>\n",
       "            <th>学習・自己啓発・訓練</th>\n",
       "            <th>スポーツ</th>\n",
       "            <th>趣味娯楽</th>\n",
       "            <th>ボランティア</th>\n",
       "            <th>旅行・行楽</th>\n",
       "        </tr>\n",
       "    </thead>\n",
       "    <tbody>\n",
       "        <tr>\n",
       "            <td>R13000</td>\n",
       "            <td>東京都</td>\n",
       "            <td>14010000</td>\n",
       "            <td>R13000</td>\n",
       "            <td>東京都</td>\n",
       "            <td>52.8</td>\n",
       "            <td>74.5</td>\n",
       "            <td>91.4</td>\n",
       "            <td>15.5</td>\n",
       "            <td>55.5</td>\n",
       "        </tr>\n",
       "        <tr>\n",
       "            <td>R27000</td>\n",
       "            <td>大阪府</td>\n",
       "            <td>8806000</td>\n",
       "            <td>R27000</td>\n",
       "            <td>大阪府</td>\n",
       "            <td>41.3</td>\n",
       "            <td>66.1</td>\n",
       "            <td>86.7</td>\n",
       "            <td>14.5</td>\n",
       "            <td>51.9</td>\n",
       "        </tr>\n",
       "        <tr>\n",
       "            <td>R23000</td>\n",
       "            <td>愛知県</td>\n",
       "            <td>7517000</td>\n",
       "            <td>R23000</td>\n",
       "            <td>愛知県</td>\n",
       "            <td>39.0</td>\n",
       "            <td>68.8</td>\n",
       "            <td>89.3</td>\n",
       "            <td>16.6</td>\n",
       "            <td>57.6</td>\n",
       "        </tr>\n",
       "        <tr>\n",
       "            <td>R14000</td>\n",
       "            <td>神奈川県</td>\n",
       "            <td>9236000</td>\n",
       "            <td>R14000</td>\n",
       "            <td>神奈川県</td>\n",
       "            <td>46.7</td>\n",
       "            <td>71.8</td>\n",
       "            <td>89.2</td>\n",
       "            <td>17.0</td>\n",
       "            <td>54.5</td>\n",
       "        </tr>\n",
       "        <tr>\n",
       "            <td>R28000</td>\n",
       "            <td>兵庫県</td>\n",
       "            <td>5432000</td>\n",
       "            <td>R28000</td>\n",
       "            <td>兵庫県</td>\n",
       "            <td>39.5</td>\n",
       "            <td>66.4</td>\n",
       "            <td>85.4</td>\n",
       "            <td>17.7</td>\n",
       "            <td>51.6</td>\n",
       "        </tr>\n",
       "        <tr>\n",
       "            <td>R40000</td>\n",
       "            <td>福岡県</td>\n",
       "            <td>5124000</td>\n",
       "            <td>R40000</td>\n",
       "            <td>福岡県</td>\n",
       "            <td>37.7</td>\n",
       "            <td>67.0</td>\n",
       "            <td>85.8</td>\n",
       "            <td>19.1</td>\n",
       "            <td>52.3</td>\n",
       "        </tr>\n",
       "        <tr>\n",
       "            <td>R11000</td>\n",
       "            <td>埼玉県</td>\n",
       "            <td>7340000</td>\n",
       "            <td>R11000</td>\n",
       "            <td>埼玉県</td>\n",
       "            <td>40.0</td>\n",
       "            <td>69.3</td>\n",
       "            <td>88.4</td>\n",
       "            <td>15.6</td>\n",
       "            <td>51.5</td>\n",
       "        </tr>\n",
       "        <tr>\n",
       "            <td>R12000</td>\n",
       "            <td>千葉県</td>\n",
       "            <td>6275000</td>\n",
       "            <td>R12000</td>\n",
       "            <td>千葉県</td>\n",
       "            <td>42.0</td>\n",
       "            <td>67.4</td>\n",
       "            <td>87.0</td>\n",
       "            <td>14.9</td>\n",
       "            <td>47.9</td>\n",
       "        </tr>\n",
       "        <tr>\n",
       "            <td>R01000</td>\n",
       "            <td>北海道</td>\n",
       "            <td>5183000</td>\n",
       "            <td>R01000</td>\n",
       "            <td>北海道</td>\n",
       "            <td>35.0</td>\n",
       "            <td>62.2</td>\n",
       "            <td>85.4</td>\n",
       "            <td>16.3</td>\n",
       "            <td>51.0</td>\n",
       "        </tr>\n",
       "    </tbody>\n",
       "</table>"
      ],
      "text/plain": [
       "+------------+----------+----------+--------------+------------+----------------------+----------+----------+--------------+------------+\n",
       "| 地域コード | 都道府県 |  総人口  | 地域コード_1 | 都道府県_1 | 学習・自己啓発・訓練 | スポーツ | 趣味娯楽 | ボランティア | 旅行・行楽 |\n",
       "+------------+----------+----------+--------------+------------+----------------------+----------+----------+--------------+------------+\n",
       "|   R13000   |  東京都  | 14010000 |    R13000    |   東京都   |         52.8         |   74.5   |   91.4   |     15.5     |    55.5    |\n",
       "|   R27000   |  大阪府  | 8806000  |    R27000    |   大阪府   |         41.3         |   66.1   |   86.7   |     14.5     |    51.9    |\n",
       "|   R23000   |  愛知県  | 7517000  |    R23000    |   愛知県   |         39.0         |   68.8   |   89.3   |     16.6     |    57.6    |\n",
       "|   R14000   | 神奈川県 | 9236000  |    R14000    |  神奈川県  |         46.7         |   71.8   |   89.2   |     17.0     |    54.5    |\n",
       "|   R28000   |  兵庫県  | 5432000  |    R28000    |   兵庫県   |         39.5         |   66.4   |   85.4   |     17.7     |    51.6    |\n",
       "|   R40000   |  福岡県  | 5124000  |    R40000    |   福岡県   |         37.7         |   67.0   |   85.8   |     19.1     |    52.3    |\n",
       "|   R11000   |  埼玉県  | 7340000  |    R11000    |   埼玉県   |         40.0         |   69.3   |   88.4   |     15.6     |    51.5    |\n",
       "|   R12000   |  千葉県  | 6275000  |    R12000    |   千葉県   |         42.0         |   67.4   |   87.0   |     14.9     |    47.9    |\n",
       "|   R01000   |  北海道  | 5183000  |    R01000    |   北海道   |         35.0         |   62.2   |   85.4   |     16.3     |    51.0    |\n",
       "+------------+----------+----------+--------------+------------+----------------------+----------+----------+--------------+------------+"
      ]
     },
     "execution_count": 17,
     "metadata": {},
     "output_type": "execute_result"
    }
   ],
   "source": [
    "%%sql\n",
    "\n",
    "SELECT\n",
    "    *\n",
    "FROM\n",
    "    university_student_population_top10, activity\n",
    "WHERE\n",
    "    --- 「テーブル名.都道府県」とすることで，どのテーブルの「都道府県」を参照したいかを明示\n",
    "    university_student_population_top10.都道府県 = activity.都道府県; "
   ]
  },
  {
   "cell_type": "markdown",
   "id": "8361f4c8-0717-4c90-a5ac-db5d84949f05",
   "metadata": {
    "editable": true,
    "slideshow": {
     "slide_type": ""
    },
    "tags": []
   },
   "source": [
    "```{warning}\n",
    "#### 複数のテーブルを参照するときの注意点\n",
    "複数のテーブルに同一の列名が存在する際，SQL文内で列名だけを指定すると，どのテーブルの列を参照しているのかが明確でないためエラーが発生する．\n",
    "これを防ぐために，複数のテーブルを参照するときには，列名の前に`テーブル名.`をつけて列を参照するテーブル名を明確化すること．\n",
    "```"
   ]
  },
  {
   "cell_type": "markdown",
   "id": "a21f23a8-c344-427f-aca3-3eaa72ea51b6",
   "metadata": {
    "editable": true,
    "slideshow": {
     "slide_type": ""
    },
    "tags": []
   },
   "source": [
    "### 内部結合（INNER JOIN）"
   ]
  },
  {
   "cell_type": "markdown",
   "id": "0a3af07c-bbae-4793-b311-f033f87313ae",
   "metadata": {
    "editable": true,
    "slideshow": {
     "slide_type": ""
    },
    "tags": []
   },
   "source": [
    "**内部結合（inner join）** は，2つのテーブルにおいて指定した列の値同士が一致するレコードのみを結合して抽出する操作である．\n",
    "通常，結合あるいはジョインという時は内部結合を指す．\n",
    "テーブルAにテーブルBを内部結合するためのSQL文は\n",
    "1. `FROM A`の後で`INNER JOIN B`（あるいは省略して`JOIN B`）と書き，\n",
    "2. `INNER JOIN B`の後に2つのテーブルの結合条件を`ON`句で指定する\n",
    "\n",
    "というフォーマットになる．\n",
    "\n",
    "例えば，前節「直積」で扱った，\n",
    "- 大学学生数が多い上位10の都道府県名が格納された`university_student_population_top10`テーブル，\n",
    "- 「学習・自己啓発・訓練」など，いくつかの活動について過去1年以内に活動したことのある人の割合（％）が都道府県別にまとめられている`activity`テーブル\n",
    "\n",
    "の2テーブルについて「都道府県名」で内部結合をしてみよう．"
   ]
  },
  {
   "cell_type": "markdown",
   "id": "891c516a-74c1-4b36-a9e6-2fc84a31d0fb",
   "metadata": {
    "editable": true,
    "slideshow": {
     "slide_type": ""
    },
    "tags": []
   },
   "source": [
    "```sql\n",
    "SELECT\n",
    "    --- 「テーブル名.*」 で「そのテーブルにあるすべての列」を意味する\n",
    "    university_student_population_top10.*, \n",
    "    --- 「テーブル名.*」でなく，「テーブル名.列名」と書くと，\n",
    "    --- 該当テーブルの特定の列の情報だけを参照可能\n",
    "    activity.学習・自己啓発・訓練\n",
    "FROM\n",
    "    university_student_population_top10\n",
    "    INNER JOIN\n",
    "        activity\n",
    "    ON\n",
    "        university_student_population_top10.都道府県 = activity.都道府県; \n",
    "```"
   ]
  },
  {
   "cell_type": "code",
   "execution_count": 18,
   "id": "516b65b1-df3d-4052-97ab-cb4855709c67",
   "metadata": {
    "editable": true,
    "slideshow": {
     "slide_type": ""
    },
    "tags": [
     "remove-input"
    ]
   },
   "outputs": [
    {
     "data": {
      "text/html": [
       "<table>\n",
       "    <thead>\n",
       "        <tr>\n",
       "            <th>地域コード</th>\n",
       "            <th>都道府県</th>\n",
       "            <th>総人口</th>\n",
       "            <th>学習・自己啓発・訓練</th>\n",
       "        </tr>\n",
       "    </thead>\n",
       "    <tbody>\n",
       "        <tr>\n",
       "            <td>R13000</td>\n",
       "            <td>東京都</td>\n",
       "            <td>14010000</td>\n",
       "            <td>52.8</td>\n",
       "        </tr>\n",
       "        <tr>\n",
       "            <td>R27000</td>\n",
       "            <td>大阪府</td>\n",
       "            <td>8806000</td>\n",
       "            <td>41.3</td>\n",
       "        </tr>\n",
       "        <tr>\n",
       "            <td>R23000</td>\n",
       "            <td>愛知県</td>\n",
       "            <td>7517000</td>\n",
       "            <td>39.0</td>\n",
       "        </tr>\n",
       "        <tr>\n",
       "            <td>R14000</td>\n",
       "            <td>神奈川県</td>\n",
       "            <td>9236000</td>\n",
       "            <td>46.7</td>\n",
       "        </tr>\n",
       "        <tr>\n",
       "            <td>R28000</td>\n",
       "            <td>兵庫県</td>\n",
       "            <td>5432000</td>\n",
       "            <td>39.5</td>\n",
       "        </tr>\n",
       "        <tr>\n",
       "            <td>R40000</td>\n",
       "            <td>福岡県</td>\n",
       "            <td>5124000</td>\n",
       "            <td>37.7</td>\n",
       "        </tr>\n",
       "        <tr>\n",
       "            <td>R11000</td>\n",
       "            <td>埼玉県</td>\n",
       "            <td>7340000</td>\n",
       "            <td>40.0</td>\n",
       "        </tr>\n",
       "        <tr>\n",
       "            <td>R12000</td>\n",
       "            <td>千葉県</td>\n",
       "            <td>6275000</td>\n",
       "            <td>42.0</td>\n",
       "        </tr>\n",
       "        <tr>\n",
       "            <td>R01000</td>\n",
       "            <td>北海道</td>\n",
       "            <td>5183000</td>\n",
       "            <td>35.0</td>\n",
       "        </tr>\n",
       "    </tbody>\n",
       "</table>"
      ],
      "text/plain": [
       "+------------+----------+----------+----------------------+\n",
       "| 地域コード | 都道府県 |  総人口  | 学習・自己啓発・訓練 |\n",
       "+------------+----------+----------+----------------------+\n",
       "|   R13000   |  東京都  | 14010000 |         52.8         |\n",
       "|   R27000   |  大阪府  | 8806000  |         41.3         |\n",
       "|   R23000   |  愛知県  | 7517000  |         39.0         |\n",
       "|   R14000   | 神奈川県 | 9236000  |         46.7         |\n",
       "|   R28000   |  兵庫県  | 5432000  |         39.5         |\n",
       "|   R40000   |  福岡県  | 5124000  |         37.7         |\n",
       "|   R11000   |  埼玉県  | 7340000  |         40.0         |\n",
       "|   R12000   |  千葉県  | 6275000  |         42.0         |\n",
       "|   R01000   |  北海道  | 5183000  |         35.0         |\n",
       "+------------+----------+----------+----------------------+"
      ]
     },
     "execution_count": 18,
     "metadata": {},
     "output_type": "execute_result"
    }
   ],
   "source": [
    "%%sql\n",
    "\n",
    "SELECT\n",
    "    --- 「テーブル名.*」 で「そのテーブルにあるすべての列」を意味する\n",
    "    university_student_population_top10.*, \n",
    "    --- 「テーブル名.*」でなく，「テーブル名.列名」と書くと，\n",
    "    --- 該当テーブルの特定の列の情報だけを参照可能\n",
    "    activity.学習・自己啓発・訓練\n",
    "FROM\n",
    "    university_student_population_top10\n",
    "    INNER JOIN\n",
    "        activity\n",
    "    ON\n",
    "        university_student_population_top10.都道府県 = activity.都道府県; "
   ]
  },
  {
   "cell_type": "markdown",
   "id": "009943b8-69e9-43b4-b078-797705fa3e59",
   "metadata": {
    "editable": true,
    "slideshow": {
     "slide_type": ""
    },
    "tags": []
   },
   "source": [
    "前節のSQL文と似たような結果が出力されたが，処理手順は異なる．\n",
    "前節のSQL文はいったん直積ですべての組み合わせを求めた後，都道府県名が一致するものを調べて結果を表示している．\n",
    "これに対し，内部結合を用いた上記SQL文では，`INNER JOIN`句で指定した条件を満たす組み合わせのみを抽出し，その後それをすべて選択（表示）するという順で処理を行っている（[★Quiz4★](#sql2-q4)，[★Quiz5★](#sql2-q5)）．"
   ]
  },
  {
   "cell_type": "markdown",
   "id": "722440fa-3662-4a69-a3a9-467fbf2bb10f",
   "metadata": {
    "editable": true,
    "slideshow": {
     "slide_type": ""
    },
    "tags": []
   },
   "source": [
    "````{tip}\n",
    "#### USING句を使った省略記法\n",
    "2つのテーブルを内部結合する際，結合するテーブルの列名が等しい（同じ列名で結合する）場合は，以下のように`ON`句の代わりに`USING`句を使って簡単に書くことができる．\n",
    "以下は上記SQL文を`USING`句を使って書き換えたものである．\n",
    "\n",
    "```sql\n",
    "SELECT\n",
    "    university_student_population_top10.*, \n",
    "    activity.学習・自己啓発・訓練\n",
    "FROM\n",
    "    university_student_population_top10\n",
    "    INNER JOIN\n",
    "        activity\n",
    "    USING(都道府県); \n",
    "```\n",
    "````"
   ]
  },
  {
   "cell_type": "markdown",
   "id": "10d9cd7d-4772-4359-a8fe-296abcb995ef",
   "metadata": {
    "editable": true,
    "slideshow": {
     "slide_type": ""
    },
    "tags": []
   },
   "source": [
    "（後述する外部結合も含めて）`JOIN`句と`WHERE`句を組み合わせる際には，`JOIN`が行われる順序を意識することが重要となる．\n",
    "例えば，先の内部結合の例題において「総人口が700万以上の都道府県に限定」したいとしよう．\n",
    "そのような場合，以下のように`JOIN`句の後に`WHERE`句で選択条件を指定する．\n",
    "こうすることで，`JOIN`句で特定の条件でテーブルを結合した後，`WHERE`句で結合結果を絞り込むことができる．\n"
   ]
  },
  {
   "cell_type": "markdown",
   "id": "d5a3fb0d-f5ac-4c0c-b322-18741e0814a1",
   "metadata": {
    "editable": true,
    "slideshow": {
     "slide_type": ""
    },
    "tags": []
   },
   "source": [
    "```sql\n",
    "SELECT\n",
    "    university_student_population_top10.*, \n",
    "    activity.学習・自己啓発・訓練\n",
    "FROM\n",
    "    university_student_population_top10\n",
    "    INNER JOIN\n",
    "        activity\n",
    "    ON\n",
    "        university_student_population_top10.都道府県 = activity.都道府県\n",
    "WHERE\n",
    "    university_student_population_top10.総人口 >= 7000000; \n",
    "```"
   ]
  },
  {
   "cell_type": "code",
   "execution_count": 19,
   "id": "e235e5ce-36c4-49d0-8dab-99a07518a7bd",
   "metadata": {
    "editable": true,
    "slideshow": {
     "slide_type": ""
    },
    "tags": [
     "remove-input"
    ]
   },
   "outputs": [
    {
     "data": {
      "text/html": [
       "<table>\n",
       "    <thead>\n",
       "        <tr>\n",
       "            <th>地域コード</th>\n",
       "            <th>都道府県</th>\n",
       "            <th>総人口</th>\n",
       "            <th>学習・自己啓発・訓練</th>\n",
       "        </tr>\n",
       "    </thead>\n",
       "    <tbody>\n",
       "        <tr>\n",
       "            <td>R13000</td>\n",
       "            <td>東京都</td>\n",
       "            <td>14010000</td>\n",
       "            <td>52.8</td>\n",
       "        </tr>\n",
       "        <tr>\n",
       "            <td>R27000</td>\n",
       "            <td>大阪府</td>\n",
       "            <td>8806000</td>\n",
       "            <td>41.3</td>\n",
       "        </tr>\n",
       "        <tr>\n",
       "            <td>R23000</td>\n",
       "            <td>愛知県</td>\n",
       "            <td>7517000</td>\n",
       "            <td>39.0</td>\n",
       "        </tr>\n",
       "        <tr>\n",
       "            <td>R14000</td>\n",
       "            <td>神奈川県</td>\n",
       "            <td>9236000</td>\n",
       "            <td>46.7</td>\n",
       "        </tr>\n",
       "        <tr>\n",
       "            <td>R11000</td>\n",
       "            <td>埼玉県</td>\n",
       "            <td>7340000</td>\n",
       "            <td>40.0</td>\n",
       "        </tr>\n",
       "    </tbody>\n",
       "</table>"
      ],
      "text/plain": [
       "+------------+----------+----------+----------------------+\n",
       "| 地域コード | 都道府県 |  総人口  | 学習・自己啓発・訓練 |\n",
       "+------------+----------+----------+----------------------+\n",
       "|   R13000   |  東京都  | 14010000 |         52.8         |\n",
       "|   R27000   |  大阪府  | 8806000  |         41.3         |\n",
       "|   R23000   |  愛知県  | 7517000  |         39.0         |\n",
       "|   R14000   | 神奈川県 | 9236000  |         46.7         |\n",
       "|   R11000   |  埼玉県  | 7340000  |         40.0         |\n",
       "+------------+----------+----------+----------------------+"
      ]
     },
     "execution_count": 19,
     "metadata": {},
     "output_type": "execute_result"
    }
   ],
   "source": [
    "%%sql\n",
    "\n",
    "SELECT\n",
    "    university_student_population_top10.*, \n",
    "    activity.学習・自己啓発・訓練\n",
    "FROM\n",
    "    university_student_population_top10\n",
    "    INNER JOIN\n",
    "        activity\n",
    "    ON\n",
    "        university_student_population_top10.都道府県 = activity.都道府県\n",
    "WHERE\n",
    "    university_student_population_top10.総人口 >= 7000000;"
   ]
  },
  {
   "cell_type": "markdown",
   "id": "87f17f6e-9bc6-49bf-97e1-6905d22b1011",
   "metadata": {
    "editable": true,
    "slideshow": {
     "slide_type": ""
    },
    "tags": []
   },
   "source": [
    "````{tip}\n",
    "#### AS修飾句\n",
    "\n",
    "長たらしいテーブル名，列名を繰り返し使うのは面倒である．\n",
    "また紛らわしいテーブル名，列名は混乱の元である．\n",
    "`AS`修飾句を使うことで，テーブル名や列名に別名を与えることができる．\n",
    "\n",
    "```sql\n",
    "SELECT\n",
    "    university_student_population_top10.*,\n",
    "    --- 列名に別名「学習・自己鍛錬」を与える\n",
    "    activity.学習・自己啓発・訓練 AS 学習・自己鍛錬\n",
    "FROM\n",
    "    ---テーブルに別名populationを与える\n",
    "    university_student_population_top10 AS u_population \n",
    "    INNER JOIN\n",
    "        activity\n",
    "    ON\n",
    "        u_population.都道府県 = activity.都道府県 --- 別名でテーブルを参照\n",
    "WHERE\n",
    "    u_population.総人口 >= 7000000; ---  別名でテーブルを参照\n",
    "```\n",
    "````"
   ]
  },
  {
   "cell_type": "markdown",
   "id": "82bb0d0a-76cb-4e57-b64c-40e943e57fb4",
   "metadata": {
    "editable": true,
    "slideshow": {
     "slide_type": ""
    },
    "tags": []
   },
   "source": [
    "### 外部結合（OUTER JOIN）"
   ]
  },
  {
   "cell_type": "markdown",
   "id": "36481d49-a8ad-471d-aece-5624ce864c41",
   "metadata": {
    "editable": true,
    "slideshow": {
     "slide_type": ""
    },
    "tags": []
   },
   "source": [
    "[内部結合]()は，片方のテーブル$R_1$にあるレコード$r$に対して，もう片方のテーブル$R_2$のレコードに結合条件を満たす列データがあるときに限ってレコード同士を結合し，その結果を表示するものであった．\n",
    "このことは，結合条件を満たすレコードがもう片方のテーブル$R_2$にない場合は$r$は**無視される**ことを意味する．\n",
    "\n",
    "実は例題に用いた`activity`テーブルには「京都府」に関するレコードがない（授業用にデータを用意するときに含めないようにしていた）．\n",
    "そのため，内部結合の例題では`university_student_population_top10`テーブルと`activity`テーブルを内部結合すると，「京都府」に関するレコードが結合結果に残らない（表示されない）のである．\n",
    "\n",
    "このような挙動をする内部結合に対して，結合条件を満たさないレコードがあった時でもそのことを示す情報を付与したレコードを残しつつ，テーブル同士を結合する演算が**外部結合（outer join）** である．\n",
    "外部結合では，結合条件を満たさないレコードがあった場合，値が存在しない列に**NULL値（ヌル値）** と呼ばれる「値がないこと」を示す情報を入れて結果を出力する．\n",
    "\n",
    "テーブルAにテーブルBを外部結合するためのSQL文は\n",
    "1. `FROM A`の後で`LEFT OUTER JOIN B`と書き，\n",
    "2. `LEFT OUTER JOIN B`の後に2つのテーブルの結合条件を`ON`句で指定する\n",
    "\n",
    "というフォーマットになる．\n",
    "\n",
    "例を見てみよう．\n",
    "以下は，内部結合の節で導入した1つ目のSQL文を外部結合に書き換えたものである．"
   ]
  },
  {
   "cell_type": "markdown",
   "id": "720d1217-eff7-471d-9bdc-697efdfa763f",
   "metadata": {
    "editable": true,
    "slideshow": {
     "slide_type": ""
    },
    "tags": []
   },
   "source": [
    "```sql\n",
    "SELECT\n",
    "    university_student_population_top10.*, \n",
    "    activity.学習・自己啓発・訓練\n",
    "FROM\n",
    "    university_student_population_top10\n",
    "    LEFT OUTER JOIN --- （左）外部結合に書き換え\n",
    "        activity\n",
    "    ON\n",
    "        university_student_population_top10.都道府県 = activity.都道府県; \n",
    "```"
   ]
  },
  {
   "cell_type": "code",
   "execution_count": 20,
   "id": "78405537-1851-4a09-98bf-8a57c26f5c2e",
   "metadata": {
    "editable": true,
    "slideshow": {
     "slide_type": ""
    },
    "tags": [
     "remove-input"
    ]
   },
   "outputs": [
    {
     "data": {
      "text/html": [
       "<table>\n",
       "    <thead>\n",
       "        <tr>\n",
       "            <th>地域コード</th>\n",
       "            <th>都道府県</th>\n",
       "            <th>総人口</th>\n",
       "            <th>学習・自己啓発・訓練</th>\n",
       "        </tr>\n",
       "    </thead>\n",
       "    <tbody>\n",
       "        <tr>\n",
       "            <td>R13000</td>\n",
       "            <td>東京都</td>\n",
       "            <td>14010000</td>\n",
       "            <td>52.8</td>\n",
       "        </tr>\n",
       "        <tr>\n",
       "            <td>R27000</td>\n",
       "            <td>大阪府</td>\n",
       "            <td>8806000</td>\n",
       "            <td>41.3</td>\n",
       "        </tr>\n",
       "        <tr>\n",
       "            <td>R23000</td>\n",
       "            <td>愛知県</td>\n",
       "            <td>7517000</td>\n",
       "            <td>39.0</td>\n",
       "        </tr>\n",
       "        <tr>\n",
       "            <td>R14000</td>\n",
       "            <td>神奈川県</td>\n",
       "            <td>9236000</td>\n",
       "            <td>46.7</td>\n",
       "        </tr>\n",
       "        <tr>\n",
       "            <td>R26000</td>\n",
       "            <td>京都府</td>\n",
       "            <td>2561000</td>\n",
       "            <td>None</td>\n",
       "        </tr>\n",
       "        <tr>\n",
       "            <td>R28000</td>\n",
       "            <td>兵庫県</td>\n",
       "            <td>5432000</td>\n",
       "            <td>39.5</td>\n",
       "        </tr>\n",
       "        <tr>\n",
       "            <td>R40000</td>\n",
       "            <td>福岡県</td>\n",
       "            <td>5124000</td>\n",
       "            <td>37.7</td>\n",
       "        </tr>\n",
       "        <tr>\n",
       "            <td>R11000</td>\n",
       "            <td>埼玉県</td>\n",
       "            <td>7340000</td>\n",
       "            <td>40.0</td>\n",
       "        </tr>\n",
       "        <tr>\n",
       "            <td>R12000</td>\n",
       "            <td>千葉県</td>\n",
       "            <td>6275000</td>\n",
       "            <td>42.0</td>\n",
       "        </tr>\n",
       "        <tr>\n",
       "            <td>R01000</td>\n",
       "            <td>北海道</td>\n",
       "            <td>5183000</td>\n",
       "            <td>35.0</td>\n",
       "        </tr>\n",
       "    </tbody>\n",
       "</table>"
      ],
      "text/plain": [
       "+------------+----------+----------+----------------------+\n",
       "| 地域コード | 都道府県 |  総人口  | 学習・自己啓発・訓練 |\n",
       "+------------+----------+----------+----------------------+\n",
       "|   R13000   |  東京都  | 14010000 |         52.8         |\n",
       "|   R27000   |  大阪府  | 8806000  |         41.3         |\n",
       "|   R23000   |  愛知県  | 7517000  |         39.0         |\n",
       "|   R14000   | 神奈川県 | 9236000  |         46.7         |\n",
       "|   R26000   |  京都府  | 2561000  |         None         |\n",
       "|   R28000   |  兵庫県  | 5432000  |         39.5         |\n",
       "|   R40000   |  福岡県  | 5124000  |         37.7         |\n",
       "|   R11000   |  埼玉県  | 7340000  |         40.0         |\n",
       "|   R12000   |  千葉県  | 6275000  |         42.0         |\n",
       "|   R01000   |  北海道  | 5183000  |         35.0         |\n",
       "+------------+----------+----------+----------------------+"
      ]
     },
     "execution_count": 20,
     "metadata": {},
     "output_type": "execute_result"
    }
   ],
   "source": [
    "%%sql\n",
    "    \n",
    "SELECT\n",
    "    university_student_population_top10.*, \n",
    "    activity.学習・自己啓発・訓練\n",
    "FROM\n",
    "    university_student_population_top10\n",
    "    LEFT OUTER JOIN --- （左）外部結合に書き換え\n",
    "        activity\n",
    "    ON\n",
    "        university_student_population_top10.都道府県 = activity.都道府県; "
   ]
  },
  {
   "cell_type": "markdown",
   "id": "dbeb469d-14be-437c-a2c2-97f5e86481cf",
   "metadata": {
    "editable": true,
    "slideshow": {
     "slide_type": ""
    },
    "tags": []
   },
   "source": [
    "内部結合の例題とは異なり，「京都府」に関するレコードが表示され，「学習・自己啓発・訓練」列の値が`NULL`になっていることが分かる（上記結果ではNULLが`None`と表示されているが，`NULL`と読み替えてほしい）．\n",
    "外部結合は結合条件を満たすレコードがなかったとしても，それを把握したいときなどに利用できる．\n",
    "\n",
    "なお，上記の例題からも分かるように，外部結合には**左外部結合（left outer join）** と**右外部結合（right outer join）**，および**完全外部結合（full outer join）** の3種類が存在する．\n",
    "左外部結合が結合対象の左テーブルのレコードを全て残すのに対して，\n",
    "* 右外部結合は（結合条件を満たさなかった場合でも）結合対象の右テーブルのレコードを全て残し，\n",
    "* 完全外部結合は（結合条件を満たさなかった場合でも）左右両方のテーブルのレコードを全て残す\n",
    "\n",
    "演算となる．\n",
    "まずは左外部結合をマスターしよう（[★Quiz6★](#sql2-q6)，[★Quiz7★](#sql2-q7)）．"
   ]
  },
  {
   "cell_type": "markdown",
   "id": "d32a7289-d1d1-47bc-842a-64683084579d",
   "metadata": {
    "editable": true,
    "slideshow": {
     "slide_type": ""
    },
    "tags": []
   },
   "source": [
    "```{note}\n",
    "#### NULLと空文字は異なる\n",
    "NULLは値が存在しないことを意味する情報である．\n",
    "文字列が入ることが想定される列にNULL値が入っている場合は「その列には何らかの理由で値が設定されなかった」ことを意味する．\n",
    "一方，空文字（`''`）は長さが0の文字列である．\n",
    "もし文字列が入ることが想定される列に空文字が入っている場合は「意図を持って文字がないことを示すために空文字が入れられた」ことを意味する．SQLではNULLと空文字と厳格に区別しているため，扱いには注意しよう．\n",
    "```\n",
    "\n",
    "---"
   ]
  },
  {
   "cell_type": "markdown",
   "id": "4139a299-0219-47ae-b3ad-0934206d3145",
   "metadata": {
    "editable": true,
    "slideshow": {
     "slide_type": ""
    },
    "tags": []
   },
   "source": [
    "## クイズ"
   ]
  },
  {
   "cell_type": "markdown",
   "id": "6cb20823-0fb5-4f2c-997d-a50548ea87fd",
   "metadata": {
    "editable": true,
    "slideshow": {
     "slide_type": ""
    },
    "tags": []
   },
   "source": [
    "本クイズでは，独立行政法人統計センターが公開している教育用標準データセット（SSDSE）の[基本素材SSDSE-E](https://www.nstac.go.jp/use/literacy/ssdse/#SSDSE-E)（データの解説は[こちら](https://www.nstac.go.jp/sys/files/kaisetsu-E-2023.pdf)）および[市区町村（SSDSE-A）](https://www.nstac.go.jp/use/literacy/ssdse/#SSDSE-A)から抜粋・加工したデータを用いる．\n",
    "                                                          \n",
    "- `population`テーブルの内容については前章\n",
    "- `university_student_population_top10`テーブルの内容については[コチラ](#sql2-db2)\n",
    "- `activity`テーブルの内容については[コチラ](#sql2-db3)                                                           \n",
    "\n",
    "を参照せよ．\n",
    "    \n",
    "なお，データをダウンロードしていない者は，以下のコードを実行してデータをダウンロードしてからクイズに取り組むこと．"
   ]
  },
  {
   "cell_type": "code",
   "execution_count": 21,
   "id": "1849bb61-ac44-47d3-ad99-849a86df3271",
   "metadata": {
    "editable": true,
    "slideshow": {
     "slide_type": ""
    },
    "tags": [
     "remove-output"
    ]
   },
   "outputs": [
    {
     "name": "stdout",
     "output_type": "stream",
     "text": [
      "The sql extension is already loaded. To reload it, use:\n",
      "  %reload_ext sql\n"
     ]
    }
   ],
   "source": [
    "import os\n",
    "\n",
    "if not os.path.isfile('data/SSDSE.db'):\n",
    "    os.makedirs('data', exist_ok=True)\n",
    "\n",
    "    if not os.path.isfile('download_SSDSE.py'):\n",
    "        !wget https://raw.githubusercontent.com/hontolab-courses/database-lecturenote/main/content/sql/download_SSDSE.py\n",
    "        import download_SSDSE\n",
    "\n",
    "%load_ext sql\n",
    "%config SqlMagic.feedback = 0\n",
    "%sql sqlite:///data/SSDSE.db"
   ]
  },
  {
   "cell_type": "markdown",
   "id": "47957a6c-e9c0-40c6-b980-2e04c3b5b471",
   "metadata": {
    "editable": true,
    "slideshow": {
     "slide_type": ""
    },
    "tags": []
   },
   "source": [
    "(sql2-q1)=\n",
    "### Q1. 復習\n",
    "\n",
    "[前章](./01.ipynb)で用いた`population`テーブルにあるレコードのうち，大学学生数が`7万`以上かつ小学校児童数が`30万`以上の都道府県名を表示するSQL文を書け．\n",
    "なお，表示の際には都道府県名の重複は除くこと．\n"
   ]
  },
  {
   "cell_type": "code",
   "execution_count": 22,
   "id": "3411d0d1-654a-4eb9-a84b-e44b395d3869",
   "metadata": {
    "editable": true,
    "slideshow": {
     "slide_type": ""
    },
    "tags": []
   },
   "outputs": [],
   "source": [
    "%%sql\n",
    "\n"
   ]
  },
  {
   "cell_type": "markdown",
   "id": "4675ed06-292e-4189-8bc6-5bd04b8cf052",
   "metadata": {
    "editable": true,
    "slideshow": {
     "slide_type": ""
    },
    "tags": []
   },
   "source": [
    "(sql2-q2)=\n",
    "### Q2. 集合演算\n",
    "\n",
    "上記Q1と同様の内容を表示するSQL文を`INTERSECT`句を用いて書け．\n"
   ]
  },
  {
   "cell_type": "code",
   "execution_count": 23,
   "id": "887f9dfb-ad9f-469c-9a02-a2c0df1b4211",
   "metadata": {
    "editable": true,
    "slideshow": {
     "slide_type": ""
    },
    "tags": []
   },
   "outputs": [],
   "source": [
    "%%sql\n",
    "\n"
   ]
  },
  {
   "cell_type": "markdown",
   "id": "4539d3fb-85e0-44cc-ac1d-0e8250d425bf",
   "metadata": {
    "editable": true,
    "slideshow": {
     "slide_type": ""
    },
    "tags": []
   },
   "source": [
    "(sql2-q3)=\n",
    "### Q3. 直積\n",
    "\n",
    "`population`テーブルと`activity`テーブルの直積を求めるSQL文を書け．"
   ]
  },
  {
   "cell_type": "code",
   "execution_count": 24,
   "id": "2f87478b-2917-4881-99e9-36130090960c",
   "metadata": {
    "editable": true,
    "slideshow": {
     "slide_type": ""
    },
    "tags": []
   },
   "outputs": [],
   "source": [
    "%%sql\n",
    "\n"
   ]
  },
  {
   "cell_type": "markdown",
   "id": "3db1f7df-8416-400b-8978-8d21dd0ff00a",
   "metadata": {
    "editable": true,
    "slideshow": {
     "slide_type": ""
    },
    "tags": []
   },
   "source": [
    "(sql2-q4)=\n",
    "### Q4. 内部結合\n",
    "\n",
    "`population`テーブルと`activity`テーブルをフィールド「地域コード」で内部結合を行うSQL文を書け．\n",
    "ただし，結果表示時には重複するフィールド（すなわち「地域コード」「都道府県名」）は除くこと．"
   ]
  },
  {
   "cell_type": "code",
   "execution_count": 25,
   "id": "ad68cb69-0451-455f-8f46-1a0799d3cc10",
   "metadata": {
    "editable": true,
    "slideshow": {
     "slide_type": ""
    },
    "tags": []
   },
   "outputs": [],
   "source": [
    "%%sql\n",
    "\n"
   ]
  },
  {
   "cell_type": "markdown",
   "id": "7061b65e-738b-4bc8-8281-ca7a2d1263f7",
   "metadata": {
    "editable": true,
    "slideshow": {
     "slide_type": ""
    },
    "tags": []
   },
   "source": [
    "(sql2-q5)=\n",
    "### Q5. 直積再び\n",
    "\n",
    "上記Q4と同様の内容を表示するSQL文を`JOIN`を用いずに書け．"
   ]
  },
  {
   "cell_type": "code",
   "execution_count": 26,
   "id": "3f526c39-f13c-435c-b32f-9d491d4d8a62",
   "metadata": {
    "editable": true,
    "slideshow": {
     "slide_type": ""
    },
    "tags": []
   },
   "outputs": [],
   "source": [
    "%%sql\n",
    "\n"
   ]
  },
  {
   "cell_type": "markdown",
   "id": "04540e69-6d5b-4552-b065-220ff8a6bb21",
   "metadata": {
    "editable": true,
    "slideshow": {
     "slide_type": ""
    },
    "tags": []
   },
   "source": [
    "(sql2-q6)=\n",
    "### Q6. 外部結合（1/2）\n",
    "\n",
    "`university_student_population_top10`テーブルに対して「地域コード」を用いて`activity`テーブルを左外部結合せよ．"
   ]
  },
  {
   "cell_type": "code",
   "execution_count": 27,
   "id": "207adcde-3f78-46b0-be51-d59eaa126555",
   "metadata": {
    "editable": true,
    "slideshow": {
     "slide_type": ""
    },
    "tags": []
   },
   "outputs": [],
   "source": [
    "%%sql\n",
    "\n"
   ]
  },
  {
   "cell_type": "markdown",
   "id": "09fe6198-f8ce-4bcf-a59e-bd4be2951f16",
   "metadata": {
    "editable": true,
    "slideshow": {
     "slide_type": ""
    },
    "tags": []
   },
   "source": [
    "(sql2-q7)=\n",
    "### Q7. 外部結合（2/2）\n",
    "\n",
    "`university_student_population_top10`テーブルに対して「地域コード」を用いて`activity`テーブルを右外部結合せよ．"
   ]
  },
  {
   "cell_type": "code",
   "execution_count": 28,
   "id": "8c32c652-9692-4e35-bf03-2a2b51c413aa",
   "metadata": {
    "editable": true,
    "slideshow": {
     "slide_type": ""
    },
    "tags": []
   },
   "outputs": [],
   "source": [
    "%%sql\n",
    "\n"
   ]
  }
 ],
 "metadata": {
  "kernelspec": {
   "display_name": "Python 3 (ipykernel)",
   "language": "python",
   "name": "python3"
  },
  "language_info": {
   "codemirror_mode": {
    "name": "ipython",
    "version": 3
   },
   "file_extension": ".py",
   "mimetype": "text/x-python",
   "name": "python",
   "nbconvert_exporter": "python",
   "pygments_lexer": "ipython3",
   "version": "3.10.9"
  }
 },
 "nbformat": 4,
 "nbformat_minor": 5
}
