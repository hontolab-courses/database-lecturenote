{
 "cells": [
  {
   "cell_type": "markdown",
   "id": "d7a7d7f5-09f7-4259-b536-87e63a84ba68",
   "metadata": {},
   "source": [
    "# SQL演習"
   ]
  },
  {
   "cell_type": "markdown",
   "id": "22f16dfb-6a3a-41ee-bd2d-d217d559c38a",
   "metadata": {},
   "source": [
    "後日公開予定"
   ]
  }
 ],
 "metadata": {
  "kernelspec": {
   "display_name": "Python 3 (ipykernel)",
   "language": "python",
   "name": "python3"
  },
  "language_info": {
   "codemirror_mode": {
    "name": "ipython",
    "version": 3
   },
   "file_extension": ".py",
   "mimetype": "text/x-python",
   "name": "python",
   "nbconvert_exporter": "python",
   "pygments_lexer": "ipython3",
   "version": "3.10.13"
  }
 },
 "nbformat": 4,
 "nbformat_minor": 5
}
