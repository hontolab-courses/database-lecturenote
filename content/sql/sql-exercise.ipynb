{
 "cells": [
  {
   "cell_type": "markdown",
   "id": "d7a7d7f5-09f7-4259-b536-87e63a84ba68",
   "metadata": {
    "editable": true,
    "slideshow": {
     "slide_type": ""
    },
    "tags": []
   },
   "source": [
    "# SQL演習"
   ]
  },
  {
   "cell_type": "code",
   "execution_count": 1,
   "id": "1dce9b03-60a8-466b-a770-57d738767f93",
   "metadata": {
    "editable": true,
    "slideshow": {
     "slide_type": ""
    },
    "tags": [
     "remove-output",
     "hide-input"
    ]
   },
   "outputs": [],
   "source": [
    "import os\n",
    "\n",
    "# 演習で用いるデータのダウンロード\n",
    "if not os.path.isfile('data/virtual_store.db'):\n",
    "    os.makedirs('data', exist_ok=True)\n",
    "    !wget -P data https://github.com/hontolab-courses/database-lecturenote/raw/main/content/sql/data/virtual_store.db"
   ]
  },
  {
   "cell_type": "code",
   "execution_count": 2,
   "id": "baf3c827-8597-493b-a614-c742b361f8c8",
   "metadata": {
    "editable": true,
    "slideshow": {
     "slide_type": ""
    },
    "tags": [
     "remove-output",
     "hide-input"
    ]
   },
   "outputs": [
    {
     "name": "stdout",
     "output_type": "stream",
     "text": [
      "Deploy Shiny apps for free on Ploomber Cloud! Learn more: https://ploomber.io/s/signup\n"
     ]
    }
   ],
   "source": [
    "%load_ext sql\n",
    "%config SqlMagic.feedback = 0\n",
    "%sql sqlite:///data/virtual_store.db"
   ]
  },
  {
   "cell_type": "markdown",
   "id": "40d7e744-f55c-4995-883d-80fc02b78789",
   "metadata": {
    "editable": true,
    "slideshow": {
     "slide_type": ""
    },
    "tags": []
   },
   "source": [
    "本演習課題で用いるデータは，[データサイエンティスト協会](https://www.datascientist.or.jp)スキル定義委員の「[データサイエンス100本ノック（構造化データ加工編）](https://github.com/The-Japan-DataScientist-Society/100knocks-preprocess/tree/master)」で配布されているデータを，わたし山本がSQLite形式に変換したものです．\n",
    "下記のとおり，元データの著作権やライセンスは，MITライセンスに従います．\n",
    "\n",
    "> Copyright (c) 2020 The Japan DataScientist Society<br />\n",
    "> Released under the MIT license<br />\n",
    "> [https://raw.githubusercontent.com/The-Japan-DataScientist-Society/100knocks-preprocess/master/LICENSE](https://raw.githubusercontent.com/The-Japan-DataScientist-Society/100knocks-preprocess/master/LICENSE)"
   ]
  }
 ],
 "metadata": {
  "kernelspec": {
   "display_name": "Python 3 (ipykernel)",
   "language": "python",
   "name": "python3"
  },
  "language_info": {
   "codemirror_mode": {
    "name": "ipython",
    "version": 3
   },
   "file_extension": ".py",
   "mimetype": "text/x-python",
   "name": "python",
   "nbconvert_exporter": "python",
   "pygments_lexer": "ipython3",
   "version": "3.10.13"
  }
 },
 "nbformat": 4,
 "nbformat_minor": 5
}
