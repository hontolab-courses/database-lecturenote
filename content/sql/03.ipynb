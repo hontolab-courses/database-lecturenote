{
 "cells": [
  {
   "cell_type": "markdown",
   "id": "3354eded-2b56-42f8-a96e-3a960c5fac39",
   "metadata": {
    "editable": true,
    "slideshow": {
     "slide_type": ""
    },
    "tags": []
   },
   "source": [
    "# 副問い合わせ & テーブルの定義と更新"
   ]
  },
  {
   "cell_type": "code",
   "execution_count": 1,
   "id": "1a0767ce-ac39-4c04-bdb2-a4f3c60027b0",
   "metadata": {
    "editable": true,
    "slideshow": {
     "slide_type": ""
    },
    "tags": [
     "remove-output",
     "hide-input"
    ]
   },
   "outputs": [],
   "source": [
    "import os\n",
    "\n",
    "if not os.path.isfile('data/SSDSE.db'):\n",
    "    os.makedirs('data', exist_ok=True)\n",
    "\n",
    "    if not os.path.isfile('download_SSDSE.py'):\n",
    "        !wget https://raw.githubusercontent.com/hontolab-courses/database-lecturenote/main/content/sql/download_SSDSE.py\n",
    "        import download_SSDSE"
   ]
  },
  {
   "cell_type": "code",
   "execution_count": 2,
   "id": "86e931fa-c6b1-48d8-9a2e-5cd19f44da04",
   "metadata": {
    "editable": true,
    "slideshow": {
     "slide_type": ""
    },
    "tags": [
     "remove-output",
     "remove-input"
    ]
   },
   "outputs": [
    {
     "name": "stdout",
     "output_type": "stream",
     "text": [
      "Requirement already satisfied: jupysql in /Users/yamamoto/.anyenv/envs/pyenv/versions/3.10.13/lib/python3.10/site-packages (0.10.10)\n",
      "Requirement already satisfied: prettytable in /Users/yamamoto/.anyenv/envs/pyenv/versions/3.10.13/lib/python3.10/site-packages (from jupysql) (3.10.0)\n",
      "Requirement already satisfied: sqlalchemy in /Users/yamamoto/.anyenv/envs/pyenv/versions/3.10.13/lib/python3.10/site-packages (from jupysql) (2.0.29)\n",
      "Requirement already satisfied: sqlparse in /Users/yamamoto/.anyenv/envs/pyenv/versions/3.10.13/lib/python3.10/site-packages (from jupysql) (0.4.4)\n",
      "Requirement already satisfied: ipython-genutils>=0.1.0 in /Users/yamamoto/.anyenv/envs/pyenv/versions/3.10.13/lib/python3.10/site-packages (from jupysql) (0.2.0)\n",
      "Requirement already satisfied: jinja2 in /Users/yamamoto/.anyenv/envs/pyenv/versions/3.10.13/lib/python3.10/site-packages (from jupysql) (3.1.3)\n",
      "Requirement already satisfied: sqlglot>=11.3.7 in /Users/yamamoto/.anyenv/envs/pyenv/versions/3.10.13/lib/python3.10/site-packages (from jupysql) (23.6.3)\n",
      "Requirement already satisfied: jupysql-plugin>=0.4.2 in /Users/yamamoto/.anyenv/envs/pyenv/versions/3.10.13/lib/python3.10/site-packages (from jupysql) (0.4.3)\n",
      "Requirement already satisfied: ploomber-core>=0.2.7 in /Users/yamamoto/.anyenv/envs/pyenv/versions/3.10.13/lib/python3.10/site-packages (from jupysql) (0.2.25)\n",
      "Requirement already satisfied: ploomber-extension in /Users/yamamoto/.anyenv/envs/pyenv/versions/3.10.13/lib/python3.10/site-packages (from jupysql) (0.1.0)\n",
      "Requirement already satisfied: pyyaml in /Users/yamamoto/.anyenv/envs/pyenv/versions/3.10.13/lib/python3.10/site-packages (from ploomber-core>=0.2.7->jupysql) (6.0.1)\n",
      "Requirement already satisfied: posthog in /Users/yamamoto/.anyenv/envs/pyenv/versions/3.10.13/lib/python3.10/site-packages (from ploomber-core>=0.2.7->jupysql) (3.5.0)\n",
      "Requirement already satisfied: MarkupSafe>=2.0 in /Users/yamamoto/.anyenv/envs/pyenv/versions/3.10.13/lib/python3.10/site-packages (from jinja2->jupysql) (2.1.5)\n",
      "Requirement already satisfied: wcwidth in /Users/yamamoto/.anyenv/envs/pyenv/versions/3.10.13/lib/python3.10/site-packages (from prettytable->jupysql) (0.2.13)\n",
      "Requirement already satisfied: typing-extensions>=4.6.0 in /Users/yamamoto/.anyenv/envs/pyenv/versions/3.10.13/lib/python3.10/site-packages (from sqlalchemy->jupysql) (4.10.0)\n",
      "Requirement already satisfied: requests<3.0,>=2.7 in /Users/yamamoto/.anyenv/envs/pyenv/versions/3.10.13/lib/python3.10/site-packages (from posthog->ploomber-core>=0.2.7->jupysql) (2.31.0)\n",
      "Requirement already satisfied: six>=1.5 in /Users/yamamoto/.anyenv/envs/pyenv/versions/3.10.13/lib/python3.10/site-packages (from posthog->ploomber-core>=0.2.7->jupysql) (1.16.0)\n",
      "Requirement already satisfied: monotonic>=1.5 in /Users/yamamoto/.anyenv/envs/pyenv/versions/3.10.13/lib/python3.10/site-packages (from posthog->ploomber-core>=0.2.7->jupysql) (1.6)\n",
      "Requirement already satisfied: backoff>=1.10.0 in /Users/yamamoto/.anyenv/envs/pyenv/versions/3.10.13/lib/python3.10/site-packages (from posthog->ploomber-core>=0.2.7->jupysql) (2.2.1)\n",
      "Requirement already satisfied: python-dateutil>2.1 in /Users/yamamoto/.anyenv/envs/pyenv/versions/3.10.13/lib/python3.10/site-packages (from posthog->ploomber-core>=0.2.7->jupysql) (2.9.0.post0)\n",
      "Requirement already satisfied: charset-normalizer<4,>=2 in /Users/yamamoto/.anyenv/envs/pyenv/versions/3.10.13/lib/python3.10/site-packages (from requests<3.0,>=2.7->posthog->ploomber-core>=0.2.7->jupysql) (3.3.2)\n",
      "Requirement already satisfied: idna<4,>=2.5 in /Users/yamamoto/.anyenv/envs/pyenv/versions/3.10.13/lib/python3.10/site-packages (from requests<3.0,>=2.7->posthog->ploomber-core>=0.2.7->jupysql) (3.6)\n",
      "Requirement already satisfied: urllib3<3,>=1.21.1 in /Users/yamamoto/.anyenv/envs/pyenv/versions/3.10.13/lib/python3.10/site-packages (from requests<3.0,>=2.7->posthog->ploomber-core>=0.2.7->jupysql) (2.2.1)\n",
      "Requirement already satisfied: certifi>=2017.4.17 in /Users/yamamoto/.anyenv/envs/pyenv/versions/3.10.13/lib/python3.10/site-packages (from requests<3.0,>=2.7->posthog->ploomber-core>=0.2.7->jupysql) (2024.2.2)\n",
      "\u001b[33mWARNING: Error parsing requirements for pybind11: [Errno 2] No such file or directory: '/Users/yamamoto/.anyenv/envs/pyenv/versions/3.10.13/lib/python3.10/site-packages/pybind11-2.11.1.dist-info/METADATA'\u001b[0m\u001b[33m\n",
      "\u001b[0m"
     ]
    }
   ],
   "source": [
    "!pip install jupysql"
   ]
  },
  {
   "cell_type": "code",
   "execution_count": 3,
   "id": "56f36ffb-a5ea-445e-a8eb-48938ccb96d3",
   "metadata": {
    "editable": true,
    "slideshow": {
     "slide_type": ""
    },
    "tags": [
     "hide-input",
     "remove-output"
    ]
   },
   "outputs": [],
   "source": [
    "%load_ext sql\n",
    "%config SqlMagic.feedback = 0\n",
    "%config SqlMagic.displaylimit = 50\n",
    "%sql sqlite:///data/SSDSE.db"
   ]
  },
  {
   "cell_type": "markdown",
   "id": "e2ef8de8-971b-4e26-a765-9a247ff5a2cf",
   "metadata": {
    "editable": true,
    "slideshow": {
     "slide_type": ""
    },
    "tags": []
   },
   "source": [
    "前章，前々章同様，本章ではSQLの説明のために独立行政法人統計センターが公開している教育用標準データセット（SSDSE）の[基本素材SSDSE-E](https://www.nstac.go.jp/use/literacy/ssdse/#SSDSE-E)（データの解説は[こちら](https://www.nstac.go.jp/sys/files/kaisetsu-E-2023.pdf)）から抜粋・加工したデータ（`population`テーブル）を用いる．\n",
    "`population`テーブルには，47ある各都道府県に関する総人口，小学校児童数，中学校生徒数，高等学校生徒数，大学学生数のデータが2021年度，2020年度分入っている．\n",
    "このテーブルが格納された関係データベースが手元にあると想定して，SQLの使い方を説明する．"
   ]
  },
  {
   "cell_type": "markdown",
   "id": "18bbe080",
   "metadata": {
    "editable": true,
    "slideshow": {
     "slide_type": ""
    },
    "tags": []
   },
   "source": [
    "## 副問い合わせ"
   ]
  },
  {
   "cell_type": "markdown",
   "id": "ab5e8a9b-df30-4037-b3b0-b6178f081a02",
   "metadata": {
    "editable": true,
    "slideshow": {
     "slide_type": ""
    },
    "tags": []
   },
   "source": [
    "関係データベースへの問い合わせが複雑になってくると，SQLによる問い合わせ結果を使ってさらにSQL文を書きたいケースも発生する．\n",
    "このようなケースで役に立つのが**副問い合わせ（サブクエリ; subqueryと呼ぶことも）** である．\n",
    "副問い合わせを用いると，`FROM`句や`WHERE`句の中で`SELECT`文を書くことができ，SQL文の中で別のSQL文の実行結果を参照することができる．\n",
    "\n",
    "例題を通して副問い合わせの使い方を確認しよう．\n",
    "`population`テーブルを用いて\n",
    "1. 2021年度と2020年度の大学学生数の平均値を都道府県別に算出し，\n",
    "2. 平均大学生数の上位10の都道府県を表示する\n",
    "\n",
    "SQL文について考えたい．\n",
    "上記ステップ1だけを行うSQL文であれば，以下のようになる．"
   ]
  },
  {
   "cell_type": "markdown",
   "id": "56c31f4d-5730-4cf5-bb41-49cf7281c8fc",
   "metadata": {
    "editable": true,
    "slideshow": {
     "slide_type": ""
    },
    "tags": []
   },
   "source": [
    "```sql\n",
    "/* ステップ1だけを行うSQL文 */\n",
    "SELECT\n",
    "  地域コード,\n",
    "  都道府県,\n",
    "  AVG(大学学生数) AS 平均大学生数 --- 列名に名前をつける\n",
    "FROM\n",
    "  population\n",
    "GROUP BY\n",
    "  都道府県; \n",
    "```"
   ]
  },
  {
   "cell_type": "code",
   "execution_count": 4,
   "id": "f7c8bf92-587b-41a8-a710-aa972a504d2b",
   "metadata": {
    "editable": true,
    "slideshow": {
     "slide_type": ""
    },
    "tags": [
     "scroll-output",
     "remove-input"
    ]
   },
   "outputs": [
    {
     "data": {
      "text/html": [
       "<table>\n",
       "    <thead>\n",
       "        <tr>\n",
       "            <th>地域コード</th>\n",
       "            <th>都道府県</th>\n",
       "            <th>平均大学生数</th>\n",
       "        </tr>\n",
       "    </thead>\n",
       "    <tbody>\n",
       "        <tr>\n",
       "            <td>R24000</td>\n",
       "            <td>三重県</td>\n",
       "            <td>14063.0</td>\n",
       "        </tr>\n",
       "        <tr>\n",
       "            <td>R26000</td>\n",
       "            <td>京都府</td>\n",
       "            <td>142482.5</td>\n",
       "        </tr>\n",
       "        <tr>\n",
       "            <td>R41000</td>\n",
       "            <td>佐賀県</td>\n",
       "            <td>7758.5</td>\n",
       "        </tr>\n",
       "        <tr>\n",
       "            <td>R28000</td>\n",
       "            <td>兵庫県</td>\n",
       "            <td>115917.5</td>\n",
       "        </tr>\n",
       "        <tr>\n",
       "            <td>R01000</td>\n",
       "            <td>北海道</td>\n",
       "            <td>79569.0</td>\n",
       "        </tr>\n",
       "        <tr>\n",
       "            <td>R12000</td>\n",
       "            <td>千葉県</td>\n",
       "            <td>105451.5</td>\n",
       "        </tr>\n",
       "        <tr>\n",
       "            <td>R30000</td>\n",
       "            <td>和歌山県</td>\n",
       "            <td>7707.5</td>\n",
       "        </tr>\n",
       "        <tr>\n",
       "            <td>R11000</td>\n",
       "            <td>埼玉県</td>\n",
       "            <td>110676.0</td>\n",
       "        </tr>\n",
       "        <tr>\n",
       "            <td>R44000</td>\n",
       "            <td>大分県</td>\n",
       "            <td>15233.5</td>\n",
       "        </tr>\n",
       "        <tr>\n",
       "            <td>R27000</td>\n",
       "            <td>大阪府</td>\n",
       "            <td>227323.0</td>\n",
       "        </tr>\n",
       "        <tr>\n",
       "            <td>R29000</td>\n",
       "            <td>奈良県</td>\n",
       "            <td>20583.5</td>\n",
       "        </tr>\n",
       "        <tr>\n",
       "            <td>R04000</td>\n",
       "            <td>宮城県</td>\n",
       "            <td>49495.0</td>\n",
       "        </tr>\n",
       "        <tr>\n",
       "            <td>R45000</td>\n",
       "            <td>宮崎県</td>\n",
       "            <td>9830.0</td>\n",
       "        </tr>\n",
       "        <tr>\n",
       "            <td>R16000</td>\n",
       "            <td>富山県</td>\n",
       "            <td>10798.0</td>\n",
       "        </tr>\n",
       "        <tr>\n",
       "            <td>R35000</td>\n",
       "            <td>山口県</td>\n",
       "            <td>18486.5</td>\n",
       "        </tr>\n",
       "        <tr>\n",
       "            <td>R06000</td>\n",
       "            <td>山形県</td>\n",
       "            <td>11762.0</td>\n",
       "        </tr>\n",
       "        <tr>\n",
       "            <td>R19000</td>\n",
       "            <td>山梨県</td>\n",
       "            <td>16111.5</td>\n",
       "        </tr>\n",
       "        <tr>\n",
       "            <td>R21000</td>\n",
       "            <td>岐阜県</td>\n",
       "            <td>20006.0</td>\n",
       "        </tr>\n",
       "        <tr>\n",
       "            <td>R33000</td>\n",
       "            <td>岡山県</td>\n",
       "            <td>39209.0</td>\n",
       "        </tr>\n",
       "        <tr>\n",
       "            <td>R03000</td>\n",
       "            <td>岩手県</td>\n",
       "            <td>11414.5</td>\n",
       "        </tr>\n",
       "        <tr>\n",
       "            <td>R32000</td>\n",
       "            <td>島根県</td>\n",
       "            <td>7180.5</td>\n",
       "        </tr>\n",
       "        <tr>\n",
       "            <td>R34000</td>\n",
       "            <td>広島県</td>\n",
       "            <td>55569.5</td>\n",
       "        </tr>\n",
       "        <tr>\n",
       "            <td>R36000</td>\n",
       "            <td>徳島県</td>\n",
       "            <td>11814.0</td>\n",
       "        </tr>\n",
       "        <tr>\n",
       "            <td>R38000</td>\n",
       "            <td>愛媛県</td>\n",
       "            <td>16287.5</td>\n",
       "        </tr>\n",
       "        <tr>\n",
       "            <td>R23000</td>\n",
       "            <td>愛知県</td>\n",
       "            <td>177051.0</td>\n",
       "        </tr>\n",
       "        <tr>\n",
       "            <td>R15000</td>\n",
       "            <td>新潟県</td>\n",
       "            <td>27349.5</td>\n",
       "        </tr>\n",
       "        <tr>\n",
       "            <td>R13000</td>\n",
       "            <td>東京都</td>\n",
       "            <td>675323.5</td>\n",
       "        </tr>\n",
       "        <tr>\n",
       "            <td>R09000</td>\n",
       "            <td>栃木県</td>\n",
       "            <td>20442.0</td>\n",
       "        </tr>\n",
       "        <tr>\n",
       "            <td>R47000</td>\n",
       "            <td>沖縄県</td>\n",
       "            <td>17907.0</td>\n",
       "        </tr>\n",
       "        <tr>\n",
       "            <td>R25000</td>\n",
       "            <td>滋賀県</td>\n",
       "            <td>31171.0</td>\n",
       "        </tr>\n",
       "        <tr>\n",
       "            <td>R43000</td>\n",
       "            <td>熊本県</td>\n",
       "            <td>24675.5</td>\n",
       "        </tr>\n",
       "        <tr>\n",
       "            <td>R17000</td>\n",
       "            <td>石川県</td>\n",
       "            <td>27498.0</td>\n",
       "        </tr>\n",
       "        <tr>\n",
       "            <td>R14000</td>\n",
       "            <td>神奈川県</td>\n",
       "            <td>172937.0</td>\n",
       "        </tr>\n",
       "        <tr>\n",
       "            <td>R18000</td>\n",
       "            <td>福井県</td>\n",
       "            <td>10066.5</td>\n",
       "        </tr>\n",
       "        <tr>\n",
       "            <td>R40000</td>\n",
       "            <td>福岡県</td>\n",
       "            <td>110008.0</td>\n",
       "        </tr>\n",
       "        <tr>\n",
       "            <td>R07000</td>\n",
       "            <td>福島県</td>\n",
       "            <td>14336.5</td>\n",
       "        </tr>\n",
       "        <tr>\n",
       "            <td>R05000</td>\n",
       "            <td>秋田県</td>\n",
       "            <td>8894.0</td>\n",
       "        </tr>\n",
       "        <tr>\n",
       "            <td>R10000</td>\n",
       "            <td>群馬県</td>\n",
       "            <td>28542.0</td>\n",
       "        </tr>\n",
       "        <tr>\n",
       "            <td>R08000</td>\n",
       "            <td>茨城県</td>\n",
       "            <td>30202.5</td>\n",
       "        </tr>\n",
       "        <tr>\n",
       "            <td>R42000</td>\n",
       "            <td>長崎県</td>\n",
       "            <td>17105.5</td>\n",
       "        </tr>\n",
       "        <tr>\n",
       "            <td>R20000</td>\n",
       "            <td>長野県</td>\n",
       "            <td>16710.0</td>\n",
       "        </tr>\n",
       "        <tr>\n",
       "            <td>R02000</td>\n",
       "            <td>青森県</td>\n",
       "            <td>15409.5</td>\n",
       "        </tr>\n",
       "        <tr>\n",
       "            <td>R22000</td>\n",
       "            <td>静岡県</td>\n",
       "            <td>33793.5</td>\n",
       "        </tr>\n",
       "        <tr>\n",
       "            <td>R37000</td>\n",
       "            <td>香川県</td>\n",
       "            <td>9123.5</td>\n",
       "        </tr>\n",
       "        <tr>\n",
       "            <td>R39000</td>\n",
       "            <td>高知県</td>\n",
       "            <td>9171.5</td>\n",
       "        </tr>\n",
       "        <tr>\n",
       "            <td>R31000</td>\n",
       "            <td>鳥取県</td>\n",
       "            <td>6728.5</td>\n",
       "        </tr>\n",
       "        <tr>\n",
       "            <td>R46000</td>\n",
       "            <td>鹿児島県</td>\n",
       "            <td>15454.5</td>\n",
       "        </tr>\n",
       "    </tbody>\n",
       "</table>"
      ],
      "text/plain": [
       "+------------+----------+--------------+\n",
       "| 地域コード | 都道府県 | 平均大学生数 |\n",
       "+------------+----------+--------------+\n",
       "|   R24000   |  三重県  |   14063.0    |\n",
       "|   R26000   |  京都府  |   142482.5   |\n",
       "|   R41000   |  佐賀県  |    7758.5    |\n",
       "|   R28000   |  兵庫県  |   115917.5   |\n",
       "|   R01000   |  北海道  |   79569.0    |\n",
       "|   R12000   |  千葉県  |   105451.5   |\n",
       "|   R30000   | 和歌山県 |    7707.5    |\n",
       "|   R11000   |  埼玉県  |   110676.0   |\n",
       "|   R44000   |  大分県  |   15233.5    |\n",
       "|   R27000   |  大阪府  |   227323.0   |\n",
       "|   R29000   |  奈良県  |   20583.5    |\n",
       "|   R04000   |  宮城県  |   49495.0    |\n",
       "|   R45000   |  宮崎県  |    9830.0    |\n",
       "|   R16000   |  富山県  |   10798.0    |\n",
       "|   R35000   |  山口県  |   18486.5    |\n",
       "|   R06000   |  山形県  |   11762.0    |\n",
       "|   R19000   |  山梨県  |   16111.5    |\n",
       "|   R21000   |  岐阜県  |   20006.0    |\n",
       "|   R33000   |  岡山県  |   39209.0    |\n",
       "|   R03000   |  岩手県  |   11414.5    |\n",
       "|   R32000   |  島根県  |    7180.5    |\n",
       "|   R34000   |  広島県  |   55569.5    |\n",
       "|   R36000   |  徳島県  |   11814.0    |\n",
       "|   R38000   |  愛媛県  |   16287.5    |\n",
       "|   R23000   |  愛知県  |   177051.0   |\n",
       "|   R15000   |  新潟県  |   27349.5    |\n",
       "|   R13000   |  東京都  |   675323.5   |\n",
       "|   R09000   |  栃木県  |   20442.0    |\n",
       "|   R47000   |  沖縄県  |   17907.0    |\n",
       "|   R25000   |  滋賀県  |   31171.0    |\n",
       "|   R43000   |  熊本県  |   24675.5    |\n",
       "|   R17000   |  石川県  |   27498.0    |\n",
       "|   R14000   | 神奈川県 |   172937.0   |\n",
       "|   R18000   |  福井県  |   10066.5    |\n",
       "|   R40000   |  福岡県  |   110008.0   |\n",
       "|   R07000   |  福島県  |   14336.5    |\n",
       "|   R05000   |  秋田県  |    8894.0    |\n",
       "|   R10000   |  群馬県  |   28542.0    |\n",
       "|   R08000   |  茨城県  |   30202.5    |\n",
       "|   R42000   |  長崎県  |   17105.5    |\n",
       "|   R20000   |  長野県  |   16710.0    |\n",
       "|   R02000   |  青森県  |   15409.5    |\n",
       "|   R22000   |  静岡県  |   33793.5    |\n",
       "|   R37000   |  香川県  |    9123.5    |\n",
       "|   R39000   |  高知県  |    9171.5    |\n",
       "|   R31000   |  鳥取県  |    6728.5    |\n",
       "|   R46000   | 鹿児島県 |   15454.5    |\n",
       "+------------+----------+--------------+"
      ]
     },
     "execution_count": 4,
     "metadata": {},
     "output_type": "execute_result"
    }
   ],
   "source": [
    "%%sql\n",
    "    \n",
    "/* ステップ1だけを行うSQL文 */\n",
    "SELECT\n",
    "  地域コード,\n",
    "  都道府県,\n",
    "  AVG(大学学生数) AS 平均大学生数 --- 列名に名前をつける\n",
    "FROM\n",
    "  population\n",
    "GROUP BY\n",
    "  都道府県;"
   ]
  },
  {
   "cell_type": "markdown",
   "id": "83266229-c3fb-43fd-9f0f-a90c23de80af",
   "metadata": {
    "editable": true,
    "slideshow": {
     "slide_type": ""
    },
    "tags": []
   },
   "source": [
    "今やりたいことは，この結果テーブルを平均大学生数で大きい順に並べ替えて，上位10件の都道府県レコードのみを出力することである．\n",
    "仮に上記結果テーブルが`population_avg`という名で存在していれば，以下のようなSQL文を書くことで目的を達成できる．\n",
    "\n",
    "```sql\n",
    "--- これは仮のSQL文\n",
    "SELECT * FROM population_avg ORDER BY 平均大学生数 DESC LIMIT 10;\n",
    "```"
   ]
  },
  {
   "cell_type": "markdown",
   "id": "4f724463-00a9-4770-8f56-2c804dddc71f",
   "metadata": {
    "editable": true,
    "slideshow": {
     "slide_type": ""
    },
    "tags": []
   },
   "source": [
    "上記のようなことは，ステップ1のSQL文を「副問い合わせ指定」することで実現できる．\n",
    "具体的には，上記仮のSQL文の`FROM`句にある`population_avg`の箇所について，下記のSQL文のようにカッコで囲んだ「ステップ1だけを行う」`SELECT`文で置き換える．"
   ]
  },
  {
   "cell_type": "markdown",
   "id": "ba3a548d-945d-4a57-9a77-be62cb469044",
   "metadata": {
    "editable": true,
    "raw_mimetype": "",
    "slideshow": {
     "slide_type": ""
    },
    "tags": []
   },
   "source": [
    "```sql\n",
    "SELECT\n",
    "  *\n",
    "FROM\n",
    "  (\n",
    "    SELECT\n",
    "      地域コード,\n",
    "      都道府県,\n",
    "      AVG(大学学生数) AS 平均大学生数\n",
    "    FROM\n",
    "      population\n",
    "    GROUP BY\n",
    "      都道府県\n",
    "  ) \n",
    "ORDER BY\n",
    "  population_avg.平均大学生数 DESC\n",
    "LIMIT 10; \n",
    "```"
   ]
  },
  {
   "cell_type": "code",
   "execution_count": 5,
   "id": "1f0a76bd-493c-4f21-a1c5-808a1e0c67a6",
   "metadata": {
    "editable": true,
    "slideshow": {
     "slide_type": ""
    },
    "tags": [
     "remove-input"
    ]
   },
   "outputs": [
    {
     "data": {
      "text/html": [
       "<table>\n",
       "    <thead>\n",
       "        <tr>\n",
       "            <th>地域コード</th>\n",
       "            <th>都道府県</th>\n",
       "            <th>平均大学生数</th>\n",
       "        </tr>\n",
       "    </thead>\n",
       "    <tbody>\n",
       "        <tr>\n",
       "            <td>R13000</td>\n",
       "            <td>東京都</td>\n",
       "            <td>675323.5</td>\n",
       "        </tr>\n",
       "        <tr>\n",
       "            <td>R27000</td>\n",
       "            <td>大阪府</td>\n",
       "            <td>227323.0</td>\n",
       "        </tr>\n",
       "        <tr>\n",
       "            <td>R23000</td>\n",
       "            <td>愛知県</td>\n",
       "            <td>177051.0</td>\n",
       "        </tr>\n",
       "        <tr>\n",
       "            <td>R14000</td>\n",
       "            <td>神奈川県</td>\n",
       "            <td>172937.0</td>\n",
       "        </tr>\n",
       "        <tr>\n",
       "            <td>R26000</td>\n",
       "            <td>京都府</td>\n",
       "            <td>142482.5</td>\n",
       "        </tr>\n",
       "        <tr>\n",
       "            <td>R28000</td>\n",
       "            <td>兵庫県</td>\n",
       "            <td>115917.5</td>\n",
       "        </tr>\n",
       "        <tr>\n",
       "            <td>R11000</td>\n",
       "            <td>埼玉県</td>\n",
       "            <td>110676.0</td>\n",
       "        </tr>\n",
       "        <tr>\n",
       "            <td>R40000</td>\n",
       "            <td>福岡県</td>\n",
       "            <td>110008.0</td>\n",
       "        </tr>\n",
       "        <tr>\n",
       "            <td>R12000</td>\n",
       "            <td>千葉県</td>\n",
       "            <td>105451.5</td>\n",
       "        </tr>\n",
       "        <tr>\n",
       "            <td>R01000</td>\n",
       "            <td>北海道</td>\n",
       "            <td>79569.0</td>\n",
       "        </tr>\n",
       "    </tbody>\n",
       "</table>"
      ],
      "text/plain": [
       "+------------+----------+--------------+\n",
       "| 地域コード | 都道府県 | 平均大学生数 |\n",
       "+------------+----------+--------------+\n",
       "|   R13000   |  東京都  |   675323.5   |\n",
       "|   R27000   |  大阪府  |   227323.0   |\n",
       "|   R23000   |  愛知県  |   177051.0   |\n",
       "|   R14000   | 神奈川県 |   172937.0   |\n",
       "|   R26000   |  京都府  |   142482.5   |\n",
       "|   R28000   |  兵庫県  |   115917.5   |\n",
       "|   R11000   |  埼玉県  |   110676.0   |\n",
       "|   R40000   |  福岡県  |   110008.0   |\n",
       "|   R12000   |  千葉県  |   105451.5   |\n",
       "|   R01000   |  北海道  |   79569.0    |\n",
       "+------------+----------+--------------+"
      ]
     },
     "execution_count": 5,
     "metadata": {},
     "output_type": "execute_result"
    }
   ],
   "source": [
    "%%sql\n",
    "    \n",
    "SELECT\n",
    "  *\n",
    "FROM\n",
    "  (\n",
    "    SELECT\n",
    "      地域コード,\n",
    "      都道府県,\n",
    "      AVG(大学学生数) AS 平均大学生数\n",
    "    FROM\n",
    "      population\n",
    "    GROUP BY\n",
    "      都道府県\n",
    "  ) AS population_avg -- AS修飾句を使って，副問い合わせの結果テーブルに名前をつける\n",
    "ORDER BY\n",
    "  population_avg.平均大学生数 DESC\n",
    "LIMIT\n",
    "  10;"
   ]
  },
  {
   "cell_type": "markdown",
   "id": "fe157bf2-6f37-44cc-a665-23c18423a981",
   "metadata": {
    "editable": true,
    "slideshow": {
     "slide_type": ""
    },
    "tags": []
   },
   "source": [
    "副問い合わせを用いることで，SQL文の実行結果を別のSQL文の中で参照することができる．\n",
    "なお，副問い合わせはSQL文が複雑で読みにくくなる．\n",
    "そのため，少しでもわかりやすくするために，副問い合わせ箇所に`AS`修飾句で名前をつけたり，`WITH`句を使って副問い合わせ箇所を外出しすることができる．\n",
    "\n",
    "以下のSQL文は，上記SQL文を`AS`修飾句や`WITH`句を使ってわかりやすく書き換えたものである．"
   ]
  },
  {
   "cell_type": "markdown",
   "id": "24e21544-8dfb-4f8e-93d9-d5e237ef1c13",
   "metadata": {
    "editable": true,
    "slideshow": {
     "slide_type": ""
    },
    "tags": []
   },
   "source": [
    "```sql\n",
    "/* 分かりやすく書き換えたSQL1 */\n",
    "SELECT\n",
    "  *\n",
    "FROM\n",
    "  (\n",
    "    SELECT\n",
    "      地域コード,\n",
    "      都道府県,\n",
    "      AVG(大学学生数) AS 平均大学生数\n",
    "    FROM\n",
    "      population\n",
    "    GROUP BY\n",
    "      都道府県\n",
    "  ) AS population_avg -- AS修飾句を使って，副問い合わせの結果テーブルに名前をつける\n",
    "ORDER BY\n",
    "  population_avg.平均大学生数 DESC\n",
    "LIMIT 10;"
   ]
  },
  {
   "cell_type": "markdown",
   "id": "e556117c-1578-4566-b634-760187624876",
   "metadata": {
    "editable": true,
    "slideshow": {
     "slide_type": ""
    },
    "tags": []
   },
   "source": [
    "```sql\n",
    "/* 分かりやすく書き換えたSQL2 */\n",
    "/* WITH句を使って，副問い合わせ箇所をメインのSQL文の外に出している */\n",
    "WITH population_avg AS (\n",
    "    SELECT\n",
    "      地域コード,\n",
    "      都道府県,\n",
    "      AVG(大学学生数) AS 平均大学生数\n",
    "    FROM\n",
    "      population\n",
    "    GROUP BY\n",
    "      都道府県    \n",
    ")\n",
    "SELECT\n",
    "  *\n",
    "FROM\n",
    "  population_avg\n",
    "ORDER BY\n",
    "  population_avg.平均大学生数 DESC\n",
    "LIMIT 10; \n",
    "```"
   ]
  },
  {
   "cell_type": "markdown",
   "id": "fcf12f99-4a01-40c1-b0e2-59222e8a6041",
   "metadata": {
    "editable": true,
    "slideshow": {
     "slide_type": ""
    },
    "tags": []
   },
   "source": [
    "上の例では`FROM`句内で副問い合わせ指定を行っていたが，`WHERE`句においても副問い合わせを用いることができる．\n",
    "例えば，[前章](../02.ipynb)の例題で用いた\n",
    "- 65歳以上人口数の上位10都道府県のリストが格納された`elderly_population_top10`テーブル\n",
    "- 「学習・自己啓発・訓練」「スポーツ」「趣味・娯楽」「ボランティア」「旅行・行楽」について過去1年以内に活動したことのある人の割合（%）について都道府県別にまとめた`activity`テーブル\n",
    "\n",
    "の2つを用いて，\n",
    "> 65歳以上人口数の上位10件に「入っていない」都道府県について，過去1年以内に「旅行・行楽」活動をしたことのある人の割合が5割を超える場合のみ，その割合を地域コード，都道府県名とともに表示する\n",
    "\n",
    "ためのSQL文を考えてみよう．\n",
    "ちなみに，\n",
    "> 65歳以上人口数の上位10件に「**入っている**」都道府県について，過去1年以内に「旅行・行楽」活動をしたことのある人の割合が5割を超える場合のみ，その割合を地域コード，都道府県名とともに表示する\n",
    "\n",
    "のであれば，以下のようなSQL文になる（[★Quiz1★](#sql3-q1)）．\n"
   ]
  },
  {
   "cell_type": "markdown",
   "id": "72719861-b3ca-4a5b-ba77-021ec990f263",
   "metadata": {
    "editable": true,
    "slideshow": {
     "slide_type": ""
    },
    "tags": []
   },
   "source": [
    "```sql\n",
    "SELECT\n",
    "  activity.地域コード,\n",
    "  activity.都道府県,\n",
    "  activity.旅行・行楽\n",
    "FROM\n",
    "  activity\n",
    "  JOIN\n",
    "    elderly_population_top10\n",
    "    ON activity.都道府県 = elderly_population_top10.都道府県\n",
    "  AND activity.旅行・行楽 >= 50;\n",
    "```"
   ]
  },
  {
   "cell_type": "code",
   "execution_count": 6,
   "id": "7e454ada-d6f7-4ae5-9ee8-a337ffccd15b",
   "metadata": {
    "editable": true,
    "slideshow": {
     "slide_type": ""
    },
    "tags": [
     "remove-input"
    ]
   },
   "outputs": [
    {
     "data": {
      "text/html": [
       "<table>\n",
       "    <thead>\n",
       "        <tr>\n",
       "            <th>地域コード</th>\n",
       "            <th>都道府県</th>\n",
       "            <th>旅行・行楽</th>\n",
       "        </tr>\n",
       "    </thead>\n",
       "    <tbody>\n",
       "        <tr>\n",
       "            <td>R01000</td>\n",
       "            <td>北海道</td>\n",
       "            <td>51.0</td>\n",
       "        </tr>\n",
       "        <tr>\n",
       "            <td>R11000</td>\n",
       "            <td>埼玉県</td>\n",
       "            <td>51.5</td>\n",
       "        </tr>\n",
       "        <tr>\n",
       "            <td>R13000</td>\n",
       "            <td>東京都</td>\n",
       "            <td>55.5</td>\n",
       "        </tr>\n",
       "        <tr>\n",
       "            <td>R14000</td>\n",
       "            <td>神奈川県</td>\n",
       "            <td>54.5</td>\n",
       "        </tr>\n",
       "        <tr>\n",
       "            <td>R23000</td>\n",
       "            <td>愛知県</td>\n",
       "            <td>57.6</td>\n",
       "        </tr>\n",
       "        <tr>\n",
       "            <td>R27000</td>\n",
       "            <td>大阪府</td>\n",
       "            <td>51.9</td>\n",
       "        </tr>\n",
       "        <tr>\n",
       "            <td>R28000</td>\n",
       "            <td>兵庫県</td>\n",
       "            <td>51.6</td>\n",
       "        </tr>\n",
       "        <tr>\n",
       "            <td>R40000</td>\n",
       "            <td>福岡県</td>\n",
       "            <td>52.3</td>\n",
       "        </tr>\n",
       "    </tbody>\n",
       "</table>"
      ],
      "text/plain": [
       "+------------+----------+------------+\n",
       "| 地域コード | 都道府県 | 旅行・行楽 |\n",
       "+------------+----------+------------+\n",
       "|   R01000   |  北海道  |    51.0    |\n",
       "|   R11000   |  埼玉県  |    51.5    |\n",
       "|   R13000   |  東京都  |    55.5    |\n",
       "|   R14000   | 神奈川県 |    54.5    |\n",
       "|   R23000   |  愛知県  |    57.6    |\n",
       "|   R27000   |  大阪府  |    51.9    |\n",
       "|   R28000   |  兵庫県  |    51.6    |\n",
       "|   R40000   |  福岡県  |    52.3    |\n",
       "+------------+----------+------------+"
      ]
     },
     "execution_count": 6,
     "metadata": {},
     "output_type": "execute_result"
    }
   ],
   "source": [
    "%%sql\n",
    "    \n",
    "SELECT\n",
    "  activity.地域コード,\n",
    "  activity.都道府県,\n",
    "  activity.旅行・行楽\n",
    "FROM\n",
    "  activity\n",
    "  JOIN\n",
    "    elderly_population_top10\n",
    "    ON activity.都道府県 = elderly_population_top10.都道府県\n",
    "  AND activity.旅行・行楽 >= 50;"
   ]
  },
  {
   "cell_type": "markdown",
   "id": "ae6fbb79-76a7-4c9b-80ac-ab30e7323b72",
   "metadata": {
    "editable": true,
    "slideshow": {
     "slide_type": ""
    },
    "tags": []
   },
   "source": [
    "65歳以上人口数の上位10件に「入っている」都道府県のケースとは違って，65歳以上人口数の上位10件に「入っていない」都道府県のケースの場合，\n",
    "1. `activity`テーブル内の各都道府県について，`elderly_population_top`テーブル内にあるか否かを判定し，\n",
    "2. ない場合のみ，その都道府県の「旅行・行楽」の値を見る\n",
    "3. 「旅行・行楽」の値が50を超えるものだけ，地域コード，都道府県名とともに表示する\n",
    "\n",
    "という流れになる．\n",
    "上記ステップ1では「別のテーブルを活用した対象レコードの存在判定」を行っているが，存在判定は **`EXISTS`述語** を使った副問い合わせで対応することができる．\n",
    "上記例の場合，以下のようなSQL文になる．"
   ]
  },
  {
   "cell_type": "markdown",
   "id": "3b56b4c5-b35b-403d-aee8-154489827e5b",
   "metadata": {
    "editable": true,
    "slideshow": {
     "slide_type": ""
    },
    "tags": []
   },
   "source": [
    "```sql   \n",
    "SELECT\n",
    "  activity.地域コード,\n",
    "  activity.都道府県,\n",
    "  activity.旅行・行楽\n",
    "FROM\n",
    "  activity\n",
    "WHERE\n",
    "　--- NOT EXISTSは存在しない場合Trueを，存在する場合はFalseを返す\n",
    "  NOT EXISTS (　\n",
    "    SELECT\n",
    "      *\n",
    "    FROM\n",
    "      elderly_population_top10\n",
    "    WHERE\n",
    "      elderly_population_top10.都道府県 = activity.都道府県\n",
    "  )\n",
    "  AND activity.旅行・行楽 >= 50; \n",
    "```"
   ]
  },
  {
   "cell_type": "code",
   "execution_count": 7,
   "id": "a04d9ebd-ede4-4226-a4f9-5a4b7e27381a",
   "metadata": {
    "editable": true,
    "slideshow": {
     "slide_type": ""
    },
    "tags": [
     "scroll-output",
     "remove-input"
    ]
   },
   "outputs": [
    {
     "data": {
      "text/html": [
       "<table>\n",
       "    <thead>\n",
       "        <tr>\n",
       "            <th>地域コード</th>\n",
       "            <th>都道府県</th>\n",
       "            <th>旅行・行楽</th>\n",
       "        </tr>\n",
       "    </thead>\n",
       "    <tbody>\n",
       "        <tr>\n",
       "            <td>R04000</td>\n",
       "            <td>宮城県</td>\n",
       "            <td>52.2</td>\n",
       "        </tr>\n",
       "        <tr>\n",
       "            <td>R10000</td>\n",
       "            <td>群馬県</td>\n",
       "            <td>50.8</td>\n",
       "        </tr>\n",
       "        <tr>\n",
       "            <td>R25000</td>\n",
       "            <td>滋賀県</td>\n",
       "            <td>52.2</td>\n",
       "        </tr>\n",
       "        <tr>\n",
       "            <td>R29000</td>\n",
       "            <td>奈良県</td>\n",
       "            <td>50.4</td>\n",
       "        </tr>\n",
       "        <tr>\n",
       "            <td>R43000</td>\n",
       "            <td>熊本県</td>\n",
       "            <td>50.5</td>\n",
       "        </tr>\n",
       "    </tbody>\n",
       "</table>"
      ],
      "text/plain": [
       "+------------+----------+------------+\n",
       "| 地域コード | 都道府県 | 旅行・行楽 |\n",
       "+------------+----------+------------+\n",
       "|   R04000   |  宮城県  |    52.2    |\n",
       "|   R10000   |  群馬県  |    50.8    |\n",
       "|   R25000   |  滋賀県  |    52.2    |\n",
       "|   R29000   |  奈良県  |    50.4    |\n",
       "|   R43000   |  熊本県  |    50.5    |\n",
       "+------------+----------+------------+"
      ]
     },
     "execution_count": 7,
     "metadata": {},
     "output_type": "execute_result"
    }
   ],
   "source": [
    "%%sql\n",
    "    \n",
    "SELECT\n",
    "  activity.地域コード,\n",
    "  activity.都道府県,\n",
    "  activity.旅行・行楽\n",
    "FROM\n",
    "  activity\n",
    "WHERE\n",
    "　--- NOT EXISTSは存在しない場合Trueを，存在する場合はFalseを返す\n",
    "  NOT EXISTS (\n",
    "    SELECT\n",
    "      *\n",
    "    FROM\n",
    "      elderly_population_top10\n",
    "    WHERE\n",
    "      elderly_population_top10.都道府県 = activity.都道府県\n",
    "  )\n",
    "  AND activity.旅行・行楽 >= 50; "
   ]
  },
  {
   "cell_type": "markdown",
   "id": "5fde5a0b-e019-4b47-9dd4-dce2d41103a2",
   "metadata": {
    "editable": true,
    "slideshow": {
     "slide_type": ""
    },
    "tags": []
   },
   "source": [
    "`WHERE`句内で`EXISTS`が用いられた場合，`FROM`句で指定されたテーブルの各レコードについて，\n",
    "* `EXISTS`以下の副問い合わせ内容を満たすものが**1つでも**存在すれば`True（真）`，\n",
    "* 存在しなければ`False（偽）`\n",
    "\n",
    "の値を返す．\n",
    "`NOT EXISTS`を用いた場合は逆の振る舞いになる．すなわち，\n",
    "* `NOT EXISTS`以下の副問い合わせ内容を満たすものが**1つでも**存在すれば`False（偽）`，\n",
    "* 1つも存在しなければ`True（真）`\n",
    "\n",
    "の値を返す．\n",
    "`EXISTS`の振る舞いは少しややこしいが，副問い合わせを用いたSQL文では比較的よく用いられるので頭に入れておこう（[★Quiz2★](#sql3-q2)）．"
   ]
  },
  {
   "cell_type": "markdown",
   "id": "747542ec-0bb3-46e4-a482-5fd3b0e84aca",
   "metadata": {
    "editable": true,
    "slideshow": {
     "slide_type": ""
    },
    "tags": []
   },
   "source": [
    "````{note}\n",
    "#### IN述語\n",
    "`EXISTS`述語と似たようなものに`IN`述語がある．\n",
    "`IN`述語は`WHERE`句内で`列名 IN リスト`と書くと，あるレコードの列の値が`リスト`内にあるかどうかをTrue or Falseで返す．\n",
    "なお，`リスト`と書かれたところは`(値, 値, 値)`のようにベタ書きで指定してもよいし，副問い合わせでも指定してもよい．\n",
    "\n",
    "例えば，`NOT EXISTS`述語を用いた先の例のSQL文は`IN`述語を使って以下のように書き換えられる．\n",
    "```sql\n",
    "SELECT\n",
    "  activity.地域コード,\n",
    "  activity.都道府県,\n",
    "  activity.旅行・行楽\n",
    "FROM\n",
    "  activity\n",
    "WHERE\n",
    "　--- activity.都道府県の値がelderly_population_top10.都道府県のリストになければTrueを返す\n",
    "  activity.都道府県 NOT IN (\n",
    "    SELECT\n",
    "      elderly_population_top10.都道府県\n",
    "    FROM\n",
    "      elderly_population_top10\n",
    "  )\n",
    "  AND activity.旅行・行楽 >= 50; \n",
    "```\n",
    "\n",
    "`EXISTS`述語よりも`IN`述語の方が挙動が分かりやすいが，実行速度は`EXISTS`述語の方が速い．\n",
    "`IN`を用いた場合，副問い合わせのSQL文は条件に当てはまるレコードをすべて列挙する．\n",
    "それに対して`EXISTS`を用いた場合は，条件に当てはまるレコードが1つでも見つかれば処理を終了して次の処理に移るので速い．\n",
    "````"
   ]
  },
  {
   "cell_type": "markdown",
   "id": "859e3a21-5adc-49fd-953c-dcdb0ee23a25",
   "metadata": {
    "editable": true,
    "slideshow": {
     "slide_type": ""
    },
    "tags": []
   },
   "source": [
    "```{tip}\n",
    "#### 問い合わせのための発展的なSQL\n",
    "これまでに述べてきたSQLは，関係データベースから所望のレコードを引っ張ってくるためのあくまで基礎である．\n",
    "解説していないSQLは他にも色々ある．\n",
    "例えば，\n",
    "* 条件分岐をするための`CASE`句\n",
    "* 数値，文字列処理のための様々な関数\n",
    "* より高度な集約演算を行うためのWindow関数（分析関数）\n",
    "\n",
    "などがある．\n",
    "興味のある方は\n",
    "- 本橋智光（著）. 2018. [前処理大全-データ分析のためのSQL/R/Python実践テクニック](https://gihyo.jp/book/2018/978-4-7741-9647-3). 技術評論社\n",
    "- 加嵜長門, 田宮直人（著）. 2017. [ビッグデータ分析・活用のためのSQLレシピ](https://book.mynavi.jp/ec/products/detail/id=65863). マイナビ出版\n",
    "\n",
    "など，実践的かつ面白い書籍があるので探して読んでみるとよい．\n",
    "```"
   ]
  },
  {
   "cell_type": "markdown",
   "id": "8b2f4e17",
   "metadata": {
    "editable": true,
    "slideshow": {
     "slide_type": ""
    },
    "tags": []
   },
   "source": [
    "## テーブルの定義と更新"
   ]
  },
  {
   "cell_type": "markdown",
   "id": "3d95458b-0a1a-4585-864e-b911eac551ba",
   "metadata": {
    "editable": true,
    "slideshow": {
     "slide_type": ""
    },
    "tags": []
   },
   "source": [
    "SQLの締めくくりとして，関係データベースにおけるテーブルの定義と更新操作（挿入．削除．更新）について説明する．"
   ]
  },
  {
   "cell_type": "markdown",
   "id": "6b8a7f14-a1ea-4e89-b9d0-1042cb09064f",
   "metadata": {
    "editable": true,
    "slideshow": {
     "slide_type": ""
    },
    "tags": []
   },
   "source": [
    "### テーブルの定義"
   ]
  },
  {
   "cell_type": "markdown",
   "id": "909b9d93-5603-4479-b0b5-abc0c99e898f",
   "metadata": {
    "editable": true,
    "slideshow": {
     "slide_type": ""
    },
    "tags": []
   },
   "source": [
    "SQLでテーブルの定義を行うには`CREATE TABLE`文を用いる．\n",
    "テーブル定義では\n",
    "* テーブル名\n",
    "* テーブルが持つ列名\n",
    "* 各列のデータ型\n",
    "* （必要なら）主キー，外部キー\n",
    "* （必要なら）整合性制約\n",
    "\n",
    "を指定する．\n",
    "\n",
    "データ型は[関係データモデル](../relational-data-model/01.ipynb)の章で説明した**定義域（domain）** に対応するものである．\n",
    "関係データベースで扱える代表的なデータ型は以下の通りである．\n",
    "* `VARCHAR(n)`: n文字まで扱える可変長の文字列型．通常文字列を扱うときはこれを指定する．\n",
    "* `INT`: 整数型\n",
    "* `FLOAT`: 浮動小数点型\n",
    "* `BOOLEAN`: 真偽値型（TRUEもしくはFALSEの値をもつ）\n",
    "* `DATETIME`: 時刻を併せ持つ日付型\n",
    "\n",
    "例えば，例題で用いてきた`population`テーブルをゼロから定義する場合，以下のようなSQL文となる．\n",
    "\n",
    "```sql\n",
    "CREATE TABLE population ( --- TABLEの横にテーブル名を書く\n",
    "    地域コード VARCHAR(10),　--- 10文字あれば地域コードを網羅的に表現できるので10を指定\n",
    "    都道府県 VARCHAR(5), --- 5文字あれば都道府県を網羅的に表現できるので5を指定\n",
    "    調査年度 INT,\n",
    "    総人口 INT,\n",
    "    小学校児童数 INT,\n",
    "    中学校生徒数 INT,\n",
    "    高等学校生徒数 INT,\n",
    "    大学学生数 INT,\n",
    "    PRIMARY KEY (地域コード, 調査年度)　 --- 主キーとして地域コードを指定\n",
    ");\n",
    "```"
   ]
  },
  {
   "cell_type": "markdown",
   "id": "ce29dcff-3f71-425f-8e2d-cca5b89c1924",
   "metadata": {
    "editable": true,
    "slideshow": {
     "slide_type": ""
    },
    "tags": []
   },
   "source": [
    "なお，上記は最低限の説明である．\n",
    "実際にSQL文を使ってテーブル定義をする際には，初期値や外部キー制約，インデックスなど，想定するアプリケーションに応じて様々な設定を行うことになる．\n",
    "使用する関係データベース管理システムによって微妙に設定方法が異なるので，RDBMSに対応したドキュメントを適宜参照すること．"
   ]
  },
  {
   "cell_type": "markdown",
   "id": "29266797-e186-4da3-a0d5-639d864da00a",
   "metadata": {
    "editable": true,
    "slideshow": {
     "slide_type": ""
    },
    "tags": []
   },
   "source": [
    "### レコードの追加"
   ]
  },
  {
   "cell_type": "markdown",
   "id": "cc25a1b8-2259-4c5c-b5d3-3f8b60bc8ff7",
   "metadata": {},
   "source": [
    "レコードの追加には`INSERT INTO`文を用いる．\n",
    "以下は，`population`テーブルに2つのレコードを追加するSQL文の例である．\n",
    "\n",
    "```sql\n",
    "INSERT INTO\n",
    "  population ( --- ここに並べた列名に対応した値をVALUES以下のカッコ内に書く．\n",
    "    地域コード,\n",
    "    都道府県,\n",
    "    調査年度,\n",
    "    総人口,\n",
    "    小学校児童数,\n",
    "    中学校生徒数,\n",
    "    高等学校生徒数,\n",
    "    大学学生数\n",
    "  )\n",
    "VALUES \n",
    "--- VALUES以下に追加したいレコード数分だけ値をカッコで並べる．カッコ内の順番は列名の順序に対応\n",
    "--- xxxは適当な値\n",
    "  ('R01000', '北海道', '2022', xxx, xxx, xxx, xxx, xxx),\n",
    "  ('R01000', '北海道', '2023', xxx, xxx, xxx, xxx, xxx);\n",
    "```"
   ]
  },
  {
   "cell_type": "markdown",
   "id": "f86fa0b8-b19c-44e1-97bc-c9a27885d7f0",
   "metadata": {},
   "source": [
    "### レコードの削除"
   ]
  },
  {
   "cell_type": "markdown",
   "id": "860ff7ef-f63c-4c34-938a-62c2b77b0f91",
   "metadata": {},
   "source": [
    "レコードの削除には`DELETE`文を用いる．\n",
    "以下は，`population`テーブルから調査年度が2022もしくは2023のレコードを削除するSQL文の例である．\n",
    "\n",
    "```sql\n",
    "DELETE FROM\n",
    "  population\n",
    "WHERE\n",
    "  調査年度 = 2022 OR 調査年度 = 2023; -- SELECT分と同様に`WHERE`句で条件を指定できる\n",
    "```"
   ]
  },
  {
   "cell_type": "markdown",
   "id": "405bf92d-f79d-44dc-b42d-b4612d7d99be",
   "metadata": {},
   "source": [
    "### レコードの更新"
   ]
  },
  {
   "cell_type": "markdown",
   "id": "a928a7e6-c21b-45dc-a117-fb8d64387fc3",
   "metadata": {
    "editable": true,
    "slideshow": {
     "slide_type": ""
    },
    "tags": []
   },
   "source": [
    "レコードの更新には`UPDATE`文を用いる．\n",
    "以下は，`population`テーブルから調査年度が2022のレコードについて，総人口の値更新前の総人口から100増やしたものに更新するSQL文である．\n",
    "\n",
    "```sql\n",
    "UPDATE \n",
    "  population\n",
    "SET\n",
    "  総人口 = 総人口 + 100\n",
    "WHERE\n",
    "  調査年度 = 2022; -- SELECT分と同様に`WHERE`句で条件を指定できる\n",
    "```\n",
    "\n",
    "---"
   ]
  },
  {
   "cell_type": "markdown",
   "id": "ac9c2b29-683e-41f9-b6f4-046232bb4047",
   "metadata": {
    "editable": true,
    "slideshow": {
     "slide_type": ""
    },
    "tags": []
   },
   "source": [
    "## クイズ"
   ]
  },
  {
   "cell_type": "markdown",
   "id": "12d38576-43c0-4125-8977-9f91c791497e",
   "metadata": {
    "editable": true,
    "slideshow": {
     "slide_type": ""
    },
    "tags": []
   },
   "source": [
    "本クイズでは，独立行政法人統計センターが公開している教育用標準データセット（SSDSE）の[基本素材SSDSE-E](https://www.nstac.go.jp/use/literacy/ssdse/#SSDSE-E)（データの解説は[こちら](https://www.nstac.go.jp/sys/files/kaisetsu-E-2023.pdf)）および[市区町村（SSDSE-A）](https://www.nstac.go.jp/use/literacy/ssdse/#SSDSE-A)から抜粋・加工したデータを用いる．\n",
    "なお，                                                           \n",
    "- `population`テーブルの内容については[前々章](./01.ipynb)\n",
    "- `activity`テーブルの内容については[前章](./02.ipynb)                                                           \n",
    "\n",
    "を参照せよ．\n"
   ]
  },
  {
   "cell_type": "markdown",
   "id": "55c7bb82-8bb4-495b-97c1-ee53247a2e35",
   "metadata": {
    "editable": true,
    "slideshow": {
     "slide_type": ""
    },
    "tags": []
   },
   "source": [
    "(sql3-q1)=\n",
    "### Q1. 副問い合わせ（1/2）\n",
    "\n",
    "`population`テーブルにおいて調査年度が`2021`時点の小学校児童数上位20件のレコードを求め，それらと`activity`テーブルの内容を結合した内容を表示するSQL文を書け．"
   ]
  },
  {
   "cell_type": "code",
   "execution_count": 8,
   "id": "5bc61360-92ee-4e77-8bba-60bbf3012850",
   "metadata": {
    "editable": true,
    "scrolled": true,
    "slideshow": {
     "slide_type": ""
    },
    "tags": []
   },
   "outputs": [],
   "source": [
    "%%sql\n",
    "\n"
   ]
  },
  {
   "cell_type": "markdown",
   "id": "dc5ab210-35ec-498f-897d-46dde7f80651",
   "metadata": {
    "editable": true,
    "slideshow": {
     "slide_type": ""
    },
    "tags": []
   },
   "source": [
    "(sql3-q2)=\n",
    "### Q2. 副問い合わせ（2/2）\n",
    "\n",
    "`activity`テーブルにおいて「ボランティア」の値が上位10件以内に入る都道府県を求めるSQL文を考えよ．\n",
    "その上で，`population`テーブルを用いて，「ボランティア」の値が上位10件以内に入る各都道府県の調査期間（2020および2021）における平均総人口を求めるSQL文を書け．\n"
   ]
  },
  {
   "cell_type": "code",
   "execution_count": 9,
   "id": "1640ed19-36f6-4d02-a7bd-47ac49715f32",
   "metadata": {
    "editable": true,
    "slideshow": {
     "slide_type": ""
    },
    "tags": []
   },
   "outputs": [],
   "source": [
    "%%sql\n",
    "\n"
   ]
  }
 ],
 "metadata": {
  "kernelspec": {
   "display_name": "Python 3 (ipykernel)",
   "language": "python",
   "name": "python3"
  },
  "language_info": {
   "codemirror_mode": {
    "name": "ipython",
    "version": 3
   },
   "file_extension": ".py",
   "mimetype": "text/x-python",
   "name": "python",
   "nbconvert_exporter": "python",
   "pygments_lexer": "ipython3",
   "version": "3.10.13"
  }
 },
 "nbformat": 4,
 "nbformat_minor": 5
}
