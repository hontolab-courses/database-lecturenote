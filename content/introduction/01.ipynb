{
 "cells": [
  {
   "cell_type": "markdown",
   "id": "d7a7d7f5-09f7-4259-b536-87e63a84ba68",
   "metadata": {
    "editable": true,
    "slideshow": {
     "slide_type": ""
    },
    "tags": []
   },
   "source": [
    "# \"データベース\"を使わない世界"
   ]
  },
  {
   "cell_type": "markdown",
   "id": "23ea23a7-7506-493d-8e92-2f8852e1b860",
   "metadata": {},
   "source": [
    "後日公開予定"
   ]
  },
  {
   "cell_type": "code",
   "execution_count": null,
   "id": "1265e485-30ea-4848-9840-2352fc806bb4",
   "metadata": {},
   "outputs": [],
   "source": []
  }
 ],
 "metadata": {
  "kernelspec": {
   "display_name": "Python 3 (ipykernel)",
   "language": "python",
   "name": "python3"
  },
  "language_info": {
   "codemirror_mode": {
    "name": "ipython",
    "version": 3
   },
   "file_extension": ".py",
   "mimetype": "text/x-python",
   "name": "python",
   "nbconvert_exporter": "python",
   "pygments_lexer": "ipython3",
   "version": "3.10.13"
  }
 },
 "nbformat": 4,
 "nbformat_minor": 5
}
