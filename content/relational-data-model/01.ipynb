{
 "cells": [
  {
   "cell_type": "markdown",
   "id": "f4836068-add4-43e3-b45f-c8e72de1c6e5",
   "metadata": {},
   "source": [
    "# 関係データモデル"
   ]
  },
  {
   "cell_type": "markdown",
   "id": "908db7ec-9cb5-4bc4-8861-7cda82bc701a",
   "metadata": {},
   "source": [
    "後日公開予定"
   ]
  },
  {
   "cell_type": "code",
   "execution_count": null,
   "id": "e2ee197f-85a9-41cd-b9e0-462cd7bb5813",
   "metadata": {},
   "outputs": [],
   "source": []
  }
 ],
 "metadata": {
  "kernelspec": {
   "display_name": "Python 3 (ipykernel)",
   "language": "python",
   "name": "python3"
  },
  "language_info": {
   "codemirror_mode": {
    "name": "ipython",
    "version": 3
   },
   "file_extension": ".py",
   "mimetype": "text/x-python",
   "name": "python",
   "nbconvert_exporter": "python",
   "pygments_lexer": "ipython3",
   "version": "3.10.13"
  }
 },
 "nbformat": 4,
 "nbformat_minor": 5
}
