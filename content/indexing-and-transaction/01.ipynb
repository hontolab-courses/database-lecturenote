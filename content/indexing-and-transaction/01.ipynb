{
 "cells": [
  {
   "cell_type": "markdown",
   "id": "bd22dcb4-ad66-4a13-8ce0-b2db4e9e2820",
   "metadata": {},
   "source": [
    "# B木"
   ]
  },
  {
   "cell_type": "markdown",
   "id": "0f229907-4a13-498f-9543-ed01634e97e6",
   "metadata": {},
   "source": [
    "後日公開予定"
   ]
  }
 ],
 "metadata": {
  "kernelspec": {
   "display_name": "Python 3 (ipykernel)",
   "language": "python",
   "name": "python3"
  },
  "language_info": {
   "codemirror_mode": {
    "name": "ipython",
    "version": 3
   },
   "file_extension": ".py",
   "mimetype": "text/x-python",
   "name": "python",
   "nbconvert_exporter": "python",
   "pygments_lexer": "ipython3",
   "version": "3.10.13"
  }
 },
 "nbformat": 4,
 "nbformat_minor": 5
}
