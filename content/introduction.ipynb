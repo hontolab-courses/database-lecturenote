{
 "cells": [
  {
   "cell_type": "markdown",
   "id": "d7a7d7f5-09f7-4259-b536-87e63a84ba68",
   "metadata": {
    "editable": true,
    "slideshow": {
     "slide_type": ""
    },
    "tags": []
   },
   "source": [
    "# \"データベース\"を使わない世界"
   ]
  },
  {
   "cell_type": "code",
   "execution_count": null,
   "id": "f4c98bd3-8f76-4d88-a111-47c2935f2a41",
   "metadata": {},
   "outputs": [],
   "source": []
  },
  {
   "cell_type": "markdown",
   "id": "aed29cb5-d8cf-4763-a6b8-60c170631948",
   "metadata": {},
   "source": [
    "| あほ | ばか | ぼけ | くそ | \n",
    "| ---- | ---- | ---- | ---- | \n",
    "| a    |      |      |      | \n",
    "| b    | d    |      |      | \n",
    "| c    |      |      |      | \n",
    "|      |      | e    |      | \n",
    "|      |      |      | f    | "
   ]
  },
  {
   "cell_type": "markdown",
   "id": "23ea23a7-7506-493d-8e92-2f8852e1b860",
   "metadata": {},
   "source": [
    "データベースを使わないと\n",
    "* 予想していないデータが混入する（ドメイン制約）\n",
    "* 特に更新時にデータの不整合が起きる（更新不整合）\n",
    "* 同時に書き込みがあるとおかしな古都が起きる（トランザクション）\n",
    "* 計算が遅い（インデックス）\n",
    "* アプリケーションの寿命が短くなる（データの永続化）"
   ]
  },
  {
   "cell_type": "code",
   "execution_count": null,
   "id": "1265e485-30ea-4848-9840-2352fc806bb4",
   "metadata": {},
   "outputs": [],
   "source": []
  }
 ],
 "metadata": {
  "kernelspec": {
   "display_name": "Python 3 (ipykernel)",
   "language": "python",
   "name": "python3"
  },
  "language_info": {
   "codemirror_mode": {
    "name": "ipython",
    "version": 3
   },
   "file_extension": ".py",
   "mimetype": "text/x-python",
   "name": "python",
   "nbconvert_exporter": "python",
   "pygments_lexer": "ipython3",
   "version": "3.10.13"
  }
 },
 "nbformat": 4,
 "nbformat_minor": 5
}
