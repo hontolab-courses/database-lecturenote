{
 "cells": [
  {
   "cell_type": "markdown",
   "id": "730894c6-9a90-4afb-84ec-0ca4be60031e",
   "metadata": {
    "editable": true,
    "slideshow": {
     "slide_type": ""
    },
    "tags": []
   },
   "source": [
    "# 単純質問"
   ]
  },
  {
   "cell_type": "code",
   "execution_count": 2,
   "id": "6cb9fa2a-662c-4241-9835-56721021dda7",
   "metadata": {
    "editable": true,
    "slideshow": {
     "slide_type": ""
    },
    "tags": [
     "remove-output",
     "remove-input"
    ]
   },
   "outputs": [],
   "source": [
    "import os\n",
    "\n",
    "if not os.path.isfile('data/SSDSE.db'):\n",
    "    os.makedirs('data', exist_ok=True)\n",
    "\n",
    "    if not os.path.isfile('download_SSDSE.py'):\n",
    "        # ファイルpdがあった場合はダウンロードしないようにしよう\n",
    "        !wget https://raw.githubusercontent.com/hontolab-courses/database-lecturenote/main/content/sql/download_SSDSE.py\n",
    "        import download_SSDSE"
   ]
  },
  {
   "cell_type": "code",
   "execution_count": null,
   "id": "4c438da2-37f5-4778-a47d-e8931db9f6a2",
   "metadata": {
    "editable": true,
    "slideshow": {
     "slide_type": ""
    },
    "tags": [
     "remove-output",
     "hide-input"
    ]
   },
   "outputs": [],
   "source": [
    "import pandas as pd"
   ]
  },
  {
   "cell_type": "code",
   "execution_count": null,
   "id": "9b062d38-543a-4890-84e6-489dc98d959d",
   "metadata": {
    "editable": true,
    "slideshow": {
     "slide_type": ""
    },
    "tags": [
     "remove-output",
     "remove-input"
    ]
   },
   "outputs": [],
   "source": [
    "!pip install jupysql"
   ]
  },
  {
   "cell_type": "code",
   "execution_count": null,
   "id": "ac1385d1-600c-473c-9bb2-4c5bf56c4df0",
   "metadata": {
    "editable": true,
    "slideshow": {
     "slide_type": ""
    },
    "tags": [
     "remove-output",
     "hide-input"
    ]
   },
   "outputs": [],
   "source": [
    "%load_ext sql\n",
    "%config SqlMagic.feedback = 0\n",
    "%sql sqlite:///data/SSDSE.db"
   ]
  },
  {
   "cell_type": "markdown",
   "id": "df039dad-4b69-4b4e-bd0b-4f3d9e0d7ef1",
   "metadata": {
    "editable": true,
    "slideshow": {
     "slide_type": ""
    },
    "tags": []
   },
   "source": [
    "データベースからデータを引っ張ってくるなど，データベースを操作するには具体的なツールが必要となる．\n",
    "**SQL(Structured Query Language)** は関係データベースの操作に特化した言語である．\n",
    "SQLはISOによって国際的に標準化されている．\n",
    "よく用いられる関係データベース管理システム（RDBMS）として[MySQL](https://ja.wikipedia.org/wiki/MySQL)や[PostregreSQL](https://ja.wikipedia.org/wiki/PostgreSQL)，[Oracle Database](https://ja.wikipedia.org/wiki/Oracle_Database)，[Microsoft SQL Server](https://ja.wikipedia.org/wiki/Microsoft_SQL_Server)などが挙げられるが，どのRDBMSにもSQLは実装されている．\n",
    "\n",
    "SQLを使うことで，関係データベースのユーザは\n",
    "- データの登録（Create）\n",
    "- データの読み出し（Read）\n",
    "- データの更新（Update）\n",
    "- データの削除（Delete）\n",
    "\n",
    "が可能となる[^CRUD]．\n",
    "なお，本教材のターゲットはデータ分析人材の卵であることから，本教材では関係データベースから**データの読み出し**に焦点を当ててSQLの説明を行う．\n",
    "\n",
    "SQLはデータベースに対する問い合わせ言語であって，プログラミング言語ではない．\n",
    "そのため，プログラミング言語に比べて覚えることは少なく，問い合わせ内容を英語に近い形で書き下すことができるよう設計されている．\n",
    "データ分析人材はソフトウェアを開発することが目的ではないから高度なプログラミング能力を持つ必要は必ずしもないが，関係データベースに納められた大量のデータを自由自在に扱うためにも**SQLの習得は必須**である．\n",
    "\n",
    "[^CRUD]: データの作成，読み出し，更新，削除はデータベースに求められる主要な操作で，それぞれの頭文字を取ってCRUD（クラッド）と呼ばれる．\n"
   ]
  },
  {
   "cell_type": "markdown",
   "id": "0f510575-738a-4483-9b20-f7a8d56883ad",
   "metadata": {
    "editable": true,
    "slideshow": {
     "slide_type": ""
    },
    "tags": []
   },
   "source": [
    "```{note}\n",
    "#### SQLの読み方\n",
    "SQLの読み方は「エス・キュー・エル」である．SQLは1970年代にIBM社が開発したデータベース管理システムSystem Rの操作言語SEQUELを起源としている．関係データベースに熱狂していた世代の人の中には，SEQUELの名残でSQLのことを「シークエル」と呼ぶ人もいる．\n",
    "```\n",
    "\n",
    "```{warning}\n",
    "#### SQLにも方言がある\n",
    "RDBMSによって，SQLで使用できる関数が異なったりすることがある．特にSQLiteについては，簡易的なRDMBSということもあり，他のRDBMSでは実装されている機能や関数が実装されていない場合がある．自分が書いたSQL文がうまく動作しない場合は，マニュアルに当たってみよう．\n",
    "```"
   ]
  },
  {
   "cell_type": "markdown",
   "id": "75b66420-5248-45a2-a598-544d52cc2dd9",
   "metadata": {},
   "source": [
    "## SQLと関係データモデルの比較"
   ]
  },
  {
   "cell_type": "markdown",
   "id": "45f77070-278d-4878-a001-20fb81de4651",
   "metadata": {},
   "source": [
    "SQLは関係データベースを操作する言語であり，それが扱うデータモデルは関係データモデルを実用的に拡張したものである．\n",
    "「実用」のSQLデータモデルと「理論」の関係データモデルでは，同様の概念が異なる用語で定義されている．\n",
    "以下はSQLと関係データモデルの用語の比較である．\n",
    "\n",
    "| 関係データモデル | SQL |\n",
    "| ---- | ---- | \n",
    "| 関係（リレーション; relation） |  表（テーブル; table）  | \n",
    "| タプル（tuple） | レコード or 行（row）  | \n",
    "| 属性（attribute）  | 列（カラム; column）| \n",
    "| 定義域（ドメイン; domain） | データ型 | \n",
    "\n",
    "また，関係データモデルでは各属性はドメインで定義された値をもつが，\n",
    "現実的にはある属性の値が存在しない，あるいは未定義（不明）のケースがありえる．\n",
    "そのような状況では，特殊な値である**NULL**値（ヌルと読む）を用いる．"
   ]
  },
  {
   "cell_type": "markdown",
   "id": "29869879-c543-4a80-951b-271a602995c8",
   "metadata": {
    "editable": true,
    "slideshow": {
     "slide_type": ""
    },
    "tags": []
   },
   "source": [
    "## 基本形"
   ]
  },
  {
   "cell_type": "markdown",
   "id": "ece36e41-4321-45da-9de4-64af18271d84",
   "metadata": {
    "editable": true,
    "slideshow": {
     "slide_type": ""
    },
    "tags": []
   },
   "source": [
    "関係データベースに対する最も典型的な問い合わせ要求は，\n",
    "- 特定の**表（table，テーブル）** から\n",
    "- **列（column，カラム）** が特定の条件を満たす**行（row）[^row]** を見つけ出し\n",
    "- 結果を表形式で出力する\n",
    "\n",
    "ことである．問い合わせのために記述するSQL文のことを**クエリ（query）** と呼ぶ．\n",
    "\n",
    "SQLによる代表的なクエリは，以下の形式の**SELECT文**である．\n",
    "\n",
    "\n",
    "[^row]: レコード（record）と呼ぶこともある．"
   ]
  },
  {
   "cell_type": "markdown",
   "id": "b1b23ee3-e9b3-40ef-a17a-0550a1474787",
   "metadata": {
    "editable": true,
    "slideshow": {
     "slide_type": ""
    },
    "tags": []
   },
   "source": [
    "```sql\n",
    "SELECT\n",
    "    都道府県名\n",
    "FROM\n",
    "    都道府県\n",
    "WHERE\n",
    "    人口 >= 5000000;\n",
    "```"
   ]
  },
  {
   "cell_type": "markdown",
   "id": "5cfb9079-d429-43ec-85d5-b3c8073a93e5",
   "metadata": {
    "editable": true,
    "slideshow": {
     "slide_type": ""
    },
    "tags": []
   },
   "source": [
    "上記クエリは， \n",
    "\n",
    "> 「都道府県」テーブルから「人口」という列の値が500万以上である行を見つけ，その行の列「都道府県名」を出力してください\n",
    "\n",
    "という問い合わせ要求を表現したものである．\n",
    "- `SELECT`句を用いて「問い合わせ結果に表示したい情報」，\n",
    "- `FROM`句を用いて「参照したい表」，\n",
    "- `WHERE`句を用いて「表示する際の条件」\n",
    "\n",
    "を指定している．\n",
    "上記要求を英語に直してみると，SQL文は問い合わせ要求をできるだけ直感的に表現しようとしていることがお分かりいただけると思う．\n",
    "\n",
    "上記クエリは単純な例ではあるが，関係データベースからデータを引っ張ってくる問い合わせについては，すべからく下記のような`SELECT`句から始まるクエリが用いられる．"
   ]
  },
  {
   "cell_type": "markdown",
   "id": "679f8aa6-8a69-4c15-9f1b-596e0f24a607",
   "metadata": {
    "editable": true,
    "slideshow": {
     "slide_type": ""
    },
    "tags": []
   },
   "source": [
    "```sql\n",
    "SELECT\n",
    "    列名1, 列名2, ...\n",
    "FROM\n",
    "    参照する表1, 表2, ...\n",
    "[WHERE 条件]\n",
    "[GROUP BY 列名1, 列名2, ...]\n",
    "[HAVING 条件]\n",
    "[ORDER BY 列名1, 列名2, ...]\n",
    "[LIMIT 数字]; \n",
    "```"
   ]
  },
  {
   "cell_type": "markdown",
   "id": "6bac2d83-914a-48a2-82db-8f4c4d4de53b",
   "metadata": {
    "editable": true,
    "slideshow": {
     "slide_type": ""
    },
    "tags": []
   },
   "source": [
    "このうち，問い合わせ結果に表示したい情報を指定する`SELECT`句，および問い合わせの際に参照するテーブルを指定している`FROM`句は必須である．\n",
    "`[ ]`で囲まれた箇所については，書かなくてもSQLとして動作する．\n",
    "なお，`SELECT`や`FROM`，`WHERE`，`GROUP BY`，`HAVING`，`ORDER BY`，`LIMIT`といった**句**の意味のついては後ほど説明するが，各句は**この順序で使う**必要がある．\n",
    "例えば，`HAVING`句は`WHERE`句の後ろに書かない．\n",
    "また，クエリの末尾にはピリオド（;）をつけ忘れてはいけない．"
   ]
  },
  {
   "cell_type": "markdown",
   "id": "65584763-c908-45cd-87ec-f93540695953",
   "metadata": {
    "editable": true,
    "slideshow": {
     "slide_type": ""
    },
    "tags": []
   },
   "source": [
    "以後，SQLの基礎について説明する．\n",
    "説明には，独立行政法人統計センターが公開している教育用標準データセット（SSDSE）の[基本素材SSDSE-E](https://www.nstac.go.jp/use/literacy/ssdse/#SSDSE-E)（データの解説は[こちら](https://www.nstac.go.jp/sys/files/kaisetsu-E-2023.pdf)）から抜粋・加工したデータ（`population`テーブル）を用いる．\n",
    "`population`テーブルには，47ある各都道府県に関する総人口，小学校児童数，中学校生徒数，高等学校生徒数，大学学生数のデータが2021年度，2020年度分入っている．\n",
    "このテーブルが格納された関係データベースが手元にあると想定して，SQLの使い方を説明する．"
   ]
  },
  {
   "cell_type": "code",
   "execution_count": null,
   "id": "15a3ce9d-7459-4039-9cf5-0784c5c18088",
   "metadata": {
    "editable": true,
    "slideshow": {
     "slide_type": ""
    },
    "tags": [
     "remove-output",
     "remove-input"
    ]
   },
   "outputs": [],
   "source": [
    "%config SqlMagic.displaylimit = None"
   ]
  },
  {
   "cell_type": "code",
   "execution_count": null,
   "id": "5f88f72a-dd6e-44c6-bd4f-3a5ec7834b9a",
   "metadata": {
    "editable": true,
    "slideshow": {
     "slide_type": ""
    },
    "tags": [
     "remove-input",
     "scroll-output"
    ]
   },
   "outputs": [],
   "source": [
    "%%sql\n",
    "\n",
    "SELECT * FROM population;"
   ]
  },
  {
   "cell_type": "markdown",
   "id": "5a3fb1e0",
   "metadata": {
    "editable": true,
    "slideshow": {
     "slide_type": ""
    },
    "tags": []
   },
   "source": [
    "## 射影（SELECT）"
   ]
  },
  {
   "cell_type": "markdown",
   "id": "42d29583-6916-40d9-98cf-bc5b3b826fcc",
   "metadata": {
    "editable": true,
    "slideshow": {
     "slide_type": ""
    },
    "tags": []
   },
   "source": [
    "最も単純なSQLは`SELECT`句と`FROM`句のみからなるものである．\n",
    "**射影**とは`FROM`句で指定されたテーブルから，`SELECT`句で指定した特定の列のデータのみを抽出する操作である．\n",
    "\n",
    "例題として用いる`population`テーブルは列として「地域コード」「都道府県」「調査年度」「総人口」「小学校児童数」「中学校生徒数」「高等学校生徒数」「大学学生数」があるが，ケースによって特定の列のデータのみ欲しい場合がある．\n",
    "そのようなケースで用いるのが射影である．\n",
    "例えば，`population`テーブルから「都道府県」「調査年度」「総人口」の列のデータのみを抽出する場合，SQL文は以下となる．"
   ]
  },
  {
   "cell_type": "markdown",
   "id": "35d0c841-524d-4eaa-951b-0a09530a0582",
   "metadata": {
    "editable": true,
    "slideshow": {
     "slide_type": ""
    },
    "tags": [
     "remove-output"
    ],
    "vscode": {
     "languageId": "sql"
    }
   },
   "source": [
    "```sql\n",
    "SELECT\n",
    "    都道府県, 調査年度, 総人口\n",
    "FROM\n",
    "    population; \n",
    "```"
   ]
  },
  {
   "cell_type": "code",
   "execution_count": null,
   "id": "6bdbfe19-736f-4a6f-9750-e3bfbe5740b6",
   "metadata": {
    "editable": true,
    "slideshow": {
     "slide_type": ""
    },
    "tags": [
     "remove-input",
     "scroll-output"
    ]
   },
   "outputs": [],
   "source": [
    "%%sql\n",
    "\n",
    "SELECT\n",
    "    都道府県, 調査年度, 総人口\n",
    "FROM\n",
    "    population;"
   ]
  },
  {
   "cell_type": "markdown",
   "id": "15781ce9-8e57-4d9d-a2c4-bf24f681f1c1",
   "metadata": {
    "editable": true,
    "slideshow": {
     "slide_type": ""
    },
    "tags": []
   },
   "source": [
    "`SELECT`句内で指定した「都道府県」「調査年度」「総人口」列のデータのみが表示された．\n",
    "\n",
    "`population`テーブルは合計で94行のレコードが格納されているため，表が縦に長くなってしまう．\n",
    "SQL文の問い合わせで得られた結果のうち，先頭の$N$行だけを表示させるためには，以下のように`LIMIT`句を使うとよい．\n"
   ]
  },
  {
   "cell_type": "code",
   "execution_count": null,
   "id": "ce3386dd-8306-46f7-86e1-59c29e9f3c0a",
   "metadata": {
    "editable": true,
    "slideshow": {
     "slide_type": ""
    },
    "tags": [
     "remove-output",
     "remove-input"
    ]
   },
   "outputs": [],
   "source": [
    "%config SqlMagic.displaylimit = 50"
   ]
  },
  {
   "cell_type": "markdown",
   "id": "0e4821ec-7edd-45c3-b9d0-88b06a0ac099",
   "metadata": {
    "editable": true,
    "slideshow": {
     "slide_type": ""
    },
    "tags": []
   },
   "source": [
    "```sql\n",
    "SELECT\n",
    "    都道府県, 調査年度, 総人口\n",
    "FROM\n",
    "    population\n",
    "LIMIT 10;  -- コメント:先頭の10件のみ表示\n",
    "```"
   ]
  },
  {
   "attachments": {},
   "cell_type": "markdown",
   "id": "6b89528c-98d0-4eb0-a587-bfa389a79ade",
   "metadata": {
    "editable": true,
    "slideshow": {
     "slide_type": ""
    },
    "tags": []
   },
   "source": [
    "%%sql\n",
    "\n",
    "SELECT\n",
    "    都道府県, 調査年度, 総人口\n",
    "FROM\n",
    "    population\n",
    "LIMIT 10;\n",
    "\n",
    "上記SQL文では表示する列を「都道府県」「調査年度」「総人口」に限定したが，テーブルがもつすべての列情報を表示させたい場合もあるだろう．\n",
    "そのようなケースでは，以下のように`SELECT`句に**アスタリスク（*）** を使えばよい（アスタリスクを用いると，すべての列名を列挙するのと同等の結果が得られる）"
   ]
  },
  {
   "cell_type": "markdown",
   "id": "bdb2e423-fcac-4f18-bbf4-bbde7f093f88",
   "metadata": {
    "editable": true,
    "slideshow": {
     "slide_type": ""
    },
    "tags": []
   },
   "source": [
    "```sql\n",
    "SELECT\n",
    "    *\n",
    "FROM\n",
    "    population\n",
    "LIMIT 10; \n",
    "```"
   ]
  },
  {
   "cell_type": "code",
   "execution_count": null,
   "id": "4b6dfbc0-9656-4990-9752-4a66e9487894",
   "metadata": {
    "editable": true,
    "slideshow": {
     "slide_type": ""
    },
    "tags": [
     "remove-input"
    ]
   },
   "outputs": [],
   "source": [
    "%%sql\n",
    "\n",
    "SELECT\n",
    "    *\n",
    "FROM\n",
    "    population\n",
    "LIMIT 10;"
   ]
  },
  {
   "cell_type": "markdown",
   "id": "43b7c7e0",
   "metadata": {
    "editable": true,
    "slideshow": {
     "slide_type": ""
    },
    "tags": [
     "remove-output"
    ]
   },
   "source": [
    "```{tip}\n",
    "#### 読みやすいSQL\n",
    "SQL文では改行や余分な空白は無視される．そのため，上記SQL文は`SELECT * FROM population LIMIT 10;`と解釈される．\n",
    "\n",
    "それでもわざわざ改行や余分な空白を入れたりしているのは，SQL文を読みやすくするためである．\n",
    "複雑な問い合わせを行う場合，SQL文も複雑かつ長くなる．\n",
    "そういったSQL文を読むのは苦痛であるしミスも見落としやすくなるので，できる限りSQL文を読みやすくしておくほうがよい．\n",
    "```"
   ]
  },
  {
   "cell_type": "markdown",
   "id": "4907b444",
   "metadata": {
    "editable": true,
    "slideshow": {
     "slide_type": ""
    },
    "tags": []
   },
   "source": [
    "## 選択（WHERE）"
   ]
  },
  {
   "cell_type": "markdown",
   "id": "5438f655-87c9-4492-aa86-251dbb8a6424",
   "metadata": {
    "editable": true,
    "slideshow": {
     "slide_type": ""
    },
    "tags": []
   },
   "source": [
    "**選択**とは関係データベースから特定の条件を満たすレコードを抽出する操作である．\n",
    "選択を行うには`WHERE`句はを用いる．\n",
    "`WHERE`句を使うことで，列の値と定数，あるいは列同士の値を比較して，`FROM`句で参照したテーブル中のデータを絞り込むことができる．\n",
    "\n",
    "`WHERE`句内で使える代表的な比較演算子は，以下の通りである：\n",
    "- =（等しい）\n",
    "- !=（等しくない）\n",
    "- <（より小さい）\n",
    "- \\>（より大きい）\n",
    "- <=（以下）\n",
    "- \\>=（以上）"
   ]
  },
  {
   "cell_type": "markdown",
   "id": "6c0d7ca0-0a2e-47cd-b984-0c2b773e2cd4",
   "metadata": {
    "editable": true,
    "slideshow": {
     "slide_type": ""
    },
    "tags": []
   },
   "source": [
    "例えば，`population`テーブルから総人口数が750万以上のレコードを抽出するSQL文は以下となる．"
   ]
  },
  {
   "cell_type": "markdown",
   "id": "ad02ec94-0261-4b04-b5f2-267f57b99b0f",
   "metadata": {
    "editable": true,
    "slideshow": {
     "slide_type": ""
    },
    "tags": []
   },
   "source": [
    "```sql\n",
    "SELECT\n",
    "    *\n",
    "FROM\n",
    "    population\n",
    "WHERE\n",
    "    総人口 >= 7500000; \n",
    "```"
   ]
  },
  {
   "cell_type": "code",
   "execution_count": null,
   "id": "c04109df-2028-4db9-b3e2-e034d7aea9dd",
   "metadata": {
    "editable": true,
    "slideshow": {
     "slide_type": ""
    },
    "tags": [
     "remove-input"
    ]
   },
   "outputs": [],
   "source": [
    "%%sql\n",
    "\n",
    "SELECT\n",
    "    *\n",
    "FROM\n",
    "    population\n",
    "WHERE\n",
    "    総人口 >= 7500000;"
   ]
  },
  {
   "cell_type": "markdown",
   "id": "e3ccfc57-7206-49d4-ba64-1eacf1318726",
   "metadata": {
    "editable": true,
    "slideshow": {
     "slide_type": ""
    },
    "tags": []
   },
   "source": [
    "比較したい列のデータ型が文字列の場合は比較したい文字列を**ダブルクォーテーション（\\\"）** もしくは**シングルクォーテーション（'）** で囲う必要がある．\n",
    "\n",
    "以下は，`population`テーブルから都道府県名が「京都府」のレコードを抽出するSQL文の例である．"
   ]
  },
  {
   "cell_type": "markdown",
   "id": "3e62a6af-753a-4e7d-9b97-bca6f25d0fee",
   "metadata": {
    "editable": true,
    "slideshow": {
     "slide_type": ""
    },
    "tags": []
   },
   "source": [
    "```sql\n",
    "SELECT\n",
    "    *\n",
    "FROM\n",
    "    population\n",
    "WHERE\n",
    "    都道府県 = \"京都府\"; \n",
    "```"
   ]
  },
  {
   "cell_type": "code",
   "execution_count": null,
   "id": "ed51b641-233f-42a5-8ba0-38d9fe6c97c4",
   "metadata": {
    "editable": true,
    "slideshow": {
     "slide_type": ""
    },
    "tags": [
     "remove-input"
    ]
   },
   "outputs": [],
   "source": [
    "%%sql\n",
    "\n",
    "SELECT\n",
    "    *\n",
    "FROM\n",
    "    population\n",
    "WHERE\n",
    "    都道府県 = \"京都府\";"
   ]
  },
  {
   "cell_type": "markdown",
   "id": "73e3e5b9-492a-4f39-8bf1-7de1fef9c7db",
   "metadata": {
    "editable": true,
    "slideshow": {
     "slide_type": ""
    },
    "tags": []
   },
   "source": [
    "文字列の条件指定においては，列データに特定の文字列を含むレコードを抽出したいケースもある．\n",
    "そのようなケースでは`LIKE`句を用いる．\n",
    "以下の例のように，`WHERE`句内に`LIKE %部分文字列%`といった文を書くと，指定した部分文字列を列データに含むレコードに絞り込むことができる．\n",
    "なお`%`（パーセント）は0文字以上の任意の文字列を意味する．\n",
    "\n",
    "以下は，`population`テーブルから都道府県名に「京都」の文字を含むレコードのみを抽出するSQL文の例である．"
   ]
  },
  {
   "cell_type": "markdown",
   "id": "313b179d-fd51-4149-81e6-0d7640836ca9",
   "metadata": {
    "editable": true,
    "slideshow": {
     "slide_type": ""
    },
    "tags": []
   },
   "source": [
    "```sql\n",
    "SELECT\n",
    "    *\n",
    "FROM\n",
    "    population\n",
    "WHERE\n",
    "    都道府県 LIKE \"%京都%\"; \n",
    "```"
   ]
  },
  {
   "cell_type": "code",
   "execution_count": null,
   "id": "3b129a81-f978-40be-bec8-fe88124e43c2",
   "metadata": {
    "editable": true,
    "slideshow": {
     "slide_type": ""
    },
    "tags": [
     "remove-input"
    ]
   },
   "outputs": [],
   "source": [
    "%%sql\n",
    "\n",
    "SELECT\n",
    "    *\n",
    "FROM\n",
    "    population\n",
    "WHERE\n",
    "    都道府県 LIKE \"%京都%\";"
   ]
  },
  {
   "cell_type": "markdown",
   "id": "f792dd79-4d85-4de5-ad93-796e308d4d9f",
   "metadata": {
    "editable": true,
    "slideshow": {
     "slide_type": ""
    },
    "tags": []
   },
   "source": [
    "「京都」の前後にパーセント記号をつけることによって，都道府県名が「〜京都」もしくは「京都〜」のパターンにマッチするレコードのみに絞り込んでいる．\n",
    "もし`LIKE`句の条件を`%京都%`ではなく`%京都`にした場合，京都府のレコードはマッチしなくなる．"
   ]
  },
  {
   "cell_type": "markdown",
   "id": "e40750fa-1f84-429c-8c47-8881d1b2aa67",
   "metadata": {
    "editable": true,
    "slideshow": {
     "slide_type": ""
    },
    "tags": []
   },
   "source": [
    "```{note}\n",
    "#### SQLの処理順序\n",
    "SELECT文による問い合わせが行われたとき，関係データベース管理システムは以下のステップで処理を行う．\n",
    "1. FROM句で指定した表を参照\n",
    "2. 表中の各レコードがWHERE句で指定された条件を満たしているかを確認\n",
    "3. ステップ2で条件を満たしていると判定された行のみ，その行にあるSELECT句で指定した列のデータを表示\n",
    "```"
   ]
  },
  {
   "cell_type": "markdown",
   "id": "4d0d09d2-59b7-49ba-93ef-041eea79760e",
   "metadata": {
    "editable": true,
    "slideshow": {
     "slide_type": ""
    },
    "tags": []
   },
   "source": [
    "`WHERE`句では条件を複数指定することもできる．\n",
    "条件は論理演算子である`AND`もしくは`OR`で結合することができる．\n",
    "* `条件1 AND 条件2`と指定すれば，条件1と条件2をともに満たすレコード\n",
    "* `条件1 OR 条件2`と指定すれば，条件1もしくは条件2のいずれかを満たすレコード\n",
    "\n",
    "を抽出することができる．\n",
    "\n",
    "以下は，`population`テーブルから総人口が100万人以上でかつ大学生数が高校生数よりも多い都道府県を抽出するSQL文の例である．"
   ]
  },
  {
   "cell_type": "markdown",
   "id": "ef9bb99c-7f2d-42ff-aaf4-693ae0102e91",
   "metadata": {
    "editable": true,
    "slideshow": {
     "slide_type": ""
    },
    "tags": []
   },
   "source": [
    "```sql\n",
    "SELECT\n",
    "    都道府県\n",
    "FROM\n",
    "    population\n",
    "WHERE\n",
    "    (総人口 >= 1000000)\n",
    "    AND (大学学生数 > 高等学校生徒数); \n",
    "```"
   ]
  },
  {
   "cell_type": "code",
   "execution_count": null,
   "id": "13144dcb-5a7f-4f06-a42b-175ff49fa0c7",
   "metadata": {
    "editable": true,
    "slideshow": {
     "slide_type": ""
    },
    "tags": [
     "remove-input"
    ]
   },
   "outputs": [],
   "source": [
    "%%sql\n",
    "\n",
    "SELECT\n",
    "    都道府県\n",
    "FROM\n",
    "    population\n",
    "WHERE\n",
    "    (総人口 >= 1000000)\n",
    "    AND (大学学生数 > 高等学校生徒数);"
   ]
  },
  {
   "cell_type": "markdown",
   "id": "55d786f6-f55e-48da-a59b-33e93d6ab00c",
   "metadata": {
    "editable": true,
    "slideshow": {
     "slide_type": ""
    },
    "tags": []
   },
   "source": [
    "```{tip}\n",
    "#### 条件の明確化\n",
    "条件の前後に丸括弧をつけることで，条件の記述範囲を明確にすることができる．\n",
    "条件の範囲やAND/ORのかかる順序をわかりやすくするためにも，3つ以上の条件を組み合わせるような場合には条件の前後に丸括弧をつけることをオススメする．\n",
    "```"
   ]
  },
  {
   "cell_type": "markdown",
   "id": "9d55d939-5f07-4304-9ea6-5a5da151849d",
   "metadata": {
    "editable": true,
    "slideshow": {
     "slide_type": ""
    },
    "tags": []
   },
   "source": [
    "上記結果には重複する結果が含まれているが，通常SQLは重複した結果があってもそのまま出力される．\n",
    "行の重複を除いた結果を出力したい場合，`SELECT`の直後に`DISTINCT`を指定する．\n",
    "\n",
    "上記の例においては，以下のようなSQL文を発行すると重複のない結果が得られる．"
   ]
  },
  {
   "cell_type": "markdown",
   "id": "e2cbbe04-f05d-43f1-aedd-d50b8bc39326",
   "metadata": {
    "editable": true,
    "slideshow": {
     "slide_type": ""
    },
    "tags": []
   },
   "source": [
    "```sql\n",
    "SELECT DISTINCT\n",
    "    都道府県\n",
    "FROM\n",
    "    population\n",
    "WHERE\n",
    "    (総人口 >= 1000000)\n",
    "    AND (大学学生数 > 高等学校生徒数); \n",
    "```"
   ]
  },
  {
   "cell_type": "code",
   "execution_count": null,
   "id": "4d0804ee-98d4-457a-89da-d25fe9eeec41",
   "metadata": {
    "editable": true,
    "slideshow": {
     "slide_type": ""
    },
    "tags": [
     "remove-input"
    ]
   },
   "outputs": [],
   "source": [
    "%%sql\n",
    "\n",
    "SELECT DISTINCT\n",
    "    都道府県\n",
    "FROM\n",
    "    population\n",
    "WHERE\n",
    "    (総人口 >= 1000000)\n",
    "    AND (大学学生数 > 高等学校生徒数);"
   ]
  },
  {
   "cell_type": "markdown",
   "id": "56abc16a",
   "metadata": {
    "editable": true,
    "slideshow": {
     "slide_type": ""
    },
    "tags": []
   },
   "source": [
    "## 整列（ORDER BY）"
   ]
  },
  {
   "cell_type": "markdown",
   "id": "437516cf-b7eb-4963-b24b-beb4922f15ec",
   "metadata": {
    "editable": true,
    "slideshow": {
     "slide_type": ""
    },
    "tags": []
   },
   "source": [
    "データ分析では，大きいもの（小さいもの）順にデータを**整列（ソート）** させたいケースが多々ある．\n",
    "そのようなケースで使用するのが`ORDER BY`句である．\n",
    "\n",
    "以下のように`ORDER BY`の後に列名を指定することで，SQL文で抽出したレコードを指定した列の値の**小さいもの順（昇順）** に並び替えることができる．"
   ]
  },
  {
   "cell_type": "markdown",
   "id": "74237243-2578-4088-a853-5edf97edcc29",
   "metadata": {
    "editable": true,
    "slideshow": {
     "slide_type": ""
    },
    "tags": []
   },
   "source": [
    "```sql\n",
    "SELECT \n",
    "    *\n",
    "FROM\n",
    "    population\n",
    "ORDER BY \n",
    "    総人口\n",
    "LIMIT 10; --- 先頭の10件のみ表示\n",
    "```"
   ]
  },
  {
   "cell_type": "code",
   "execution_count": null,
   "id": "7f1e5ec6-0418-40c3-b3c4-0b9157088098",
   "metadata": {
    "editable": true,
    "slideshow": {
     "slide_type": ""
    },
    "tags": [
     "remove-input"
    ]
   },
   "outputs": [],
   "source": [
    "%%sql\n",
    "\n",
    "SELECT\n",
    "    *\n",
    "FROM\n",
    "    population\n",
    "ORDER BY\n",
    "    総人口\n",
    "LIMIT 10;\n"
   ]
  },
  {
   "cell_type": "markdown",
   "id": "8f5529f9-400d-4904-b6e8-86d0efb1c709",
   "metadata": {
    "editable": true,
    "slideshow": {
     "slide_type": ""
    },
    "tags": []
   },
   "source": [
    "`ORDER BY`はデフォルトは小さいもの順（昇順, in ascending order）でレコードをソートする．\n",
    "大きいもの順（降順, in descending order）でソートしたい場合は，`ORDER BY`で列名を指定する際，列名の後に`DESC`キーワードを付ける．"
   ]
  },
  {
   "cell_type": "markdown",
   "id": "0048da85-0809-48ee-980a-ac83864465d5",
   "metadata": {
    "editable": true,
    "slideshow": {
     "slide_type": ""
    },
    "tags": []
   },
   "source": [
    "```sql\n",
    "SELECT \n",
    "    *\n",
    "FROM\n",
    "    population\n",
    "ORDER BY \n",
    "    総人口 DESC --- DESCを付けることで総人口の降順で結果を並び替える\n",
    "LIMIT 10; \n",
    "```"
   ]
  },
  {
   "cell_type": "code",
   "execution_count": null,
   "id": "75ce9723-461f-4fad-8228-50b290b601e7",
   "metadata": {
    "editable": true,
    "slideshow": {
     "slide_type": ""
    },
    "tags": [
     "remove-input"
    ]
   },
   "outputs": [],
   "source": [
    "%%sql\n",
    "\n",
    "SELECT\n",
    "    *\n",
    "FROM\n",
    "    population\n",
    "ORDER BY\n",
    "    総人口 DESC\n",
    "LIMIT 10;\n"
   ]
  },
  {
   "cell_type": "markdown",
   "id": "4860b501",
   "metadata": {
    "editable": true,
    "slideshow": {
     "slide_type": ""
    },
    "tags": []
   },
   "source": [
    "## 集約関数"
   ]
  },
  {
   "cell_type": "markdown",
   "id": "5d1dede6-aab4-4379-9620-aca9fa69e6af",
   "metadata": {
    "editable": true,
    "slideshow": {
     "slide_type": ""
    },
    "tags": []
   },
   "source": [
    "合計値や平均値の計算など，データの集計はデータ集合の特徴を知る上での基礎となる．\n",
    "関係データベースから抽出したレコード集合に対して集計処理を行いたい場合は**集約関数（aggregate functions）** を用いる．\n",
    "SQLに実装されている代表的な集約関数は以下の通りである．\n",
    "- `SUM`: 合計値の計算\n",
    "- `MAX`: 最大値の計算\n",
    "- `MIN`: 最小値の計算\n",
    "- `AVG`: 平均値の計算\n",
    "- `COUNT`: 行数のカウント\n",
    "\n",
    "関数の引数には計算に用いたい列名などを指定する．\n",
    "（[次節](#グループ化による集約演算（GROUP-BY）)で解説する`GROUP BY`句を用いない場合）集計関数は，**`WHERE`句までで絞り込まれたレコード全体を1つのグループと見なして** 集計処理を行う．\n",
    "\n",
    "例えば，`population`テーブルから調査年度が2021年度のレコードだけに限定して，各都道府県の総人口の合計値を計算するSQL文は以下となる．"
   ]
  },
  {
   "cell_type": "markdown",
   "id": "20bfe00c-92f8-4c9f-ae06-6aae350d269c",
   "metadata": {
    "editable": true,
    "slideshow": {
     "slide_type": ""
    },
    "tags": []
   },
   "source": [
    "```sql\n",
    "SELECT\n",
    "    SUM(総人口)\n",
    "FROM\n",
    "    population\n",
    "WHERE\n",
    "    調査年度 = 2021; \n",
    "```"
   ]
  },
  {
   "cell_type": "code",
   "execution_count": null,
   "id": "44f23279-69f0-4518-8d10-f14715d01e96",
   "metadata": {
    "editable": true,
    "slideshow": {
     "slide_type": ""
    },
    "tags": [
     "remove-input"
    ]
   },
   "outputs": [],
   "source": [
    "%%sql\n",
    "\n",
    "SELECT\n",
    "    SUM(総人口)\n",
    "FROM\n",
    "    population\n",
    "WHERE\n",
    "    調査年度 = 2021;"
   ]
  },
  {
   "cell_type": "markdown",
   "id": "0b6c6bd4-98b7-4a5d-a26c-e6aafdb0ab42",
   "metadata": {
    "editable": true,
    "slideshow": {
     "slide_type": ""
    },
    "tags": []
   },
   "source": [
    "`SELECT`句に複数集約関数を指定することで，複数の集計処理を同時に行うこともできる．\n",
    "以下は，`population`テーブルを調査年度が2021年度のレコードを用いて，各都道府県の総人口の「合計値」「平均値」「最大値と最小値の差」を計算するSQL文である．"
   ]
  },
  {
   "cell_type": "markdown",
   "id": "5beedb73-0bcd-443e-b56a-6eacf8180734",
   "metadata": {
    "editable": true,
    "slideshow": {
     "slide_type": ""
    },
    "tags": []
   },
   "source": [
    "```sql\n",
    "SELECT\n",
    "    SUM(総人口),\n",
    "    AVG(総人口),\n",
    "    MAX(総人口) - MIN(総人口) --- SELECT句内では四則演算もできる\n",
    "FROM\n",
    "    population\n",
    "WHERE\n",
    "    調査年度 = 2021;\n",
    "```"
   ]
  },
  {
   "cell_type": "code",
   "execution_count": null,
   "id": "9e92f443-6e59-4edc-a60d-4b61086b0ab3",
   "metadata": {
    "editable": true,
    "slideshow": {
     "slide_type": ""
    },
    "tags": [
     "remove-input"
    ]
   },
   "outputs": [],
   "source": [
    "%%sql\n",
    "\n",
    "SELECT\n",
    "    SUM(総人口),\n",
    "    AVG(総人口),\n",
    "    MAX(総人口) - MIN(総人口)\n",
    "FROM\n",
    "    population\n",
    "WHERE\n",
    "    調査年度 = 2021;"
   ]
  },
  {
   "cell_type": "markdown",
   "id": "453f4814-6644-4c68-8b02-c83bc4e30b4c",
   "metadata": {
    "editable": true,
    "slideshow": {
     "slide_type": ""
    },
    "tags": []
   },
   "source": [
    "```{note}\n",
    "#### 様々な演算子\n",
    "`SELECT`句や`WHERE`句の中では，四則演算も行うことができる．加算（`+`），減算（`-`），乗算（`*`），除算（`/`）といった四則演算のための演算子以外にも，余りを求めるための剰余演算子（`%`），絶対値を求める`ABS`関数といった様々な算術演算ツールが用意されている．気になった演算があればマニュアルを調べてみよう．\n",
    "```"
   ]
  },
  {
   "cell_type": "markdown",
   "id": "476eec4b-7f6c-4da5-9238-6af7f29b26b9",
   "metadata": {
    "editable": true,
    "slideshow": {
     "slide_type": ""
    },
    "tags": []
   },
   "source": [
    "行数（レコード数）をカウントする`COUNT`関数は，しばしば引数にすべての列を意味するアスタリスク（*）が用いられる．\n",
    "以下は，`population`テーブルに格納されたレコード数を調べるSQL文である．"
   ]
  },
  {
   "cell_type": "markdown",
   "id": "54566ecf-c65a-40cc-b0c3-1cb5ac491c97",
   "metadata": {
    "editable": true,
    "slideshow": {
     "slide_type": ""
    },
    "tags": []
   },
   "source": [
    "```sql\n",
    "SELECT\n",
    "    COUNT(*)\n",
    "FROM\n",
    "    population;\n",
    "```"
   ]
  },
  {
   "cell_type": "code",
   "execution_count": null,
   "id": "8253691f-0c37-47bb-a86f-7785e1bee4c9",
   "metadata": {
    "editable": true,
    "slideshow": {
     "slide_type": ""
    },
    "tags": [
     "remove-input"
    ]
   },
   "outputs": [],
   "source": [
    "%%sql\n",
    "\n",
    "SELECT\n",
    "    COUNT(*)\n",
    "FROM\n",
    "    population;"
   ]
  },
  {
   "cell_type": "markdown",
   "id": "8f728bca-a686-49db-a292-e1c2092922ef",
   "metadata": {
    "editable": true,
    "slideshow": {
     "slide_type": ""
    },
    "tags": []
   },
   "source": [
    "上記のSQL文は`SELECT * FROM population;`の実行結果の行数を数えていると考えればよい．\n",
    "以下のSQL文は結果だけ見ると上記のSQL文と同じになるが，処理の流れとしては`SELECT 都道府県 FROM population;`の実行結果の行数を数えていることになる．"
   ]
  },
  {
   "cell_type": "markdown",
   "id": "57c7954a-a837-4a3b-9bbd-6fceaf07b0c4",
   "metadata": {
    "editable": true,
    "slideshow": {
     "slide_type": ""
    },
    "tags": []
   },
   "source": [
    "```sql\n",
    "SELECT\n",
    "    COUNT(都道府県)\n",
    "FROM\n",
    "    population;\n",
    "```"
   ]
  },
  {
   "cell_type": "code",
   "execution_count": null,
   "id": "d43bd6a9-3a88-4ad9-81ef-e30b7eab5273",
   "metadata": {
    "editable": true,
    "slideshow": {
     "slide_type": ""
    },
    "tags": [
     "remove-input"
    ]
   },
   "outputs": [],
   "source": [
    "%%sql\n",
    "\n",
    "SELECT\n",
    "    COUNT(都道府県)\n",
    "FROM\n",
    "    population;"
   ]
  },
  {
   "cell_type": "markdown",
   "id": "9a68f962-f689-4622-976e-63e0c25f5593",
   "metadata": {
    "editable": true,
    "slideshow": {
     "slide_type": ""
    },
    "tags": []
   },
   "source": [
    "なお，上記の結果には2021年度と2020年度の結果が含まれているため，同じ都道府県名が2回数えられてしまっている．\n",
    "都道府県名の重複を除いて行数をカウントしたい場合は，以下のSQL文のように`DISTINCT`を使う．"
   ]
  },
  {
   "cell_type": "markdown",
   "id": "382b6e69-8c39-4bcd-bc9e-dab111d8ea69",
   "metadata": {
    "editable": true,
    "slideshow": {
     "slide_type": ""
    },
    "tags": []
   },
   "source": [
    "```sql\n",
    "SELECT\n",
    "    COUNT(DISTINCT 都道府県)\n",
    "FROM\n",
    "    population;\n",
    "```"
   ]
  },
  {
   "cell_type": "code",
   "execution_count": null,
   "id": "3f8d6d4a-cd96-4bad-bc26-4a6a9d84798d",
   "metadata": {
    "editable": true,
    "slideshow": {
     "slide_type": ""
    },
    "tags": [
     "remove-input"
    ]
   },
   "outputs": [],
   "source": [
    "%%sql\n",
    "\n",
    "SELECT\n",
    "    COUNT(DISTINCT 都道府県)\n",
    "FROM\n",
    "    population;"
   ]
  },
  {
   "cell_type": "markdown",
   "id": "ae2707b2-e4fb-416c-b166-ff49b909d4e6",
   "metadata": {
    "editable": true,
    "slideshow": {
     "slide_type": ""
    },
    "tags": []
   },
   "source": [
    "## グループ化による集約演算（GROUP BY）\n"
   ]
  },
  {
   "cell_type": "markdown",
   "id": "99bb2aae-2114-4e46-855d-eb811589f3bc",
   "metadata": {
    "editable": true,
    "slideshow": {
     "slide_type": ""
    },
    "tags": []
   },
   "source": [
    "[前節](#集約関数)で解説した集約のためのSQL文は，`WHERE`句で絞り込まれたレコード全体に対して集計操作を行うものであった．\n",
    "しかし実際にデータ分析を行う場合，レコード全体での集計にとどまらず，ある基準でまとめられたグループごとに集計を行うことも少なくない．\n",
    "`GROUP BY`句はグループごとに集約演算を行うための機能である．\n",
    "\n",
    "「`GROUP BY`句 + 列名」の形式で指定をすると，指定された列名について同じ値をもつレコードが1つのグループにまとめられた**グループ表**が（ユーザには見えない形で）一時的に作成される．\n",
    "例えば，`population`テーブルに対して問い合わせを行うSQL文内で「`GROUP BY 地域コード`」と書くと，以下のようなイメージのグループ表が一時的に作成される（点線がグループを表す）．\n",
    "![グループ表](fig/group-table.png \"グループ表の例\") \n",
    "`GROUP BY`句を用いたクエリを用いると，まとめられたグループのそれぞれに対して`SELECT`区で指定された集約関数が適用される．\n",
    "\n",
    "以下は，`population`テーブルを用いて，都道府県ごとに2021年と2020年の総人口の平均値を計算するSQL文である．"
   ]
  },
  {
   "cell_type": "markdown",
   "id": "13d4b31c-7468-4401-820d-eaad00ee1e6e",
   "metadata": {
    "editable": true,
    "slideshow": {
     "slide_type": ""
    },
    "tags": []
   },
   "source": [
    "```sql\n",
    "SELECT\n",
    "    地域コード,\n",
    "    都道府県,\n",
    "    AVG(総人口)\n",
    "FROM\n",
    "    population\n",
    "GROUP BY\n",
    "    地域コード\n",
    "LIMIT 10; --- 先頭の10件のみ表示\n",
    "```"
   ]
  },
  {
   "cell_type": "code",
   "execution_count": null,
   "id": "255a2bcc-d1cc-4ba6-9382-159ae74253b8",
   "metadata": {
    "editable": true,
    "slideshow": {
     "slide_type": ""
    },
    "tags": [
     "remove-input"
    ]
   },
   "outputs": [],
   "source": [
    "%%sql\n",
    "SELECT\n",
    "    地域コード,\n",
    "    都道府県,\n",
    "    AVG(総人口)\n",
    "FROM\n",
    "    population\n",
    "GROUP BY\n",
    "    地域コード\n",
    "LIMIT 10;"
   ]
  },
  {
   "cell_type": "markdown",
   "id": "4a92ea09-e6df-4718-a3f9-71c857ef6467",
   "metadata": {
    "editable": true,
    "slideshow": {
     "slide_type": ""
    },
    "tags": []
   },
   "source": [
    "`GROUP BY`句は`WHERE`句と組み合わせて使うこともできる．\n",
    "`WHERE`句を使うことで，ある条件で絞り込んだレコード集合に対して`GROUP BY`を適用することができる．\n",
    "\n",
    "以下は，`population`テーブルの中で総人口が500万を超えるレコードに限定して，都道府県ごとに2021年と2020年の総人口の平均値を計算するSQL文である．"
   ]
  },
  {
   "cell_type": "markdown",
   "id": "aab09d9f-bf22-41b4-9c61-2b72f9f3cff7",
   "metadata": {
    "editable": true,
    "slideshow": {
     "slide_type": ""
    },
    "tags": []
   },
   "source": [
    "```sql\n",
    "SELECT\n",
    "    地域コード,\n",
    "    都道府県,\n",
    "    AVG(総人口)\n",
    "FROM\n",
    "    population\n",
    "WHERE\n",
    "    総人口 >= 5000000\n",
    "GROUP BY\n",
    "    地域コード;\n",
    "```"
   ]
  },
  {
   "cell_type": "code",
   "execution_count": null,
   "id": "63af349a-e600-4701-a9aa-9ae0befa04c2",
   "metadata": {
    "editable": true,
    "slideshow": {
     "slide_type": ""
    },
    "tags": [
     "remove-input"
    ]
   },
   "outputs": [],
   "source": [
    "%%sql\n",
    "SELECT\n",
    "    地域コード,\n",
    "    都道府県,\n",
    "    AVG(総人口)\n",
    "FROM\n",
    "    population\n",
    "WHERE\n",
    "    総人口 >= 5000000\n",
    "GROUP BY\n",
    "    地域コード;"
   ]
  },
  {
   "cell_type": "markdown",
   "id": "034f11e3-47bf-48a2-acee-eb3f52998840",
   "metadata": {
    "editable": true,
    "slideshow": {
     "slide_type": ""
    },
    "tags": []
   },
   "source": [
    "グループごとに集計した結果にチェックを行い，指定した条件を満たした結果を抽出したいケースもある．\n",
    "そのようなケースでは`HAVING`句を用いる．\n",
    "`HAVING`句は`WHERE`句と同じ形式で条件を指定するが，`GROUP BY`句の**後に書く**ことに注意しよう（`WHERE`句は`GROUP BY`句の前）．\n",
    "\n",
    "以下は，`population`テーブルのレコードについて，都道府県ごとに2021年と2020年の「大学学生数」の平均値を計算し，平均大学学生数が10万を超えたものについて，都道府県名，平均総人口，平均大学学生数を表示するSQL文である．`WHERE`句を用いた場合と`HAVING`句を用いた場合で挙動が異なることを意識しよう．"
   ]
  },
  {
   "cell_type": "markdown",
   "id": "e89230e8-f1ec-44e4-9649-7589af3479c0",
   "metadata": {
    "editable": true,
    "slideshow": {
     "slide_type": ""
    },
    "tags": []
   },
   "source": [
    "```sql\n",
    "SELECT\n",
    "    地域コード,\n",
    "    都道府県,\n",
    "    AVG(総人口),\n",
    "    AVG(大学学生数)\n",
    "FROM\n",
    "    population\n",
    "GROUP BY\n",
    "    地域コード\n",
    "HAVING\n",
    "    AVG(大学学生数) >= 100000;\n",
    "```"
   ]
  },
  {
   "cell_type": "code",
   "execution_count": null,
   "id": "cb183edd-c36b-408b-ac09-601dbf5fb716",
   "metadata": {
    "editable": true,
    "slideshow": {
     "slide_type": ""
    },
    "tags": [
     "remove-input"
    ]
   },
   "outputs": [],
   "source": [
    "%%sql\n",
    "SELECT\n",
    "    地域コード,\n",
    "    都道府県,\n",
    "    AVG(総人口),\n",
    "    AVG(大学学生数)\n",
    "FROM\n",
    "    population\n",
    "GROUP BY\n",
    "    地域コード\n",
    "HAVING\n",
    "    AVG(大学学生数) >= 100000;"
   ]
  },
  {
   "cell_type": "markdown",
   "id": "a2b98b39-7849-4d39-b0b5-cd18b4f098a9",
   "metadata": {
    "editable": true,
    "slideshow": {
     "slide_type": ""
    },
    "tags": []
   },
   "source": [
    "```{note}\n",
    "#### SQLの処理順序（再び）\n",
    "本章では`SELECT`句，`FROM`句，`WHERE`句，`ORDER BY`句，`GROUP BY`句，`HAVING`句が登場したが，これらが用いられたSELECT文による問い合わせが行われたとき，どのような順序で処理が行われているかを意識しよう．関係データベース管理システムは以下のステップで処理を行う．\n",
    "\n",
    "1. `FROM`句で指定した表を参照\n",
    "2. `WHERE`句があれば`WHERE`句で指定された条件を満たすレコードを選択．なければ`FROM`句で指定した表中の全レコードを選択．\n",
    "3. （`GROUP BY`句があれば）ステップ2で選択されたレコードをグループ化する\n",
    "4. （`HAVING`句があれば）ステップ3でまとめられたグループに対する条件付けを行う\n",
    "5. （`ORDER BY`句があれば）指定された基準に基づきレコードをソートする\n",
    "6. 条件を満たしたものについて，`SELECT`句で指定された値を表示．\n",
    "```\n",
    "\n",
    "---"
   ]
  },
  {
   "cell_type": "markdown",
   "id": "2f7d0a0f-548a-40f3-bbf9-52bb01c6bee1",
   "metadata": {
    "editable": true,
    "slideshow": {
     "slide_type": ""
    },
    "tags": []
   },
   "source": [
    "## クイズ\n"
   ]
  },
  {
   "cell_type": "code",
   "execution_count": null,
   "id": "e97aa0c5-3b52-49e6-9f13-6c78f34f32b0",
   "metadata": {
    "editable": true,
    "slideshow": {
     "slide_type": ""
    },
    "tags": [
     "remove-output"
    ]
   },
   "outputs": [],
   "source": [
    "%sql sqlite:///data/virtual_store.db"
   ]
  }
 ],
 "metadata": {
  "kernelspec": {
   "display_name": "Python 3 (ipykernel)",
   "language": "python",
   "name": "python3"
  },
  "language_info": {
   "codemirror_mode": {
    "name": "ipython",
    "version": 3
   },
   "file_extension": ".py",
   "mimetype": "text/x-python",
   "name": "python",
   "nbconvert_exporter": "python",
   "pygments_lexer": "ipython3",
   "version": "3.10.9"
  }
 },
 "nbformat": 4,
 "nbformat_minor": 5
}
