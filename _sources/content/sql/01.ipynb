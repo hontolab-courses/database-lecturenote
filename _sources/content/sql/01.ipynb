{
 "cells": [
  {
   "cell_type": "markdown",
   "id": "730894c6-9a90-4afb-84ec-0ca4be60031e",
   "metadata": {
    "editable": true,
    "slideshow": {
     "slide_type": ""
    },
    "tags": []
   },
   "source": [
    "# 単純質問"
   ]
  },
  {
   "cell_type": "code",
   "execution_count": 1,
   "id": "6cb9fa2a-662c-4241-9835-56721021dda7",
   "metadata": {
    "editable": true,
    "slideshow": {
     "slide_type": ""
    },
    "tags": [
     "remove-output",
     "hide-input"
    ]
   },
   "outputs": [],
   "source": [
    "import os\n",
    "\n",
    "if not os.path.isfile('data/SSDSE.db'):\n",
    "    os.makedirs('data', exist_ok=True)\n",
    "\n",
    "    if not os.path.isfile('download_SSDSE.py'):\n",
    "        !wget https://raw.githubusercontent.com/hontolab-courses/database-lecturenote/main/content/sql/download_SSDSE.py\n",
    "        import download_SSDSE"
   ]
  },
  {
   "cell_type": "code",
   "execution_count": 2,
   "id": "9b062d38-543a-4890-84e6-489dc98d959d",
   "metadata": {
    "editable": true,
    "slideshow": {
     "slide_type": ""
    },
    "tags": [
     "remove-output",
     "remove-input"
    ]
   },
   "outputs": [
    {
     "name": "stdout",
     "output_type": "stream",
     "text": [
      "Requirement already satisfied: jupysql in /Users/yamamoto/.anyenv/envs/pyenv/versions/3.10.13/lib/python3.10/site-packages (0.10.10)\n",
      "Requirement already satisfied: prettytable in /Users/yamamoto/.anyenv/envs/pyenv/versions/3.10.13/lib/python3.10/site-packages (from jupysql) (3.10.0)\n",
      "Requirement already satisfied: sqlalchemy in /Users/yamamoto/.anyenv/envs/pyenv/versions/3.10.13/lib/python3.10/site-packages (from jupysql) (2.0.29)\n",
      "Requirement already satisfied: sqlparse in /Users/yamamoto/.anyenv/envs/pyenv/versions/3.10.13/lib/python3.10/site-packages (from jupysql) (0.4.4)\n",
      "Requirement already satisfied: ipython-genutils>=0.1.0 in /Users/yamamoto/.anyenv/envs/pyenv/versions/3.10.13/lib/python3.10/site-packages (from jupysql) (0.2.0)\n",
      "Requirement already satisfied: jinja2 in /Users/yamamoto/.anyenv/envs/pyenv/versions/3.10.13/lib/python3.10/site-packages (from jupysql) (3.1.3)\n",
      "Requirement already satisfied: sqlglot>=11.3.7 in /Users/yamamoto/.anyenv/envs/pyenv/versions/3.10.13/lib/python3.10/site-packages (from jupysql) (23.6.3)\n",
      "Requirement already satisfied: jupysql-plugin>=0.4.2 in /Users/yamamoto/.anyenv/envs/pyenv/versions/3.10.13/lib/python3.10/site-packages (from jupysql) (0.4.3)\n",
      "Requirement already satisfied: ploomber-core>=0.2.7 in /Users/yamamoto/.anyenv/envs/pyenv/versions/3.10.13/lib/python3.10/site-packages (from jupysql) (0.2.25)\n",
      "Requirement already satisfied: ploomber-extension in /Users/yamamoto/.anyenv/envs/pyenv/versions/3.10.13/lib/python3.10/site-packages (from jupysql) (0.1.0)\n",
      "Requirement already satisfied: pyyaml in /Users/yamamoto/.anyenv/envs/pyenv/versions/3.10.13/lib/python3.10/site-packages (from ploomber-core>=0.2.7->jupysql) (6.0.1)\n",
      "Requirement already satisfied: posthog in /Users/yamamoto/.anyenv/envs/pyenv/versions/3.10.13/lib/python3.10/site-packages (from ploomber-core>=0.2.7->jupysql) (3.5.0)\n",
      "Requirement already satisfied: MarkupSafe>=2.0 in /Users/yamamoto/.anyenv/envs/pyenv/versions/3.10.13/lib/python3.10/site-packages (from jinja2->jupysql) (2.1.5)\n",
      "Requirement already satisfied: wcwidth in /Users/yamamoto/.anyenv/envs/pyenv/versions/3.10.13/lib/python3.10/site-packages (from prettytable->jupysql) (0.2.13)\n",
      "Requirement already satisfied: typing-extensions>=4.6.0 in /Users/yamamoto/.anyenv/envs/pyenv/versions/3.10.13/lib/python3.10/site-packages (from sqlalchemy->jupysql) (4.10.0)\n",
      "Requirement already satisfied: requests<3.0,>=2.7 in /Users/yamamoto/.anyenv/envs/pyenv/versions/3.10.13/lib/python3.10/site-packages (from posthog->ploomber-core>=0.2.7->jupysql) (2.31.0)\n",
      "Requirement already satisfied: six>=1.5 in /Users/yamamoto/.anyenv/envs/pyenv/versions/3.10.13/lib/python3.10/site-packages (from posthog->ploomber-core>=0.2.7->jupysql) (1.16.0)\n",
      "Requirement already satisfied: monotonic>=1.5 in /Users/yamamoto/.anyenv/envs/pyenv/versions/3.10.13/lib/python3.10/site-packages (from posthog->ploomber-core>=0.2.7->jupysql) (1.6)\n",
      "Requirement already satisfied: backoff>=1.10.0 in /Users/yamamoto/.anyenv/envs/pyenv/versions/3.10.13/lib/python3.10/site-packages (from posthog->ploomber-core>=0.2.7->jupysql) (2.2.1)\n",
      "Requirement already satisfied: python-dateutil>2.1 in /Users/yamamoto/.anyenv/envs/pyenv/versions/3.10.13/lib/python3.10/site-packages (from posthog->ploomber-core>=0.2.7->jupysql) (2.9.0.post0)\n",
      "Requirement already satisfied: charset-normalizer<4,>=2 in /Users/yamamoto/.anyenv/envs/pyenv/versions/3.10.13/lib/python3.10/site-packages (from requests<3.0,>=2.7->posthog->ploomber-core>=0.2.7->jupysql) (3.3.2)\n",
      "Requirement already satisfied: idna<4,>=2.5 in /Users/yamamoto/.anyenv/envs/pyenv/versions/3.10.13/lib/python3.10/site-packages (from requests<3.0,>=2.7->posthog->ploomber-core>=0.2.7->jupysql) (3.6)\n",
      "Requirement already satisfied: urllib3<3,>=1.21.1 in /Users/yamamoto/.anyenv/envs/pyenv/versions/3.10.13/lib/python3.10/site-packages (from requests<3.0,>=2.7->posthog->ploomber-core>=0.2.7->jupysql) (2.2.1)\n",
      "Requirement already satisfied: certifi>=2017.4.17 in /Users/yamamoto/.anyenv/envs/pyenv/versions/3.10.13/lib/python3.10/site-packages (from requests<3.0,>=2.7->posthog->ploomber-core>=0.2.7->jupysql) (2024.2.2)\n",
      "\u001b[33mWARNING: Error parsing requirements for pybind11: [Errno 2] No such file or directory: '/Users/yamamoto/.anyenv/envs/pyenv/versions/3.10.13/lib/python3.10/site-packages/pybind11-2.11.1.dist-info/METADATA'\u001b[0m\u001b[33m\n",
      "\u001b[0m"
     ]
    }
   ],
   "source": [
    "!pip install jupysql"
   ]
  },
  {
   "cell_type": "code",
   "execution_count": 3,
   "id": "ac1385d1-600c-473c-9bb2-4c5bf56c4df0",
   "metadata": {
    "editable": true,
    "slideshow": {
     "slide_type": ""
    },
    "tags": [
     "remove-output",
     "hide-input"
    ]
   },
   "outputs": [],
   "source": [
    "%load_ext sql\n",
    "%config SqlMagic.feedback = 0\n",
    "%sql sqlite:///data/SSDSE.db"
   ]
  },
  {
   "cell_type": "markdown",
   "id": "df039dad-4b69-4b4e-bd0b-4f3d9e0d7ef1",
   "metadata": {
    "editable": true,
    "slideshow": {
     "slide_type": ""
    },
    "tags": []
   },
   "source": [
    "データベースからデータを引っ張ってくるなど，データベースを操作するには具体的なツールが必要となる．\n",
    "**SQL(Structured Query Language)** は関係データベースの操作に特化した言語である．\n",
    "SQLはISOによって国際的に標準化されている．\n",
    "よく用いられる関係データベース管理システム（RDBMS）として[MySQL](https://ja.wikipedia.org/wiki/MySQL)や[PostregreSQL](https://ja.wikipedia.org/wiki/PostgreSQL)，[Oracle Database](https://ja.wikipedia.org/wiki/Oracle_Database)，[Microsoft SQL Server](https://ja.wikipedia.org/wiki/Microsoft_SQL_Server)などが挙げられるが，どのRDBMSにもSQLは実装されている．\n",
    "\n",
    "SQLを使うことで，関係データベースのユーザは\n",
    "- データの登録（Create）\n",
    "- データの読み出し（Read）\n",
    "- データの更新（Update）\n",
    "- データの削除（Delete）\n",
    "\n",
    "が可能となる[^CRUD]．\n",
    "なお，本教材のターゲットはデータ分析人材の卵であることから，本教材では関係データベースから**データの読み出し**に焦点を当ててSQLの説明を行う．\n",
    "\n",
    "SQLはデータベースに対する問い合わせ言語であって，プログラミング言語ではない．\n",
    "そのため，プログラミング言語に比べて覚えることは少なく，問い合わせ内容を英語に近い形で書き下すことができるよう設計されている．\n",
    "データ分析人材はソフトウェアを開発することが目的ではないから高度なプログラミング能力を持つ必要は必ずしもないが，関係データベースに納められた大量のデータを自由自在に扱うためにも**SQLの習得は必須**である．\n",
    "\n",
    "[^CRUD]: データの作成，読み出し，更新，削除はデータベースに求められる主要な操作で，それぞれの頭文字を取ってCRUD（クラッド）と呼ばれる．\n"
   ]
  },
  {
   "cell_type": "markdown",
   "id": "0f510575-738a-4483-9b20-f7a8d56883ad",
   "metadata": {
    "editable": true,
    "slideshow": {
     "slide_type": ""
    },
    "tags": []
   },
   "source": [
    "```{note}\n",
    "#### SQLの読み方\n",
    "SQLの読み方は「エス・キュー・エル」である．SQLは1970年代にIBM社が開発したデータベース管理システムSystem Rの操作言語SEQUELを起源としている．関係データベースに熱狂していた世代の人の中には，SEQUELの名残でSQLのことを「シークエル」と呼ぶ人もいる．\n",
    "```\n",
    "\n",
    "```{warning}\n",
    "#### SQLにも方言がある\n",
    "RDBMSによって，SQLで使用できる関数が異なったりすることがある．特にSQLiteについては，簡易的なRDMBSということもあり，他のRDBMSでは実装されている機能や関数が実装されていない場合がある．自分が書いたSQL文がうまく動作しない場合は，マニュアルに当たってみよう．\n",
    "```"
   ]
  },
  {
   "cell_type": "markdown",
   "id": "75b66420-5248-45a2-a598-544d52cc2dd9",
   "metadata": {
    "editable": true,
    "slideshow": {
     "slide_type": ""
    },
    "tags": []
   },
   "source": [
    "## SQLと関係データモデルの比較"
   ]
  },
  {
   "cell_type": "markdown",
   "id": "45f77070-278d-4878-a001-20fb81de4651",
   "metadata": {
    "editable": true,
    "slideshow": {
     "slide_type": ""
    },
    "tags": []
   },
   "source": [
    "SQLは関係データベースを操作する言語であり，それが扱うデータモデルは関係データモデルを実用的に拡張したものである．\n",
    "「実用」のSQLデータモデルと「理論」の関係データモデルでは，同様の概念が異なる用語で定義されている．\n",
    "以下はSQLと関係データモデルの用語の比較である．\n",
    "\n",
    "| 関係データモデル | SQL |\n",
    "| ---- | ---- | \n",
    "| 関係（リレーション; relation） |  表（テーブル; table）  | \n",
    "| タプル（tuple） | レコード or 行（row）  | \n",
    "| 属性（attribute）  | 列（カラム; column）| \n",
    "| 定義域（ドメイン; domain） | データ型 | \n",
    "\n",
    "また，関係データモデルでは各属性はドメインで定義された値をもつが，\n",
    "現実的にはある属性の値が存在しない，あるいは未定義（不明）のケースがありえる．\n",
    "そのような状況では，特殊な値である**NULL**値（ヌルと読む）を用いる．"
   ]
  },
  {
   "cell_type": "markdown",
   "id": "29869879-c543-4a80-951b-271a602995c8",
   "metadata": {
    "editable": true,
    "slideshow": {
     "slide_type": ""
    },
    "tags": []
   },
   "source": [
    "## 基本形"
   ]
  },
  {
   "cell_type": "markdown",
   "id": "ece36e41-4321-45da-9de4-64af18271d84",
   "metadata": {
    "editable": true,
    "slideshow": {
     "slide_type": ""
    },
    "tags": []
   },
   "source": [
    "関係データベースに対する最も典型的な問い合わせ要求は，\n",
    "- 特定の**表（table，テーブル）** から\n",
    "- **列（column，カラム）** が特定の条件を満たす**行（row）[^row]** を見つけ出し\n",
    "- 結果を表形式で出力する\n",
    "\n",
    "ことである．問い合わせのために記述するSQL文のことを**クエリ（query）** と呼ぶ．\n",
    "\n",
    "SQLによる代表的なクエリは，以下の形式の**SELECT文**である．\n",
    "\n",
    "\n",
    "[^row]: レコード（record）と呼ぶこともある．"
   ]
  },
  {
   "cell_type": "markdown",
   "id": "b1b23ee3-e9b3-40ef-a17a-0550a1474787",
   "metadata": {
    "editable": true,
    "slideshow": {
     "slide_type": ""
    },
    "tags": []
   },
   "source": [
    "```sql\n",
    "SELECT\n",
    "    都道府県名\n",
    "FROM\n",
    "    都道府県\n",
    "WHERE\n",
    "    人口 >= 5000000;\n",
    "```"
   ]
  },
  {
   "cell_type": "markdown",
   "id": "5cfb9079-d429-43ec-85d5-b3c8073a93e5",
   "metadata": {
    "editable": true,
    "slideshow": {
     "slide_type": ""
    },
    "tags": []
   },
   "source": [
    "上記クエリは， \n",
    "\n",
    "> 「都道府県」テーブルから「人口」という列の値が500万以上である行を見つけ，その行の列「都道府県名」を出力してください\n",
    "\n",
    "という問い合わせ要求を表現したものである．\n",
    "- `SELECT`句を用いて「問い合わせ結果に表示したい情報」，\n",
    "- `FROM`句を用いて「参照したい表」，\n",
    "- `WHERE`句を用いて「表示する際の条件」\n",
    "\n",
    "を指定している．\n",
    "上記要求を英語に直してみると，SQL文は問い合わせ要求をできるだけ直感的に表現しようとしていることがお分かりいただけると思う．\n",
    "\n",
    "上記クエリは単純な例ではあるが，関係データベースからデータを引っ張ってくる問い合わせについては，すべからく下記のような`SELECT`句から始まるクエリが用いられる．"
   ]
  },
  {
   "cell_type": "markdown",
   "id": "679f8aa6-8a69-4c15-9f1b-596e0f24a607",
   "metadata": {
    "editable": true,
    "slideshow": {
     "slide_type": ""
    },
    "tags": []
   },
   "source": [
    "```sql\n",
    "SELECT\n",
    "    列名1, 列名2, ...\n",
    "FROM\n",
    "    参照する表1, 表2, ...\n",
    "[WHERE 条件]\n",
    "[GROUP BY 列名1, 列名2, ...]\n",
    "[HAVING 条件]\n",
    "[ORDER BY 列名1, 列名2, ...]\n",
    "[LIMIT 数字]; \n",
    "```"
   ]
  },
  {
   "cell_type": "markdown",
   "id": "6bac2d83-914a-48a2-82db-8f4c4d4de53b",
   "metadata": {
    "editable": true,
    "slideshow": {
     "slide_type": ""
    },
    "tags": []
   },
   "source": [
    "このうち，問い合わせ結果に表示したい情報を指定する`SELECT`句，および問い合わせの際に参照するテーブルを指定している`FROM`句は必須である．\n",
    "`[ ]`で囲まれた箇所については，書かなくてもSQLとして動作する．\n",
    "なお，`SELECT`や`FROM`，`WHERE`，`GROUP BY`，`HAVING`，`ORDER BY`，`LIMIT`といった**句**の意味のついては後ほど説明するが，各句は**この順序で使う**必要がある．\n",
    "例えば，`HAVING`句は`WHERE`句の後ろに書かない．\n",
    "また，クエリの末尾にはピリオド（;）をつけ忘れてはいけない．"
   ]
  },
  {
   "cell_type": "markdown",
   "id": "65584763-c908-45cd-87ec-f93540695953",
   "metadata": {
    "editable": true,
    "slideshow": {
     "slide_type": ""
    },
    "tags": []
   },
   "source": [
    "(sql1-db)=\n",
    "以後，SQLの基礎について説明する．\n",
    "説明には，独立行政法人統計センターが公開している教育用標準データセット（SSDSE）の[基本素材SSDSE-E](https://www.nstac.go.jp/use/literacy/ssdse/#SSDSE-E)（データの解説は[こちら](https://www.nstac.go.jp/sys/files/kaisetsu-E-2023.pdf)）から抜粋・加工したデータ（`population`テーブル）を用いる．\n",
    "以下の通り，`population`テーブルには，47ある各都道府県に関する総人口，小学校児童数，中学校生徒数，高等学校生徒数，大学学生数のデータが2021年度，2020年度分入っている．\n",
    "このテーブルが格納された関係データベースが手元にあると想定して，SQLの使い方を説明する．"
   ]
  },
  {
   "cell_type": "code",
   "execution_count": 4,
   "id": "15a3ce9d-7459-4039-9cf5-0784c5c18088",
   "metadata": {
    "editable": true,
    "slideshow": {
     "slide_type": ""
    },
    "tags": [
     "remove-output",
     "remove-input"
    ]
   },
   "outputs": [
    {
     "data": {
      "text/html": [
       "<span style=\"None\">displaylimit: Value None will be treated as 0 (no limit)</span>"
      ],
      "text/plain": [
       "displaylimit: Value None will be treated as 0 (no limit)"
      ]
     },
     "metadata": {},
     "output_type": "display_data"
    }
   ],
   "source": [
    "%config SqlMagic.displaylimit = None"
   ]
  },
  {
   "cell_type": "code",
   "execution_count": 5,
   "id": "5f88f72a-dd6e-44c6-bd4f-3a5ec7834b9a",
   "metadata": {
    "editable": true,
    "slideshow": {
     "slide_type": ""
    },
    "tags": [
     "remove-input",
     "scroll-output"
    ]
   },
   "outputs": [
    {
     "data": {
      "text/html": [
       "<table>\n",
       "    <thead>\n",
       "        <tr>\n",
       "            <th>地域コード</th>\n",
       "            <th>都道府県</th>\n",
       "            <th>調査年度</th>\n",
       "            <th>総人口</th>\n",
       "            <th>小学校児童数</th>\n",
       "            <th>中学校生徒数</th>\n",
       "            <th>高等学校生徒数</th>\n",
       "            <th>大学学生数</th>\n",
       "        </tr>\n",
       "    </thead>\n",
       "    <tbody>\n",
       "        <tr>\n",
       "            <td>R01000</td>\n",
       "            <td>北海道</td>\n",
       "            <td>2021</td>\n",
       "            <td>5183000</td>\n",
       "            <td>231714</td>\n",
       "            <td>122742</td>\n",
       "            <td>115335</td>\n",
       "            <td>79729</td>\n",
       "        </tr>\n",
       "        <tr>\n",
       "            <td>R02000</td>\n",
       "            <td>青森県</td>\n",
       "            <td>2021</td>\n",
       "            <td>1221000</td>\n",
       "            <td>54460</td>\n",
       "            <td>29940</td>\n",
       "            <td>30543</td>\n",
       "            <td>15419</td>\n",
       "        </tr>\n",
       "        <tr>\n",
       "            <td>R03000</td>\n",
       "            <td>岩手県</td>\n",
       "            <td>2021</td>\n",
       "            <td>1196000</td>\n",
       "            <td>55597</td>\n",
       "            <td>30269</td>\n",
       "            <td>29980</td>\n",
       "            <td>11340</td>\n",
       "        </tr>\n",
       "        <tr>\n",
       "            <td>R04000</td>\n",
       "            <td>宮城県</td>\n",
       "            <td>2021</td>\n",
       "            <td>2290000</td>\n",
       "            <td>112246</td>\n",
       "            <td>58748</td>\n",
       "            <td>55329</td>\n",
       "            <td>49580</td>\n",
       "        </tr>\n",
       "        <tr>\n",
       "            <td>R05000</td>\n",
       "            <td>秋田県</td>\n",
       "            <td>2021</td>\n",
       "            <td>945000</td>\n",
       "            <td>38992</td>\n",
       "            <td>21924</td>\n",
       "            <td>21448</td>\n",
       "            <td>8904</td>\n",
       "        </tr>\n",
       "        <tr>\n",
       "            <td>R06000</td>\n",
       "            <td>山形県</td>\n",
       "            <td>2021</td>\n",
       "            <td>1055000</td>\n",
       "            <td>49164</td>\n",
       "            <td>26969</td>\n",
       "            <td>27233</td>\n",
       "            <td>11801</td>\n",
       "        </tr>\n",
       "        <tr>\n",
       "            <td>R07000</td>\n",
       "            <td>福島県</td>\n",
       "            <td>2021</td>\n",
       "            <td>1812000</td>\n",
       "            <td>85322</td>\n",
       "            <td>46148</td>\n",
       "            <td>45647</td>\n",
       "            <td>14385</td>\n",
       "        </tr>\n",
       "        <tr>\n",
       "            <td>R08000</td>\n",
       "            <td>茨城県</td>\n",
       "            <td>2021</td>\n",
       "            <td>2852000</td>\n",
       "            <td>135782</td>\n",
       "            <td>72465</td>\n",
       "            <td>71842</td>\n",
       "            <td>30147</td>\n",
       "        </tr>\n",
       "        <tr>\n",
       "            <td>R09000</td>\n",
       "            <td>栃木県</td>\n",
       "            <td>2021</td>\n",
       "            <td>1921000</td>\n",
       "            <td>95315</td>\n",
       "            <td>51170</td>\n",
       "            <td>49674</td>\n",
       "            <td>20496</td>\n",
       "        </tr>\n",
       "        <tr>\n",
       "            <td>R10000</td>\n",
       "            <td>群馬県</td>\n",
       "            <td>2021</td>\n",
       "            <td>1927000</td>\n",
       "            <td>94185</td>\n",
       "            <td>50841</td>\n",
       "            <td>48521</td>\n",
       "            <td>28772</td>\n",
       "        </tr>\n",
       "        <tr>\n",
       "            <td>R11000</td>\n",
       "            <td>埼玉県</td>\n",
       "            <td>2021</td>\n",
       "            <td>7340000</td>\n",
       "            <td>363199</td>\n",
       "            <td>187395</td>\n",
       "            <td>163986</td>\n",
       "            <td>109500</td>\n",
       "        </tr>\n",
       "        <tr>\n",
       "            <td>R12000</td>\n",
       "            <td>千葉県</td>\n",
       "            <td>2021</td>\n",
       "            <td>6275000</td>\n",
       "            <td>306105</td>\n",
       "            <td>158265</td>\n",
       "            <td>141358</td>\n",
       "            <td>106037</td>\n",
       "        </tr>\n",
       "        <tr>\n",
       "            <td>R13000</td>\n",
       "            <td>東京都</td>\n",
       "            <td>2021</td>\n",
       "            <td>14010000</td>\n",
       "            <td>622820</td>\n",
       "            <td>311049</td>\n",
       "            <td>301712</td>\n",
       "            <td>676964</td>\n",
       "        </tr>\n",
       "        <tr>\n",
       "            <td>R14000</td>\n",
       "            <td>神奈川県</td>\n",
       "            <td>2021</td>\n",
       "            <td>9236000</td>\n",
       "            <td>451098</td>\n",
       "            <td>226599</td>\n",
       "            <td>195931</td>\n",
       "            <td>171164</td>\n",
       "        </tr>\n",
       "        <tr>\n",
       "            <td>R15000</td>\n",
       "            <td>新潟県</td>\n",
       "            <td>2021</td>\n",
       "            <td>2177000</td>\n",
       "            <td>103680</td>\n",
       "            <td>53720</td>\n",
       "            <td>51594</td>\n",
       "            <td>27546</td>\n",
       "        </tr>\n",
       "        <tr>\n",
       "            <td>R16000</td>\n",
       "            <td>富山県</td>\n",
       "            <td>2021</td>\n",
       "            <td>1025000</td>\n",
       "            <td>47818</td>\n",
       "            <td>26146</td>\n",
       "            <td>26068</td>\n",
       "            <td>10857</td>\n",
       "        </tr>\n",
       "        <tr>\n",
       "            <td>R17000</td>\n",
       "            <td>石川県</td>\n",
       "            <td>2021</td>\n",
       "            <td>1125000</td>\n",
       "            <td>56620</td>\n",
       "            <td>30336</td>\n",
       "            <td>29764</td>\n",
       "            <td>27627</td>\n",
       "        </tr>\n",
       "        <tr>\n",
       "            <td>R18000</td>\n",
       "            <td>福井県</td>\n",
       "            <td>2021</td>\n",
       "            <td>760000</td>\n",
       "            <td>39236</td>\n",
       "            <td>21196</td>\n",
       "            <td>20701</td>\n",
       "            <td>10065</td>\n",
       "        </tr>\n",
       "        <tr>\n",
       "            <td>R19000</td>\n",
       "            <td>山梨県</td>\n",
       "            <td>2021</td>\n",
       "            <td>805000</td>\n",
       "            <td>38572</td>\n",
       "            <td>20955</td>\n",
       "            <td>22717</td>\n",
       "            <td>16097</td>\n",
       "        </tr>\n",
       "        <tr>\n",
       "            <td>R20000</td>\n",
       "            <td>長野県</td>\n",
       "            <td>2021</td>\n",
       "            <td>2033000</td>\n",
       "            <td>101932</td>\n",
       "            <td>55189</td>\n",
       "            <td>52632</td>\n",
       "            <td>17032</td>\n",
       "        </tr>\n",
       "        <tr>\n",
       "            <td>R21000</td>\n",
       "            <td>岐阜県</td>\n",
       "            <td>2021</td>\n",
       "            <td>1961000</td>\n",
       "            <td>101805</td>\n",
       "            <td>54493</td>\n",
       "            <td>50563</td>\n",
       "            <td>20185</td>\n",
       "        </tr>\n",
       "        <tr>\n",
       "            <td>R22000</td>\n",
       "            <td>静岡県</td>\n",
       "            <td>2021</td>\n",
       "            <td>3608000</td>\n",
       "            <td>183614</td>\n",
       "            <td>98192</td>\n",
       "            <td>91613</td>\n",
       "            <td>33778</td>\n",
       "        </tr>\n",
       "        <tr>\n",
       "            <td>R23000</td>\n",
       "            <td>愛知県</td>\n",
       "            <td>2021</td>\n",
       "            <td>7517000</td>\n",
       "            <td>405839</td>\n",
       "            <td>209151</td>\n",
       "            <td>185920</td>\n",
       "            <td>176722</td>\n",
       "        </tr>\n",
       "        <tr>\n",
       "            <td>R24000</td>\n",
       "            <td>三重県</td>\n",
       "            <td>2021</td>\n",
       "            <td>1756000</td>\n",
       "            <td>90040</td>\n",
       "            <td>47567</td>\n",
       "            <td>44229</td>\n",
       "            <td>14062</td>\n",
       "        </tr>\n",
       "        <tr>\n",
       "            <td>R25000</td>\n",
       "            <td>滋賀県</td>\n",
       "            <td>2021</td>\n",
       "            <td>1411000</td>\n",
       "            <td>80289</td>\n",
       "            <td>41086</td>\n",
       "            <td>36673</td>\n",
       "            <td>31242</td>\n",
       "        </tr>\n",
       "        <tr>\n",
       "            <td>R26000</td>\n",
       "            <td>京都府</td>\n",
       "            <td>2021</td>\n",
       "            <td>2561000</td>\n",
       "            <td>119892</td>\n",
       "            <td>65187</td>\n",
       "            <td>66457</td>\n",
       "            <td>143095</td>\n",
       "        </tr>\n",
       "        <tr>\n",
       "            <td>R27000</td>\n",
       "            <td>大阪府</td>\n",
       "            <td>2021</td>\n",
       "            <td>8806000</td>\n",
       "            <td>422433</td>\n",
       "            <td>221610</td>\n",
       "            <td>207262</td>\n",
       "            <td>228194</td>\n",
       "        </tr>\n",
       "        <tr>\n",
       "            <td>R28000</td>\n",
       "            <td>兵庫県</td>\n",
       "            <td>2021</td>\n",
       "            <td>5432000</td>\n",
       "            <td>278500</td>\n",
       "            <td>143075</td>\n",
       "            <td>128298</td>\n",
       "            <td>115536</td>\n",
       "        </tr>\n",
       "        <tr>\n",
       "            <td>R29000</td>\n",
       "            <td>奈良県</td>\n",
       "            <td>2021</td>\n",
       "            <td>1315000</td>\n",
       "            <td>65989</td>\n",
       "            <td>35964</td>\n",
       "            <td>32530</td>\n",
       "            <td>20512</td>\n",
       "        </tr>\n",
       "        <tr>\n",
       "            <td>R30000</td>\n",
       "            <td>和歌山県</td>\n",
       "            <td>2021</td>\n",
       "            <td>914000</td>\n",
       "            <td>43676</td>\n",
       "            <td>23677</td>\n",
       "            <td>23349</td>\n",
       "            <td>7891</td>\n",
       "        </tr>\n",
       "        <tr>\n",
       "            <td>R31000</td>\n",
       "            <td>鳥取県</td>\n",
       "            <td>2021</td>\n",
       "            <td>549000</td>\n",
       "            <td>28027</td>\n",
       "            <td>14316</td>\n",
       "            <td>14321</td>\n",
       "            <td>6721</td>\n",
       "        </tr>\n",
       "        <tr>\n",
       "            <td>R32000</td>\n",
       "            <td>島根県</td>\n",
       "            <td>2021</td>\n",
       "            <td>665000</td>\n",
       "            <td>33162</td>\n",
       "            <td>17040</td>\n",
       "            <td>17145</td>\n",
       "            <td>7263</td>\n",
       "        </tr>\n",
       "        <tr>\n",
       "            <td>R33000</td>\n",
       "            <td>岡山県</td>\n",
       "            <td>2021</td>\n",
       "            <td>1876000</td>\n",
       "            <td>97981</td>\n",
       "            <td>50820</td>\n",
       "            <td>49501</td>\n",
       "            <td>39071</td>\n",
       "        </tr>\n",
       "        <tr>\n",
       "            <td>R34000</td>\n",
       "            <td>広島県</td>\n",
       "            <td>2021</td>\n",
       "            <td>2780000</td>\n",
       "            <td>147671</td>\n",
       "            <td>75326</td>\n",
       "            <td>68044</td>\n",
       "            <td>55487</td>\n",
       "        </tr>\n",
       "        <tr>\n",
       "            <td>R35000</td>\n",
       "            <td>山口県</td>\n",
       "            <td>2021</td>\n",
       "            <td>1328000</td>\n",
       "            <td>65000</td>\n",
       "            <td>33721</td>\n",
       "            <td>30983</td>\n",
       "            <td>18427</td>\n",
       "        </tr>\n",
       "        <tr>\n",
       "            <td>R36000</td>\n",
       "            <td>徳島県</td>\n",
       "            <td>2021</td>\n",
       "            <td>712000</td>\n",
       "            <td>34181</td>\n",
       "            <td>17432</td>\n",
       "            <td>16965</td>\n",
       "            <td>11761</td>\n",
       "        </tr>\n",
       "        <tr>\n",
       "            <td>R37000</td>\n",
       "            <td>香川県</td>\n",
       "            <td>2021</td>\n",
       "            <td>942000</td>\n",
       "            <td>49196</td>\n",
       "            <td>25629</td>\n",
       "            <td>24657</td>\n",
       "            <td>9118</td>\n",
       "        </tr>\n",
       "        <tr>\n",
       "            <td>R38000</td>\n",
       "            <td>愛媛県</td>\n",
       "            <td>2021</td>\n",
       "            <td>1321000</td>\n",
       "            <td>66494</td>\n",
       "            <td>33330</td>\n",
       "            <td>31473</td>\n",
       "            <td>16321</td>\n",
       "        </tr>\n",
       "        <tr>\n",
       "            <td>R39000</td>\n",
       "            <td>高知県</td>\n",
       "            <td>2021</td>\n",
       "            <td>684000</td>\n",
       "            <td>31226</td>\n",
       "            <td>16988</td>\n",
       "            <td>17139</td>\n",
       "            <td>9257</td>\n",
       "        </tr>\n",
       "        <tr>\n",
       "            <td>R40000</td>\n",
       "            <td>福岡県</td>\n",
       "            <td>2021</td>\n",
       "            <td>5124000</td>\n",
       "            <td>279290</td>\n",
       "            <td>139657</td>\n",
       "            <td>123508</td>\n",
       "            <td>109860</td>\n",
       "        </tr>\n",
       "        <tr>\n",
       "            <td>R41000</td>\n",
       "            <td>佐賀県</td>\n",
       "            <td>2021</td>\n",
       "            <td>806000</td>\n",
       "            <td>43903</td>\n",
       "            <td>23530</td>\n",
       "            <td>22422</td>\n",
       "            <td>7776</td>\n",
       "        </tr>\n",
       "        <tr>\n",
       "            <td>R42000</td>\n",
       "            <td>長崎県</td>\n",
       "            <td>2021</td>\n",
       "            <td>1297000</td>\n",
       "            <td>68834</td>\n",
       "            <td>35782</td>\n",
       "            <td>34415</td>\n",
       "            <td>17083</td>\n",
       "        </tr>\n",
       "        <tr>\n",
       "            <td>R43000</td>\n",
       "            <td>熊本県</td>\n",
       "            <td>2021</td>\n",
       "            <td>1728000</td>\n",
       "            <td>96415</td>\n",
       "            <td>48862</td>\n",
       "            <td>44284</td>\n",
       "            <td>24580</td>\n",
       "        </tr>\n",
       "        <tr>\n",
       "            <td>R44000</td>\n",
       "            <td>大分県</td>\n",
       "            <td>2021</td>\n",
       "            <td>1114000</td>\n",
       "            <td>56464</td>\n",
       "            <td>29624</td>\n",
       "            <td>29300</td>\n",
       "            <td>15189</td>\n",
       "        </tr>\n",
       "        <tr>\n",
       "            <td>R45000</td>\n",
       "            <td>宮崎県</td>\n",
       "            <td>2021</td>\n",
       "            <td>1061000</td>\n",
       "            <td>59639</td>\n",
       "            <td>30562</td>\n",
       "            <td>28856</td>\n",
       "            <td>9736</td>\n",
       "        </tr>\n",
       "        <tr>\n",
       "            <td>R46000</td>\n",
       "            <td>鹿児島県</td>\n",
       "            <td>2021</td>\n",
       "            <td>1576000</td>\n",
       "            <td>88636</td>\n",
       "            <td>45294</td>\n",
       "            <td>43029</td>\n",
       "            <td>15477</td>\n",
       "        </tr>\n",
       "        <tr>\n",
       "            <td>R47000</td>\n",
       "            <td>沖縄県</td>\n",
       "            <td>2021</td>\n",
       "            <td>1468000</td>\n",
       "            <td>101342</td>\n",
       "            <td>49716</td>\n",
       "            <td>43221</td>\n",
       "            <td>17882</td>\n",
       "        </tr>\n",
       "        <tr>\n",
       "            <td>R01000</td>\n",
       "            <td>北海道</td>\n",
       "            <td>2020</td>\n",
       "            <td>5224614</td>\n",
       "            <td>236396</td>\n",
       "            <td>123129</td>\n",
       "            <td>119773</td>\n",
       "            <td>79409</td>\n",
       "        </tr>\n",
       "        <tr>\n",
       "            <td>R02000</td>\n",
       "            <td>青森県</td>\n",
       "            <td>2020</td>\n",
       "            <td>1237984</td>\n",
       "            <td>55717</td>\n",
       "            <td>30206</td>\n",
       "            <td>32155</td>\n",
       "            <td>15400</td>\n",
       "        </tr>\n",
       "        <tr>\n",
       "            <td>R03000</td>\n",
       "            <td>岩手県</td>\n",
       "            <td>2020</td>\n",
       "            <td>1210534</td>\n",
       "            <td>56822</td>\n",
       "            <td>30388</td>\n",
       "            <td>31229</td>\n",
       "            <td>11489</td>\n",
       "        </tr>\n",
       "        <tr>\n",
       "            <td>R04000</td>\n",
       "            <td>宮城県</td>\n",
       "            <td>2020</td>\n",
       "            <td>2301996</td>\n",
       "            <td>114086</td>\n",
       "            <td>58381</td>\n",
       "            <td>57157</td>\n",
       "            <td>49410</td>\n",
       "        </tr>\n",
       "        <tr>\n",
       "            <td>R05000</td>\n",
       "            <td>秋田県</td>\n",
       "            <td>2020</td>\n",
       "            <td>959502</td>\n",
       "            <td>40192</td>\n",
       "            <td>22182</td>\n",
       "            <td>22266</td>\n",
       "            <td>8884</td>\n",
       "        </tr>\n",
       "        <tr>\n",
       "            <td>R06000</td>\n",
       "            <td>山形県</td>\n",
       "            <td>2020</td>\n",
       "            <td>1068027</td>\n",
       "            <td>50885</td>\n",
       "            <td>27473</td>\n",
       "            <td>28281</td>\n",
       "            <td>11723</td>\n",
       "        </tr>\n",
       "        <tr>\n",
       "            <td>R07000</td>\n",
       "            <td>福島県</td>\n",
       "            <td>2020</td>\n",
       "            <td>1833152</td>\n",
       "            <td>86804</td>\n",
       "            <td>47108</td>\n",
       "            <td>47571</td>\n",
       "            <td>14288</td>\n",
       "        </tr>\n",
       "        <tr>\n",
       "            <td>R08000</td>\n",
       "            <td>茨城県</td>\n",
       "            <td>2020</td>\n",
       "            <td>2867009</td>\n",
       "            <td>139002</td>\n",
       "            <td>72868</td>\n",
       "            <td>74121</td>\n",
       "            <td>30258</td>\n",
       "        </tr>\n",
       "        <tr>\n",
       "            <td>R09000</td>\n",
       "            <td>栃木県</td>\n",
       "            <td>2020</td>\n",
       "            <td>1933146</td>\n",
       "            <td>96704</td>\n",
       "            <td>51558</td>\n",
       "            <td>50745</td>\n",
       "            <td>20388</td>\n",
       "        </tr>\n",
       "        <tr>\n",
       "            <td>R10000</td>\n",
       "            <td>群馬県</td>\n",
       "            <td>2020</td>\n",
       "            <td>1939110</td>\n",
       "            <td>96764</td>\n",
       "            <td>51167</td>\n",
       "            <td>49994</td>\n",
       "            <td>28312</td>\n",
       "        </tr>\n",
       "        <tr>\n",
       "            <td>R11000</td>\n",
       "            <td>埼玉県</td>\n",
       "            <td>2020</td>\n",
       "            <td>7344765</td>\n",
       "            <td>366426</td>\n",
       "            <td>186455</td>\n",
       "            <td>167972</td>\n",
       "            <td>111852</td>\n",
       "        </tr>\n",
       "        <tr>\n",
       "            <td>R12000</td>\n",
       "            <td>千葉県</td>\n",
       "            <td>2020</td>\n",
       "            <td>6284480</td>\n",
       "            <td>309553</td>\n",
       "            <td>156873</td>\n",
       "            <td>145920</td>\n",
       "            <td>104866</td>\n",
       "        </tr>\n",
       "        <tr>\n",
       "            <td>R13000</td>\n",
       "            <td>東京都</td>\n",
       "            <td>2020</td>\n",
       "            <td>14047594</td>\n",
       "            <td>619291</td>\n",
       "            <td>304405</td>\n",
       "            <td>306302</td>\n",
       "            <td>673683</td>\n",
       "        </tr>\n",
       "        <tr>\n",
       "            <td>R14000</td>\n",
       "            <td>神奈川県</td>\n",
       "            <td>2020</td>\n",
       "            <td>9237337</td>\n",
       "            <td>454751</td>\n",
       "            <td>224709</td>\n",
       "            <td>200230</td>\n",
       "            <td>174710</td>\n",
       "        </tr>\n",
       "        <tr>\n",
       "            <td>R15000</td>\n",
       "            <td>新潟県</td>\n",
       "            <td>2020</td>\n",
       "            <td>2201272</td>\n",
       "            <td>105818</td>\n",
       "            <td>53720</td>\n",
       "            <td>53114</td>\n",
       "            <td>27153</td>\n",
       "        </tr>\n",
       "        <tr>\n",
       "            <td>R16000</td>\n",
       "            <td>富山県</td>\n",
       "            <td>2020</td>\n",
       "            <td>1034814</td>\n",
       "            <td>48757</td>\n",
       "            <td>26565</td>\n",
       "            <td>26722</td>\n",
       "            <td>10739</td>\n",
       "        </tr>\n",
       "        <tr>\n",
       "            <td>R17000</td>\n",
       "            <td>石川県</td>\n",
       "            <td>2020</td>\n",
       "            <td>1132526</td>\n",
       "            <td>57706</td>\n",
       "            <td>30259</td>\n",
       "            <td>30515</td>\n",
       "            <td>27369</td>\n",
       "        </tr>\n",
       "        <tr>\n",
       "            <td>R18000</td>\n",
       "            <td>福井県</td>\n",
       "            <td>2020</td>\n",
       "            <td>766863</td>\n",
       "            <td>40177</td>\n",
       "            <td>21170</td>\n",
       "            <td>21221</td>\n",
       "            <td>10068</td>\n",
       "        </tr>\n",
       "        <tr>\n",
       "            <td>R19000</td>\n",
       "            <td>山梨県</td>\n",
       "            <td>2020</td>\n",
       "            <td>809974</td>\n",
       "            <td>39153</td>\n",
       "            <td>21202</td>\n",
       "            <td>23384</td>\n",
       "            <td>16126</td>\n",
       "        </tr>\n",
       "        <tr>\n",
       "            <td>R20000</td>\n",
       "            <td>長野県</td>\n",
       "            <td>2020</td>\n",
       "            <td>2048011</td>\n",
       "            <td>103666</td>\n",
       "            <td>55507</td>\n",
       "            <td>54280</td>\n",
       "            <td>16388</td>\n",
       "        </tr>\n",
       "        <tr>\n",
       "            <td>R21000</td>\n",
       "            <td>岐阜県</td>\n",
       "            <td>2020</td>\n",
       "            <td>1978742</td>\n",
       "            <td>104118</td>\n",
       "            <td>54433</td>\n",
       "            <td>52577</td>\n",
       "            <td>19827</td>\n",
       "        </tr>\n",
       "        <tr>\n",
       "            <td>R22000</td>\n",
       "            <td>静岡県</td>\n",
       "            <td>2020</td>\n",
       "            <td>3633202</td>\n",
       "            <td>187254</td>\n",
       "            <td>97950</td>\n",
       "            <td>94652</td>\n",
       "            <td>33809</td>\n",
       "        </tr>\n",
       "        <tr>\n",
       "            <td>R23000</td>\n",
       "            <td>愛知県</td>\n",
       "            <td>2020</td>\n",
       "            <td>7542415</td>\n",
       "            <td>410482</td>\n",
       "            <td>206920</td>\n",
       "            <td>190309</td>\n",
       "            <td>177380</td>\n",
       "        </tr>\n",
       "        <tr>\n",
       "            <td>R24000</td>\n",
       "            <td>三重県</td>\n",
       "            <td>2020</td>\n",
       "            <td>1770254</td>\n",
       "            <td>91910</td>\n",
       "            <td>47472</td>\n",
       "            <td>45829</td>\n",
       "            <td>14064</td>\n",
       "        </tr>\n",
       "        <tr>\n",
       "            <td>R25000</td>\n",
       "            <td>滋賀県</td>\n",
       "            <td>2020</td>\n",
       "            <td>1413610</td>\n",
       "            <td>81054</td>\n",
       "            <td>40601</td>\n",
       "            <td>37868</td>\n",
       "            <td>31100</td>\n",
       "        </tr>\n",
       "        <tr>\n",
       "            <td>R26000</td>\n",
       "            <td>京都府</td>\n",
       "            <td>2020</td>\n",
       "            <td>2578087</td>\n",
       "            <td>121712</td>\n",
       "            <td>65443</td>\n",
       "            <td>67847</td>\n",
       "            <td>141870</td>\n",
       "        </tr>\n",
       "        <tr>\n",
       "            <td>R27000</td>\n",
       "            <td>大阪府</td>\n",
       "            <td>2020</td>\n",
       "            <td>8837685</td>\n",
       "            <td>427884</td>\n",
       "            <td>220342</td>\n",
       "            <td>214115</td>\n",
       "            <td>226452</td>\n",
       "        </tr>\n",
       "        <tr>\n",
       "            <td>R28000</td>\n",
       "            <td>兵庫県</td>\n",
       "            <td>2020</td>\n",
       "            <td>5465002</td>\n",
       "            <td>282758</td>\n",
       "            <td>142012</td>\n",
       "            <td>132810</td>\n",
       "            <td>116299</td>\n",
       "        </tr>\n",
       "        <tr>\n",
       "            <td>R29000</td>\n",
       "            <td>奈良県</td>\n",
       "            <td>2020</td>\n",
       "            <td>1324473</td>\n",
       "            <td>67172</td>\n",
       "            <td>36085</td>\n",
       "            <td>33849</td>\n",
       "            <td>20655</td>\n",
       "        </tr>\n",
       "        <tr>\n",
       "            <td>R30000</td>\n",
       "            <td>和歌山県</td>\n",
       "            <td>2020</td>\n",
       "            <td>922584</td>\n",
       "            <td>44501</td>\n",
       "            <td>23633</td>\n",
       "            <td>24240</td>\n",
       "            <td>7524</td>\n",
       "        </tr>\n",
       "        <tr>\n",
       "            <td>R31000</td>\n",
       "            <td>鳥取県</td>\n",
       "            <td>2020</td>\n",
       "            <td>553407</td>\n",
       "            <td>28238</td>\n",
       "            <td>14522</td>\n",
       "            <td>14572</td>\n",
       "            <td>6736</td>\n",
       "        </tr>\n",
       "        <tr>\n",
       "            <td>R32000</td>\n",
       "            <td>島根県</td>\n",
       "            <td>2020</td>\n",
       "            <td>671126</td>\n",
       "            <td>33921</td>\n",
       "            <td>17119</td>\n",
       "            <td>17707</td>\n",
       "            <td>7098</td>\n",
       "        </tr>\n",
       "        <tr>\n",
       "            <td>R33000</td>\n",
       "            <td>岡山県</td>\n",
       "            <td>2020</td>\n",
       "            <td>1888432</td>\n",
       "            <td>98893</td>\n",
       "            <td>50683</td>\n",
       "            <td>51008</td>\n",
       "            <td>39347</td>\n",
       "        </tr>\n",
       "        <tr>\n",
       "            <td>R34000</td>\n",
       "            <td>広島県</td>\n",
       "            <td>2020</td>\n",
       "            <td>2799702</td>\n",
       "            <td>149529</td>\n",
       "            <td>74729</td>\n",
       "            <td>69260</td>\n",
       "            <td>55652</td>\n",
       "        </tr>\n",
       "        <tr>\n",
       "            <td>R35000</td>\n",
       "            <td>山口県</td>\n",
       "            <td>2020</td>\n",
       "            <td>1342059</td>\n",
       "            <td>66289</td>\n",
       "            <td>33677</td>\n",
       "            <td>32051</td>\n",
       "            <td>18546</td>\n",
       "        </tr>\n",
       "        <tr>\n",
       "            <td>R36000</td>\n",
       "            <td>徳島県</td>\n",
       "            <td>2020</td>\n",
       "            <td>719559</td>\n",
       "            <td>34671</td>\n",
       "            <td>17397</td>\n",
       "            <td>17801</td>\n",
       "            <td>11867</td>\n",
       "        </tr>\n",
       "        <tr>\n",
       "            <td>R37000</td>\n",
       "            <td>香川県</td>\n",
       "            <td>2020</td>\n",
       "            <td>950244</td>\n",
       "            <td>49988</td>\n",
       "            <td>25567</td>\n",
       "            <td>25477</td>\n",
       "            <td>9129</td>\n",
       "        </tr>\n",
       "        <tr>\n",
       "            <td>R38000</td>\n",
       "            <td>愛媛県</td>\n",
       "            <td>2020</td>\n",
       "            <td>1334841</td>\n",
       "            <td>67607</td>\n",
       "            <td>33235</td>\n",
       "            <td>32547</td>\n",
       "            <td>16254</td>\n",
       "        </tr>\n",
       "        <tr>\n",
       "            <td>R39000</td>\n",
       "            <td>高知県</td>\n",
       "            <td>2020</td>\n",
       "            <td>691527</td>\n",
       "            <td>31918</td>\n",
       "            <td>16999</td>\n",
       "            <td>17646</td>\n",
       "            <td>9086</td>\n",
       "        </tr>\n",
       "        <tr>\n",
       "            <td>R40000</td>\n",
       "            <td>福岡県</td>\n",
       "            <td>2020</td>\n",
       "            <td>5135214</td>\n",
       "            <td>280977</td>\n",
       "            <td>136797</td>\n",
       "            <td>125635</td>\n",
       "            <td>110156</td>\n",
       "        </tr>\n",
       "        <tr>\n",
       "            <td>R41000</td>\n",
       "            <td>佐賀県</td>\n",
       "            <td>2020</td>\n",
       "            <td>811442</td>\n",
       "            <td>44590</td>\n",
       "            <td>23275</td>\n",
       "            <td>23034</td>\n",
       "            <td>7741</td>\n",
       "        </tr>\n",
       "        <tr>\n",
       "            <td>R42000</td>\n",
       "            <td>長崎県</td>\n",
       "            <td>2020</td>\n",
       "            <td>1312317</td>\n",
       "            <td>69812</td>\n",
       "            <td>35687</td>\n",
       "            <td>35385</td>\n",
       "            <td>17128</td>\n",
       "        </tr>\n",
       "        <tr>\n",
       "            <td>R43000</td>\n",
       "            <td>熊本県</td>\n",
       "            <td>2020</td>\n",
       "            <td>1738301</td>\n",
       "            <td>96934</td>\n",
       "            <td>48218</td>\n",
       "            <td>45401</td>\n",
       "            <td>24771</td>\n",
       "        </tr>\n",
       "        <tr>\n",
       "            <td>R44000</td>\n",
       "            <td>大分県</td>\n",
       "            <td>2020</td>\n",
       "            <td>1123852</td>\n",
       "            <td>57705</td>\n",
       "            <td>29212</td>\n",
       "            <td>29937</td>\n",
       "            <td>15278</td>\n",
       "        </tr>\n",
       "        <tr>\n",
       "            <td>R45000</td>\n",
       "            <td>宮崎県</td>\n",
       "            <td>2020</td>\n",
       "            <td>1069576</td>\n",
       "            <td>60450</td>\n",
       "            <td>30211</td>\n",
       "            <td>29590</td>\n",
       "            <td>9924</td>\n",
       "        </tr>\n",
       "        <tr>\n",
       "            <td>R46000</td>\n",
       "            <td>鹿児島県</td>\n",
       "            <td>2020</td>\n",
       "            <td>1588256</td>\n",
       "            <td>89738</td>\n",
       "            <td>44912</td>\n",
       "            <td>43928</td>\n",
       "            <td>15432</td>\n",
       "        </tr>\n",
       "        <tr>\n",
       "            <td>R47000</td>\n",
       "            <td>沖縄県</td>\n",
       "            <td>2020</td>\n",
       "            <td>1467480</td>\n",
       "            <td>101918</td>\n",
       "            <td>48763</td>\n",
       "            <td>44037</td>\n",
       "            <td>17932</td>\n",
       "        </tr>\n",
       "    </tbody>\n",
       "</table>"
      ],
      "text/plain": [
       "+------------+----------+----------+----------+--------------+--------------+----------------+------------+\n",
       "| 地域コード | 都道府県 | 調査年度 |  総人口  | 小学校児童数 | 中学校生徒数 | 高等学校生徒数 | 大学学生数 |\n",
       "+------------+----------+----------+----------+--------------+--------------+----------------+------------+\n",
       "|   R01000   |  北海道  |   2021   | 5183000  |    231714    |    122742    |     115335     |   79729    |\n",
       "|   R02000   |  青森県  |   2021   | 1221000  |    54460     |    29940     |     30543      |   15419    |\n",
       "|   R03000   |  岩手県  |   2021   | 1196000  |    55597     |    30269     |     29980      |   11340    |\n",
       "|   R04000   |  宮城県  |   2021   | 2290000  |    112246    |    58748     |     55329      |   49580    |\n",
       "|   R05000   |  秋田県  |   2021   |  945000  |    38992     |    21924     |     21448      |    8904    |\n",
       "|   R06000   |  山形県  |   2021   | 1055000  |    49164     |    26969     |     27233      |   11801    |\n",
       "|   R07000   |  福島県  |   2021   | 1812000  |    85322     |    46148     |     45647      |   14385    |\n",
       "|   R08000   |  茨城県  |   2021   | 2852000  |    135782    |    72465     |     71842      |   30147    |\n",
       "|   R09000   |  栃木県  |   2021   | 1921000  |    95315     |    51170     |     49674      |   20496    |\n",
       "|   R10000   |  群馬県  |   2021   | 1927000  |    94185     |    50841     |     48521      |   28772    |\n",
       "|   R11000   |  埼玉県  |   2021   | 7340000  |    363199    |    187395    |     163986     |   109500   |\n",
       "|   R12000   |  千葉県  |   2021   | 6275000  |    306105    |    158265    |     141358     |   106037   |\n",
       "|   R13000   |  東京都  |   2021   | 14010000 |    622820    |    311049    |     301712     |   676964   |\n",
       "|   R14000   | 神奈川県 |   2021   | 9236000  |    451098    |    226599    |     195931     |   171164   |\n",
       "|   R15000   |  新潟県  |   2021   | 2177000  |    103680    |    53720     |     51594      |   27546    |\n",
       "|   R16000   |  富山県  |   2021   | 1025000  |    47818     |    26146     |     26068      |   10857    |\n",
       "|   R17000   |  石川県  |   2021   | 1125000  |    56620     |    30336     |     29764      |   27627    |\n",
       "|   R18000   |  福井県  |   2021   |  760000  |    39236     |    21196     |     20701      |   10065    |\n",
       "|   R19000   |  山梨県  |   2021   |  805000  |    38572     |    20955     |     22717      |   16097    |\n",
       "|   R20000   |  長野県  |   2021   | 2033000  |    101932    |    55189     |     52632      |   17032    |\n",
       "|   R21000   |  岐阜県  |   2021   | 1961000  |    101805    |    54493     |     50563      |   20185    |\n",
       "|   R22000   |  静岡県  |   2021   | 3608000  |    183614    |    98192     |     91613      |   33778    |\n",
       "|   R23000   |  愛知県  |   2021   | 7517000  |    405839    |    209151    |     185920     |   176722   |\n",
       "|   R24000   |  三重県  |   2021   | 1756000  |    90040     |    47567     |     44229      |   14062    |\n",
       "|   R25000   |  滋賀県  |   2021   | 1411000  |    80289     |    41086     |     36673      |   31242    |\n",
       "|   R26000   |  京都府  |   2021   | 2561000  |    119892    |    65187     |     66457      |   143095   |\n",
       "|   R27000   |  大阪府  |   2021   | 8806000  |    422433    |    221610    |     207262     |   228194   |\n",
       "|   R28000   |  兵庫県  |   2021   | 5432000  |    278500    |    143075    |     128298     |   115536   |\n",
       "|   R29000   |  奈良県  |   2021   | 1315000  |    65989     |    35964     |     32530      |   20512    |\n",
       "|   R30000   | 和歌山県 |   2021   |  914000  |    43676     |    23677     |     23349      |    7891    |\n",
       "|   R31000   |  鳥取県  |   2021   |  549000  |    28027     |    14316     |     14321      |    6721    |\n",
       "|   R32000   |  島根県  |   2021   |  665000  |    33162     |    17040     |     17145      |    7263    |\n",
       "|   R33000   |  岡山県  |   2021   | 1876000  |    97981     |    50820     |     49501      |   39071    |\n",
       "|   R34000   |  広島県  |   2021   | 2780000  |    147671    |    75326     |     68044      |   55487    |\n",
       "|   R35000   |  山口県  |   2021   | 1328000  |    65000     |    33721     |     30983      |   18427    |\n",
       "|   R36000   |  徳島県  |   2021   |  712000  |    34181     |    17432     |     16965      |   11761    |\n",
       "|   R37000   |  香川県  |   2021   |  942000  |    49196     |    25629     |     24657      |    9118    |\n",
       "|   R38000   |  愛媛県  |   2021   | 1321000  |    66494     |    33330     |     31473      |   16321    |\n",
       "|   R39000   |  高知県  |   2021   |  684000  |    31226     |    16988     |     17139      |    9257    |\n",
       "|   R40000   |  福岡県  |   2021   | 5124000  |    279290    |    139657    |     123508     |   109860   |\n",
       "|   R41000   |  佐賀県  |   2021   |  806000  |    43903     |    23530     |     22422      |    7776    |\n",
       "|   R42000   |  長崎県  |   2021   | 1297000  |    68834     |    35782     |     34415      |   17083    |\n",
       "|   R43000   |  熊本県  |   2021   | 1728000  |    96415     |    48862     |     44284      |   24580    |\n",
       "|   R44000   |  大分県  |   2021   | 1114000  |    56464     |    29624     |     29300      |   15189    |\n",
       "|   R45000   |  宮崎県  |   2021   | 1061000  |    59639     |    30562     |     28856      |    9736    |\n",
       "|   R46000   | 鹿児島県 |   2021   | 1576000  |    88636     |    45294     |     43029      |   15477    |\n",
       "|   R47000   |  沖縄県  |   2021   | 1468000  |    101342    |    49716     |     43221      |   17882    |\n",
       "|   R01000   |  北海道  |   2020   | 5224614  |    236396    |    123129    |     119773     |   79409    |\n",
       "|   R02000   |  青森県  |   2020   | 1237984  |    55717     |    30206     |     32155      |   15400    |\n",
       "|   R03000   |  岩手県  |   2020   | 1210534  |    56822     |    30388     |     31229      |   11489    |\n",
       "|   R04000   |  宮城県  |   2020   | 2301996  |    114086    |    58381     |     57157      |   49410    |\n",
       "|   R05000   |  秋田県  |   2020   |  959502  |    40192     |    22182     |     22266      |    8884    |\n",
       "|   R06000   |  山形県  |   2020   | 1068027  |    50885     |    27473     |     28281      |   11723    |\n",
       "|   R07000   |  福島県  |   2020   | 1833152  |    86804     |    47108     |     47571      |   14288    |\n",
       "|   R08000   |  茨城県  |   2020   | 2867009  |    139002    |    72868     |     74121      |   30258    |\n",
       "|   R09000   |  栃木県  |   2020   | 1933146  |    96704     |    51558     |     50745      |   20388    |\n",
       "|   R10000   |  群馬県  |   2020   | 1939110  |    96764     |    51167     |     49994      |   28312    |\n",
       "|   R11000   |  埼玉県  |   2020   | 7344765  |    366426    |    186455    |     167972     |   111852   |\n",
       "|   R12000   |  千葉県  |   2020   | 6284480  |    309553    |    156873    |     145920     |   104866   |\n",
       "|   R13000   |  東京都  |   2020   | 14047594 |    619291    |    304405    |     306302     |   673683   |\n",
       "|   R14000   | 神奈川県 |   2020   | 9237337  |    454751    |    224709    |     200230     |   174710   |\n",
       "|   R15000   |  新潟県  |   2020   | 2201272  |    105818    |    53720     |     53114      |   27153    |\n",
       "|   R16000   |  富山県  |   2020   | 1034814  |    48757     |    26565     |     26722      |   10739    |\n",
       "|   R17000   |  石川県  |   2020   | 1132526  |    57706     |    30259     |     30515      |   27369    |\n",
       "|   R18000   |  福井県  |   2020   |  766863  |    40177     |    21170     |     21221      |   10068    |\n",
       "|   R19000   |  山梨県  |   2020   |  809974  |    39153     |    21202     |     23384      |   16126    |\n",
       "|   R20000   |  長野県  |   2020   | 2048011  |    103666    |    55507     |     54280      |   16388    |\n",
       "|   R21000   |  岐阜県  |   2020   | 1978742  |    104118    |    54433     |     52577      |   19827    |\n",
       "|   R22000   |  静岡県  |   2020   | 3633202  |    187254    |    97950     |     94652      |   33809    |\n",
       "|   R23000   |  愛知県  |   2020   | 7542415  |    410482    |    206920    |     190309     |   177380   |\n",
       "|   R24000   |  三重県  |   2020   | 1770254  |    91910     |    47472     |     45829      |   14064    |\n",
       "|   R25000   |  滋賀県  |   2020   | 1413610  |    81054     |    40601     |     37868      |   31100    |\n",
       "|   R26000   |  京都府  |   2020   | 2578087  |    121712    |    65443     |     67847      |   141870   |\n",
       "|   R27000   |  大阪府  |   2020   | 8837685  |    427884    |    220342    |     214115     |   226452   |\n",
       "|   R28000   |  兵庫県  |   2020   | 5465002  |    282758    |    142012    |     132810     |   116299   |\n",
       "|   R29000   |  奈良県  |   2020   | 1324473  |    67172     |    36085     |     33849      |   20655    |\n",
       "|   R30000   | 和歌山県 |   2020   |  922584  |    44501     |    23633     |     24240      |    7524    |\n",
       "|   R31000   |  鳥取県  |   2020   |  553407  |    28238     |    14522     |     14572      |    6736    |\n",
       "|   R32000   |  島根県  |   2020   |  671126  |    33921     |    17119     |     17707      |    7098    |\n",
       "|   R33000   |  岡山県  |   2020   | 1888432  |    98893     |    50683     |     51008      |   39347    |\n",
       "|   R34000   |  広島県  |   2020   | 2799702  |    149529    |    74729     |     69260      |   55652    |\n",
       "|   R35000   |  山口県  |   2020   | 1342059  |    66289     |    33677     |     32051      |   18546    |\n",
       "|   R36000   |  徳島県  |   2020   |  719559  |    34671     |    17397     |     17801      |   11867    |\n",
       "|   R37000   |  香川県  |   2020   |  950244  |    49988     |    25567     |     25477      |    9129    |\n",
       "|   R38000   |  愛媛県  |   2020   | 1334841  |    67607     |    33235     |     32547      |   16254    |\n",
       "|   R39000   |  高知県  |   2020   |  691527  |    31918     |    16999     |     17646      |    9086    |\n",
       "|   R40000   |  福岡県  |   2020   | 5135214  |    280977    |    136797    |     125635     |   110156   |\n",
       "|   R41000   |  佐賀県  |   2020   |  811442  |    44590     |    23275     |     23034      |    7741    |\n",
       "|   R42000   |  長崎県  |   2020   | 1312317  |    69812     |    35687     |     35385      |   17128    |\n",
       "|   R43000   |  熊本県  |   2020   | 1738301  |    96934     |    48218     |     45401      |   24771    |\n",
       "|   R44000   |  大分県  |   2020   | 1123852  |    57705     |    29212     |     29937      |   15278    |\n",
       "|   R45000   |  宮崎県  |   2020   | 1069576  |    60450     |    30211     |     29590      |    9924    |\n",
       "|   R46000   | 鹿児島県 |   2020   | 1588256  |    89738     |    44912     |     43928      |   15432    |\n",
       "|   R47000   |  沖縄県  |   2020   | 1467480  |    101918    |    48763     |     44037      |   17932    |\n",
       "+------------+----------+----------+----------+--------------+--------------+----------------+------------+"
      ]
     },
     "execution_count": 5,
     "metadata": {},
     "output_type": "execute_result"
    }
   ],
   "source": [
    "%%sql\n",
    "\n",
    "SELECT * FROM population;"
   ]
  },
  {
   "cell_type": "markdown",
   "id": "5a3fb1e0",
   "metadata": {
    "editable": true,
    "slideshow": {
     "slide_type": ""
    },
    "tags": []
   },
   "source": [
    "## 射影（SELECT）"
   ]
  },
  {
   "cell_type": "markdown",
   "id": "42d29583-6916-40d9-98cf-bc5b3b826fcc",
   "metadata": {
    "editable": true,
    "slideshow": {
     "slide_type": ""
    },
    "tags": []
   },
   "source": [
    "最も単純なSQLは`SELECT`句と`FROM`句のみからなるものである．\n",
    "**射影**とは`FROM`句で指定されたテーブルから，`SELECT`句で指定した特定の列のデータのみを抽出する操作である．\n",
    "\n",
    "例題として用いる`population`テーブルは列として「地域コード」「都道府県」「調査年度」「総人口」「小学校児童数」「中学校生徒数」「高等学校生徒数」「大学学生数」があるが，ケースによって特定の列のデータのみ欲しい場合がある．\n",
    "そのようなケースで用いるのが射影である．\n",
    "例えば，`population`テーブルから「都道府県」「調査年度」「総人口」の列のデータのみを抽出する場合，SQL文は以下となる．"
   ]
  },
  {
   "cell_type": "markdown",
   "id": "35d0c841-524d-4eaa-951b-0a09530a0582",
   "metadata": {
    "editable": true,
    "slideshow": {
     "slide_type": ""
    },
    "tags": [
     "remove-output"
    ],
    "vscode": {
     "languageId": "sql"
    }
   },
   "source": [
    "```sql\n",
    "SELECT\n",
    "    都道府県, 調査年度, 総人口\n",
    "FROM\n",
    "    population; \n",
    "```"
   ]
  },
  {
   "cell_type": "code",
   "execution_count": 6,
   "id": "6bdbfe19-736f-4a6f-9750-e3bfbe5740b6",
   "metadata": {
    "editable": true,
    "slideshow": {
     "slide_type": ""
    },
    "tags": [
     "remove-input",
     "scroll-output"
    ]
   },
   "outputs": [
    {
     "data": {
      "text/html": [
       "<table>\n",
       "    <thead>\n",
       "        <tr>\n",
       "            <th>都道府県</th>\n",
       "            <th>調査年度</th>\n",
       "            <th>総人口</th>\n",
       "        </tr>\n",
       "    </thead>\n",
       "    <tbody>\n",
       "        <tr>\n",
       "            <td>北海道</td>\n",
       "            <td>2021</td>\n",
       "            <td>5183000</td>\n",
       "        </tr>\n",
       "        <tr>\n",
       "            <td>青森県</td>\n",
       "            <td>2021</td>\n",
       "            <td>1221000</td>\n",
       "        </tr>\n",
       "        <tr>\n",
       "            <td>岩手県</td>\n",
       "            <td>2021</td>\n",
       "            <td>1196000</td>\n",
       "        </tr>\n",
       "        <tr>\n",
       "            <td>宮城県</td>\n",
       "            <td>2021</td>\n",
       "            <td>2290000</td>\n",
       "        </tr>\n",
       "        <tr>\n",
       "            <td>秋田県</td>\n",
       "            <td>2021</td>\n",
       "            <td>945000</td>\n",
       "        </tr>\n",
       "        <tr>\n",
       "            <td>山形県</td>\n",
       "            <td>2021</td>\n",
       "            <td>1055000</td>\n",
       "        </tr>\n",
       "        <tr>\n",
       "            <td>福島県</td>\n",
       "            <td>2021</td>\n",
       "            <td>1812000</td>\n",
       "        </tr>\n",
       "        <tr>\n",
       "            <td>茨城県</td>\n",
       "            <td>2021</td>\n",
       "            <td>2852000</td>\n",
       "        </tr>\n",
       "        <tr>\n",
       "            <td>栃木県</td>\n",
       "            <td>2021</td>\n",
       "            <td>1921000</td>\n",
       "        </tr>\n",
       "        <tr>\n",
       "            <td>群馬県</td>\n",
       "            <td>2021</td>\n",
       "            <td>1927000</td>\n",
       "        </tr>\n",
       "        <tr>\n",
       "            <td>埼玉県</td>\n",
       "            <td>2021</td>\n",
       "            <td>7340000</td>\n",
       "        </tr>\n",
       "        <tr>\n",
       "            <td>千葉県</td>\n",
       "            <td>2021</td>\n",
       "            <td>6275000</td>\n",
       "        </tr>\n",
       "        <tr>\n",
       "            <td>東京都</td>\n",
       "            <td>2021</td>\n",
       "            <td>14010000</td>\n",
       "        </tr>\n",
       "        <tr>\n",
       "            <td>神奈川県</td>\n",
       "            <td>2021</td>\n",
       "            <td>9236000</td>\n",
       "        </tr>\n",
       "        <tr>\n",
       "            <td>新潟県</td>\n",
       "            <td>2021</td>\n",
       "            <td>2177000</td>\n",
       "        </tr>\n",
       "        <tr>\n",
       "            <td>富山県</td>\n",
       "            <td>2021</td>\n",
       "            <td>1025000</td>\n",
       "        </tr>\n",
       "        <tr>\n",
       "            <td>石川県</td>\n",
       "            <td>2021</td>\n",
       "            <td>1125000</td>\n",
       "        </tr>\n",
       "        <tr>\n",
       "            <td>福井県</td>\n",
       "            <td>2021</td>\n",
       "            <td>760000</td>\n",
       "        </tr>\n",
       "        <tr>\n",
       "            <td>山梨県</td>\n",
       "            <td>2021</td>\n",
       "            <td>805000</td>\n",
       "        </tr>\n",
       "        <tr>\n",
       "            <td>長野県</td>\n",
       "            <td>2021</td>\n",
       "            <td>2033000</td>\n",
       "        </tr>\n",
       "        <tr>\n",
       "            <td>岐阜県</td>\n",
       "            <td>2021</td>\n",
       "            <td>1961000</td>\n",
       "        </tr>\n",
       "        <tr>\n",
       "            <td>静岡県</td>\n",
       "            <td>2021</td>\n",
       "            <td>3608000</td>\n",
       "        </tr>\n",
       "        <tr>\n",
       "            <td>愛知県</td>\n",
       "            <td>2021</td>\n",
       "            <td>7517000</td>\n",
       "        </tr>\n",
       "        <tr>\n",
       "            <td>三重県</td>\n",
       "            <td>2021</td>\n",
       "            <td>1756000</td>\n",
       "        </tr>\n",
       "        <tr>\n",
       "            <td>滋賀県</td>\n",
       "            <td>2021</td>\n",
       "            <td>1411000</td>\n",
       "        </tr>\n",
       "        <tr>\n",
       "            <td>京都府</td>\n",
       "            <td>2021</td>\n",
       "            <td>2561000</td>\n",
       "        </tr>\n",
       "        <tr>\n",
       "            <td>大阪府</td>\n",
       "            <td>2021</td>\n",
       "            <td>8806000</td>\n",
       "        </tr>\n",
       "        <tr>\n",
       "            <td>兵庫県</td>\n",
       "            <td>2021</td>\n",
       "            <td>5432000</td>\n",
       "        </tr>\n",
       "        <tr>\n",
       "            <td>奈良県</td>\n",
       "            <td>2021</td>\n",
       "            <td>1315000</td>\n",
       "        </tr>\n",
       "        <tr>\n",
       "            <td>和歌山県</td>\n",
       "            <td>2021</td>\n",
       "            <td>914000</td>\n",
       "        </tr>\n",
       "        <tr>\n",
       "            <td>鳥取県</td>\n",
       "            <td>2021</td>\n",
       "            <td>549000</td>\n",
       "        </tr>\n",
       "        <tr>\n",
       "            <td>島根県</td>\n",
       "            <td>2021</td>\n",
       "            <td>665000</td>\n",
       "        </tr>\n",
       "        <tr>\n",
       "            <td>岡山県</td>\n",
       "            <td>2021</td>\n",
       "            <td>1876000</td>\n",
       "        </tr>\n",
       "        <tr>\n",
       "            <td>広島県</td>\n",
       "            <td>2021</td>\n",
       "            <td>2780000</td>\n",
       "        </tr>\n",
       "        <tr>\n",
       "            <td>山口県</td>\n",
       "            <td>2021</td>\n",
       "            <td>1328000</td>\n",
       "        </tr>\n",
       "        <tr>\n",
       "            <td>徳島県</td>\n",
       "            <td>2021</td>\n",
       "            <td>712000</td>\n",
       "        </tr>\n",
       "        <tr>\n",
       "            <td>香川県</td>\n",
       "            <td>2021</td>\n",
       "            <td>942000</td>\n",
       "        </tr>\n",
       "        <tr>\n",
       "            <td>愛媛県</td>\n",
       "            <td>2021</td>\n",
       "            <td>1321000</td>\n",
       "        </tr>\n",
       "        <tr>\n",
       "            <td>高知県</td>\n",
       "            <td>2021</td>\n",
       "            <td>684000</td>\n",
       "        </tr>\n",
       "        <tr>\n",
       "            <td>福岡県</td>\n",
       "            <td>2021</td>\n",
       "            <td>5124000</td>\n",
       "        </tr>\n",
       "        <tr>\n",
       "            <td>佐賀県</td>\n",
       "            <td>2021</td>\n",
       "            <td>806000</td>\n",
       "        </tr>\n",
       "        <tr>\n",
       "            <td>長崎県</td>\n",
       "            <td>2021</td>\n",
       "            <td>1297000</td>\n",
       "        </tr>\n",
       "        <tr>\n",
       "            <td>熊本県</td>\n",
       "            <td>2021</td>\n",
       "            <td>1728000</td>\n",
       "        </tr>\n",
       "        <tr>\n",
       "            <td>大分県</td>\n",
       "            <td>2021</td>\n",
       "            <td>1114000</td>\n",
       "        </tr>\n",
       "        <tr>\n",
       "            <td>宮崎県</td>\n",
       "            <td>2021</td>\n",
       "            <td>1061000</td>\n",
       "        </tr>\n",
       "        <tr>\n",
       "            <td>鹿児島県</td>\n",
       "            <td>2021</td>\n",
       "            <td>1576000</td>\n",
       "        </tr>\n",
       "        <tr>\n",
       "            <td>沖縄県</td>\n",
       "            <td>2021</td>\n",
       "            <td>1468000</td>\n",
       "        </tr>\n",
       "        <tr>\n",
       "            <td>北海道</td>\n",
       "            <td>2020</td>\n",
       "            <td>5224614</td>\n",
       "        </tr>\n",
       "        <tr>\n",
       "            <td>青森県</td>\n",
       "            <td>2020</td>\n",
       "            <td>1237984</td>\n",
       "        </tr>\n",
       "        <tr>\n",
       "            <td>岩手県</td>\n",
       "            <td>2020</td>\n",
       "            <td>1210534</td>\n",
       "        </tr>\n",
       "        <tr>\n",
       "            <td>宮城県</td>\n",
       "            <td>2020</td>\n",
       "            <td>2301996</td>\n",
       "        </tr>\n",
       "        <tr>\n",
       "            <td>秋田県</td>\n",
       "            <td>2020</td>\n",
       "            <td>959502</td>\n",
       "        </tr>\n",
       "        <tr>\n",
       "            <td>山形県</td>\n",
       "            <td>2020</td>\n",
       "            <td>1068027</td>\n",
       "        </tr>\n",
       "        <tr>\n",
       "            <td>福島県</td>\n",
       "            <td>2020</td>\n",
       "            <td>1833152</td>\n",
       "        </tr>\n",
       "        <tr>\n",
       "            <td>茨城県</td>\n",
       "            <td>2020</td>\n",
       "            <td>2867009</td>\n",
       "        </tr>\n",
       "        <tr>\n",
       "            <td>栃木県</td>\n",
       "            <td>2020</td>\n",
       "            <td>1933146</td>\n",
       "        </tr>\n",
       "        <tr>\n",
       "            <td>群馬県</td>\n",
       "            <td>2020</td>\n",
       "            <td>1939110</td>\n",
       "        </tr>\n",
       "        <tr>\n",
       "            <td>埼玉県</td>\n",
       "            <td>2020</td>\n",
       "            <td>7344765</td>\n",
       "        </tr>\n",
       "        <tr>\n",
       "            <td>千葉県</td>\n",
       "            <td>2020</td>\n",
       "            <td>6284480</td>\n",
       "        </tr>\n",
       "        <tr>\n",
       "            <td>東京都</td>\n",
       "            <td>2020</td>\n",
       "            <td>14047594</td>\n",
       "        </tr>\n",
       "        <tr>\n",
       "            <td>神奈川県</td>\n",
       "            <td>2020</td>\n",
       "            <td>9237337</td>\n",
       "        </tr>\n",
       "        <tr>\n",
       "            <td>新潟県</td>\n",
       "            <td>2020</td>\n",
       "            <td>2201272</td>\n",
       "        </tr>\n",
       "        <tr>\n",
       "            <td>富山県</td>\n",
       "            <td>2020</td>\n",
       "            <td>1034814</td>\n",
       "        </tr>\n",
       "        <tr>\n",
       "            <td>石川県</td>\n",
       "            <td>2020</td>\n",
       "            <td>1132526</td>\n",
       "        </tr>\n",
       "        <tr>\n",
       "            <td>福井県</td>\n",
       "            <td>2020</td>\n",
       "            <td>766863</td>\n",
       "        </tr>\n",
       "        <tr>\n",
       "            <td>山梨県</td>\n",
       "            <td>2020</td>\n",
       "            <td>809974</td>\n",
       "        </tr>\n",
       "        <tr>\n",
       "            <td>長野県</td>\n",
       "            <td>2020</td>\n",
       "            <td>2048011</td>\n",
       "        </tr>\n",
       "        <tr>\n",
       "            <td>岐阜県</td>\n",
       "            <td>2020</td>\n",
       "            <td>1978742</td>\n",
       "        </tr>\n",
       "        <tr>\n",
       "            <td>静岡県</td>\n",
       "            <td>2020</td>\n",
       "            <td>3633202</td>\n",
       "        </tr>\n",
       "        <tr>\n",
       "            <td>愛知県</td>\n",
       "            <td>2020</td>\n",
       "            <td>7542415</td>\n",
       "        </tr>\n",
       "        <tr>\n",
       "            <td>三重県</td>\n",
       "            <td>2020</td>\n",
       "            <td>1770254</td>\n",
       "        </tr>\n",
       "        <tr>\n",
       "            <td>滋賀県</td>\n",
       "            <td>2020</td>\n",
       "            <td>1413610</td>\n",
       "        </tr>\n",
       "        <tr>\n",
       "            <td>京都府</td>\n",
       "            <td>2020</td>\n",
       "            <td>2578087</td>\n",
       "        </tr>\n",
       "        <tr>\n",
       "            <td>大阪府</td>\n",
       "            <td>2020</td>\n",
       "            <td>8837685</td>\n",
       "        </tr>\n",
       "        <tr>\n",
       "            <td>兵庫県</td>\n",
       "            <td>2020</td>\n",
       "            <td>5465002</td>\n",
       "        </tr>\n",
       "        <tr>\n",
       "            <td>奈良県</td>\n",
       "            <td>2020</td>\n",
       "            <td>1324473</td>\n",
       "        </tr>\n",
       "        <tr>\n",
       "            <td>和歌山県</td>\n",
       "            <td>2020</td>\n",
       "            <td>922584</td>\n",
       "        </tr>\n",
       "        <tr>\n",
       "            <td>鳥取県</td>\n",
       "            <td>2020</td>\n",
       "            <td>553407</td>\n",
       "        </tr>\n",
       "        <tr>\n",
       "            <td>島根県</td>\n",
       "            <td>2020</td>\n",
       "            <td>671126</td>\n",
       "        </tr>\n",
       "        <tr>\n",
       "            <td>岡山県</td>\n",
       "            <td>2020</td>\n",
       "            <td>1888432</td>\n",
       "        </tr>\n",
       "        <tr>\n",
       "            <td>広島県</td>\n",
       "            <td>2020</td>\n",
       "            <td>2799702</td>\n",
       "        </tr>\n",
       "        <tr>\n",
       "            <td>山口県</td>\n",
       "            <td>2020</td>\n",
       "            <td>1342059</td>\n",
       "        </tr>\n",
       "        <tr>\n",
       "            <td>徳島県</td>\n",
       "            <td>2020</td>\n",
       "            <td>719559</td>\n",
       "        </tr>\n",
       "        <tr>\n",
       "            <td>香川県</td>\n",
       "            <td>2020</td>\n",
       "            <td>950244</td>\n",
       "        </tr>\n",
       "        <tr>\n",
       "            <td>愛媛県</td>\n",
       "            <td>2020</td>\n",
       "            <td>1334841</td>\n",
       "        </tr>\n",
       "        <tr>\n",
       "            <td>高知県</td>\n",
       "            <td>2020</td>\n",
       "            <td>691527</td>\n",
       "        </tr>\n",
       "        <tr>\n",
       "            <td>福岡県</td>\n",
       "            <td>2020</td>\n",
       "            <td>5135214</td>\n",
       "        </tr>\n",
       "        <tr>\n",
       "            <td>佐賀県</td>\n",
       "            <td>2020</td>\n",
       "            <td>811442</td>\n",
       "        </tr>\n",
       "        <tr>\n",
       "            <td>長崎県</td>\n",
       "            <td>2020</td>\n",
       "            <td>1312317</td>\n",
       "        </tr>\n",
       "        <tr>\n",
       "            <td>熊本県</td>\n",
       "            <td>2020</td>\n",
       "            <td>1738301</td>\n",
       "        </tr>\n",
       "        <tr>\n",
       "            <td>大分県</td>\n",
       "            <td>2020</td>\n",
       "            <td>1123852</td>\n",
       "        </tr>\n",
       "        <tr>\n",
       "            <td>宮崎県</td>\n",
       "            <td>2020</td>\n",
       "            <td>1069576</td>\n",
       "        </tr>\n",
       "        <tr>\n",
       "            <td>鹿児島県</td>\n",
       "            <td>2020</td>\n",
       "            <td>1588256</td>\n",
       "        </tr>\n",
       "        <tr>\n",
       "            <td>沖縄県</td>\n",
       "            <td>2020</td>\n",
       "            <td>1467480</td>\n",
       "        </tr>\n",
       "    </tbody>\n",
       "</table>"
      ],
      "text/plain": [
       "+----------+----------+----------+\n",
       "| 都道府県 | 調査年度 |  総人口  |\n",
       "+----------+----------+----------+\n",
       "|  北海道  |   2021   | 5183000  |\n",
       "|  青森県  |   2021   | 1221000  |\n",
       "|  岩手県  |   2021   | 1196000  |\n",
       "|  宮城県  |   2021   | 2290000  |\n",
       "|  秋田県  |   2021   |  945000  |\n",
       "|  山形県  |   2021   | 1055000  |\n",
       "|  福島県  |   2021   | 1812000  |\n",
       "|  茨城県  |   2021   | 2852000  |\n",
       "|  栃木県  |   2021   | 1921000  |\n",
       "|  群馬県  |   2021   | 1927000  |\n",
       "|  埼玉県  |   2021   | 7340000  |\n",
       "|  千葉県  |   2021   | 6275000  |\n",
       "|  東京都  |   2021   | 14010000 |\n",
       "| 神奈川県 |   2021   | 9236000  |\n",
       "|  新潟県  |   2021   | 2177000  |\n",
       "|  富山県  |   2021   | 1025000  |\n",
       "|  石川県  |   2021   | 1125000  |\n",
       "|  福井県  |   2021   |  760000  |\n",
       "|  山梨県  |   2021   |  805000  |\n",
       "|  長野県  |   2021   | 2033000  |\n",
       "|  岐阜県  |   2021   | 1961000  |\n",
       "|  静岡県  |   2021   | 3608000  |\n",
       "|  愛知県  |   2021   | 7517000  |\n",
       "|  三重県  |   2021   | 1756000  |\n",
       "|  滋賀県  |   2021   | 1411000  |\n",
       "|  京都府  |   2021   | 2561000  |\n",
       "|  大阪府  |   2021   | 8806000  |\n",
       "|  兵庫県  |   2021   | 5432000  |\n",
       "|  奈良県  |   2021   | 1315000  |\n",
       "| 和歌山県 |   2021   |  914000  |\n",
       "|  鳥取県  |   2021   |  549000  |\n",
       "|  島根県  |   2021   |  665000  |\n",
       "|  岡山県  |   2021   | 1876000  |\n",
       "|  広島県  |   2021   | 2780000  |\n",
       "|  山口県  |   2021   | 1328000  |\n",
       "|  徳島県  |   2021   |  712000  |\n",
       "|  香川県  |   2021   |  942000  |\n",
       "|  愛媛県  |   2021   | 1321000  |\n",
       "|  高知県  |   2021   |  684000  |\n",
       "|  福岡県  |   2021   | 5124000  |\n",
       "|  佐賀県  |   2021   |  806000  |\n",
       "|  長崎県  |   2021   | 1297000  |\n",
       "|  熊本県  |   2021   | 1728000  |\n",
       "|  大分県  |   2021   | 1114000  |\n",
       "|  宮崎県  |   2021   | 1061000  |\n",
       "| 鹿児島県 |   2021   | 1576000  |\n",
       "|  沖縄県  |   2021   | 1468000  |\n",
       "|  北海道  |   2020   | 5224614  |\n",
       "|  青森県  |   2020   | 1237984  |\n",
       "|  岩手県  |   2020   | 1210534  |\n",
       "|  宮城県  |   2020   | 2301996  |\n",
       "|  秋田県  |   2020   |  959502  |\n",
       "|  山形県  |   2020   | 1068027  |\n",
       "|  福島県  |   2020   | 1833152  |\n",
       "|  茨城県  |   2020   | 2867009  |\n",
       "|  栃木県  |   2020   | 1933146  |\n",
       "|  群馬県  |   2020   | 1939110  |\n",
       "|  埼玉県  |   2020   | 7344765  |\n",
       "|  千葉県  |   2020   | 6284480  |\n",
       "|  東京都  |   2020   | 14047594 |\n",
       "| 神奈川県 |   2020   | 9237337  |\n",
       "|  新潟県  |   2020   | 2201272  |\n",
       "|  富山県  |   2020   | 1034814  |\n",
       "|  石川県  |   2020   | 1132526  |\n",
       "|  福井県  |   2020   |  766863  |\n",
       "|  山梨県  |   2020   |  809974  |\n",
       "|  長野県  |   2020   | 2048011  |\n",
       "|  岐阜県  |   2020   | 1978742  |\n",
       "|  静岡県  |   2020   | 3633202  |\n",
       "|  愛知県  |   2020   | 7542415  |\n",
       "|  三重県  |   2020   | 1770254  |\n",
       "|  滋賀県  |   2020   | 1413610  |\n",
       "|  京都府  |   2020   | 2578087  |\n",
       "|  大阪府  |   2020   | 8837685  |\n",
       "|  兵庫県  |   2020   | 5465002  |\n",
       "|  奈良県  |   2020   | 1324473  |\n",
       "| 和歌山県 |   2020   |  922584  |\n",
       "|  鳥取県  |   2020   |  553407  |\n",
       "|  島根県  |   2020   |  671126  |\n",
       "|  岡山県  |   2020   | 1888432  |\n",
       "|  広島県  |   2020   | 2799702  |\n",
       "|  山口県  |   2020   | 1342059  |\n",
       "|  徳島県  |   2020   |  719559  |\n",
       "|  香川県  |   2020   |  950244  |\n",
       "|  愛媛県  |   2020   | 1334841  |\n",
       "|  高知県  |   2020   |  691527  |\n",
       "|  福岡県  |   2020   | 5135214  |\n",
       "|  佐賀県  |   2020   |  811442  |\n",
       "|  長崎県  |   2020   | 1312317  |\n",
       "|  熊本県  |   2020   | 1738301  |\n",
       "|  大分県  |   2020   | 1123852  |\n",
       "|  宮崎県  |   2020   | 1069576  |\n",
       "| 鹿児島県 |   2020   | 1588256  |\n",
       "|  沖縄県  |   2020   | 1467480  |\n",
       "+----------+----------+----------+"
      ]
     },
     "execution_count": 6,
     "metadata": {},
     "output_type": "execute_result"
    }
   ],
   "source": [
    "%%sql\n",
    "\n",
    "SELECT\n",
    "    都道府県, 調査年度, 総人口\n",
    "FROM\n",
    "    population;"
   ]
  },
  {
   "cell_type": "markdown",
   "id": "15781ce9-8e57-4d9d-a2c4-bf24f681f1c1",
   "metadata": {
    "editable": true,
    "slideshow": {
     "slide_type": ""
    },
    "tags": []
   },
   "source": [
    "`SELECT`句内で指定した「都道府県」「調査年度」「総人口」列のデータのみが表示された．\n",
    "\n",
    "`population`テーブルは合計で94行のレコードが格納されているため，表が縦に長くなってしまう．\n",
    "SQL文の問い合わせで得られた結果のうち，先頭の$N$行だけを表示させるためには，以下のように`LIMIT`句を使うとよい．\n"
   ]
  },
  {
   "cell_type": "code",
   "execution_count": 7,
   "id": "ce3386dd-8306-46f7-86e1-59c29e9f3c0a",
   "metadata": {
    "editable": true,
    "slideshow": {
     "slide_type": ""
    },
    "tags": [
     "remove-output",
     "remove-input"
    ]
   },
   "outputs": [],
   "source": [
    "%config SqlMagic.displaylimit = 50"
   ]
  },
  {
   "cell_type": "markdown",
   "id": "0e4821ec-7edd-45c3-b9d0-88b06a0ac099",
   "metadata": {
    "editable": true,
    "slideshow": {
     "slide_type": ""
    },
    "tags": []
   },
   "source": [
    "```sql\n",
    "SELECT\n",
    "    都道府県, 調査年度, 総人口\n",
    "FROM\n",
    "    population\n",
    "LIMIT 10;  -- コメント:先頭の10件のみ表示\n",
    "```"
   ]
  },
  {
   "cell_type": "code",
   "execution_count": 8,
   "id": "b8536491-279f-47ad-8602-3cb5f35f602c",
   "metadata": {
    "editable": true,
    "slideshow": {
     "slide_type": ""
    },
    "tags": []
   },
   "outputs": [
    {
     "data": {
      "text/html": [
       "<table>\n",
       "    <thead>\n",
       "        <tr>\n",
       "            <th>都道府県</th>\n",
       "            <th>調査年度</th>\n",
       "            <th>総人口</th>\n",
       "        </tr>\n",
       "    </thead>\n",
       "    <tbody>\n",
       "        <tr>\n",
       "            <td>北海道</td>\n",
       "            <td>2021</td>\n",
       "            <td>5183000</td>\n",
       "        </tr>\n",
       "        <tr>\n",
       "            <td>青森県</td>\n",
       "            <td>2021</td>\n",
       "            <td>1221000</td>\n",
       "        </tr>\n",
       "        <tr>\n",
       "            <td>岩手県</td>\n",
       "            <td>2021</td>\n",
       "            <td>1196000</td>\n",
       "        </tr>\n",
       "        <tr>\n",
       "            <td>宮城県</td>\n",
       "            <td>2021</td>\n",
       "            <td>2290000</td>\n",
       "        </tr>\n",
       "        <tr>\n",
       "            <td>秋田県</td>\n",
       "            <td>2021</td>\n",
       "            <td>945000</td>\n",
       "        </tr>\n",
       "        <tr>\n",
       "            <td>山形県</td>\n",
       "            <td>2021</td>\n",
       "            <td>1055000</td>\n",
       "        </tr>\n",
       "        <tr>\n",
       "            <td>福島県</td>\n",
       "            <td>2021</td>\n",
       "            <td>1812000</td>\n",
       "        </tr>\n",
       "        <tr>\n",
       "            <td>茨城県</td>\n",
       "            <td>2021</td>\n",
       "            <td>2852000</td>\n",
       "        </tr>\n",
       "        <tr>\n",
       "            <td>栃木県</td>\n",
       "            <td>2021</td>\n",
       "            <td>1921000</td>\n",
       "        </tr>\n",
       "        <tr>\n",
       "            <td>群馬県</td>\n",
       "            <td>2021</td>\n",
       "            <td>1927000</td>\n",
       "        </tr>\n",
       "    </tbody>\n",
       "</table>"
      ],
      "text/plain": [
       "+----------+----------+---------+\n",
       "| 都道府県 | 調査年度 |  総人口 |\n",
       "+----------+----------+---------+\n",
       "|  北海道  |   2021   | 5183000 |\n",
       "|  青森県  |   2021   | 1221000 |\n",
       "|  岩手県  |   2021   | 1196000 |\n",
       "|  宮城県  |   2021   | 2290000 |\n",
       "|  秋田県  |   2021   |  945000 |\n",
       "|  山形県  |   2021   | 1055000 |\n",
       "|  福島県  |   2021   | 1812000 |\n",
       "|  茨城県  |   2021   | 2852000 |\n",
       "|  栃木県  |   2021   | 1921000 |\n",
       "|  群馬県  |   2021   | 1927000 |\n",
       "+----------+----------+---------+"
      ]
     },
     "execution_count": 8,
     "metadata": {},
     "output_type": "execute_result"
    }
   ],
   "source": [
    "%%sql\n",
    "\n",
    "SELECT\n",
    "    都道府県, 調査年度, 総人口\n",
    "FROM\n",
    "    population\n",
    "LIMIT 10;"
   ]
  },
  {
   "cell_type": "markdown",
   "id": "063d78c6-7f1d-4f1e-8e2b-44aa80b49afa",
   "metadata": {
    "editable": true,
    "slideshow": {
     "slide_type": ""
    },
    "tags": []
   },
   "source": [
    "上記SQL文では表示する列を「都道府県」「調査年度」「総人口」に限定したが，テーブルがもつすべての列情報を表示させたい場合もあるだろう．\n",
    "そのようなケースでは，以下のように`SELECT`句に**アスタリスク（*）** を使えばよい（アスタリスクを用いると，すべての列名を列挙するのと同等の結果が得られる）（[★Quiz1★](#sql1-q1)）"
   ]
  },
  {
   "cell_type": "markdown",
   "id": "bdb2e423-fcac-4f18-bbf4-bbde7f093f88",
   "metadata": {
    "editable": true,
    "slideshow": {
     "slide_type": ""
    },
    "tags": []
   },
   "source": [
    "```sql\n",
    "SELECT\n",
    "    *\n",
    "FROM\n",
    "    population\n",
    "LIMIT 10; \n",
    "```"
   ]
  },
  {
   "cell_type": "code",
   "execution_count": 9,
   "id": "4b6dfbc0-9656-4990-9752-4a66e9487894",
   "metadata": {
    "editable": true,
    "slideshow": {
     "slide_type": ""
    },
    "tags": [
     "remove-input"
    ]
   },
   "outputs": [
    {
     "data": {
      "text/html": [
       "<table>\n",
       "    <thead>\n",
       "        <tr>\n",
       "            <th>地域コード</th>\n",
       "            <th>都道府県</th>\n",
       "            <th>調査年度</th>\n",
       "            <th>総人口</th>\n",
       "            <th>小学校児童数</th>\n",
       "            <th>中学校生徒数</th>\n",
       "            <th>高等学校生徒数</th>\n",
       "            <th>大学学生数</th>\n",
       "        </tr>\n",
       "    </thead>\n",
       "    <tbody>\n",
       "        <tr>\n",
       "            <td>R01000</td>\n",
       "            <td>北海道</td>\n",
       "            <td>2021</td>\n",
       "            <td>5183000</td>\n",
       "            <td>231714</td>\n",
       "            <td>122742</td>\n",
       "            <td>115335</td>\n",
       "            <td>79729</td>\n",
       "        </tr>\n",
       "        <tr>\n",
       "            <td>R02000</td>\n",
       "            <td>青森県</td>\n",
       "            <td>2021</td>\n",
       "            <td>1221000</td>\n",
       "            <td>54460</td>\n",
       "            <td>29940</td>\n",
       "            <td>30543</td>\n",
       "            <td>15419</td>\n",
       "        </tr>\n",
       "        <tr>\n",
       "            <td>R03000</td>\n",
       "            <td>岩手県</td>\n",
       "            <td>2021</td>\n",
       "            <td>1196000</td>\n",
       "            <td>55597</td>\n",
       "            <td>30269</td>\n",
       "            <td>29980</td>\n",
       "            <td>11340</td>\n",
       "        </tr>\n",
       "        <tr>\n",
       "            <td>R04000</td>\n",
       "            <td>宮城県</td>\n",
       "            <td>2021</td>\n",
       "            <td>2290000</td>\n",
       "            <td>112246</td>\n",
       "            <td>58748</td>\n",
       "            <td>55329</td>\n",
       "            <td>49580</td>\n",
       "        </tr>\n",
       "        <tr>\n",
       "            <td>R05000</td>\n",
       "            <td>秋田県</td>\n",
       "            <td>2021</td>\n",
       "            <td>945000</td>\n",
       "            <td>38992</td>\n",
       "            <td>21924</td>\n",
       "            <td>21448</td>\n",
       "            <td>8904</td>\n",
       "        </tr>\n",
       "        <tr>\n",
       "            <td>R06000</td>\n",
       "            <td>山形県</td>\n",
       "            <td>2021</td>\n",
       "            <td>1055000</td>\n",
       "            <td>49164</td>\n",
       "            <td>26969</td>\n",
       "            <td>27233</td>\n",
       "            <td>11801</td>\n",
       "        </tr>\n",
       "        <tr>\n",
       "            <td>R07000</td>\n",
       "            <td>福島県</td>\n",
       "            <td>2021</td>\n",
       "            <td>1812000</td>\n",
       "            <td>85322</td>\n",
       "            <td>46148</td>\n",
       "            <td>45647</td>\n",
       "            <td>14385</td>\n",
       "        </tr>\n",
       "        <tr>\n",
       "            <td>R08000</td>\n",
       "            <td>茨城県</td>\n",
       "            <td>2021</td>\n",
       "            <td>2852000</td>\n",
       "            <td>135782</td>\n",
       "            <td>72465</td>\n",
       "            <td>71842</td>\n",
       "            <td>30147</td>\n",
       "        </tr>\n",
       "        <tr>\n",
       "            <td>R09000</td>\n",
       "            <td>栃木県</td>\n",
       "            <td>2021</td>\n",
       "            <td>1921000</td>\n",
       "            <td>95315</td>\n",
       "            <td>51170</td>\n",
       "            <td>49674</td>\n",
       "            <td>20496</td>\n",
       "        </tr>\n",
       "        <tr>\n",
       "            <td>R10000</td>\n",
       "            <td>群馬県</td>\n",
       "            <td>2021</td>\n",
       "            <td>1927000</td>\n",
       "            <td>94185</td>\n",
       "            <td>50841</td>\n",
       "            <td>48521</td>\n",
       "            <td>28772</td>\n",
       "        </tr>\n",
       "    </tbody>\n",
       "</table>"
      ],
      "text/plain": [
       "+------------+----------+----------+---------+--------------+--------------+----------------+------------+\n",
       "| 地域コード | 都道府県 | 調査年度 |  総人口 | 小学校児童数 | 中学校生徒数 | 高等学校生徒数 | 大学学生数 |\n",
       "+------------+----------+----------+---------+--------------+--------------+----------------+------------+\n",
       "|   R01000   |  北海道  |   2021   | 5183000 |    231714    |    122742    |     115335     |   79729    |\n",
       "|   R02000   |  青森県  |   2021   | 1221000 |    54460     |    29940     |     30543      |   15419    |\n",
       "|   R03000   |  岩手県  |   2021   | 1196000 |    55597     |    30269     |     29980      |   11340    |\n",
       "|   R04000   |  宮城県  |   2021   | 2290000 |    112246    |    58748     |     55329      |   49580    |\n",
       "|   R05000   |  秋田県  |   2021   |  945000 |    38992     |    21924     |     21448      |    8904    |\n",
       "|   R06000   |  山形県  |   2021   | 1055000 |    49164     |    26969     |     27233      |   11801    |\n",
       "|   R07000   |  福島県  |   2021   | 1812000 |    85322     |    46148     |     45647      |   14385    |\n",
       "|   R08000   |  茨城県  |   2021   | 2852000 |    135782    |    72465     |     71842      |   30147    |\n",
       "|   R09000   |  栃木県  |   2021   | 1921000 |    95315     |    51170     |     49674      |   20496    |\n",
       "|   R10000   |  群馬県  |   2021   | 1927000 |    94185     |    50841     |     48521      |   28772    |\n",
       "+------------+----------+----------+---------+--------------+--------------+----------------+------------+"
      ]
     },
     "execution_count": 9,
     "metadata": {},
     "output_type": "execute_result"
    }
   ],
   "source": [
    "%%sql\n",
    "\n",
    "SELECT\n",
    "    *\n",
    "FROM\n",
    "    population\n",
    "LIMIT 10;"
   ]
  },
  {
   "cell_type": "markdown",
   "id": "43b7c7e0",
   "metadata": {
    "editable": true,
    "slideshow": {
     "slide_type": ""
    },
    "tags": [
     "remove-output"
    ]
   },
   "source": [
    "```{tip}\n",
    "#### 読みやすいSQL\n",
    "SQL文では改行や余分な空白は無視される．そのため，上記SQL文は`SELECT * FROM population LIMIT 10;`と解釈される．\n",
    "\n",
    "それでもわざわざ改行や余分な空白を入れたりしているのは，SQL文を読みやすくするためである．\n",
    "複雑な問い合わせを行う場合，SQL文も複雑かつ長くなる．\n",
    "そういったSQL文を読むのは苦痛であるしミスも見落としやすくなるので，できる限りSQL文を読みやすくしておくほうがよい．\n",
    "```"
   ]
  },
  {
   "cell_type": "markdown",
   "id": "4907b444",
   "metadata": {
    "editable": true,
    "slideshow": {
     "slide_type": ""
    },
    "tags": []
   },
   "source": [
    "## 選択（WHERE）"
   ]
  },
  {
   "cell_type": "markdown",
   "id": "5438f655-87c9-4492-aa86-251dbb8a6424",
   "metadata": {
    "editable": true,
    "slideshow": {
     "slide_type": ""
    },
    "tags": []
   },
   "source": [
    "**選択**とは関係データベースから特定の条件を満たすレコードを抽出する操作である．\n",
    "選択を行うには`WHERE`句はを用いる．\n",
    "`WHERE`句を使うことで，列の値と定数，あるいは列同士の値を比較して，`FROM`句で参照したテーブル中のデータを絞り込むことができる．\n",
    "\n",
    "`WHERE`句内で使える代表的な比較演算子は，以下の通りである：\n",
    "- =（等しい）\n",
    "- !=（等しくない）\n",
    "- <（より小さい）\n",
    "- \\>（より大きい）\n",
    "- <=（以下）\n",
    "- \\>=（以上）"
   ]
  },
  {
   "cell_type": "markdown",
   "id": "6c0d7ca0-0a2e-47cd-b984-0c2b773e2cd4",
   "metadata": {
    "editable": true,
    "slideshow": {
     "slide_type": ""
    },
    "tags": []
   },
   "source": [
    "例えば，`population`テーブルから総人口数が750万以上のレコードを抽出するSQL文は以下となる．"
   ]
  },
  {
   "cell_type": "markdown",
   "id": "ad02ec94-0261-4b04-b5f2-267f57b99b0f",
   "metadata": {
    "editable": true,
    "slideshow": {
     "slide_type": ""
    },
    "tags": []
   },
   "source": [
    "```sql\n",
    "SELECT\n",
    "    *\n",
    "FROM\n",
    "    population\n",
    "WHERE\n",
    "    総人口 >= 7500000; \n",
    "```"
   ]
  },
  {
   "cell_type": "code",
   "execution_count": 10,
   "id": "c04109df-2028-4db9-b3e2-e034d7aea9dd",
   "metadata": {
    "editable": true,
    "slideshow": {
     "slide_type": ""
    },
    "tags": [
     "remove-input"
    ]
   },
   "outputs": [
    {
     "data": {
      "text/html": [
       "<table>\n",
       "    <thead>\n",
       "        <tr>\n",
       "            <th>地域コード</th>\n",
       "            <th>都道府県</th>\n",
       "            <th>調査年度</th>\n",
       "            <th>総人口</th>\n",
       "            <th>小学校児童数</th>\n",
       "            <th>中学校生徒数</th>\n",
       "            <th>高等学校生徒数</th>\n",
       "            <th>大学学生数</th>\n",
       "        </tr>\n",
       "    </thead>\n",
       "    <tbody>\n",
       "        <tr>\n",
       "            <td>R13000</td>\n",
       "            <td>東京都</td>\n",
       "            <td>2021</td>\n",
       "            <td>14010000</td>\n",
       "            <td>622820</td>\n",
       "            <td>311049</td>\n",
       "            <td>301712</td>\n",
       "            <td>676964</td>\n",
       "        </tr>\n",
       "        <tr>\n",
       "            <td>R14000</td>\n",
       "            <td>神奈川県</td>\n",
       "            <td>2021</td>\n",
       "            <td>9236000</td>\n",
       "            <td>451098</td>\n",
       "            <td>226599</td>\n",
       "            <td>195931</td>\n",
       "            <td>171164</td>\n",
       "        </tr>\n",
       "        <tr>\n",
       "            <td>R23000</td>\n",
       "            <td>愛知県</td>\n",
       "            <td>2021</td>\n",
       "            <td>7517000</td>\n",
       "            <td>405839</td>\n",
       "            <td>209151</td>\n",
       "            <td>185920</td>\n",
       "            <td>176722</td>\n",
       "        </tr>\n",
       "        <tr>\n",
       "            <td>R27000</td>\n",
       "            <td>大阪府</td>\n",
       "            <td>2021</td>\n",
       "            <td>8806000</td>\n",
       "            <td>422433</td>\n",
       "            <td>221610</td>\n",
       "            <td>207262</td>\n",
       "            <td>228194</td>\n",
       "        </tr>\n",
       "        <tr>\n",
       "            <td>R13000</td>\n",
       "            <td>東京都</td>\n",
       "            <td>2020</td>\n",
       "            <td>14047594</td>\n",
       "            <td>619291</td>\n",
       "            <td>304405</td>\n",
       "            <td>306302</td>\n",
       "            <td>673683</td>\n",
       "        </tr>\n",
       "        <tr>\n",
       "            <td>R14000</td>\n",
       "            <td>神奈川県</td>\n",
       "            <td>2020</td>\n",
       "            <td>9237337</td>\n",
       "            <td>454751</td>\n",
       "            <td>224709</td>\n",
       "            <td>200230</td>\n",
       "            <td>174710</td>\n",
       "        </tr>\n",
       "        <tr>\n",
       "            <td>R23000</td>\n",
       "            <td>愛知県</td>\n",
       "            <td>2020</td>\n",
       "            <td>7542415</td>\n",
       "            <td>410482</td>\n",
       "            <td>206920</td>\n",
       "            <td>190309</td>\n",
       "            <td>177380</td>\n",
       "        </tr>\n",
       "        <tr>\n",
       "            <td>R27000</td>\n",
       "            <td>大阪府</td>\n",
       "            <td>2020</td>\n",
       "            <td>8837685</td>\n",
       "            <td>427884</td>\n",
       "            <td>220342</td>\n",
       "            <td>214115</td>\n",
       "            <td>226452</td>\n",
       "        </tr>\n",
       "    </tbody>\n",
       "</table>"
      ],
      "text/plain": [
       "+------------+----------+----------+----------+--------------+--------------+----------------+------------+\n",
       "| 地域コード | 都道府県 | 調査年度 |  総人口  | 小学校児童数 | 中学校生徒数 | 高等学校生徒数 | 大学学生数 |\n",
       "+------------+----------+----------+----------+--------------+--------------+----------------+------------+\n",
       "|   R13000   |  東京都  |   2021   | 14010000 |    622820    |    311049    |     301712     |   676964   |\n",
       "|   R14000   | 神奈川県 |   2021   | 9236000  |    451098    |    226599    |     195931     |   171164   |\n",
       "|   R23000   |  愛知県  |   2021   | 7517000  |    405839    |    209151    |     185920     |   176722   |\n",
       "|   R27000   |  大阪府  |   2021   | 8806000  |    422433    |    221610    |     207262     |   228194   |\n",
       "|   R13000   |  東京都  |   2020   | 14047594 |    619291    |    304405    |     306302     |   673683   |\n",
       "|   R14000   | 神奈川県 |   2020   | 9237337  |    454751    |    224709    |     200230     |   174710   |\n",
       "|   R23000   |  愛知県  |   2020   | 7542415  |    410482    |    206920    |     190309     |   177380   |\n",
       "|   R27000   |  大阪府  |   2020   | 8837685  |    427884    |    220342    |     214115     |   226452   |\n",
       "+------------+----------+----------+----------+--------------+--------------+----------------+------------+"
      ]
     },
     "execution_count": 10,
     "metadata": {},
     "output_type": "execute_result"
    }
   ],
   "source": [
    "%%sql\n",
    "\n",
    "SELECT\n",
    "    *\n",
    "FROM\n",
    "    population\n",
    "WHERE\n",
    "    総人口 >= 7500000;"
   ]
  },
  {
   "cell_type": "markdown",
   "id": "e3ccfc57-7206-49d4-ba64-1eacf1318726",
   "metadata": {
    "editable": true,
    "slideshow": {
     "slide_type": ""
    },
    "tags": []
   },
   "source": [
    "比較したい列のデータ型が文字列の場合は比較したい文字列を**ダブルクォーテーション（\\\"）** もしくは**シングルクォーテーション（'）** で囲う必要がある．\n",
    "\n",
    "以下は，`population`テーブルから都道府県名が「京都府」のレコードを抽出するSQL文の例である（[★Quiz2★](#sql1-q2)）．"
   ]
  },
  {
   "cell_type": "markdown",
   "id": "3e62a6af-753a-4e7d-9b97-bca6f25d0fee",
   "metadata": {
    "editable": true,
    "slideshow": {
     "slide_type": ""
    },
    "tags": []
   },
   "source": [
    "```sql\n",
    "SELECT\n",
    "    *\n",
    "FROM\n",
    "    population\n",
    "WHERE\n",
    "    都道府県 = \"京都府\"; \n",
    "```"
   ]
  },
  {
   "cell_type": "code",
   "execution_count": 11,
   "id": "ed51b641-233f-42a5-8ba0-38d9fe6c97c4",
   "metadata": {
    "editable": true,
    "slideshow": {
     "slide_type": ""
    },
    "tags": [
     "remove-input"
    ]
   },
   "outputs": [
    {
     "data": {
      "text/html": [
       "<table>\n",
       "    <thead>\n",
       "        <tr>\n",
       "            <th>地域コード</th>\n",
       "            <th>都道府県</th>\n",
       "            <th>調査年度</th>\n",
       "            <th>総人口</th>\n",
       "            <th>小学校児童数</th>\n",
       "            <th>中学校生徒数</th>\n",
       "            <th>高等学校生徒数</th>\n",
       "            <th>大学学生数</th>\n",
       "        </tr>\n",
       "    </thead>\n",
       "    <tbody>\n",
       "        <tr>\n",
       "            <td>R26000</td>\n",
       "            <td>京都府</td>\n",
       "            <td>2021</td>\n",
       "            <td>2561000</td>\n",
       "            <td>119892</td>\n",
       "            <td>65187</td>\n",
       "            <td>66457</td>\n",
       "            <td>143095</td>\n",
       "        </tr>\n",
       "        <tr>\n",
       "            <td>R26000</td>\n",
       "            <td>京都府</td>\n",
       "            <td>2020</td>\n",
       "            <td>2578087</td>\n",
       "            <td>121712</td>\n",
       "            <td>65443</td>\n",
       "            <td>67847</td>\n",
       "            <td>141870</td>\n",
       "        </tr>\n",
       "    </tbody>\n",
       "</table>"
      ],
      "text/plain": [
       "+------------+----------+----------+---------+--------------+--------------+----------------+------------+\n",
       "| 地域コード | 都道府県 | 調査年度 |  総人口 | 小学校児童数 | 中学校生徒数 | 高等学校生徒数 | 大学学生数 |\n",
       "+------------+----------+----------+---------+--------------+--------------+----------------+------------+\n",
       "|   R26000   |  京都府  |   2021   | 2561000 |    119892    |    65187     |     66457      |   143095   |\n",
       "|   R26000   |  京都府  |   2020   | 2578087 |    121712    |    65443     |     67847      |   141870   |\n",
       "+------------+----------+----------+---------+--------------+--------------+----------------+------------+"
      ]
     },
     "execution_count": 11,
     "metadata": {},
     "output_type": "execute_result"
    }
   ],
   "source": [
    "%%sql\n",
    "\n",
    "SELECT\n",
    "    *\n",
    "FROM\n",
    "    population\n",
    "WHERE\n",
    "    都道府県 = \"京都府\";"
   ]
  },
  {
   "cell_type": "markdown",
   "id": "73e3e5b9-492a-4f39-8bf1-7de1fef9c7db",
   "metadata": {
    "editable": true,
    "slideshow": {
     "slide_type": ""
    },
    "tags": []
   },
   "source": [
    "文字列の条件指定においては，列データに特定の文字列を含むレコードを抽出したいケースもある．\n",
    "そのようなケースでは`LIKE`句を用いる．\n",
    "以下の例のように，`WHERE`句内に`LIKE %部分文字列%`といった文を書くと，指定した部分文字列を列データに含むレコードに絞り込むことができる．\n",
    "なお`%`（パーセント）は0文字以上の任意の文字列を意味する．\n",
    "\n",
    "以下は，`population`テーブルから都道府県名に「京都」の文字を含むレコードのみを抽出するSQL文の例である．"
   ]
  },
  {
   "cell_type": "markdown",
   "id": "313b179d-fd51-4149-81e6-0d7640836ca9",
   "metadata": {
    "editable": true,
    "slideshow": {
     "slide_type": ""
    },
    "tags": []
   },
   "source": [
    "```sql\n",
    "SELECT\n",
    "    *\n",
    "FROM\n",
    "    population\n",
    "WHERE\n",
    "    都道府県 LIKE \"%京都%\"; \n",
    "```"
   ]
  },
  {
   "cell_type": "code",
   "execution_count": 12,
   "id": "3b129a81-f978-40be-bec8-fe88124e43c2",
   "metadata": {
    "editable": true,
    "slideshow": {
     "slide_type": ""
    },
    "tags": [
     "remove-input"
    ]
   },
   "outputs": [
    {
     "data": {
      "text/html": [
       "<table>\n",
       "    <thead>\n",
       "        <tr>\n",
       "            <th>地域コード</th>\n",
       "            <th>都道府県</th>\n",
       "            <th>調査年度</th>\n",
       "            <th>総人口</th>\n",
       "            <th>小学校児童数</th>\n",
       "            <th>中学校生徒数</th>\n",
       "            <th>高等学校生徒数</th>\n",
       "            <th>大学学生数</th>\n",
       "        </tr>\n",
       "    </thead>\n",
       "    <tbody>\n",
       "        <tr>\n",
       "            <td>R13000</td>\n",
       "            <td>東京都</td>\n",
       "            <td>2021</td>\n",
       "            <td>14010000</td>\n",
       "            <td>622820</td>\n",
       "            <td>311049</td>\n",
       "            <td>301712</td>\n",
       "            <td>676964</td>\n",
       "        </tr>\n",
       "        <tr>\n",
       "            <td>R26000</td>\n",
       "            <td>京都府</td>\n",
       "            <td>2021</td>\n",
       "            <td>2561000</td>\n",
       "            <td>119892</td>\n",
       "            <td>65187</td>\n",
       "            <td>66457</td>\n",
       "            <td>143095</td>\n",
       "        </tr>\n",
       "        <tr>\n",
       "            <td>R13000</td>\n",
       "            <td>東京都</td>\n",
       "            <td>2020</td>\n",
       "            <td>14047594</td>\n",
       "            <td>619291</td>\n",
       "            <td>304405</td>\n",
       "            <td>306302</td>\n",
       "            <td>673683</td>\n",
       "        </tr>\n",
       "        <tr>\n",
       "            <td>R26000</td>\n",
       "            <td>京都府</td>\n",
       "            <td>2020</td>\n",
       "            <td>2578087</td>\n",
       "            <td>121712</td>\n",
       "            <td>65443</td>\n",
       "            <td>67847</td>\n",
       "            <td>141870</td>\n",
       "        </tr>\n",
       "    </tbody>\n",
       "</table>"
      ],
      "text/plain": [
       "+------------+----------+----------+----------+--------------+--------------+----------------+------------+\n",
       "| 地域コード | 都道府県 | 調査年度 |  総人口  | 小学校児童数 | 中学校生徒数 | 高等学校生徒数 | 大学学生数 |\n",
       "+------------+----------+----------+----------+--------------+--------------+----------------+------------+\n",
       "|   R13000   |  東京都  |   2021   | 14010000 |    622820    |    311049    |     301712     |   676964   |\n",
       "|   R26000   |  京都府  |   2021   | 2561000  |    119892    |    65187     |     66457      |   143095   |\n",
       "|   R13000   |  東京都  |   2020   | 14047594 |    619291    |    304405    |     306302     |   673683   |\n",
       "|   R26000   |  京都府  |   2020   | 2578087  |    121712    |    65443     |     67847      |   141870   |\n",
       "+------------+----------+----------+----------+--------------+--------------+----------------+------------+"
      ]
     },
     "execution_count": 12,
     "metadata": {},
     "output_type": "execute_result"
    }
   ],
   "source": [
    "%%sql\n",
    "\n",
    "SELECT\n",
    "    *\n",
    "FROM\n",
    "    population\n",
    "WHERE\n",
    "    都道府県 LIKE \"%京都%\";"
   ]
  },
  {
   "cell_type": "markdown",
   "id": "f792dd79-4d85-4de5-ad93-796e308d4d9f",
   "metadata": {
    "editable": true,
    "slideshow": {
     "slide_type": ""
    },
    "tags": []
   },
   "source": [
    "「京都」の前後にパーセント記号をつけることによって，都道府県名が「〜京都」もしくは「京都〜」のパターンにマッチするレコードのみに絞り込んでいる．\n",
    "もし`LIKE`句の条件を`%京都%`ではなく`%京都`にした場合，京都府のレコードはマッチしなくなる．"
   ]
  },
  {
   "cell_type": "markdown",
   "id": "e40750fa-1f84-429c-8c47-8881d1b2aa67",
   "metadata": {
    "editable": true,
    "slideshow": {
     "slide_type": ""
    },
    "tags": []
   },
   "source": [
    "```{note}\n",
    "#### SQLの処理順序\n",
    "SELECT文による問い合わせが行われたとき，関係データベース管理システムは以下のステップで処理を行う．\n",
    "1. FROM句で指定した表を参照\n",
    "2. 表中の各レコードがWHERE句で指定された条件を満たしているかを確認\n",
    "3. ステップ2で条件を満たしていると判定された行のみ，その行にあるSELECT句で指定した列のデータを表示\n",
    "```"
   ]
  },
  {
   "cell_type": "markdown",
   "id": "4d0d09d2-59b7-49ba-93ef-041eea79760e",
   "metadata": {
    "editable": true,
    "slideshow": {
     "slide_type": ""
    },
    "tags": []
   },
   "source": [
    "`WHERE`句では条件を複数指定することもできる．\n",
    "条件は論理演算子である`AND`もしくは`OR`で結合することができる．\n",
    "* `条件1 AND 条件2`と指定すれば，条件1と条件2をともに満たすレコード\n",
    "* `条件1 OR 条件2`と指定すれば，条件1もしくは条件2のいずれかを満たすレコード\n",
    "\n",
    "を抽出することができる．\n",
    "\n",
    "以下は，`population`テーブルから総人口が100万人以上でかつ大学生数が高校生数よりも多い都道府県を抽出するSQL文の例である（[★Quiz3★](#sql1-q3)）．"
   ]
  },
  {
   "cell_type": "markdown",
   "id": "ef9bb99c-7f2d-42ff-aaf4-693ae0102e91",
   "metadata": {
    "editable": true,
    "slideshow": {
     "slide_type": ""
    },
    "tags": []
   },
   "source": [
    "```sql\n",
    "SELECT\n",
    "    都道府県\n",
    "FROM\n",
    "    population\n",
    "WHERE\n",
    "    (総人口 >= 1000000)\n",
    "    AND (大学学生数 > 高等学校生徒数); \n",
    "```"
   ]
  },
  {
   "cell_type": "code",
   "execution_count": 13,
   "id": "13144dcb-5a7f-4f06-a42b-175ff49fa0c7",
   "metadata": {
    "editable": true,
    "slideshow": {
     "slide_type": ""
    },
    "tags": [
     "remove-input"
    ]
   },
   "outputs": [
    {
     "data": {
      "text/html": [
       "<table>\n",
       "    <thead>\n",
       "        <tr>\n",
       "            <th>都道府県</th>\n",
       "        </tr>\n",
       "    </thead>\n",
       "    <tbody>\n",
       "        <tr>\n",
       "            <td>東京都</td>\n",
       "        </tr>\n",
       "        <tr>\n",
       "            <td>京都府</td>\n",
       "        </tr>\n",
       "        <tr>\n",
       "            <td>大阪府</td>\n",
       "        </tr>\n",
       "        <tr>\n",
       "            <td>東京都</td>\n",
       "        </tr>\n",
       "        <tr>\n",
       "            <td>京都府</td>\n",
       "        </tr>\n",
       "        <tr>\n",
       "            <td>大阪府</td>\n",
       "        </tr>\n",
       "    </tbody>\n",
       "</table>"
      ],
      "text/plain": [
       "+----------+\n",
       "| 都道府県 |\n",
       "+----------+\n",
       "|  東京都  |\n",
       "|  京都府  |\n",
       "|  大阪府  |\n",
       "|  東京都  |\n",
       "|  京都府  |\n",
       "|  大阪府  |\n",
       "+----------+"
      ]
     },
     "execution_count": 13,
     "metadata": {},
     "output_type": "execute_result"
    }
   ],
   "source": [
    "%%sql\n",
    "\n",
    "SELECT\n",
    "    都道府県\n",
    "FROM\n",
    "    population\n",
    "WHERE\n",
    "    (総人口 >= 1000000)\n",
    "    AND (大学学生数 > 高等学校生徒数);"
   ]
  },
  {
   "cell_type": "markdown",
   "id": "55d786f6-f55e-48da-a59b-33e93d6ab00c",
   "metadata": {
    "editable": true,
    "slideshow": {
     "slide_type": ""
    },
    "tags": []
   },
   "source": [
    "```{tip}\n",
    "#### 条件の明確化\n",
    "条件の前後に丸括弧をつけることで，条件の記述範囲を明確にすることができる．\n",
    "条件の範囲やAND/ORのかかる順序をわかりやすくするためにも，3つ以上の条件を組み合わせるような場合には条件の前後に丸括弧をつけることをオススメする．\n",
    "```"
   ]
  },
  {
   "cell_type": "markdown",
   "id": "9d55d939-5f07-4304-9ea6-5a5da151849d",
   "metadata": {
    "editable": true,
    "slideshow": {
     "slide_type": ""
    },
    "tags": []
   },
   "source": [
    "上記結果には重複する結果が含まれているが，通常SQLは重複した結果があってもそのまま出力される．\n",
    "行の重複を除いた結果を出力したい場合，`SELECT`の直後に`DISTINCT`を指定する．\n",
    "\n",
    "上記の例においては，以下のようなSQL文を発行すると重複のない結果が得られる（[★Quiz4★](#sql1-q4)）．"
   ]
  },
  {
   "cell_type": "markdown",
   "id": "e2cbbe04-f05d-43f1-aedd-d50b8bc39326",
   "metadata": {
    "editable": true,
    "slideshow": {
     "slide_type": ""
    },
    "tags": []
   },
   "source": [
    "```sql\n",
    "SELECT DISTINCT\n",
    "    都道府県\n",
    "FROM\n",
    "    population\n",
    "WHERE\n",
    "    (総人口 >= 1000000)\n",
    "    AND (大学学生数 > 高等学校生徒数); \n",
    "```"
   ]
  },
  {
   "cell_type": "code",
   "execution_count": 14,
   "id": "4d0804ee-98d4-457a-89da-d25fe9eeec41",
   "metadata": {
    "editable": true,
    "slideshow": {
     "slide_type": ""
    },
    "tags": [
     "remove-input"
    ]
   },
   "outputs": [
    {
     "data": {
      "text/html": [
       "<table>\n",
       "    <thead>\n",
       "        <tr>\n",
       "            <th>都道府県</th>\n",
       "        </tr>\n",
       "    </thead>\n",
       "    <tbody>\n",
       "        <tr>\n",
       "            <td>東京都</td>\n",
       "        </tr>\n",
       "        <tr>\n",
       "            <td>京都府</td>\n",
       "        </tr>\n",
       "        <tr>\n",
       "            <td>大阪府</td>\n",
       "        </tr>\n",
       "    </tbody>\n",
       "</table>"
      ],
      "text/plain": [
       "+----------+\n",
       "| 都道府県 |\n",
       "+----------+\n",
       "|  東京都  |\n",
       "|  京都府  |\n",
       "|  大阪府  |\n",
       "+----------+"
      ]
     },
     "execution_count": 14,
     "metadata": {},
     "output_type": "execute_result"
    }
   ],
   "source": [
    "%%sql\n",
    "\n",
    "SELECT DISTINCT\n",
    "    都道府県\n",
    "FROM\n",
    "    population\n",
    "WHERE\n",
    "    (総人口 >= 1000000)\n",
    "    AND (大学学生数 > 高等学校生徒数);"
   ]
  },
  {
   "cell_type": "markdown",
   "id": "56abc16a",
   "metadata": {
    "editable": true,
    "slideshow": {
     "slide_type": ""
    },
    "tags": []
   },
   "source": [
    "## 整列（ORDER BY）"
   ]
  },
  {
   "cell_type": "markdown",
   "id": "437516cf-b7eb-4963-b24b-beb4922f15ec",
   "metadata": {
    "editable": true,
    "slideshow": {
     "slide_type": ""
    },
    "tags": []
   },
   "source": [
    "データ分析では，大きいもの（小さいもの）順にデータを**整列（ソート）** させたいケースが多々ある．\n",
    "そのようなケースで使用するのが`ORDER BY`句である．\n",
    "\n",
    "以下のように`ORDER BY`の後に列名を指定することで，SQL文で抽出したレコードを指定した列の値の**小さいもの順（昇順）** に並び替えることができる．"
   ]
  },
  {
   "cell_type": "markdown",
   "id": "74237243-2578-4088-a853-5edf97edcc29",
   "metadata": {
    "editable": true,
    "slideshow": {
     "slide_type": ""
    },
    "tags": []
   },
   "source": [
    "```sql\n",
    "SELECT \n",
    "    *\n",
    "FROM\n",
    "    population\n",
    "ORDER BY \n",
    "    総人口\n",
    "LIMIT 10; --- 先頭の10件のみ表示\n",
    "```"
   ]
  },
  {
   "cell_type": "code",
   "execution_count": 15,
   "id": "7f1e5ec6-0418-40c3-b3c4-0b9157088098",
   "metadata": {
    "editable": true,
    "slideshow": {
     "slide_type": ""
    },
    "tags": [
     "remove-input"
    ]
   },
   "outputs": [
    {
     "data": {
      "text/html": [
       "<table>\n",
       "    <thead>\n",
       "        <tr>\n",
       "            <th>地域コード</th>\n",
       "            <th>都道府県</th>\n",
       "            <th>調査年度</th>\n",
       "            <th>総人口</th>\n",
       "            <th>小学校児童数</th>\n",
       "            <th>中学校生徒数</th>\n",
       "            <th>高等学校生徒数</th>\n",
       "            <th>大学学生数</th>\n",
       "        </tr>\n",
       "    </thead>\n",
       "    <tbody>\n",
       "        <tr>\n",
       "            <td>R31000</td>\n",
       "            <td>鳥取県</td>\n",
       "            <td>2021</td>\n",
       "            <td>549000</td>\n",
       "            <td>28027</td>\n",
       "            <td>14316</td>\n",
       "            <td>14321</td>\n",
       "            <td>6721</td>\n",
       "        </tr>\n",
       "        <tr>\n",
       "            <td>R31000</td>\n",
       "            <td>鳥取県</td>\n",
       "            <td>2020</td>\n",
       "            <td>553407</td>\n",
       "            <td>28238</td>\n",
       "            <td>14522</td>\n",
       "            <td>14572</td>\n",
       "            <td>6736</td>\n",
       "        </tr>\n",
       "        <tr>\n",
       "            <td>R32000</td>\n",
       "            <td>島根県</td>\n",
       "            <td>2021</td>\n",
       "            <td>665000</td>\n",
       "            <td>33162</td>\n",
       "            <td>17040</td>\n",
       "            <td>17145</td>\n",
       "            <td>7263</td>\n",
       "        </tr>\n",
       "        <tr>\n",
       "            <td>R32000</td>\n",
       "            <td>島根県</td>\n",
       "            <td>2020</td>\n",
       "            <td>671126</td>\n",
       "            <td>33921</td>\n",
       "            <td>17119</td>\n",
       "            <td>17707</td>\n",
       "            <td>7098</td>\n",
       "        </tr>\n",
       "        <tr>\n",
       "            <td>R39000</td>\n",
       "            <td>高知県</td>\n",
       "            <td>2021</td>\n",
       "            <td>684000</td>\n",
       "            <td>31226</td>\n",
       "            <td>16988</td>\n",
       "            <td>17139</td>\n",
       "            <td>9257</td>\n",
       "        </tr>\n",
       "        <tr>\n",
       "            <td>R39000</td>\n",
       "            <td>高知県</td>\n",
       "            <td>2020</td>\n",
       "            <td>691527</td>\n",
       "            <td>31918</td>\n",
       "            <td>16999</td>\n",
       "            <td>17646</td>\n",
       "            <td>9086</td>\n",
       "        </tr>\n",
       "        <tr>\n",
       "            <td>R36000</td>\n",
       "            <td>徳島県</td>\n",
       "            <td>2021</td>\n",
       "            <td>712000</td>\n",
       "            <td>34181</td>\n",
       "            <td>17432</td>\n",
       "            <td>16965</td>\n",
       "            <td>11761</td>\n",
       "        </tr>\n",
       "        <tr>\n",
       "            <td>R36000</td>\n",
       "            <td>徳島県</td>\n",
       "            <td>2020</td>\n",
       "            <td>719559</td>\n",
       "            <td>34671</td>\n",
       "            <td>17397</td>\n",
       "            <td>17801</td>\n",
       "            <td>11867</td>\n",
       "        </tr>\n",
       "        <tr>\n",
       "            <td>R18000</td>\n",
       "            <td>福井県</td>\n",
       "            <td>2021</td>\n",
       "            <td>760000</td>\n",
       "            <td>39236</td>\n",
       "            <td>21196</td>\n",
       "            <td>20701</td>\n",
       "            <td>10065</td>\n",
       "        </tr>\n",
       "        <tr>\n",
       "            <td>R18000</td>\n",
       "            <td>福井県</td>\n",
       "            <td>2020</td>\n",
       "            <td>766863</td>\n",
       "            <td>40177</td>\n",
       "            <td>21170</td>\n",
       "            <td>21221</td>\n",
       "            <td>10068</td>\n",
       "        </tr>\n",
       "    </tbody>\n",
       "</table>"
      ],
      "text/plain": [
       "+------------+----------+----------+--------+--------------+--------------+----------------+------------+\n",
       "| 地域コード | 都道府県 | 調査年度 | 総人口 | 小学校児童数 | 中学校生徒数 | 高等学校生徒数 | 大学学生数 |\n",
       "+------------+----------+----------+--------+--------------+--------------+----------------+------------+\n",
       "|   R31000   |  鳥取県  |   2021   | 549000 |    28027     |    14316     |     14321      |    6721    |\n",
       "|   R31000   |  鳥取県  |   2020   | 553407 |    28238     |    14522     |     14572      |    6736    |\n",
       "|   R32000   |  島根県  |   2021   | 665000 |    33162     |    17040     |     17145      |    7263    |\n",
       "|   R32000   |  島根県  |   2020   | 671126 |    33921     |    17119     |     17707      |    7098    |\n",
       "|   R39000   |  高知県  |   2021   | 684000 |    31226     |    16988     |     17139      |    9257    |\n",
       "|   R39000   |  高知県  |   2020   | 691527 |    31918     |    16999     |     17646      |    9086    |\n",
       "|   R36000   |  徳島県  |   2021   | 712000 |    34181     |    17432     |     16965      |   11761    |\n",
       "|   R36000   |  徳島県  |   2020   | 719559 |    34671     |    17397     |     17801      |   11867    |\n",
       "|   R18000   |  福井県  |   2021   | 760000 |    39236     |    21196     |     20701      |   10065    |\n",
       "|   R18000   |  福井県  |   2020   | 766863 |    40177     |    21170     |     21221      |   10068    |\n",
       "+------------+----------+----------+--------+--------------+--------------+----------------+------------+"
      ]
     },
     "execution_count": 15,
     "metadata": {},
     "output_type": "execute_result"
    }
   ],
   "source": [
    "%%sql\n",
    "\n",
    "SELECT\n",
    "    *\n",
    "FROM\n",
    "    population\n",
    "ORDER BY\n",
    "    総人口\n",
    "LIMIT 10;\n"
   ]
  },
  {
   "cell_type": "markdown",
   "id": "8f5529f9-400d-4904-b6e8-86d0efb1c709",
   "metadata": {
    "editable": true,
    "slideshow": {
     "slide_type": ""
    },
    "tags": []
   },
   "source": [
    "`ORDER BY`はデフォルトは小さいもの順（昇順, in ascending order）でレコードをソートする．\n",
    "大きいもの順（降順, in descending order）でソートしたい場合は，`ORDER BY`で列名を指定する際，列名の後に`DESC`キーワードを付ける（[★Quiz5★](#sql1-q5)，[★Quiz6★](#sql1-q6)）．"
   ]
  },
  {
   "cell_type": "markdown",
   "id": "0048da85-0809-48ee-980a-ac83864465d5",
   "metadata": {
    "editable": true,
    "slideshow": {
     "slide_type": ""
    },
    "tags": []
   },
   "source": [
    "```sql\n",
    "SELECT \n",
    "    *\n",
    "FROM\n",
    "    population\n",
    "ORDER BY \n",
    "    総人口 DESC --- DESCを付けることで総人口の降順で結果を並び替える\n",
    "LIMIT 10; \n",
    "```"
   ]
  },
  {
   "cell_type": "code",
   "execution_count": 16,
   "id": "75ce9723-461f-4fad-8228-50b290b601e7",
   "metadata": {
    "editable": true,
    "slideshow": {
     "slide_type": ""
    },
    "tags": [
     "remove-input"
    ]
   },
   "outputs": [
    {
     "data": {
      "text/html": [
       "<table>\n",
       "    <thead>\n",
       "        <tr>\n",
       "            <th>地域コード</th>\n",
       "            <th>都道府県</th>\n",
       "            <th>調査年度</th>\n",
       "            <th>総人口</th>\n",
       "            <th>小学校児童数</th>\n",
       "            <th>中学校生徒数</th>\n",
       "            <th>高等学校生徒数</th>\n",
       "            <th>大学学生数</th>\n",
       "        </tr>\n",
       "    </thead>\n",
       "    <tbody>\n",
       "        <tr>\n",
       "            <td>R13000</td>\n",
       "            <td>東京都</td>\n",
       "            <td>2020</td>\n",
       "            <td>14047594</td>\n",
       "            <td>619291</td>\n",
       "            <td>304405</td>\n",
       "            <td>306302</td>\n",
       "            <td>673683</td>\n",
       "        </tr>\n",
       "        <tr>\n",
       "            <td>R13000</td>\n",
       "            <td>東京都</td>\n",
       "            <td>2021</td>\n",
       "            <td>14010000</td>\n",
       "            <td>622820</td>\n",
       "            <td>311049</td>\n",
       "            <td>301712</td>\n",
       "            <td>676964</td>\n",
       "        </tr>\n",
       "        <tr>\n",
       "            <td>R14000</td>\n",
       "            <td>神奈川県</td>\n",
       "            <td>2020</td>\n",
       "            <td>9237337</td>\n",
       "            <td>454751</td>\n",
       "            <td>224709</td>\n",
       "            <td>200230</td>\n",
       "            <td>174710</td>\n",
       "        </tr>\n",
       "        <tr>\n",
       "            <td>R14000</td>\n",
       "            <td>神奈川県</td>\n",
       "            <td>2021</td>\n",
       "            <td>9236000</td>\n",
       "            <td>451098</td>\n",
       "            <td>226599</td>\n",
       "            <td>195931</td>\n",
       "            <td>171164</td>\n",
       "        </tr>\n",
       "        <tr>\n",
       "            <td>R27000</td>\n",
       "            <td>大阪府</td>\n",
       "            <td>2020</td>\n",
       "            <td>8837685</td>\n",
       "            <td>427884</td>\n",
       "            <td>220342</td>\n",
       "            <td>214115</td>\n",
       "            <td>226452</td>\n",
       "        </tr>\n",
       "        <tr>\n",
       "            <td>R27000</td>\n",
       "            <td>大阪府</td>\n",
       "            <td>2021</td>\n",
       "            <td>8806000</td>\n",
       "            <td>422433</td>\n",
       "            <td>221610</td>\n",
       "            <td>207262</td>\n",
       "            <td>228194</td>\n",
       "        </tr>\n",
       "        <tr>\n",
       "            <td>R23000</td>\n",
       "            <td>愛知県</td>\n",
       "            <td>2020</td>\n",
       "            <td>7542415</td>\n",
       "            <td>410482</td>\n",
       "            <td>206920</td>\n",
       "            <td>190309</td>\n",
       "            <td>177380</td>\n",
       "        </tr>\n",
       "        <tr>\n",
       "            <td>R23000</td>\n",
       "            <td>愛知県</td>\n",
       "            <td>2021</td>\n",
       "            <td>7517000</td>\n",
       "            <td>405839</td>\n",
       "            <td>209151</td>\n",
       "            <td>185920</td>\n",
       "            <td>176722</td>\n",
       "        </tr>\n",
       "        <tr>\n",
       "            <td>R11000</td>\n",
       "            <td>埼玉県</td>\n",
       "            <td>2020</td>\n",
       "            <td>7344765</td>\n",
       "            <td>366426</td>\n",
       "            <td>186455</td>\n",
       "            <td>167972</td>\n",
       "            <td>111852</td>\n",
       "        </tr>\n",
       "        <tr>\n",
       "            <td>R11000</td>\n",
       "            <td>埼玉県</td>\n",
       "            <td>2021</td>\n",
       "            <td>7340000</td>\n",
       "            <td>363199</td>\n",
       "            <td>187395</td>\n",
       "            <td>163986</td>\n",
       "            <td>109500</td>\n",
       "        </tr>\n",
       "    </tbody>\n",
       "</table>"
      ],
      "text/plain": [
       "+------------+----------+----------+----------+--------------+--------------+----------------+------------+\n",
       "| 地域コード | 都道府県 | 調査年度 |  総人口  | 小学校児童数 | 中学校生徒数 | 高等学校生徒数 | 大学学生数 |\n",
       "+------------+----------+----------+----------+--------------+--------------+----------------+------------+\n",
       "|   R13000   |  東京都  |   2020   | 14047594 |    619291    |    304405    |     306302     |   673683   |\n",
       "|   R13000   |  東京都  |   2021   | 14010000 |    622820    |    311049    |     301712     |   676964   |\n",
       "|   R14000   | 神奈川県 |   2020   | 9237337  |    454751    |    224709    |     200230     |   174710   |\n",
       "|   R14000   | 神奈川県 |   2021   | 9236000  |    451098    |    226599    |     195931     |   171164   |\n",
       "|   R27000   |  大阪府  |   2020   | 8837685  |    427884    |    220342    |     214115     |   226452   |\n",
       "|   R27000   |  大阪府  |   2021   | 8806000  |    422433    |    221610    |     207262     |   228194   |\n",
       "|   R23000   |  愛知県  |   2020   | 7542415  |    410482    |    206920    |     190309     |   177380   |\n",
       "|   R23000   |  愛知県  |   2021   | 7517000  |    405839    |    209151    |     185920     |   176722   |\n",
       "|   R11000   |  埼玉県  |   2020   | 7344765  |    366426    |    186455    |     167972     |   111852   |\n",
       "|   R11000   |  埼玉県  |   2021   | 7340000  |    363199    |    187395    |     163986     |   109500   |\n",
       "+------------+----------+----------+----------+--------------+--------------+----------------+------------+"
      ]
     },
     "execution_count": 16,
     "metadata": {},
     "output_type": "execute_result"
    }
   ],
   "source": [
    "%%sql\n",
    "\n",
    "SELECT\n",
    "    *\n",
    "FROM\n",
    "    population\n",
    "ORDER BY\n",
    "    総人口 DESC\n",
    "LIMIT 10;\n"
   ]
  },
  {
   "cell_type": "markdown",
   "id": "4860b501",
   "metadata": {
    "editable": true,
    "slideshow": {
     "slide_type": ""
    },
    "tags": []
   },
   "source": [
    "## 集約関数"
   ]
  },
  {
   "cell_type": "markdown",
   "id": "5d1dede6-aab4-4379-9620-aca9fa69e6af",
   "metadata": {
    "editable": true,
    "slideshow": {
     "slide_type": ""
    },
    "tags": []
   },
   "source": [
    "合計値や平均値の計算など，データの集計はデータ集合の特徴を知る上での基礎となる．\n",
    "関係データベースから抽出したレコード集合に対して集計処理を行いたい場合は**集約関数（aggregate functions）** を用いる．\n",
    "SQLに実装されている代表的な集約関数は以下の通りである．\n",
    "- `SUM`: 合計値の計算\n",
    "- `MAX`: 最大値の計算\n",
    "- `MIN`: 最小値の計算\n",
    "- `AVG`: 平均値の計算\n",
    "- `COUNT`: 行数のカウント\n",
    "\n",
    "関数の引数には計算に用いたい列名などを指定する．\n",
    "（[次節](#section:group-by)で解説する`GROUP BY`句を用いない場合）集計関数は，**`WHERE`句までで絞り込まれたレコード全体を1つのグループと見なして** 集計処理を行う．\n",
    "\n",
    "例えば，`population`テーブルから調査年度が2021年度のレコードだけに限定して，各都道府県の総人口の合計値を計算するSQL文は以下となる．"
   ]
  },
  {
   "cell_type": "markdown",
   "id": "20bfe00c-92f8-4c9f-ae06-6aae350d269c",
   "metadata": {
    "editable": true,
    "slideshow": {
     "slide_type": ""
    },
    "tags": []
   },
   "source": [
    "```sql\n",
    "SELECT\n",
    "    SUM(総人口)\n",
    "FROM\n",
    "    population\n",
    "WHERE\n",
    "    調査年度 = 2021; \n",
    "```"
   ]
  },
  {
   "cell_type": "code",
   "execution_count": 17,
   "id": "44f23279-69f0-4518-8d10-f14715d01e96",
   "metadata": {
    "editable": true,
    "slideshow": {
     "slide_type": ""
    },
    "tags": [
     "remove-input"
    ]
   },
   "outputs": [
    {
     "data": {
      "text/html": [
       "<table>\n",
       "    <thead>\n",
       "        <tr>\n",
       "            <th>SUM(総人口)</th>\n",
       "        </tr>\n",
       "    </thead>\n",
       "    <tbody>\n",
       "        <tr>\n",
       "            <td>125500000</td>\n",
       "        </tr>\n",
       "    </tbody>\n",
       "</table>"
      ],
      "text/plain": [
       "+-------------+\n",
       "| SUM(総人口) |\n",
       "+-------------+\n",
       "|  125500000  |\n",
       "+-------------+"
      ]
     },
     "execution_count": 17,
     "metadata": {},
     "output_type": "execute_result"
    }
   ],
   "source": [
    "%%sql\n",
    "\n",
    "SELECT\n",
    "    SUM(総人口)\n",
    "FROM\n",
    "    population\n",
    "WHERE\n",
    "    調査年度 = 2021;"
   ]
  },
  {
   "cell_type": "markdown",
   "id": "0b6c6bd4-98b7-4a5d-a26c-e6aafdb0ab42",
   "metadata": {
    "editable": true,
    "slideshow": {
     "slide_type": ""
    },
    "tags": []
   },
   "source": [
    "`SELECT`句に複数集約関数を指定することで，複数の集計処理を同時に行うこともできる．\n",
    "以下は，`population`テーブルを調査年度が2021年度のレコードを用いて，各都道府県の総人口の「合計値」「平均値」「最大値と最小値の差」を計算するSQL文である．"
   ]
  },
  {
   "cell_type": "markdown",
   "id": "5beedb73-0bcd-443e-b56a-6eacf8180734",
   "metadata": {
    "editable": true,
    "slideshow": {
     "slide_type": ""
    },
    "tags": []
   },
   "source": [
    "```sql\n",
    "SELECT\n",
    "    SUM(総人口),\n",
    "    AVG(総人口),\n",
    "    MAX(総人口) - MIN(総人口) --- SELECT句内では四則演算もできる\n",
    "FROM\n",
    "    population\n",
    "WHERE\n",
    "    調査年度 = 2021;\n",
    "```"
   ]
  },
  {
   "cell_type": "code",
   "execution_count": 18,
   "id": "9e92f443-6e59-4edc-a60d-4b61086b0ab3",
   "metadata": {
    "editable": true,
    "slideshow": {
     "slide_type": ""
    },
    "tags": [
     "remove-input"
    ]
   },
   "outputs": [
    {
     "data": {
      "text/html": [
       "<table>\n",
       "    <thead>\n",
       "        <tr>\n",
       "            <th>SUM(総人口)</th>\n",
       "            <th>AVG(総人口)</th>\n",
       "            <th>MAX(総人口) - MIN(総人口)</th>\n",
       "        </tr>\n",
       "    </thead>\n",
       "    <tbody>\n",
       "        <tr>\n",
       "            <td>125500000</td>\n",
       "            <td>2670212.765957447</td>\n",
       "            <td>13461000</td>\n",
       "        </tr>\n",
       "    </tbody>\n",
       "</table>"
      ],
      "text/plain": [
       "+-------------+-------------------+---------------------------+\n",
       "| SUM(総人口) |    AVG(総人口)    | MAX(総人口) - MIN(総人口) |\n",
       "+-------------+-------------------+---------------------------+\n",
       "|  125500000  | 2670212.765957447 |          13461000         |\n",
       "+-------------+-------------------+---------------------------+"
      ]
     },
     "execution_count": 18,
     "metadata": {},
     "output_type": "execute_result"
    }
   ],
   "source": [
    "%%sql\n",
    "\n",
    "SELECT\n",
    "    SUM(総人口),\n",
    "    AVG(総人口),\n",
    "    MAX(総人口) - MIN(総人口)\n",
    "FROM\n",
    "    population\n",
    "WHERE\n",
    "    調査年度 = 2021;"
   ]
  },
  {
   "cell_type": "markdown",
   "id": "453f4814-6644-4c68-8b02-c83bc4e30b4c",
   "metadata": {
    "editable": true,
    "slideshow": {
     "slide_type": ""
    },
    "tags": []
   },
   "source": [
    "```{note}\n",
    "#### 様々な演算子\n",
    "`SELECT`句や`WHERE`句の中では，四則演算も行うことができる．加算（`+`），減算（`-`），乗算（`*`），除算（`/`）といった四則演算のための演算子以外にも，余りを求めるための剰余演算子（`%`），絶対値を求める`ABS`関数といった様々な算術演算ツールが用意されている．気になった演算があればマニュアルを調べてみよう．\n",
    "```"
   ]
  },
  {
   "cell_type": "markdown",
   "id": "476eec4b-7f6c-4da5-9238-6af7f29b26b9",
   "metadata": {
    "editable": true,
    "slideshow": {
     "slide_type": ""
    },
    "tags": []
   },
   "source": [
    "行数（レコード数）をカウントする`COUNT`関数は，しばしば引数にすべての列を意味するアスタリスク（*）が用いられる．\n",
    "以下は，`population`テーブルに格納されたレコード数を調べるSQL文である．"
   ]
  },
  {
   "cell_type": "markdown",
   "id": "54566ecf-c65a-40cc-b0c3-1cb5ac491c97",
   "metadata": {
    "editable": true,
    "slideshow": {
     "slide_type": ""
    },
    "tags": []
   },
   "source": [
    "```sql\n",
    "SELECT\n",
    "    COUNT(*)\n",
    "FROM\n",
    "    population;\n",
    "```"
   ]
  },
  {
   "cell_type": "code",
   "execution_count": 19,
   "id": "8253691f-0c37-47bb-a86f-7785e1bee4c9",
   "metadata": {
    "editable": true,
    "slideshow": {
     "slide_type": ""
    },
    "tags": [
     "remove-input"
    ]
   },
   "outputs": [
    {
     "data": {
      "text/html": [
       "<table>\n",
       "    <thead>\n",
       "        <tr>\n",
       "            <th>COUNT(*)</th>\n",
       "        </tr>\n",
       "    </thead>\n",
       "    <tbody>\n",
       "        <tr>\n",
       "            <td>94</td>\n",
       "        </tr>\n",
       "    </tbody>\n",
       "</table>"
      ],
      "text/plain": [
       "+----------+\n",
       "| COUNT(*) |\n",
       "+----------+\n",
       "|    94    |\n",
       "+----------+"
      ]
     },
     "execution_count": 19,
     "metadata": {},
     "output_type": "execute_result"
    }
   ],
   "source": [
    "%%sql\n",
    "\n",
    "SELECT\n",
    "    COUNT(*)\n",
    "FROM\n",
    "    population;"
   ]
  },
  {
   "cell_type": "markdown",
   "id": "8f728bca-a686-49db-a292-e1c2092922ef",
   "metadata": {
    "editable": true,
    "slideshow": {
     "slide_type": ""
    },
    "tags": []
   },
   "source": [
    "上記のSQL文は`SELECT * FROM population;`の実行結果の行数を数えていると考えればよい．\n",
    "以下のSQL文は結果だけ見ると上記のSQL文と同じになるが，処理の流れとしては`SELECT 都道府県 FROM population;`の実行結果の行数を数えていることになる．"
   ]
  },
  {
   "cell_type": "markdown",
   "id": "57c7954a-a837-4a3b-9bbd-6fceaf07b0c4",
   "metadata": {
    "editable": true,
    "slideshow": {
     "slide_type": ""
    },
    "tags": []
   },
   "source": [
    "```sql\n",
    "SELECT\n",
    "    COUNT(都道府県)\n",
    "FROM\n",
    "    population;\n",
    "```"
   ]
  },
  {
   "cell_type": "code",
   "execution_count": 20,
   "id": "d43bd6a9-3a88-4ad9-81ef-e30b7eab5273",
   "metadata": {
    "editable": true,
    "slideshow": {
     "slide_type": ""
    },
    "tags": [
     "remove-input"
    ]
   },
   "outputs": [
    {
     "data": {
      "text/html": [
       "<table>\n",
       "    <thead>\n",
       "        <tr>\n",
       "            <th>COUNT(都道府県)</th>\n",
       "        </tr>\n",
       "    </thead>\n",
       "    <tbody>\n",
       "        <tr>\n",
       "            <td>94</td>\n",
       "        </tr>\n",
       "    </tbody>\n",
       "</table>"
      ],
      "text/plain": [
       "+-----------------+\n",
       "| COUNT(都道府県) |\n",
       "+-----------------+\n",
       "|        94       |\n",
       "+-----------------+"
      ]
     },
     "execution_count": 20,
     "metadata": {},
     "output_type": "execute_result"
    }
   ],
   "source": [
    "%%sql\n",
    "\n",
    "SELECT\n",
    "    COUNT(都道府県)\n",
    "FROM\n",
    "    population;"
   ]
  },
  {
   "cell_type": "markdown",
   "id": "9a68f962-f689-4622-976e-63e0c25f5593",
   "metadata": {
    "editable": true,
    "slideshow": {
     "slide_type": ""
    },
    "tags": []
   },
   "source": [
    "なお，上記の結果には2021年度と2020年度の結果が含まれているため，同じ都道府県名が2回数えられてしまっている．\n",
    "都道府県名の重複を除いて行数をカウントしたい場合は，以下のSQL文のように`DISTINCT`を使う．"
   ]
  },
  {
   "cell_type": "markdown",
   "id": "382b6e69-8c39-4bcd-bc9e-dab111d8ea69",
   "metadata": {
    "editable": true,
    "slideshow": {
     "slide_type": ""
    },
    "tags": []
   },
   "source": [
    "```sql\n",
    "SELECT\n",
    "    COUNT(DISTINCT 都道府県)\n",
    "FROM\n",
    "    population;\n",
    "```"
   ]
  },
  {
   "cell_type": "code",
   "execution_count": 21,
   "id": "3f8d6d4a-cd96-4bad-bc26-4a6a9d84798d",
   "metadata": {
    "editable": true,
    "slideshow": {
     "slide_type": ""
    },
    "tags": [
     "remove-input"
    ]
   },
   "outputs": [
    {
     "data": {
      "text/html": [
       "<table>\n",
       "    <thead>\n",
       "        <tr>\n",
       "            <th>COUNT(DISTINCT 都道府県)</th>\n",
       "        </tr>\n",
       "    </thead>\n",
       "    <tbody>\n",
       "        <tr>\n",
       "            <td>47</td>\n",
       "        </tr>\n",
       "    </tbody>\n",
       "</table>"
      ],
      "text/plain": [
       "+--------------------------+\n",
       "| COUNT(DISTINCT 都道府県) |\n",
       "+--------------------------+\n",
       "|            47            |\n",
       "+--------------------------+"
      ]
     },
     "execution_count": 21,
     "metadata": {},
     "output_type": "execute_result"
    }
   ],
   "source": [
    "%%sql\n",
    "\n",
    "SELECT\n",
    "    COUNT(DISTINCT 都道府県)\n",
    "FROM\n",
    "    population;"
   ]
  },
  {
   "cell_type": "markdown",
   "id": "ae2707b2-e4fb-416c-b166-ff49b909d4e6",
   "metadata": {
    "editable": true,
    "slideshow": {
     "slide_type": ""
    },
    "tags": []
   },
   "source": [
    "(section:group-by)=\n",
    "## グループ化による集約演算（GROUP BY）\n"
   ]
  },
  {
   "cell_type": "markdown",
   "id": "99bb2aae-2114-4e46-855d-eb811589f3bc",
   "metadata": {
    "editable": true,
    "slideshow": {
     "slide_type": ""
    },
    "tags": []
   },
   "source": [
    "前節までで解説した集約のためのSQL文は，`WHERE`句で絞り込まれたレコード全体に対して集計操作を行うものであった．\n",
    "しかし実際にデータ分析を行う場合，レコード全体での集計にとどまらず，ある基準でまとめられたグループごとに集計を行うことも少なくない．\n",
    "`GROUP BY`句はグループごとに集約演算を行うための機能である．\n",
    "\n",
    "「`GROUP BY`句 + 列名」の形式で指定をすると，指定された列名について同じ値をもつレコードが1つのグループにまとめられた**グループ表**が（ユーザには見えない形で）一時的に作成される．\n",
    "例えば，`population`テーブルに対して問い合わせを行うSQL文内で「`GROUP BY 地域コード`」と書くと，以下のようなイメージのグループ表が一時的に作成される（点線がグループを表す）．\n",
    "![グループ表](fig/group-table.png \"グループ表の例\") \n",
    "`GROUP BY`句を用いたクエリを用いると，まとめられたグループのそれぞれに対して`SELECT`句で指定された集約関数が適用される．\n",
    "\n",
    "以下は，`population`テーブルを用いて，都道府県ごとに2021年と2020年の総人口の平均値を計算するSQL文である．"
   ]
  },
  {
   "cell_type": "markdown",
   "id": "13d4b31c-7468-4401-820d-eaad00ee1e6e",
   "metadata": {
    "editable": true,
    "slideshow": {
     "slide_type": ""
    },
    "tags": []
   },
   "source": [
    "```sql\n",
    "SELECT\n",
    "    地域コード,\n",
    "    都道府県,\n",
    "    AVG(総人口)\n",
    "FROM\n",
    "    population\n",
    "GROUP BY\n",
    "    地域コード\n",
    "LIMIT 10; --- 先頭の10件のみ表示\n",
    "```"
   ]
  },
  {
   "cell_type": "code",
   "execution_count": 22,
   "id": "255a2bcc-d1cc-4ba6-9382-159ae74253b8",
   "metadata": {
    "editable": true,
    "slideshow": {
     "slide_type": ""
    },
    "tags": [
     "remove-input"
    ]
   },
   "outputs": [
    {
     "data": {
      "text/html": [
       "<table>\n",
       "    <thead>\n",
       "        <tr>\n",
       "            <th>地域コード</th>\n",
       "            <th>都道府県</th>\n",
       "            <th>AVG(総人口)</th>\n",
       "        </tr>\n",
       "    </thead>\n",
       "    <tbody>\n",
       "        <tr>\n",
       "            <td>R01000</td>\n",
       "            <td>北海道</td>\n",
       "            <td>5203807.0</td>\n",
       "        </tr>\n",
       "        <tr>\n",
       "            <td>R02000</td>\n",
       "            <td>青森県</td>\n",
       "            <td>1229492.0</td>\n",
       "        </tr>\n",
       "        <tr>\n",
       "            <td>R03000</td>\n",
       "            <td>岩手県</td>\n",
       "            <td>1203267.0</td>\n",
       "        </tr>\n",
       "        <tr>\n",
       "            <td>R04000</td>\n",
       "            <td>宮城県</td>\n",
       "            <td>2295998.0</td>\n",
       "        </tr>\n",
       "        <tr>\n",
       "            <td>R05000</td>\n",
       "            <td>秋田県</td>\n",
       "            <td>952251.0</td>\n",
       "        </tr>\n",
       "        <tr>\n",
       "            <td>R06000</td>\n",
       "            <td>山形県</td>\n",
       "            <td>1061513.5</td>\n",
       "        </tr>\n",
       "        <tr>\n",
       "            <td>R07000</td>\n",
       "            <td>福島県</td>\n",
       "            <td>1822576.0</td>\n",
       "        </tr>\n",
       "        <tr>\n",
       "            <td>R08000</td>\n",
       "            <td>茨城県</td>\n",
       "            <td>2859504.5</td>\n",
       "        </tr>\n",
       "        <tr>\n",
       "            <td>R09000</td>\n",
       "            <td>栃木県</td>\n",
       "            <td>1927073.0</td>\n",
       "        </tr>\n",
       "        <tr>\n",
       "            <td>R10000</td>\n",
       "            <td>群馬県</td>\n",
       "            <td>1933055.0</td>\n",
       "        </tr>\n",
       "    </tbody>\n",
       "</table>"
      ],
      "text/plain": [
       "+------------+----------+-------------+\n",
       "| 地域コード | 都道府県 | AVG(総人口) |\n",
       "+------------+----------+-------------+\n",
       "|   R01000   |  北海道  |  5203807.0  |\n",
       "|   R02000   |  青森県  |  1229492.0  |\n",
       "|   R03000   |  岩手県  |  1203267.0  |\n",
       "|   R04000   |  宮城県  |  2295998.0  |\n",
       "|   R05000   |  秋田県  |   952251.0  |\n",
       "|   R06000   |  山形県  |  1061513.5  |\n",
       "|   R07000   |  福島県  |  1822576.0  |\n",
       "|   R08000   |  茨城県  |  2859504.5  |\n",
       "|   R09000   |  栃木県  |  1927073.0  |\n",
       "|   R10000   |  群馬県  |  1933055.0  |\n",
       "+------------+----------+-------------+"
      ]
     },
     "execution_count": 22,
     "metadata": {},
     "output_type": "execute_result"
    }
   ],
   "source": [
    "%%sql\n",
    "SELECT\n",
    "    地域コード,\n",
    "    都道府県,\n",
    "    AVG(総人口)\n",
    "FROM\n",
    "    population\n",
    "GROUP BY\n",
    "    地域コード\n",
    "LIMIT 10;"
   ]
  },
  {
   "cell_type": "markdown",
   "id": "4a92ea09-e6df-4718-a3f9-71c857ef6467",
   "metadata": {
    "editable": true,
    "slideshow": {
     "slide_type": ""
    },
    "tags": []
   },
   "source": [
    "`GROUP BY`句は`WHERE`句と組み合わせて使うこともできる．\n",
    "`WHERE`句を使うことで，ある条件で絞り込んだレコード集合に対して`GROUP BY`を適用することができる．\n",
    "\n",
    "以下は，`population`テーブルの中で総人口が500万を超えるレコードに限定して，都道府県ごとに2021年と2020年の総人口の平均値を計算するSQL文である（[★Quiz7★](#sql1-q7)，[★Quiz8★](#sql1-q8)）．"
   ]
  },
  {
   "cell_type": "markdown",
   "id": "aab09d9f-bf22-41b4-9c61-2b72f9f3cff7",
   "metadata": {
    "editable": true,
    "slideshow": {
     "slide_type": ""
    },
    "tags": []
   },
   "source": [
    "```sql\n",
    "SELECT\n",
    "    地域コード,\n",
    "    都道府県,\n",
    "    AVG(総人口)\n",
    "FROM\n",
    "    population\n",
    "WHERE\n",
    "    総人口 >= 5000000\n",
    "GROUP BY\n",
    "    地域コード;\n",
    "```"
   ]
  },
  {
   "cell_type": "code",
   "execution_count": 23,
   "id": "63af349a-e600-4701-a9aa-9ae0befa04c2",
   "metadata": {
    "editable": true,
    "slideshow": {
     "slide_type": ""
    },
    "tags": [
     "remove-input"
    ]
   },
   "outputs": [
    {
     "data": {
      "text/html": [
       "<table>\n",
       "    <thead>\n",
       "        <tr>\n",
       "            <th>地域コード</th>\n",
       "            <th>都道府県</th>\n",
       "            <th>AVG(総人口)</th>\n",
       "        </tr>\n",
       "    </thead>\n",
       "    <tbody>\n",
       "        <tr>\n",
       "            <td>R01000</td>\n",
       "            <td>北海道</td>\n",
       "            <td>5203807.0</td>\n",
       "        </tr>\n",
       "        <tr>\n",
       "            <td>R11000</td>\n",
       "            <td>埼玉県</td>\n",
       "            <td>7342382.5</td>\n",
       "        </tr>\n",
       "        <tr>\n",
       "            <td>R12000</td>\n",
       "            <td>千葉県</td>\n",
       "            <td>6279740.0</td>\n",
       "        </tr>\n",
       "        <tr>\n",
       "            <td>R13000</td>\n",
       "            <td>東京都</td>\n",
       "            <td>14028797.0</td>\n",
       "        </tr>\n",
       "        <tr>\n",
       "            <td>R14000</td>\n",
       "            <td>神奈川県</td>\n",
       "            <td>9236668.5</td>\n",
       "        </tr>\n",
       "        <tr>\n",
       "            <td>R23000</td>\n",
       "            <td>愛知県</td>\n",
       "            <td>7529707.5</td>\n",
       "        </tr>\n",
       "        <tr>\n",
       "            <td>R27000</td>\n",
       "            <td>大阪府</td>\n",
       "            <td>8821842.5</td>\n",
       "        </tr>\n",
       "        <tr>\n",
       "            <td>R28000</td>\n",
       "            <td>兵庫県</td>\n",
       "            <td>5448501.0</td>\n",
       "        </tr>\n",
       "        <tr>\n",
       "            <td>R40000</td>\n",
       "            <td>福岡県</td>\n",
       "            <td>5129607.0</td>\n",
       "        </tr>\n",
       "    </tbody>\n",
       "</table>"
      ],
      "text/plain": [
       "+------------+----------+-------------+\n",
       "| 地域コード | 都道府県 | AVG(総人口) |\n",
       "+------------+----------+-------------+\n",
       "|   R01000   |  北海道  |  5203807.0  |\n",
       "|   R11000   |  埼玉県  |  7342382.5  |\n",
       "|   R12000   |  千葉県  |  6279740.0  |\n",
       "|   R13000   |  東京都  |  14028797.0 |\n",
       "|   R14000   | 神奈川県 |  9236668.5  |\n",
       "|   R23000   |  愛知県  |  7529707.5  |\n",
       "|   R27000   |  大阪府  |  8821842.5  |\n",
       "|   R28000   |  兵庫県  |  5448501.0  |\n",
       "|   R40000   |  福岡県  |  5129607.0  |\n",
       "+------------+----------+-------------+"
      ]
     },
     "execution_count": 23,
     "metadata": {},
     "output_type": "execute_result"
    }
   ],
   "source": [
    "%%sql\n",
    "SELECT\n",
    "    地域コード,\n",
    "    都道府県,\n",
    "    AVG(総人口)\n",
    "FROM\n",
    "    population\n",
    "WHERE\n",
    "    総人口 >= 5000000\n",
    "GROUP BY\n",
    "    地域コード;"
   ]
  },
  {
   "cell_type": "markdown",
   "id": "034f11e3-47bf-48a2-acee-eb3f52998840",
   "metadata": {
    "editable": true,
    "slideshow": {
     "slide_type": ""
    },
    "tags": []
   },
   "source": [
    "グループごとに集計した結果にチェックを行い，指定した条件を満たした結果を抽出したいケースもある．\n",
    "そのようなケースでは`HAVING`句を用いる．\n",
    "`HAVING`句は`WHERE`句と同じ形式で条件を指定するが，`GROUP BY`句の**後に書く**ことに注意しよう（`WHERE`句は`GROUP BY`句の前）．\n",
    "\n",
    "以下は，`population`テーブルのレコードについて，都道府県ごとに2021年と2020年の「大学学生数」の平均値を計算し，平均大学学生数が10万を超えたものについて，都道府県名，平均総人口，平均大学学生数を表示するSQL文である．`WHERE`句を用いた場合と`HAVING`句を用いた場合で挙動が異なることを意識しよう（[★Quiz9★](#sql1-q9)）．"
   ]
  },
  {
   "cell_type": "markdown",
   "id": "e89230e8-f1ec-44e4-9649-7589af3479c0",
   "metadata": {
    "editable": true,
    "slideshow": {
     "slide_type": ""
    },
    "tags": []
   },
   "source": [
    "```sql\n",
    "SELECT\n",
    "    地域コード,\n",
    "    都道府県,\n",
    "    AVG(総人口),\n",
    "    AVG(大学学生数)\n",
    "FROM\n",
    "    population\n",
    "GROUP BY\n",
    "    地域コード\n",
    "HAVING\n",
    "    AVG(大学学生数) >= 100000;\n",
    "```"
   ]
  },
  {
   "cell_type": "code",
   "execution_count": 24,
   "id": "cb183edd-c36b-408b-ac09-601dbf5fb716",
   "metadata": {
    "editable": true,
    "slideshow": {
     "slide_type": ""
    },
    "tags": [
     "remove-input"
    ]
   },
   "outputs": [
    {
     "data": {
      "text/html": [
       "<table>\n",
       "    <thead>\n",
       "        <tr>\n",
       "            <th>地域コード</th>\n",
       "            <th>都道府県</th>\n",
       "            <th>AVG(総人口)</th>\n",
       "            <th>AVG(大学学生数)</th>\n",
       "        </tr>\n",
       "    </thead>\n",
       "    <tbody>\n",
       "        <tr>\n",
       "            <td>R11000</td>\n",
       "            <td>埼玉県</td>\n",
       "            <td>7342382.5</td>\n",
       "            <td>110676.0</td>\n",
       "        </tr>\n",
       "        <tr>\n",
       "            <td>R12000</td>\n",
       "            <td>千葉県</td>\n",
       "            <td>6279740.0</td>\n",
       "            <td>105451.5</td>\n",
       "        </tr>\n",
       "        <tr>\n",
       "            <td>R13000</td>\n",
       "            <td>東京都</td>\n",
       "            <td>14028797.0</td>\n",
       "            <td>675323.5</td>\n",
       "        </tr>\n",
       "        <tr>\n",
       "            <td>R14000</td>\n",
       "            <td>神奈川県</td>\n",
       "            <td>9236668.5</td>\n",
       "            <td>172937.0</td>\n",
       "        </tr>\n",
       "        <tr>\n",
       "            <td>R23000</td>\n",
       "            <td>愛知県</td>\n",
       "            <td>7529707.5</td>\n",
       "            <td>177051.0</td>\n",
       "        </tr>\n",
       "        <tr>\n",
       "            <td>R26000</td>\n",
       "            <td>京都府</td>\n",
       "            <td>2569543.5</td>\n",
       "            <td>142482.5</td>\n",
       "        </tr>\n",
       "        <tr>\n",
       "            <td>R27000</td>\n",
       "            <td>大阪府</td>\n",
       "            <td>8821842.5</td>\n",
       "            <td>227323.0</td>\n",
       "        </tr>\n",
       "        <tr>\n",
       "            <td>R28000</td>\n",
       "            <td>兵庫県</td>\n",
       "            <td>5448501.0</td>\n",
       "            <td>115917.5</td>\n",
       "        </tr>\n",
       "        <tr>\n",
       "            <td>R40000</td>\n",
       "            <td>福岡県</td>\n",
       "            <td>5129607.0</td>\n",
       "            <td>110008.0</td>\n",
       "        </tr>\n",
       "    </tbody>\n",
       "</table>"
      ],
      "text/plain": [
       "+------------+----------+-------------+-----------------+\n",
       "| 地域コード | 都道府県 | AVG(総人口) | AVG(大学学生数) |\n",
       "+------------+----------+-------------+-----------------+\n",
       "|   R11000   |  埼玉県  |  7342382.5  |     110676.0    |\n",
       "|   R12000   |  千葉県  |  6279740.0  |     105451.5    |\n",
       "|   R13000   |  東京都  |  14028797.0 |     675323.5    |\n",
       "|   R14000   | 神奈川県 |  9236668.5  |     172937.0    |\n",
       "|   R23000   |  愛知県  |  7529707.5  |     177051.0    |\n",
       "|   R26000   |  京都府  |  2569543.5  |     142482.5    |\n",
       "|   R27000   |  大阪府  |  8821842.5  |     227323.0    |\n",
       "|   R28000   |  兵庫県  |  5448501.0  |     115917.5    |\n",
       "|   R40000   |  福岡県  |  5129607.0  |     110008.0    |\n",
       "+------------+----------+-------------+-----------------+"
      ]
     },
     "execution_count": 24,
     "metadata": {},
     "output_type": "execute_result"
    }
   ],
   "source": [
    "%%sql\n",
    "SELECT\n",
    "    地域コード,\n",
    "    都道府県,\n",
    "    AVG(総人口),\n",
    "    AVG(大学学生数)\n",
    "FROM\n",
    "    population\n",
    "GROUP BY\n",
    "    地域コード\n",
    "HAVING\n",
    "    AVG(大学学生数) >= 100000;"
   ]
  },
  {
   "cell_type": "markdown",
   "id": "a2b98b39-7849-4d39-b0b5-cd18b4f098a9",
   "metadata": {
    "editable": true,
    "slideshow": {
     "slide_type": ""
    },
    "tags": []
   },
   "source": [
    "```{note}\n",
    "#### SQLの処理順序（再び）\n",
    "本章では`SELECT`句，`FROM`句，`WHERE`句，`ORDER BY`句，`GROUP BY`句，`HAVING`句が登場したが，これらが用いられたSELECT文による問い合わせが行われたとき，どのような順序で処理が行われているかを意識しよう．関係データベース管理システムは以下のステップで処理を行う．\n",
    "\n",
    "1. `FROM`句で指定した表を参照\n",
    "2. `WHERE`句があれば`WHERE`句で指定された条件を満たすレコードを選択．なければ`FROM`句で指定した表中の全レコードを選択．\n",
    "3. （`GROUP BY`句があれば）ステップ2で選択されたレコードをグループ化する\n",
    "4. （`HAVING`句があれば）ステップ3でまとめられたグループに対する条件付けを行う\n",
    "5. （`ORDER BY`句があれば）指定された基準に基づきレコードをソートする\n",
    "6. 条件を満たしたものについて，`SELECT`句で指定された値を表示．\n",
    "```\n",
    "\n",
    "---"
   ]
  },
  {
   "cell_type": "markdown",
   "id": "2f7d0a0f-548a-40f3-bbf9-52bb01c6bee1",
   "metadata": {
    "editable": true,
    "slideshow": {
     "slide_type": ""
    },
    "tags": []
   },
   "source": [
    "## クイズ\n"
   ]
  },
  {
   "cell_type": "markdown",
   "id": "42ed7a0c-27e6-493b-80cf-70a08e205393",
   "metadata": {
    "editable": true,
    "slideshow": {
     "slide_type": ""
    },
    "tags": []
   },
   "source": [
    "本クイズでは，独立行政法人統計センターが公開している教育用標準データセット（SSDSE）の[基本素材SSDSE-E](https://www.nstac.go.jp/use/literacy/ssdse/#SSDSE-E)（データの解説は[こちら](https://www.nstac.go.jp/sys/files/kaisetsu-E-2023.pdf)）から抜粋・加工したデータ（`population`テーブル）を用いる．\n",
    "`population`テーブルの内容については，[コチラ](#sql1-db)を参照せよ．"
   ]
  },
  {
   "cell_type": "markdown",
   "id": "624b74ee-1cee-471e-9f2d-43a95f310d67",
   "metadata": {
    "editable": true,
    "slideshow": {
     "slide_type": ""
    },
    "tags": []
   },
   "source": [
    "(sql1-q1)=\n",
    "### Q1. 射影\n",
    "\n",
    "「都道府県」「調査年度」「大学学生数」フィールドに限定して，`population`テーブルのレコードを表示するSQL文を書け．\n",
    "なお，表示するレコード数は30件とせよ．"
   ]
  },
  {
   "cell_type": "code",
   "execution_count": 25,
   "id": "9f709bab-63ea-4acb-8050-efe4476729be",
   "metadata": {
    "editable": true,
    "slideshow": {
     "slide_type": ""
    },
    "tags": []
   },
   "outputs": [],
   "source": [
    "%%sql\n",
    "\n"
   ]
  },
  {
   "cell_type": "markdown",
   "id": "047ddcd0-32df-461a-aa22-8ee1ae90b236",
   "metadata": {
    "editable": true,
    "slideshow": {
     "slide_type": ""
    },
    "tags": [
     "remove-output"
    ]
   },
   "source": [
    "(sql1-q2)=\n",
    "### Q2. 選択 (1/3)\n",
    "\n",
    "`population`テーブル内のレコードのうち，都道府県が`愛知県`で調査年度が`2020`であるものを表示するSQL文を書け．"
   ]
  },
  {
   "cell_type": "code",
   "execution_count": 26,
   "id": "ae91df49-efaa-41e6-8d77-1c9c96cbeec8",
   "metadata": {
    "editable": true,
    "slideshow": {
     "slide_type": ""
    },
    "tags": []
   },
   "outputs": [],
   "source": [
    "%%sql\n",
    "\n"
   ]
  },
  {
   "cell_type": "markdown",
   "id": "96768137-7744-4af3-b804-bf246f2c2551",
   "metadata": {
    "editable": true,
    "slideshow": {
     "slide_type": ""
    },
    "tags": [
     "remove-output"
    ]
   },
   "source": [
    "(sql1-q3)=\n",
    "### Q3. 選択 (2/3)\n",
    "\n",
    "`population`テーブル内のレコードのうち，\n",
    "- 総人口が`300万人`未満，かつ\n",
    "- 都道府県名が`県`で終わる，かつ\n",
    "- 中学校生徒数が高等学校生徒数以下\n",
    "\n",
    "であるレコードを求める表示するSQL文を書け．"
   ]
  },
  {
   "cell_type": "code",
   "execution_count": 27,
   "id": "185d79b1-bc79-464b-b626-16436e3ea3cc",
   "metadata": {
    "editable": true,
    "slideshow": {
     "slide_type": ""
    },
    "tags": []
   },
   "outputs": [],
   "source": [
    "%%sql\n",
    "\n"
   ]
  },
  {
   "cell_type": "markdown",
   "id": "657eb1c4-71a1-46fe-a619-3eef361113fd",
   "metadata": {
    "editable": true,
    "slideshow": {
     "slide_type": ""
    },
    "tags": [
     "remove-output"
    ]
   },
   "source": [
    "(sql1-q4)=\n",
    "### Q4. 選択 (3/3)\n",
    "\n",
    "Q3のSQL文を修正して，Q3の条件を満たす都道府県を表示するSQL文を書け．\n",
    "ただし，出力される都道府県名に重複があってはならない．"
   ]
  },
  {
   "cell_type": "code",
   "execution_count": 28,
   "id": "20437ef4-2e5b-4ff4-881a-4c7e50602839",
   "metadata": {
    "editable": true,
    "slideshow": {
     "slide_type": ""
    },
    "tags": []
   },
   "outputs": [],
   "source": [
    "%%sql\n",
    "\n"
   ]
  },
  {
   "cell_type": "markdown",
   "id": "aeceb236-8ab9-482f-8b1d-235827e49353",
   "metadata": {
    "editable": true,
    "slideshow": {
     "slide_type": ""
    },
    "tags": [
     "remove-output"
    ]
   },
   "source": [
    "(sql1-q5)=\n",
    "### Q5. ソート (1/2)\n",
    "\n",
    "`population`テーブル内のレコードのうち調査年度が`2021`のものについて，大学学生数順の大きいもの順に並び替えて表示するSQL文を書け．"
   ]
  },
  {
   "cell_type": "code",
   "execution_count": 29,
   "id": "5051bab6",
   "metadata": {
    "editable": true,
    "slideshow": {
     "slide_type": ""
    },
    "tags": []
   },
   "outputs": [],
   "source": [
    "%%sql\n",
    "\n"
   ]
  },
  {
   "cell_type": "markdown",
   "id": "6c0536c1-35ed-4c17-bb21-b32b9b521e41",
   "metadata": {
    "editable": true,
    "slideshow": {
     "slide_type": ""
    },
    "tags": [
     "remove-output"
    ]
   },
   "source": [
    "(sql1-q6)=\n",
    "### Q6. ソート (2/2)\n",
    "\n",
    "`population`テーブル内のレコードのうち調査年度が`2021`のものについて，総人口に占める大学学生数の割合が大きいもの順に並び替えて表示するSQL文を書け．\n",
    "その際，総人口に占める大学学生数の割合も合わせて表示せよ．"
   ]
  },
  {
   "cell_type": "code",
   "execution_count": 30,
   "id": "8dfbafd9-1ebf-40e8-9634-5118690d5b66",
   "metadata": {
    "editable": true,
    "slideshow": {
     "slide_type": ""
    },
    "tags": []
   },
   "outputs": [],
   "source": [
    "%%sql\n",
    "\n"
   ]
  },
  {
   "cell_type": "markdown",
   "id": "dd3cea62-d7e0-4182-9bfc-b3db5c56b993",
   "metadata": {
    "editable": true,
    "slideshow": {
     "slide_type": ""
    },
    "tags": [
     "remove-output"
    ]
   },
   "source": [
    "(sql1-q7)=\n",
    "### Q7. GROUP BY (1/3)\n",
    "\n",
    "`population`テーブル内のレコードに対して都道府県ごとの集約演算を行い，都道府県別に\n",
    "- （調査期間中の）大学学生数の平均\n",
    "- （調査期間中の）大学学生数の最大値と最小値の差\n",
    "\n",
    "を求めるSQL文を書け．"
   ]
  },
  {
   "cell_type": "code",
   "execution_count": 31,
   "id": "b7ab06dd-0815-4fee-860f-c6342ca17453",
   "metadata": {
    "editable": true,
    "slideshow": {
     "slide_type": ""
    },
    "tags": []
   },
   "outputs": [],
   "source": [
    "%%sql\n",
    "\n"
   ]
  },
  {
   "cell_type": "markdown",
   "id": "e4b259e3-221f-40f4-95d6-feb1a2727868",
   "metadata": {
    "editable": true,
    "slideshow": {
     "slide_type": ""
    },
    "tags": [
     "remove-output"
    ]
   },
   "source": [
    "(sql1-q8)=\n",
    "### Q8. GROUP BY (2/3)\n",
    "\n",
    "`population`テーブル内の総人口が`300万人`を超えるレコードに対して調査年度ごとの集約演算を行い，\n",
    "調査年度別に\n",
    "- 「（各地域コードにおける）小学校児童数と中学校生徒数の合計」の平均\n",
    "- 「（各地域コードにおける）高等学校生徒数と大学学生数の差」の平均\n",
    "- 「（各地域コードにおける）高等学校生徒数と大学学生数の差」の最小値\n",
    "- 「（各地域コードにおける）高等学校生徒数と大学学生数の差」の最大値\n",
    "\n",
    "を求めるSQL文を書け．"
   ]
  },
  {
   "cell_type": "code",
   "execution_count": 32,
   "id": "0718ccf1-bf87-4a8d-a1a3-f8d89cb21b12",
   "metadata": {
    "editable": true,
    "slideshow": {
     "slide_type": ""
    },
    "tags": []
   },
   "outputs": [],
   "source": [
    "%%sql\n",
    "\n"
   ]
  },
  {
   "cell_type": "markdown",
   "id": "bece0b3a-cbc1-4573-990b-fe563914fd51",
   "metadata": {
    "editable": true,
    "slideshow": {
     "slide_type": ""
    },
    "tags": []
   },
   "source": [
    "(sql1-q9)=\n",
    "### Q9. GROUP BY (3/3)\n",
    "\n",
    "`population`テーブルのレコードに対して都道府県ごとの集約演算を行い，\n",
    "都道府県別に\n",
    "- 「（調査期間中の）総人口」の平均\n",
    "- 「（調査期間中の）高等学校生徒数」の平均\n",
    "- 「（調査期間中の）大学学生数」の平均\n",
    "- 「（調査期間中の）高等学校生徒数と大学学生数の差」の平均\n",
    "\n",
    "を求めるSQL文を書け．\n",
    "ただし，「（調査期間中の）大学学生数と高等学校生徒数の差」の平均が`10000`以下になるものだけを表示せよ．"
   ]
  },
  {
   "cell_type": "code",
   "execution_count": 33,
   "id": "7df69d6b-7d70-49df-8493-d89723292636",
   "metadata": {
    "editable": true,
    "slideshow": {
     "slide_type": ""
    },
    "tags": []
   },
   "outputs": [],
   "source": [
    "%%sql\n",
    "\n"
   ]
  }
 ],
 "metadata": {
  "kernelspec": {
   "display_name": "Python 3 (ipykernel)",
   "language": "python",
   "name": "python3"
  },
  "language_info": {
   "codemirror_mode": {
    "name": "ipython",
    "version": 3
   },
   "file_extension": ".py",
   "mimetype": "text/x-python",
   "name": "python",
   "nbconvert_exporter": "python",
   "pygments_lexer": "ipython3",
   "version": "3.10.13"
  }
 },
 "nbformat": 4,
 "nbformat_minor": 5
}
