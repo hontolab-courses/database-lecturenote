{
 "cells": [
  {
   "cell_type": "markdown",
   "id": "66cf6024-e350-43e3-8aa0-50e65dec9bdb",
   "metadata": {},
   "source": [
    "# 副問い合わせ & テーブルの定義と更新"
   ]
  },
  {
   "cell_type": "markdown",
   "id": "28bc7264-8fd7-4b9e-8480-d5a194d4cfb6",
   "metadata": {},
   "source": [
    "後日公開予定"
   ]
  }
 ],
 "metadata": {
  "kernelspec": {
   "display_name": "Python 3 (ipykernel)",
   "language": "python",
   "name": "python3"
  },
  "language_info": {
   "codemirror_mode": {
    "name": "ipython",
    "version": 3
   },
   "file_extension": ".py",
   "mimetype": "text/x-python",
   "name": "python",
   "nbconvert_exporter": "python",
   "pygments_lexer": "ipython3",
   "version": "3.10.13"
  }
 },
 "nbformat": 4,
 "nbformat_minor": 5
}
