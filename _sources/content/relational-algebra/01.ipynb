{
 "cells": [
  {
   "cell_type": "markdown",
   "id": "c0a336ed-f935-4ade-8c6f-2b91f85768dd",
   "metadata": {},
   "source": [
    "# 関係代数"
   ]
  },
  {
   "cell_type": "code",
   "execution_count": null,
   "id": "72d2ca29-54d0-4b19-9c7d-d9b088a2e176",
   "metadata": {},
   "outputs": [],
   "source": []
  }
 ],
 "metadata": {
  "kernelspec": {
   "display_name": "Python 3 (ipykernel)",
   "language": "python",
   "name": "python3"
  },
  "language_info": {
   "codemirror_mode": {
    "name": "ipython",
    "version": 3
   },
   "file_extension": ".py",
   "mimetype": "text/x-python",
   "name": "python",
   "nbconvert_exporter": "python",
   "pygments_lexer": "ipython3",
   "version": "3.10.13"
  }
 },
 "nbformat": 4,
 "nbformat_minor": 5
}
