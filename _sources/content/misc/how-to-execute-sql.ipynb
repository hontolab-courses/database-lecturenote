{
 "cells": [
  {
   "cell_type": "markdown",
   "id": "ff26013e-8d20-47a5-8139-beb4e1419ad6",
   "metadata": {},
   "source": [
    "# Google Colab上でのSQLiteの使い方"
   ]
  },
  {
   "cell_type": "markdown",
   "id": "dd466ca6-d52c-4f8c-9c79-ad874229f163",
   "metadata": {},
   "source": [
    "演習で用いる[SQLite](https://www.sqlite.org)は，関係データベースの管理システム（DBMS）の中でも環境構築がカンタンで軽量なDBMSである．\n",
    "SQLiteはWindows/Mac/LinuxどのOSでもインストールして利用することができるが，\n",
    "本演習は環境構築の手間をできるだけ減らすために，[Google Colaboratory（略称Google Colab）](https://colab.research.google.com/?hl=ja)上でSQLiteを用いる．\n",
    "\n",
    "Google Colaboratoryは，ブラウザ上で対話的にPythonを実行できるプログラミング環境である．\n",
    "インターネットとウェブブウザさえあればPythonが実行でき，自分のPC/Mac上に自前で環境構築を行う必要がない．\n"
   ]
  },
  {
   "cell_type": "markdown",
   "id": "5b9fc93b-f881-4182-b8b2-30a38ceb3896",
   "metadata": {},
   "source": [
    "## 基本的な使い方"
   ]
  },
  {
   "cell_type": "markdown",
   "id": "31a29b82-5b3f-4b83-bad4-bc3b24475815",
   "metadata": {},
   "source": [
    "使い方はカンタン．\n",
    "まず，[Google Colab](https://colab.research.google.com/?hl=ja)のウェブサイトを立ち上げよう．\n",
    "すると，以下のようなセルと呼ばれる空欄が表示されていると思うので，セルの中にPythonなどのコードを書く．\n",
    "\n",
    "![Google Colabのセル](fig/cell.png \"Google Colabのセル\") \n",
    "\n",
    "コードを書き終わったら，実行ボタン（セルの横にある「再生ボタン」のようなもの）をクリックしよう．\n",
    "書いたコードが正しければ，セルの下にコードの実行結果が表示される．\n",
    "\n",
    "なお，Google Colab上でコードを実行するには，以下の2つの方法がある：\n",
    "- 「再生ボタン」をクリックする\n",
    "- コードが書かれたセルをクリックし，Shift + Enterキーを押す"
   ]
  },
  {
   "cell_type": "markdown",
   "id": "e8648ab9-516a-4e2f-aa0c-172070801b0b",
   "metadata": {
    "editable": true,
    "slideshow": {
     "slide_type": ""
    },
    "tags": []
   },
   "source": [
    "## SQL演習のための環境設定\n",
    "\n",
    "Google Colabは本来はPythonをブラウザ上で実行する環境であるが，Rなどの他の言語も実行することが可能である．\n",
    "また，データベースと接続しSQLの実行結果を表示させることもできる．\n",
    "この機能を用いて，本演習ではGoogle Colab上でSQLiteを用いる．\n",
    "\n",
    "![Google Colabの立ち上げボタン](fig/launch-button.png \"Google Colabの立ち上げボタン\")\n",
    "\n",
    "Googleにログインした状態で演習ページ画面右上にある「ロケットボタン」の中にある[Colabリンク](https://colab.research.google.com/github/hontolab-courses/database-lecturenote/blob/main/content/exercise/sql-exercise.ipynb)をクリックすると，あなた用のGoogle Colaboratoyがブラウザ上で立ち上がり，演習ページと同様の内容がGoogle Colab上で表示される．\n",
    "\n",
    "ページが表示されたら，演習用のデータベースやSQLiteの実行環境を準備するコードを実行しよう．\n",
    "演習用ページの冒頭の方に，以下のような準備用のコードが書かれているはずである．\n",
    "実行すれば，演習用の環境が整う．\n",
    "あとは，ガンガンSQL文を書こう．\n",
    "\n",
    "```python\n",
    "import os\n",
    "\n",
    "# 演習で用いるデータのダウンロード\n",
    "if not os.path.isfile('data/virtual_store.db'):\n",
    "    os.makedirs('data', exist_ok=True)\n",
    "    !wget -P data https://github.com/hontolab-courses/database-lecturenote/raw/main/content/exercise/data/virtual_store.db\n",
    "\n",
    "%load_ext sql\n",
    "%config SqlMagic.feedback = 0\n",
    "%sql sqlite:///data/virtual_store.db\n",
    "```\n",
    "\n"
   ]
  },
  {
   "cell_type": "markdown",
   "id": "d0b51267-eefc-4758-a810-aaf6e5058416",
   "metadata": {
    "editable": true,
    "slideshow": {
     "slide_type": ""
    },
    "tags": []
   },
   "source": [
    "## SQL文の書き方 on Google Colab"
   ]
  },
  {
   "cell_type": "markdown",
   "id": "61edef8a-e17e-4291-a5ca-dbe0e8544247",
   "metadata": {
    "editable": true,
    "slideshow": {
     "slide_type": ""
    },
    "tags": []
   },
   "source": [
    "Google Colabでは，以下のようにセルの冒頭に`%%sql`と書き，2行目以降にSQL文を書くとSQL文を実行することができる．\n",
    "試しに演習用ページを開き，環境構築用コードを実行した後，以下のSQLを実行してみよう．"
   ]
  },
  {
   "cell_type": "markdown",
   "id": "7689c1b3-a8ae-4315-81a0-d72fa97bcb84",
   "metadata": {
    "editable": true,
    "slideshow": {
     "slide_type": ""
    },
    "tags": [
     "remove-output"
    ]
   },
   "source": [
    "```sql\n",
    "%%sql\n",
    "\n",
    "SELECT * FROM receipt LIMIT 10;\n",
    "```"
   ]
  }
 ],
 "metadata": {
  "kernelspec": {
   "display_name": "Python 3 (ipykernel)",
   "language": "python",
   "name": "python3"
  },
  "language_info": {
   "codemirror_mode": {
    "name": "ipython",
    "version": 3
   },
   "file_extension": ".py",
   "mimetype": "text/x-python",
   "name": "python",
   "nbconvert_exporter": "python",
   "pygments_lexer": "ipython3",
   "version": "3.10.9"
  }
 },
 "nbformat": 4,
 "nbformat_minor": 5
}
