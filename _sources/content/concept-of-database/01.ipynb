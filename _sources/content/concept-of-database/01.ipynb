{
 "cells": [
  {
   "cell_type": "markdown",
   "id": "6f39f3a5-da9c-4c1a-b8c3-0a9c35a429e2",
   "metadata": {},
   "source": [
    "# データベースの概念"
   ]
  },
  {
   "cell_type": "markdown",
   "id": "efd6332b-af10-4066-81cf-6b804d30c7cf",
   "metadata": {},
   "source": [
    "後日公開予定"
   ]
  }
 ],
 "metadata": {
  "kernelspec": {
   "display_name": "Python 3 (ipykernel)",
   "language": "python",
   "name": "python3"
  },
  "language_info": {
   "codemirror_mode": {
    "name": "ipython",
    "version": 3
   },
   "file_extension": ".py",
   "mimetype": "text/x-python",
   "name": "python",
   "nbconvert_exporter": "python",
   "pygments_lexer": "ipython3",
   "version": "3.10.13"
  }
 },
 "nbformat": 4,
 "nbformat_minor": 5
}
